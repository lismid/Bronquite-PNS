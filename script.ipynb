{
 "cells": [
  {
   "cell_type": "code",
   "execution_count": 168,
   "metadata": {},
   "outputs": [],
   "source": [
    "import pandas as pd\n",
    "import seaborn as sns\n",
    "import matplotlib.pyplot as plt\n",
    "import numpy as np"
   ]
  },
  {
   "cell_type": "code",
   "execution_count": 169,
   "metadata": {},
   "outputs": [],
   "source": [
    "use_columns = [\"V0001\", \"Q074\"]"
   ]
  },
  {
   "cell_type": "code",
   "execution_count": 170,
   "metadata": {},
   "outputs": [],
   "source": [
    "pns = pd.read_csv(\"pns2019.csv\", usecols=use_columns)"
   ]
  },
  {
   "cell_type": "code",
   "execution_count": 171,
   "metadata": {},
   "outputs": [
    {
     "data": {
      "application/vnd.microsoft.datawrangler.viewer.v0+json": {
       "columns": [
        {
         "name": "index",
         "rawType": "int64",
         "type": "integer"
        },
        {
         "name": "V0001",
         "rawType": "int64",
         "type": "integer"
        },
        {
         "name": "Q074",
         "rawType": "float64",
         "type": "float"
        }
       ],
       "conversionMethod": "pd.DataFrame",
       "ref": "e44decde-a319-491a-a0a3-24b9456c929a",
       "rows": [
        [
         "0",
         "11",
         "2.0"
        ],
        [
         "1",
         "11",
         null
        ],
        [
         "2",
         "11",
         null
        ],
        [
         "3",
         "11",
         null
        ],
        [
         "4",
         "11",
         null
        ],
        [
         "5",
         "11",
         null
        ],
        [
         "6",
         "11",
         null
        ],
        [
         "7",
         "11",
         null
        ],
        [
         "8",
         "11",
         null
        ],
        [
         "9",
         "11",
         "2.0"
        ],
        [
         "10",
         "11",
         "2.0"
        ],
        [
         "11",
         "11",
         null
        ],
        [
         "12",
         "11",
         null
        ],
        [
         "13",
         "11",
         null
        ],
        [
         "14",
         "11",
         null
        ],
        [
         "15",
         "11",
         null
        ],
        [
         "16",
         "11",
         null
        ],
        [
         "17",
         "11",
         null
        ],
        [
         "18",
         "11",
         "2.0"
        ],
        [
         "19",
         "11",
         "2.0"
        ],
        [
         "20",
         "11",
         null
        ],
        [
         "21",
         "11",
         "2.0"
        ],
        [
         "22",
         "11",
         "2.0"
        ],
        [
         "23",
         "11",
         null
        ],
        [
         "24",
         "11",
         null
        ],
        [
         "25",
         "11",
         null
        ],
        [
         "26",
         "11",
         "2.0"
        ],
        [
         "27",
         "11",
         null
        ],
        [
         "28",
         "11",
         null
        ],
        [
         "29",
         "11",
         "2.0"
        ],
        [
         "30",
         "11",
         null
        ],
        [
         "31",
         "11",
         "2.0"
        ],
        [
         "32",
         "11",
         "2.0"
        ],
        [
         "33",
         "11",
         null
        ],
        [
         "34",
         "11",
         "2.0"
        ],
        [
         "35",
         "11",
         "2.0"
        ],
        [
         "36",
         "11",
         null
        ],
        [
         "37",
         "11",
         null
        ],
        [
         "38",
         "11",
         null
        ],
        [
         "39",
         "11",
         null
        ],
        [
         "40",
         "11",
         null
        ],
        [
         "41",
         "11",
         "2.0"
        ],
        [
         "42",
         "11",
         null
        ],
        [
         "43",
         "11",
         null
        ],
        [
         "44",
         "11",
         "2.0"
        ],
        [
         "45",
         "11",
         null
        ],
        [
         "46",
         "11",
         null
        ],
        [
         "47",
         "11",
         null
        ],
        [
         "48",
         "11",
         null
        ],
        [
         "49",
         "11",
         null
        ]
       ],
       "shape": {
        "columns": 2,
        "rows": 293726
       }
      },
      "text/html": [
       "<div>\n",
       "<style scoped>\n",
       "    .dataframe tbody tr th:only-of-type {\n",
       "        vertical-align: middle;\n",
       "    }\n",
       "\n",
       "    .dataframe tbody tr th {\n",
       "        vertical-align: top;\n",
       "    }\n",
       "\n",
       "    .dataframe thead th {\n",
       "        text-align: right;\n",
       "    }\n",
       "</style>\n",
       "<table border=\"1\" class=\"dataframe\">\n",
       "  <thead>\n",
       "    <tr style=\"text-align: right;\">\n",
       "      <th></th>\n",
       "      <th>V0001</th>\n",
       "      <th>Q074</th>\n",
       "    </tr>\n",
       "  </thead>\n",
       "  <tbody>\n",
       "    <tr>\n",
       "      <th>0</th>\n",
       "      <td>11</td>\n",
       "      <td>2.0</td>\n",
       "    </tr>\n",
       "    <tr>\n",
       "      <th>1</th>\n",
       "      <td>11</td>\n",
       "      <td>NaN</td>\n",
       "    </tr>\n",
       "    <tr>\n",
       "      <th>2</th>\n",
       "      <td>11</td>\n",
       "      <td>NaN</td>\n",
       "    </tr>\n",
       "    <tr>\n",
       "      <th>3</th>\n",
       "      <td>11</td>\n",
       "      <td>NaN</td>\n",
       "    </tr>\n",
       "    <tr>\n",
       "      <th>4</th>\n",
       "      <td>11</td>\n",
       "      <td>NaN</td>\n",
       "    </tr>\n",
       "    <tr>\n",
       "      <th>...</th>\n",
       "      <td>...</td>\n",
       "      <td>...</td>\n",
       "    </tr>\n",
       "    <tr>\n",
       "      <th>293721</th>\n",
       "      <td>53</td>\n",
       "      <td>NaN</td>\n",
       "    </tr>\n",
       "    <tr>\n",
       "      <th>293722</th>\n",
       "      <td>53</td>\n",
       "      <td>NaN</td>\n",
       "    </tr>\n",
       "    <tr>\n",
       "      <th>293723</th>\n",
       "      <td>53</td>\n",
       "      <td>NaN</td>\n",
       "    </tr>\n",
       "    <tr>\n",
       "      <th>293724</th>\n",
       "      <td>53</td>\n",
       "      <td>NaN</td>\n",
       "    </tr>\n",
       "    <tr>\n",
       "      <th>293725</th>\n",
       "      <td>53</td>\n",
       "      <td>NaN</td>\n",
       "    </tr>\n",
       "  </tbody>\n",
       "</table>\n",
       "<p>293726 rows × 2 columns</p>\n",
       "</div>"
      ],
      "text/plain": [
       "        V0001  Q074\n",
       "0          11   2.0\n",
       "1          11   NaN\n",
       "2          11   NaN\n",
       "3          11   NaN\n",
       "4          11   NaN\n",
       "...       ...   ...\n",
       "293721     53   NaN\n",
       "293722     53   NaN\n",
       "293723     53   NaN\n",
       "293724     53   NaN\n",
       "293725     53   NaN\n",
       "\n",
       "[293726 rows x 2 columns]"
      ]
     },
     "execution_count": 171,
     "metadata": {},
     "output_type": "execute_result"
    }
   ],
   "source": [
    "pns"
   ]
  },
  {
   "cell_type": "code",
   "execution_count": 172,
   "metadata": {},
   "outputs": [
    {
     "name": "stdout",
     "output_type": "stream",
     "text": [
      "<class 'pandas.core.frame.DataFrame'>\n",
      "RangeIndex: 293726 entries, 0 to 293725\n",
      "Data columns (total 2 columns):\n",
      " #   Column  Non-Null Count   Dtype  \n",
      "---  ------  --------------   -----  \n",
      " 0   V0001   293726 non-null  int64  \n",
      " 1   Q074    90846 non-null   float64\n",
      "dtypes: float64(1), int64(1)\n",
      "memory usage: 4.5 MB\n"
     ]
    }
   ],
   "source": [
    "pns.info()"
   ]
  },
  {
   "cell_type": "code",
   "execution_count": 173,
   "metadata": {},
   "outputs": [
    {
     "data": {
      "text/plain": [
       "Q074\n",
       "2.0    86379\n",
       "1.0     4467\n",
       "Name: count, dtype: int64"
      ]
     },
     "execution_count": 173,
     "metadata": {},
     "output_type": "execute_result"
    }
   ],
   "source": [
    "pns[\"Q074\"].value_counts()"
   ]
  },
  {
   "cell_type": "code",
   "execution_count": 174,
   "metadata": {},
   "outputs": [],
   "source": [
    "pns['Q074'] = pd.to_numeric(pns['Q074'], errors='coerce')"
   ]
  },
  {
   "cell_type": "code",
   "execution_count": 175,
   "metadata": {},
   "outputs": [],
   "source": [
    "pns = pns.dropna(subset=['Q074'])"
   ]
  },
  {
   "cell_type": "code",
   "execution_count": 176,
   "metadata": {},
   "outputs": [
    {
     "data": {
      "application/vnd.microsoft.datawrangler.viewer.v0+json": {
       "columns": [
        {
         "name": "index",
         "rawType": "int64",
         "type": "integer"
        },
        {
         "name": "V0001",
         "rawType": "int64",
         "type": "integer"
        },
        {
         "name": "Q074",
         "rawType": "float64",
         "type": "float"
        }
       ],
       "conversionMethod": "pd.DataFrame",
       "ref": "8128f0e1-b362-45bb-b578-aceb3adba5a7",
       "rows": [
        [
         "0",
         "11",
         "2.0"
        ],
        [
         "9",
         "11",
         "2.0"
        ],
        [
         "10",
         "11",
         "2.0"
        ],
        [
         "18",
         "11",
         "2.0"
        ],
        [
         "19",
         "11",
         "2.0"
        ],
        [
         "21",
         "11",
         "2.0"
        ],
        [
         "22",
         "11",
         "2.0"
        ],
        [
         "26",
         "11",
         "2.0"
        ],
        [
         "29",
         "11",
         "2.0"
        ],
        [
         "31",
         "11",
         "2.0"
        ],
        [
         "32",
         "11",
         "2.0"
        ],
        [
         "34",
         "11",
         "2.0"
        ],
        [
         "35",
         "11",
         "2.0"
        ],
        [
         "41",
         "11",
         "2.0"
        ],
        [
         "44",
         "11",
         "2.0"
        ],
        [
         "51",
         "11",
         "2.0"
        ],
        [
         "56",
         "11",
         "2.0"
        ],
        [
         "57",
         "11",
         "2.0"
        ],
        [
         "59",
         "11",
         "2.0"
        ],
        [
         "60",
         "11",
         "2.0"
        ],
        [
         "61",
         "11",
         "2.0"
        ],
        [
         "62",
         "11",
         "1.0"
        ],
        [
         "65",
         "11",
         "2.0"
        ],
        [
         "73",
         "11",
         "2.0"
        ],
        [
         "76",
         "11",
         "2.0"
        ],
        [
         "79",
         "11",
         "2.0"
        ],
        [
         "89",
         "11",
         "2.0"
        ],
        [
         "91",
         "11",
         "2.0"
        ],
        [
         "94",
         "11",
         "2.0"
        ],
        [
         "96",
         "11",
         "2.0"
        ],
        [
         "99",
         "11",
         "2.0"
        ],
        [
         "103",
         "11",
         "2.0"
        ],
        [
         "117",
         "11",
         "2.0"
        ],
        [
         "119",
         "11",
         "2.0"
        ],
        [
         "125",
         "11",
         "2.0"
        ],
        [
         "127",
         "11",
         "2.0"
        ],
        [
         "136",
         "11",
         "2.0"
        ],
        [
         "140",
         "11",
         "2.0"
        ],
        [
         "142",
         "11",
         "2.0"
        ],
        [
         "148",
         "11",
         "2.0"
        ],
        [
         "152",
         "11",
         "2.0"
        ],
        [
         "156",
         "11",
         "2.0"
        ],
        [
         "170",
         "11",
         "2.0"
        ],
        [
         "176",
         "11",
         "2.0"
        ],
        [
         "181",
         "11",
         "2.0"
        ],
        [
         "183",
         "11",
         "2.0"
        ],
        [
         "186",
         "11",
         "2.0"
        ],
        [
         "197",
         "11",
         "2.0"
        ],
        [
         "200",
         "11",
         "2.0"
        ],
        [
         "204",
         "11",
         "2.0"
        ]
       ],
       "shape": {
        "columns": 2,
        "rows": 90846
       }
      },
      "text/html": [
       "<div>\n",
       "<style scoped>\n",
       "    .dataframe tbody tr th:only-of-type {\n",
       "        vertical-align: middle;\n",
       "    }\n",
       "\n",
       "    .dataframe tbody tr th {\n",
       "        vertical-align: top;\n",
       "    }\n",
       "\n",
       "    .dataframe thead th {\n",
       "        text-align: right;\n",
       "    }\n",
       "</style>\n",
       "<table border=\"1\" class=\"dataframe\">\n",
       "  <thead>\n",
       "    <tr style=\"text-align: right;\">\n",
       "      <th></th>\n",
       "      <th>V0001</th>\n",
       "      <th>Q074</th>\n",
       "    </tr>\n",
       "  </thead>\n",
       "  <tbody>\n",
       "    <tr>\n",
       "      <th>0</th>\n",
       "      <td>11</td>\n",
       "      <td>2.0</td>\n",
       "    </tr>\n",
       "    <tr>\n",
       "      <th>9</th>\n",
       "      <td>11</td>\n",
       "      <td>2.0</td>\n",
       "    </tr>\n",
       "    <tr>\n",
       "      <th>10</th>\n",
       "      <td>11</td>\n",
       "      <td>2.0</td>\n",
       "    </tr>\n",
       "    <tr>\n",
       "      <th>18</th>\n",
       "      <td>11</td>\n",
       "      <td>2.0</td>\n",
       "    </tr>\n",
       "    <tr>\n",
       "      <th>19</th>\n",
       "      <td>11</td>\n",
       "      <td>2.0</td>\n",
       "    </tr>\n",
       "    <tr>\n",
       "      <th>...</th>\n",
       "      <td>...</td>\n",
       "      <td>...</td>\n",
       "    </tr>\n",
       "    <tr>\n",
       "      <th>293709</th>\n",
       "      <td>53</td>\n",
       "      <td>2.0</td>\n",
       "    </tr>\n",
       "    <tr>\n",
       "      <th>293712</th>\n",
       "      <td>53</td>\n",
       "      <td>2.0</td>\n",
       "    </tr>\n",
       "    <tr>\n",
       "      <th>293713</th>\n",
       "      <td>53</td>\n",
       "      <td>2.0</td>\n",
       "    </tr>\n",
       "    <tr>\n",
       "      <th>293718</th>\n",
       "      <td>53</td>\n",
       "      <td>2.0</td>\n",
       "    </tr>\n",
       "    <tr>\n",
       "      <th>293720</th>\n",
       "      <td>53</td>\n",
       "      <td>2.0</td>\n",
       "    </tr>\n",
       "  </tbody>\n",
       "</table>\n",
       "<p>90846 rows × 2 columns</p>\n",
       "</div>"
      ],
      "text/plain": [
       "        V0001  Q074\n",
       "0          11   2.0\n",
       "9          11   2.0\n",
       "10         11   2.0\n",
       "18         11   2.0\n",
       "19         11   2.0\n",
       "...       ...   ...\n",
       "293709     53   2.0\n",
       "293712     53   2.0\n",
       "293713     53   2.0\n",
       "293718     53   2.0\n",
       "293720     53   2.0\n",
       "\n",
       "[90846 rows x 2 columns]"
      ]
     },
     "execution_count": 176,
     "metadata": {},
     "output_type": "execute_result"
    }
   ],
   "source": [
    "pns"
   ]
  },
  {
   "cell_type": "code",
   "execution_count": 177,
   "metadata": {},
   "outputs": [],
   "source": [
    "mapeamento_estados = {\n",
    "    11: 'Rondônia',\n",
    "    12: 'Acre',\n",
    "    13: 'Amazonas',\n",
    "    14: 'Roraima',\n",
    "    15: 'Pará',\n",
    "    16: 'Amapá',\n",
    "    17: 'Tocantins',\n",
    "    21: 'Maranhão',\n",
    "    22: 'Piauí',\n",
    "    23: 'Ceará',\n",
    "    24: 'Rio Grande do Norte',\n",
    "    25: 'Paraíba',\n",
    "    26: 'Pernambuco',\n",
    "    27: 'Alagoas',\n",
    "    28: 'Sergipe',\n",
    "    29: 'Bahia',\n",
    "    31: 'Minas Gerais',\n",
    "    32: 'Espírito Santo',\n",
    "    33: 'Rio de Janeiro',\n",
    "    35: 'São Paulo',\n",
    "    41: 'Paraná',\n",
    "    42: 'Santa Catarina',\n",
    "    43: 'Rio Grande do Sul',\n",
    "    50: 'Mato Grosso do Sul',\n",
    "    51: 'Mato Grosso',\n",
    "    52: 'Goiás',\n",
    "    53: 'Distrito Federal'\n",
    "}"
   ]
  },
  {
   "cell_type": "code",
   "execution_count": 178,
   "metadata": {},
   "outputs": [
    {
     "name": "stderr",
     "output_type": "stream",
     "text": [
      "/tmp/ipykernel_5039/271576639.py:1: SettingWithCopyWarning: \n",
      "A value is trying to be set on a copy of a slice from a DataFrame.\n",
      "Try using .loc[row_indexer,col_indexer] = value instead\n",
      "\n",
      "See the caveats in the documentation: https://pandas.pydata.org/pandas-docs/stable/user_guide/indexing.html#returning-a-view-versus-a-copy\n",
      "  pns['V0001'] = pns['V0001'].map(mapeamento_estados)\n"
     ]
    }
   ],
   "source": [
    "pns['V0001'] = pns['V0001'].map(mapeamento_estados)"
   ]
  },
  {
   "cell_type": "code",
   "execution_count": 179,
   "metadata": {},
   "outputs": [],
   "source": [
    "contagem_estados = pns.groupby(['V0001', 'Q074']).size().unstack(fill_value=0)"
   ]
  },
  {
   "cell_type": "code",
   "execution_count": 180,
   "metadata": {},
   "outputs": [
    {
     "data": {
      "application/vnd.microsoft.datawrangler.viewer.v0+json": {
       "columns": [
        {
         "name": "V0001",
         "rawType": "object",
         "type": "string"
        },
        {
         "name": "1.0",
         "rawType": "int64",
         "type": "integer"
        },
        {
         "name": "2.0",
         "rawType": "int64",
         "type": "integer"
        }
       ],
       "conversionMethod": "pd.DataFrame",
       "ref": "da79afb9-38a2-481c-a6b9-ea7b6c447ee0",
       "rows": [
        [
         "Acre",
         "93",
         "2287"
        ],
        [
         "Alagoas",
         "116",
         "2871"
        ],
        [
         "Amapá",
         "93",
         "1461"
        ],
        [
         "Amazonas",
         "151",
         "3328"
        ],
        [
         "Bahia",
         "117",
         "3542"
        ],
        [
         "Ceará",
         "200",
         "4065"
        ],
        [
         "Distrito Federal",
         "120",
         "2245"
        ],
        [
         "Espírito Santo",
         "231",
         "3310"
        ],
        [
         "Goiás",
         "146",
         "2556"
        ],
        [
         "Maranhão",
         "177",
         "4903"
        ],
        [
         "Mato Grosso",
         "67",
         "2401"
        ],
        [
         "Mato Grosso do Sul",
         "147",
         "2716"
        ],
        [
         "Minas Gerais",
         "317",
         "4892"
        ],
        [
         "Paraná",
         "199",
         "3768"
        ],
        [
         "Paraíba",
         "125",
         "3033"
        ],
        [
         "Pará",
         "178",
         "3675"
        ],
        [
         "Pernambuco",
         "197",
         "3886"
        ],
        [
         "Piauí",
         "119",
         "2621"
        ],
        [
         "Rio Grande do Norte",
         "156",
         "2806"
        ],
        [
         "Rio Grande do Sul",
         "318",
         "3449"
        ],
        [
         "Rio de Janeiro",
         "213",
         "4753"
        ],
        [
         "Rondônia",
         "84",
         "2092"
        ],
        [
         "Roraima",
         "105",
         "2133"
        ],
        [
         "Santa Catarina",
         "213",
         "3525"
        ],
        [
         "Sergipe",
         "112",
         "2498"
        ],
        [
         "São Paulo",
         "392",
         "5722"
        ],
        [
         "Tocantins",
         "81",
         "1841"
        ]
       ],
       "shape": {
        "columns": 2,
        "rows": 27
       }
      },
      "text/html": [
       "<div>\n",
       "<style scoped>\n",
       "    .dataframe tbody tr th:only-of-type {\n",
       "        vertical-align: middle;\n",
       "    }\n",
       "\n",
       "    .dataframe tbody tr th {\n",
       "        vertical-align: top;\n",
       "    }\n",
       "\n",
       "    .dataframe thead th {\n",
       "        text-align: right;\n",
       "    }\n",
       "</style>\n",
       "<table border=\"1\" class=\"dataframe\">\n",
       "  <thead>\n",
       "    <tr style=\"text-align: right;\">\n",
       "      <th>Q074</th>\n",
       "      <th>1.0</th>\n",
       "      <th>2.0</th>\n",
       "    </tr>\n",
       "    <tr>\n",
       "      <th>V0001</th>\n",
       "      <th></th>\n",
       "      <th></th>\n",
       "    </tr>\n",
       "  </thead>\n",
       "  <tbody>\n",
       "    <tr>\n",
       "      <th>Acre</th>\n",
       "      <td>93</td>\n",
       "      <td>2287</td>\n",
       "    </tr>\n",
       "    <tr>\n",
       "      <th>Alagoas</th>\n",
       "      <td>116</td>\n",
       "      <td>2871</td>\n",
       "    </tr>\n",
       "    <tr>\n",
       "      <th>Amapá</th>\n",
       "      <td>93</td>\n",
       "      <td>1461</td>\n",
       "    </tr>\n",
       "    <tr>\n",
       "      <th>Amazonas</th>\n",
       "      <td>151</td>\n",
       "      <td>3328</td>\n",
       "    </tr>\n",
       "    <tr>\n",
       "      <th>Bahia</th>\n",
       "      <td>117</td>\n",
       "      <td>3542</td>\n",
       "    </tr>\n",
       "    <tr>\n",
       "      <th>Ceará</th>\n",
       "      <td>200</td>\n",
       "      <td>4065</td>\n",
       "    </tr>\n",
       "    <tr>\n",
       "      <th>Distrito Federal</th>\n",
       "      <td>120</td>\n",
       "      <td>2245</td>\n",
       "    </tr>\n",
       "    <tr>\n",
       "      <th>Espírito Santo</th>\n",
       "      <td>231</td>\n",
       "      <td>3310</td>\n",
       "    </tr>\n",
       "    <tr>\n",
       "      <th>Goiás</th>\n",
       "      <td>146</td>\n",
       "      <td>2556</td>\n",
       "    </tr>\n",
       "    <tr>\n",
       "      <th>Maranhão</th>\n",
       "      <td>177</td>\n",
       "      <td>4903</td>\n",
       "    </tr>\n",
       "    <tr>\n",
       "      <th>Mato Grosso</th>\n",
       "      <td>67</td>\n",
       "      <td>2401</td>\n",
       "    </tr>\n",
       "    <tr>\n",
       "      <th>Mato Grosso do Sul</th>\n",
       "      <td>147</td>\n",
       "      <td>2716</td>\n",
       "    </tr>\n",
       "    <tr>\n",
       "      <th>Minas Gerais</th>\n",
       "      <td>317</td>\n",
       "      <td>4892</td>\n",
       "    </tr>\n",
       "    <tr>\n",
       "      <th>Paraná</th>\n",
       "      <td>199</td>\n",
       "      <td>3768</td>\n",
       "    </tr>\n",
       "    <tr>\n",
       "      <th>Paraíba</th>\n",
       "      <td>125</td>\n",
       "      <td>3033</td>\n",
       "    </tr>\n",
       "    <tr>\n",
       "      <th>Pará</th>\n",
       "      <td>178</td>\n",
       "      <td>3675</td>\n",
       "    </tr>\n",
       "    <tr>\n",
       "      <th>Pernambuco</th>\n",
       "      <td>197</td>\n",
       "      <td>3886</td>\n",
       "    </tr>\n",
       "    <tr>\n",
       "      <th>Piauí</th>\n",
       "      <td>119</td>\n",
       "      <td>2621</td>\n",
       "    </tr>\n",
       "    <tr>\n",
       "      <th>Rio Grande do Norte</th>\n",
       "      <td>156</td>\n",
       "      <td>2806</td>\n",
       "    </tr>\n",
       "    <tr>\n",
       "      <th>Rio Grande do Sul</th>\n",
       "      <td>318</td>\n",
       "      <td>3449</td>\n",
       "    </tr>\n",
       "    <tr>\n",
       "      <th>Rio de Janeiro</th>\n",
       "      <td>213</td>\n",
       "      <td>4753</td>\n",
       "    </tr>\n",
       "    <tr>\n",
       "      <th>Rondônia</th>\n",
       "      <td>84</td>\n",
       "      <td>2092</td>\n",
       "    </tr>\n",
       "    <tr>\n",
       "      <th>Roraima</th>\n",
       "      <td>105</td>\n",
       "      <td>2133</td>\n",
       "    </tr>\n",
       "    <tr>\n",
       "      <th>Santa Catarina</th>\n",
       "      <td>213</td>\n",
       "      <td>3525</td>\n",
       "    </tr>\n",
       "    <tr>\n",
       "      <th>Sergipe</th>\n",
       "      <td>112</td>\n",
       "      <td>2498</td>\n",
       "    </tr>\n",
       "    <tr>\n",
       "      <th>São Paulo</th>\n",
       "      <td>392</td>\n",
       "      <td>5722</td>\n",
       "    </tr>\n",
       "    <tr>\n",
       "      <th>Tocantins</th>\n",
       "      <td>81</td>\n",
       "      <td>1841</td>\n",
       "    </tr>\n",
       "  </tbody>\n",
       "</table>\n",
       "</div>"
      ],
      "text/plain": [
       "Q074                 1.0   2.0\n",
       "V0001                         \n",
       "Acre                  93  2287\n",
       "Alagoas              116  2871\n",
       "Amapá                 93  1461\n",
       "Amazonas             151  3328\n",
       "Bahia                117  3542\n",
       "Ceará                200  4065\n",
       "Distrito Federal     120  2245\n",
       "Espírito Santo       231  3310\n",
       "Goiás                146  2556\n",
       "Maranhão             177  4903\n",
       "Mato Grosso           67  2401\n",
       "Mato Grosso do Sul   147  2716\n",
       "Minas Gerais         317  4892\n",
       "Paraná               199  3768\n",
       "Paraíba              125  3033\n",
       "Pará                 178  3675\n",
       "Pernambuco           197  3886\n",
       "Piauí                119  2621\n",
       "Rio Grande do Norte  156  2806\n",
       "Rio Grande do Sul    318  3449\n",
       "Rio de Janeiro       213  4753\n",
       "Rondônia              84  2092\n",
       "Roraima              105  2133\n",
       "Santa Catarina       213  3525\n",
       "Sergipe              112  2498\n",
       "São Paulo            392  5722\n",
       "Tocantins             81  1841"
      ]
     },
     "execution_count": 180,
     "metadata": {},
     "output_type": "execute_result"
    }
   ],
   "source": [
    "contagem_estados"
   ]
  },
  {
   "cell_type": "code",
   "execution_count": 194,
   "metadata": {},
   "outputs": [
    {
     "data": {
      "text/plain": [
       "[]"
      ]
     },
     "execution_count": 194,
     "metadata": {},
     "output_type": "execute_result"
    },
    {
     "data": {
      "image/png": "[encoded data removed]",
      "text/plain": [
       "<Figure size 1200x600 with 1 Axes>"
      ]
     },
     "metadata": {},
     "output_type": "display_data"
    }
   ],
   "source": [
    "contagem_estados.plot(kind='bar', stacked=True, figsize=(12, 6))\n",
    "plt.xlabel('Estado')\n",
    "plt.ylabel('Número de Pessoas')\n",
    "plt.title('Pessoas com e sem bronquite por estado em valor absoluto')\n",
    "plt.legend(['Tem bronquite', 'Não tem bronquite'])\n",
    "plt.xticks(rotation=45, ha='right')\n",
    "plt.yticks(np.arange(0, 7000, step=500))\n",
    "plt.savefig('Graficos/grafico_bronquite_absoluto.png', dpi=300, bbox_inches='tight')\n",
    "plt.plot()"
   ]
  },
  {
   "cell_type": "code",
   "execution_count": 182,
   "metadata": {},
   "outputs": [],
   "source": [
    "BS = contagem_estados[1.0].values.sum()\n",
    "BN = contagem_estados[2.0].values.sum()\n",
    "QTotal = BS + BN"
   ]
  },
  {
   "cell_type": "code",
   "execution_count": 183,
   "metadata": {},
   "outputs": [
    {
     "name": "stderr",
     "output_type": "stream",
     "text": [
      "/tmp/ipykernel_5039/1320758748.py:5: FutureWarning: Setting an item of incompatible dtype is deprecated and will raise in a future error of pandas. Value '0.10237104550558088' has dtype incompatible with int64, please explicitly cast to a compatible dtype first.\n",
      "  contagem_estados.iat[i,2] = (row[1.0]/QTotal) * 100\n",
      "/tmp/ipykernel_5039/1320758748.py:6: FutureWarning: Setting an item of incompatible dtype is deprecated and will raise in a future error of pandas. Value '2.5174471082931555' has dtype incompatible with int64, please explicitly cast to a compatible dtype first.\n",
      "  contagem_estados.iat[i,3] = (row[2.0]/QTotal) * 100\n"
     ]
    }
   ],
   "source": [
    "i = 0\n",
    "contagem_estados['Possui bronquite(%)'] = 0\n",
    "contagem_estados['Nao possui bronquite(%)'] = 0\n",
    "for index, row in contagem_estados.iterrows():\n",
    "    contagem_estados.iat[i,2] = (row[1.0]/QTotal) * 100\n",
    "    contagem_estados.iat[i,3] = (row[2.0]/QTotal) * 100\n",
    "    i += 1"
   ]
  },
  {
   "cell_type": "code",
   "execution_count": 184,
   "metadata": {},
   "outputs": [
    {
     "data": {
      "application/vnd.microsoft.datawrangler.viewer.v0+json": {
       "columns": [
        {
         "name": "V0001",
         "rawType": "object",
         "type": "string"
        },
        {
         "name": "1.0",
         "rawType": "int64",
         "type": "integer"
        },
        {
         "name": "2.0",
         "rawType": "int64",
         "type": "integer"
        },
        {
         "name": "Possui bronquite(%)",
         "rawType": "float64",
         "type": "float"
        },
        {
         "name": "Nao possui bronquite(%)",
         "rawType": "float64",
         "type": "float"
        }
       ],
       "conversionMethod": "pd.DataFrame",
       "ref": "d0318378-37f9-4342-a99f-04ee773424b2",
       "rows": [
        [
         "Acre",
         "93",
         "2287",
         "0.10237104550558088",
         "2.5174471082931555"
        ],
        [
         "Alagoas",
         "116",
         "2871",
         "0.1276886158994342",
         "3.160293243510997"
        ],
        [
         "Amapá",
         "93",
         "1461",
         "0.10237104550558088",
         "1.6082161019747705"
        ],
        [
         "Amazonas",
         "151",
         "3328",
         "0.16621535345529798",
         "3.6633423595975607"
        ],
        [
         "Bahia",
         "117",
         "3542",
         "0.12878937982960173",
         "3.898905840653413"
        ],
        [
         "Ceará",
         "200",
         "4065",
         "0.22015278603350727",
         "4.474605376131035"
        ],
        [
         "Distrito Federal",
         "120",
         "2245",
         "0.13209167162010435",
         "2.4712150232261187"
        ],
        [
         "Espírito Santo",
         "231",
         "3310",
         "0.2542764678687009",
         "3.6435286088545453"
        ],
        [
         "Goiás",
         "146",
         "2556",
         "0.1607115338044603",
         "2.8135526055082227"
        ],
        [
         "Maranhão",
         "177",
         "4903",
         "0.19483521563965392",
         "5.3970455496114305"
        ],
        [
         "Mato Grosso",
         "67",
         "2401",
         "0.07375118332122493",
         "2.6429341963322543"
        ],
        [
         "Mato Grosso do Sul",
         "147",
         "2716",
         "0.16181229773462785",
         "2.9896748343350286"
        ],
        [
         "Minas Gerais",
         "317",
         "4892",
         "0.348942165863109",
         "5.384937146379587"
        ],
        [
         "Paraná",
         "199",
         "3768",
         "0.21905202210333974",
         "4.147678488871277"
        ],
        [
         "Paraíba",
         "125",
         "3033",
         "0.13759549127094203",
         "3.3386170001981372"
        ],
        [
         "Pará",
         "178",
         "3675",
         "0.19593597956982148",
         "4.0453074433656955"
        ],
        [
         "Pernambuco",
         "197",
         "3886",
         "0.21685049424300462",
         "4.277568632631046"
        ],
        [
         "Piauí",
         "119",
         "2621",
         "0.13099090768993682",
         "2.8851022609691124"
        ],
        [
         "Rio Grande do Norte",
         "156",
         "2806",
         "0.17171917310613566",
         "3.088743588050107"
        ],
        [
         "Rio Grande do Sul",
         "318",
         "3449",
         "0.35004292979327656",
         "3.7965347951478323"
        ],
        [
         "Rio de Janeiro",
         "213",
         "4753",
         "0.23446271712568523",
         "5.2319309600862995"
        ],
        [
         "Rondônia",
         "84",
         "2092",
         "0.09246417013407304",
         "2.3027981419104857"
        ],
        [
         "Roraima",
         "105",
         "2133",
         "0.1155802126675913",
         "2.347929463047355"
        ],
        [
         "Santa Catarina",
         "213",
         "3525",
         "0.23446271712568523",
         "3.8801928538405654"
        ],
        [
         "Sergipe",
         "112",
         "2498",
         "0.12328556017876408",
         "2.7497082975585054"
        ],
        [
         "São Paulo",
         "392",
         "5722",
         "0.4314994606256742",
         "6.298571208418642"
        ],
        [
         "Tocantins",
         "81",
         "1841",
         "0.08916187834357044",
         "2.0265063954384344"
        ]
       ],
       "shape": {
        "columns": 4,
        "rows": 27
       }
      },
      "text/html": [
       "<div>\n",
       "<style scoped>\n",
       "    .dataframe tbody tr th:only-of-type {\n",
       "        vertical-align: middle;\n",
       "    }\n",
       "\n",
       "    .dataframe tbody tr th {\n",
       "        vertical-align: top;\n",
       "    }\n",
       "\n",
       "    .dataframe thead th {\n",
       "        text-align: right;\n",
       "    }\n",
       "</style>\n",
       "<table border=\"1\" class=\"dataframe\">\n",
       "  <thead>\n",
       "    <tr style=\"text-align: right;\">\n",
       "      <th>Q074</th>\n",
       "      <th>1.0</th>\n",
       "      <th>2.0</th>\n",
       "      <th>Possui bronquite(%)</th>\n",
       "      <th>Nao possui bronquite(%)</th>\n",
       "    </tr>\n",
       "    <tr>\n",
       "      <th>V0001</th>\n",
       "      <th></th>\n",
       "      <th></th>\n",
       "      <th></th>\n",
       "      <th></th>\n",
       "    </tr>\n",
       "  </thead>\n",
       "  <tbody>\n",
       "    <tr>\n",
       "      <th>Acre</th>\n",
       "      <td>93</td>\n",
       "      <td>2287</td>\n",
       "      <td>0.102371</td>\n",
       "      <td>2.517447</td>\n",
       "    </tr>\n",
       "    <tr>\n",
       "      <th>Alagoas</th>\n",
       "      <td>116</td>\n",
       "      <td>2871</td>\n",
       "      <td>0.127689</td>\n",
       "      <td>3.160293</td>\n",
       "    </tr>\n",
       "    <tr>\n",
       "      <th>Amapá</th>\n",
       "      <td>93</td>\n",
       "      <td>1461</td>\n",
       "      <td>0.102371</td>\n",
       "      <td>1.608216</td>\n",
       "    </tr>\n",
       "    <tr>\n",
       "      <th>Amazonas</th>\n",
       "      <td>151</td>\n",
       "      <td>3328</td>\n",
       "      <td>0.166215</td>\n",
       "      <td>3.663342</td>\n",
       "    </tr>\n",
       "    <tr>\n",
       "      <th>Bahia</th>\n",
       "      <td>117</td>\n",
       "      <td>3542</td>\n",
       "      <td>0.128789</td>\n",
       "      <td>3.898906</td>\n",
       "    </tr>\n",
       "    <tr>\n",
       "      <th>Ceará</th>\n",
       "      <td>200</td>\n",
       "      <td>4065</td>\n",
       "      <td>0.220153</td>\n",
       "      <td>4.474605</td>\n",
       "    </tr>\n",
       "    <tr>\n",
       "      <th>Distrito Federal</th>\n",
       "      <td>120</td>\n",
       "      <td>2245</td>\n",
       "      <td>0.132092</td>\n",
       "      <td>2.471215</td>\n",
       "    </tr>\n",
       "    <tr>\n",
       "      <th>Espírito Santo</th>\n",
       "      <td>231</td>\n",
       "      <td>3310</td>\n",
       "      <td>0.254276</td>\n",
       "      <td>3.643529</td>\n",
       "    </tr>\n",
       "    <tr>\n",
       "      <th>Goiás</th>\n",
       "      <td>146</td>\n",
       "      <td>2556</td>\n",
       "      <td>0.160712</td>\n",
       "      <td>2.813553</td>\n",
       "    </tr>\n",
       "    <tr>\n",
       "      <th>Maranhão</th>\n",
       "      <td>177</td>\n",
       "      <td>4903</td>\n",
       "      <td>0.194835</td>\n",
       "      <td>5.397046</td>\n",
       "    </tr>\n",
       "    <tr>\n",
       "      <th>Mato Grosso</th>\n",
       "      <td>67</td>\n",
       "      <td>2401</td>\n",
       "      <td>0.073751</td>\n",
       "      <td>2.642934</td>\n",
       "    </tr>\n",
       "    <tr>\n",
       "      <th>Mato Grosso do Sul</th>\n",
       "      <td>147</td>\n",
       "      <td>2716</td>\n",
       "      <td>0.161812</td>\n",
       "      <td>2.989675</td>\n",
       "    </tr>\n",
       "    <tr>\n",
       "      <th>Minas Gerais</th>\n",
       "      <td>317</td>\n",
       "      <td>4892</td>\n",
       "      <td>0.348942</td>\n",
       "      <td>5.384937</td>\n",
       "    </tr>\n",
       "    <tr>\n",
       "      <th>Paraná</th>\n",
       "      <td>199</td>\n",
       "      <td>3768</td>\n",
       "      <td>0.219052</td>\n",
       "      <td>4.147678</td>\n",
       "    </tr>\n",
       "    <tr>\n",
       "      <th>Paraíba</th>\n",
       "      <td>125</td>\n",
       "      <td>3033</td>\n",
       "      <td>0.137595</td>\n",
       "      <td>3.338617</td>\n",
       "    </tr>\n",
       "    <tr>\n",
       "      <th>Pará</th>\n",
       "      <td>178</td>\n",
       "      <td>3675</td>\n",
       "      <td>0.195936</td>\n",
       "      <td>4.045307</td>\n",
       "    </tr>\n",
       "    <tr>\n",
       "      <th>Pernambuco</th>\n",
       "      <td>197</td>\n",
       "      <td>3886</td>\n",
       "      <td>0.216850</td>\n",
       "      <td>4.277569</td>\n",
       "    </tr>\n",
       "    <tr>\n",
       "      <th>Piauí</th>\n",
       "      <td>119</td>\n",
       "      <td>2621</td>\n",
       "      <td>0.130991</td>\n",
       "      <td>2.885102</td>\n",
       "    </tr>\n",
       "    <tr>\n",
       "      <th>Rio Grande do Norte</th>\n",
       "      <td>156</td>\n",
       "      <td>2806</td>\n",
       "      <td>0.171719</td>\n",
       "      <td>3.088744</td>\n",
       "    </tr>\n",
       "    <tr>\n",
       "      <th>Rio Grande do Sul</th>\n",
       "      <td>318</td>\n",
       "      <td>3449</td>\n",
       "      <td>0.350043</td>\n",
       "      <td>3.796535</td>\n",
       "    </tr>\n",
       "    <tr>\n",
       "      <th>Rio de Janeiro</th>\n",
       "      <td>213</td>\n",
       "      <td>4753</td>\n",
       "      <td>0.234463</td>\n",
       "      <td>5.231931</td>\n",
       "    </tr>\n",
       "    <tr>\n",
       "      <th>Rondônia</th>\n",
       "      <td>84</td>\n",
       "      <td>2092</td>\n",
       "      <td>0.092464</td>\n",
       "      <td>2.302798</td>\n",
       "    </tr>\n",
       "    <tr>\n",
       "      <th>Roraima</th>\n",
       "      <td>105</td>\n",
       "      <td>2133</td>\n",
       "      <td>0.115580</td>\n",
       "      <td>2.347929</td>\n",
       "    </tr>\n",
       "    <tr>\n",
       "      <th>Santa Catarina</th>\n",
       "      <td>213</td>\n",
       "      <td>3525</td>\n",
       "      <td>0.234463</td>\n",
       "      <td>3.880193</td>\n",
       "    </tr>\n",
       "    <tr>\n",
       "      <th>Sergipe</th>\n",
       "      <td>112</td>\n",
       "      <td>2498</td>\n",
       "      <td>0.123286</td>\n",
       "      <td>2.749708</td>\n",
       "    </tr>\n",
       "    <tr>\n",
       "      <th>São Paulo</th>\n",
       "      <td>392</td>\n",
       "      <td>5722</td>\n",
       "      <td>0.431499</td>\n",
       "      <td>6.298571</td>\n",
       "    </tr>\n",
       "    <tr>\n",
       "      <th>Tocantins</th>\n",
       "      <td>81</td>\n",
       "      <td>1841</td>\n",
       "      <td>0.089162</td>\n",
       "      <td>2.026506</td>\n",
       "    </tr>\n",
       "  </tbody>\n",
       "</table>\n",
       "</div>"
      ],
      "text/plain": [
       "Q074                 1.0   2.0  Possui bronquite(%)  Nao possui bronquite(%)\n",
       "V0001                                                                       \n",
       "Acre                  93  2287             0.102371                 2.517447\n",
       "Alagoas              116  2871             0.127689                 3.160293\n",
       "Amapá                 93  1461             0.102371                 1.608216\n",
       "Amazonas             151  3328             0.166215                 3.663342\n",
       "Bahia                117  3542             0.128789                 3.898906\n",
       "Ceará                200  4065             0.220153                 4.474605\n",
       "Distrito Federal     120  2245             0.132092                 2.471215\n",
       "Espírito Santo       231  3310             0.254276                 3.643529\n",
       "Goiás                146  2556             0.160712                 2.813553\n",
       "Maranhão             177  4903             0.194835                 5.397046\n",
       "Mato Grosso           67  2401             0.073751                 2.642934\n",
       "Mato Grosso do Sul   147  2716             0.161812                 2.989675\n",
       "Minas Gerais         317  4892             0.348942                 5.384937\n",
       "Paraná               199  3768             0.219052                 4.147678\n",
       "Paraíba              125  3033             0.137595                 3.338617\n",
       "Pará                 178  3675             0.195936                 4.045307\n",
       "Pernambuco           197  3886             0.216850                 4.277569\n",
       "Piauí                119  2621             0.130991                 2.885102\n",
       "Rio Grande do Norte  156  2806             0.171719                 3.088744\n",
       "Rio Grande do Sul    318  3449             0.350043                 3.796535\n",
       "Rio de Janeiro       213  4753             0.234463                 5.231931\n",
       "Rondônia              84  2092             0.092464                 2.302798\n",
       "Roraima              105  2133             0.115580                 2.347929\n",
       "Santa Catarina       213  3525             0.234463                 3.880193\n",
       "Sergipe              112  2498             0.123286                 2.749708\n",
       "São Paulo            392  5722             0.431499                 6.298571\n",
       "Tocantins             81  1841             0.089162                 2.026506"
      ]
     },
     "execution_count": 184,
     "metadata": {},
     "output_type": "execute_result"
    }
   ],
   "source": [
    "contagem_estados"
   ]
  },
  {
   "cell_type": "code",
   "execution_count": 185,
   "metadata": {},
   "outputs": [
    {
     "data": {
      "text/plain": [
       "[]"
      ]
     },
     "execution_count": 185,
     "metadata": {},
     "output_type": "execute_result"
    },
    {
     "data": {
      "image/png": "[encoded data removed]",
      "text/plain": [
       "<Figure size 1200x600 with 1 Axes>"
      ]
     },
     "metadata": {},
     "output_type": "display_data"
    }
   ],
   "source": [
    "contagem_estados[['Possui bronquite(%)','Nao possui bronquite(%)']].plot(kind='bar', stacked=True, figsize=(12, 6))\n",
    "plt.xlabel('Estado')\n",
    "plt.ylabel('Percentual de Pessoas em relação ao total')\n",
    "plt.title('Percentual de pessoas com e sem bronquite por estado')\n",
    "plt.legend(['Tem bronquite', 'Não tem bronquite'])\n",
    "plt.xticks(rotation=45, ha='right')\n",
    "plt.yticks(ticks=np.arange(0,8, step=0.5))\n",
    "plt.savefig('Graficos/grafico_bronquite_relativo.png', dpi=300, bbox_inches='tight')\n",
    "plt.plot()"
   ]
  },
  {
   "cell_type": "code",
   "execution_count": 186,
   "metadata": {},
   "outputs": [],
   "source": [
    "mapeamento_regiao = {\n",
    "    'Rondônia': 'Norte',\n",
    "    'Acre': 'Norte',\n",
    "    'Amazonas': 'Norte',\n",
    "    'Roraima': 'Norte',\n",
    "    'Pará': 'Norte',\n",
    "    'Amapá': 'Norte',\n",
    "    'Tocantins': 'Norte',\n",
    "    'Maranhão': 'Nordeste',\n",
    "    'Piauí': 'Nordeste',\n",
    "    'Ceará': 'Nordeste',\n",
    "    'Rio Grande do Norte': 'Nordeste',\n",
    "    'Paraíba': 'Nordeste',\n",
    "    'Pernambuco': 'Nordeste',\n",
    "    'Alagoas': 'Nordeste',\n",
    "    'Sergipe': 'Nordeste',\n",
    "    'Bahia': 'Nordeste',\n",
    "    'Mato Grosso do Sul': 'Centro-Oeste',\n",
    "    'Mato Grosso': 'Centro-Oeste',\n",
    "    'Goiás': 'Centro-Oeste',\n",
    "    'Distrito Federal': 'Centro-Oeste',\n",
    "    'Minas Gerais': 'Sudeste',\n",
    "    'Espírito Santo': 'Sudeste',\n",
    "    'Rio de Janeiro': 'Sudeste',\n",
    "    'São Paulo': 'Sudeste',\n",
    "    'Paraná': 'Sul',\n",
    "    'Santa Catarina': 'Sul',\n",
    "    'Rio Grande do Sul': 'Sul'\n",
    "}"
   ]
  },
  {
   "cell_type": "code",
   "execution_count": 187,
   "metadata": {},
   "outputs": [
    {
     "name": "stderr",
     "output_type": "stream",
     "text": [
      "/tmp/ipykernel_5039/128373297.py:1: SettingWithCopyWarning: \n",
      "A value is trying to be set on a copy of a slice from a DataFrame.\n",
      "Try using .loc[row_indexer,col_indexer] = value instead\n",
      "\n",
      "See the caveats in the documentation: https://pandas.pydata.org/pandas-docs/stable/user_guide/indexing.html#returning-a-view-versus-a-copy\n",
      "  pns['V0001'] = pns['V0001'].map(mapeamento_regiao)\n"
     ]
    }
   ],
   "source": [
    "pns['V0001'] = pns['V0001'].map(mapeamento_regiao)"
   ]
  },
  {
   "cell_type": "code",
   "execution_count": 188,
   "metadata": {},
   "outputs": [],
   "source": [
    "contagem_regiao = pns.groupby(['V0001', 'Q074']).size().unstack(fill_value=0)"
   ]
  },
  {
   "cell_type": "code",
   "execution_count": 189,
   "metadata": {},
   "outputs": [
    {
     "data": {
      "application/vnd.microsoft.datawrangler.viewer.v0+json": {
       "columns": [
        {
         "name": "V0001",
         "rawType": "object",
         "type": "string"
        },
        {
         "name": "1.0",
         "rawType": "int64",
         "type": "integer"
        },
        {
         "name": "2.0",
         "rawType": "int64",
         "type": "integer"
        }
       ],
       "conversionMethod": "pd.DataFrame",
       "ref": "ff388aa7-fcfd-42bd-9d09-765e62d15c15",
       "rows": [
        [
         "Centro-Oeste",
         "480",
         "9918"
        ],
        [
         "Nordeste",
         "1319",
         "30225"
        ],
        [
         "Norte",
         "785",
         "16817"
        ],
        [
         "Sudeste",
         "1153",
         "18677"
        ],
        [
         "Sul",
         "730",
         "10742"
        ]
       ],
       "shape": {
        "columns": 2,
        "rows": 5
       }
      },
      "text/html": [
       "<div>\n",
       "<style scoped>\n",
       "    .dataframe tbody tr th:only-of-type {\n",
       "        vertical-align: middle;\n",
       "    }\n",
       "\n",
       "    .dataframe tbody tr th {\n",
       "        vertical-align: top;\n",
       "    }\n",
       "\n",
       "    .dataframe thead th {\n",
       "        text-align: right;\n",
       "    }\n",
       "</style>\n",
       "<table border=\"1\" class=\"dataframe\">\n",
       "  <thead>\n",
       "    <tr style=\"text-align: right;\">\n",
       "      <th>Q074</th>\n",
       "      <th>1.0</th>\n",
       "      <th>2.0</th>\n",
       "    </tr>\n",
       "    <tr>\n",
       "      <th>V0001</th>\n",
       "      <th></th>\n",
       "      <th></th>\n",
       "    </tr>\n",
       "  </thead>\n",
       "  <tbody>\n",
       "    <tr>\n",
       "      <th>Centro-Oeste</th>\n",
       "      <td>480</td>\n",
       "      <td>9918</td>\n",
       "    </tr>\n",
       "    <tr>\n",
       "      <th>Nordeste</th>\n",
       "      <td>1319</td>\n",
       "      <td>30225</td>\n",
       "    </tr>\n",
       "    <tr>\n",
       "      <th>Norte</th>\n",
       "      <td>785</td>\n",
       "      <td>16817</td>\n",
       "    </tr>\n",
       "    <tr>\n",
       "      <th>Sudeste</th>\n",
       "      <td>1153</td>\n",
       "      <td>18677</td>\n",
       "    </tr>\n",
       "    <tr>\n",
       "      <th>Sul</th>\n",
       "      <td>730</td>\n",
       "      <td>10742</td>\n",
       "    </tr>\n",
       "  </tbody>\n",
       "</table>\n",
       "</div>"
      ],
      "text/plain": [
       "Q074           1.0    2.0\n",
       "V0001                    \n",
       "Centro-Oeste   480   9918\n",
       "Nordeste      1319  30225\n",
       "Norte          785  16817\n",
       "Sudeste       1153  18677\n",
       "Sul            730  10742"
      ]
     },
     "execution_count": 189,
     "metadata": {},
     "output_type": "execute_result"
    }
   ],
   "source": [
    "contagem_regiao"
   ]
  },
  {
   "cell_type": "code",
   "execution_count": 190,
   "metadata": {},
   "outputs": [
    {
     "data": {
      "text/plain": [
       "[]"
      ]
     },
     "execution_count": 190,
     "metadata": {},
     "output_type": "execute_result"
    },
    {
     "data": {
      "image/png": "[encoded data removed]",
      "text/plain": [
       "<Figure size 1200x600 with 1 Axes>"
      ]
     },
     "metadata": {},
     "output_type": "display_data"
    }
   ],
   "source": [
    "contagem_regiao.plot(kind='bar', stacked=True, figsize=(12, 6))\n",
    "plt.xlabel('Região')\n",
    "plt.ylabel('Número de Pessoas')\n",
    "plt.title('Pessoas com e sem bronquite por regiao em valor absoluto')\n",
    "plt.legend(['Tem bronquite', 'Não tem bronquite'])\n",
    "plt.xticks(rotation=45, ha='right')\n",
    "plt.yticks(np.arange(0, 35000, 2500))\n",
    "plt.savefig('Graficos/grafico_regional_bronquite_absoluto.png', dpi=300, bbox_inches='tight')\n",
    "plt.plot()"
   ]
  },
  {
   "cell_type": "code",
   "execution_count": 191,
   "metadata": {},
   "outputs": [],
   "source": [
    "BS = contagem_regiao[1.0].values.sum()\n",
    "BN = contagem_regiao[2.0].values.sum()\n",
    "QTotal = BS + BN"
   ]
  },
  {
   "cell_type": "code",
   "execution_count": 192,
   "metadata": {},
   "outputs": [
    {
     "name": "stderr",
     "output_type": "stream",
     "text": [
      "/tmp/ipykernel_5039/288014624.py:5: FutureWarning: Setting an item of incompatible dtype is deprecated and will raise in a future error of pandas. Value '0.5283666864804174' has dtype incompatible with int64, please explicitly cast to a compatible dtype first.\n",
      "  contagem_regiao.iat[i,2] = (row[1.0]/QTotal) * 100\n",
      "/tmp/ipykernel_5039/288014624.py:6: FutureWarning: Setting an item of incompatible dtype is deprecated and will raise in a future error of pandas. Value '10.917376659401624' has dtype incompatible with int64, please explicitly cast to a compatible dtype first.\n",
      "  contagem_regiao.iat[i,3] = (row[2.0]/QTotal) * 100\n"
     ]
    }
   ],
   "source": [
    "i = 0\n",
    "contagem_regiao['Possui bronquite(%)'] = 0\n",
    "contagem_regiao['Nao possui bronquite(%)'] = 0\n",
    "for index, row in contagem_regiao.iterrows():\n",
    "    contagem_regiao.iat[i,2] = (row[1.0]/QTotal) * 100\n",
    "    contagem_regiao.iat[i,3] = (row[2.0]/QTotal) * 100\n",
    "    i += 1"
   ]
  },
  {
   "cell_type": "code",
   "execution_count": 193,
   "metadata": {},
   "outputs": [
    {
     "data": {
      "text/plain": [
       "[]"
      ]
     },
     "execution_count": 193,
     "metadata": {},
     "output_type": "execute_result"
    },
    {
     "data": {
      "image/png": "[encoded data removed]",
      "text/plain": [
       "<Figure size 1200x600 with 1 Axes>"
      ]
     },
     "metadata": {},
     "output_type": "display_data"
    }
   ],
   "source": [
    "contagem_regiao[['Possui bronquite(%)','Nao possui bronquite(%)']].plot(kind='bar', stacked=True, figsize=(12, 6))\n",
    "plt.xlabel('Região')\n",
    "plt.ylabel('Percentual de Pessoas em relação ao total')\n",
    "plt.title('Percentual de pessoas com e sem bronquite por Regiao')\n",
    "plt.legend(['Tem bronquite', 'Não tem bronquite'])\n",
    "plt.xticks(rotation=45, ha='right')\n",
    "plt.yticks(np.arange(0, 40, 2.5))\n",
    "plt.savefig('Graficos/grafico_regional_bronquite_relativo.png', dpi=300, bbox_inches='tight')\n",
    "plt.plot()"
   ]
  }
 ],
 "metadata": {
  "kernelspec": {
   "display_name": "Python 3",
   "language": "python",
   "name": "python3"
  },
  "language_info": {
   "codemirror_mode": {
    "name": "ipython",
    "version": 3
   },
   "file_extension": ".py",
   "mimetype": "text/x-python",
   "name": "python",
   "nbconvert_exporter": "python",
   "pygments_lexer": "ipython3",
   "version": "3.12.3"
  }
 },
 "nbformat": 4,
 "nbformat_minor": 2
}
