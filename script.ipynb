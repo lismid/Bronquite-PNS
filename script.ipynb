{
 "cells": [
  {
   "cell_type": "code",
   "execution_count": 231,
   "metadata": {},
   "outputs": [],
   "source": [
    "import pandas as pd\n",
    "import seaborn as sns\n",
    "import matplotlib.pyplot as plt\n",
    "import numpy as np\n",
    "import scipy.stats as stats"
   ]
  },
  {
   "cell_type": "code",
   "execution_count": 232,
   "metadata": {},
   "outputs": [],
   "source": [
    "use_columns = [\"V0001\", \"Q074\"]"
   ]
  },
  {
   "cell_type": "code",
   "execution_count": 233,
   "metadata": {},
   "outputs": [],
   "source": [
    "pns = pd.read_csv(\"pns2019.csv\", usecols=use_columns)"
   ]
  },
  {
   "cell_type": "code",
   "execution_count": 234,
   "metadata": {},
   "outputs": [
    {
     "data": {
      "application/vnd.microsoft.datawrangler.viewer.v0+json": {
       "columns": [
        {
         "name": "index",
         "rawType": "int64",
         "type": "integer"
        },
        {
         "name": "V0001",
         "rawType": "int64",
         "type": "integer"
        },
        {
         "name": "Q074",
         "rawType": "float64",
         "type": "float"
        }
       ],
       "conversionMethod": "pd.DataFrame",
       "ref": "24f4e48f-b150-42db-9580-0c681e61c57f",
       "rows": [
        [
         "0",
         "11",
         "2.0"
        ],
        [
         "1",
         "11",
         null
        ],
        [
         "2",
         "11",
         null
        ],
        [
         "3",
         "11",
         null
        ],
        [
         "4",
         "11",
         null
        ],
        [
         "5",
         "11",
         null
        ],
        [
         "6",
         "11",
         null
        ],
        [
         "7",
         "11",
         null
        ],
        [
         "8",
         "11",
         null
        ],
        [
         "9",
         "11",
         "2.0"
        ],
        [
         "10",
         "11",
         "2.0"
        ],
        [
         "11",
         "11",
         null
        ],
        [
         "12",
         "11",
         null
        ],
        [
         "13",
         "11",
         null
        ],
        [
         "14",
         "11",
         null
        ],
        [
         "15",
         "11",
         null
        ],
        [
         "16",
         "11",
         null
        ],
        [
         "17",
         "11",
         null
        ],
        [
         "18",
         "11",
         "2.0"
        ],
        [
         "19",
         "11",
         "2.0"
        ],
        [
         "20",
         "11",
         null
        ],
        [
         "21",
         "11",
         "2.0"
        ],
        [
         "22",
         "11",
         "2.0"
        ],
        [
         "23",
         "11",
         null
        ],
        [
         "24",
         "11",
         null
        ],
        [
         "25",
         "11",
         null
        ],
        [
         "26",
         "11",
         "2.0"
        ],
        [
         "27",
         "11",
         null
        ],
        [
         "28",
         "11",
         null
        ],
        [
         "29",
         "11",
         "2.0"
        ],
        [
         "30",
         "11",
         null
        ],
        [
         "31",
         "11",
         "2.0"
        ],
        [
         "32",
         "11",
         "2.0"
        ],
        [
         "33",
         "11",
         null
        ],
        [
         "34",
         "11",
         "2.0"
        ],
        [
         "35",
         "11",
         "2.0"
        ],
        [
         "36",
         "11",
         null
        ],
        [
         "37",
         "11",
         null
        ],
        [
         "38",
         "11",
         null
        ],
        [
         "39",
         "11",
         null
        ],
        [
         "40",
         "11",
         null
        ],
        [
         "41",
         "11",
         "2.0"
        ],
        [
         "42",
         "11",
         null
        ],
        [
         "43",
         "11",
         null
        ],
        [
         "44",
         "11",
         "2.0"
        ],
        [
         "45",
         "11",
         null
        ],
        [
         "46",
         "11",
         null
        ],
        [
         "47",
         "11",
         null
        ],
        [
         "48",
         "11",
         null
        ],
        [
         "49",
         "11",
         null
        ]
       ],
       "shape": {
        "columns": 2,
        "rows": 293726
       }
      },
      "text/html": [
       "<div>\n",
       "<style scoped>\n",
       "    .dataframe tbody tr th:only-of-type {\n",
       "        vertical-align: middle;\n",
       "    }\n",
       "\n",
       "    .dataframe tbody tr th {\n",
       "        vertical-align: top;\n",
       "    }\n",
       "\n",
       "    .dataframe thead th {\n",
       "        text-align: right;\n",
       "    }\n",
       "</style>\n",
       "<table border=\"1\" class=\"dataframe\">\n",
       "  <thead>\n",
       "    <tr style=\"text-align: right;\">\n",
       "      <th></th>\n",
       "      <th>V0001</th>\n",
       "      <th>Q074</th>\n",
       "    </tr>\n",
       "  </thead>\n",
       "  <tbody>\n",
       "    <tr>\n",
       "      <th>0</th>\n",
       "      <td>11</td>\n",
       "      <td>2.0</td>\n",
       "    </tr>\n",
       "    <tr>\n",
       "      <th>1</th>\n",
       "      <td>11</td>\n",
       "      <td>NaN</td>\n",
       "    </tr>\n",
       "    <tr>\n",
       "      <th>2</th>\n",
       "      <td>11</td>\n",
       "      <td>NaN</td>\n",
       "    </tr>\n",
       "    <tr>\n",
       "      <th>3</th>\n",
       "      <td>11</td>\n",
       "      <td>NaN</td>\n",
       "    </tr>\n",
       "    <tr>\n",
       "      <th>4</th>\n",
       "      <td>11</td>\n",
       "      <td>NaN</td>\n",
       "    </tr>\n",
       "    <tr>\n",
       "      <th>...</th>\n",
       "      <td>...</td>\n",
       "      <td>...</td>\n",
       "    </tr>\n",
       "    <tr>\n",
       "      <th>293721</th>\n",
       "      <td>53</td>\n",
       "      <td>NaN</td>\n",
       "    </tr>\n",
       "    <tr>\n",
       "      <th>293722</th>\n",
       "      <td>53</td>\n",
       "      <td>NaN</td>\n",
       "    </tr>\n",
       "    <tr>\n",
       "      <th>293723</th>\n",
       "      <td>53</td>\n",
       "      <td>NaN</td>\n",
       "    </tr>\n",
       "    <tr>\n",
       "      <th>293724</th>\n",
       "      <td>53</td>\n",
       "      <td>NaN</td>\n",
       "    </tr>\n",
       "    <tr>\n",
       "      <th>293725</th>\n",
       "      <td>53</td>\n",
       "      <td>NaN</td>\n",
       "    </tr>\n",
       "  </tbody>\n",
       "</table>\n",
       "<p>293726 rows × 2 columns</p>\n",
       "</div>"
      ],
      "text/plain": [
       "        V0001  Q074\n",
       "0          11   2.0\n",
       "1          11   NaN\n",
       "2          11   NaN\n",
       "3          11   NaN\n",
       "4          11   NaN\n",
       "...       ...   ...\n",
       "293721     53   NaN\n",
       "293722     53   NaN\n",
       "293723     53   NaN\n",
       "293724     53   NaN\n",
       "293725     53   NaN\n",
       "\n",
       "[293726 rows x 2 columns]"
      ]
     },
     "execution_count": 234,
     "metadata": {},
     "output_type": "execute_result"
    }
   ],
   "source": [
    "pns"
   ]
  },
  {
   "cell_type": "code",
   "execution_count": 235,
   "metadata": {},
   "outputs": [
    {
     "name": "stdout",
     "output_type": "stream",
     "text": [
      "<class 'pandas.core.frame.DataFrame'>\n",
      "RangeIndex: 293726 entries, 0 to 293725\n",
      "Data columns (total 2 columns):\n",
      " #   Column  Non-Null Count   Dtype  \n",
      "---  ------  --------------   -----  \n",
      " 0   V0001   293726 non-null  int64  \n",
      " 1   Q074    90846 non-null   float64\n",
      "dtypes: float64(1), int64(1)\n",
      "memory usage: 4.5 MB\n"
     ]
    }
   ],
   "source": [
    "pns.info()"
   ]
  },
  {
   "cell_type": "code",
   "execution_count": 236,
   "metadata": {},
   "outputs": [
    {
     "data": {
      "text/plain": [
       "Q074\n",
       "2.0    86379\n",
       "1.0     4467\n",
       "Name: count, dtype: int64"
      ]
     },
     "execution_count": 236,
     "metadata": {},
     "output_type": "execute_result"
    }
   ],
   "source": [
    "pns[\"Q074\"].value_counts()"
   ]
  },
  {
   "cell_type": "code",
   "execution_count": 237,
   "metadata": {},
   "outputs": [],
   "source": [
    "pns['Q074'] = pd.to_numeric(pns['Q074'], errors='coerce')"
   ]
  },
  {
   "cell_type": "code",
   "execution_count": 238,
   "metadata": {},
   "outputs": [],
   "source": [
    "pns = pns.dropna(subset=['Q074'])"
   ]
  },
  {
   "cell_type": "code",
   "execution_count": 239,
   "metadata": {},
   "outputs": [
    {
     "data": {
      "application/vnd.microsoft.datawrangler.viewer.v0+json": {
       "columns": [
        {
         "name": "index",
         "rawType": "int64",
         "type": "integer"
        },
        {
         "name": "V0001",
         "rawType": "int64",
         "type": "integer"
        },
        {
         "name": "Q074",
         "rawType": "float64",
         "type": "float"
        }
       ],
       "conversionMethod": "pd.DataFrame",
       "ref": "09434314-6819-4749-8f00-7dc785875ca4",
       "rows": [
        [
         "0",
         "11",
         "2.0"
        ],
        [
         "9",
         "11",
         "2.0"
        ],
        [
         "10",
         "11",
         "2.0"
        ],
        [
         "18",
         "11",
         "2.0"
        ],
        [
         "19",
         "11",
         "2.0"
        ],
        [
         "21",
         "11",
         "2.0"
        ],
        [
         "22",
         "11",
         "2.0"
        ],
        [
         "26",
         "11",
         "2.0"
        ],
        [
         "29",
         "11",
         "2.0"
        ],
        [
         "31",
         "11",
         "2.0"
        ],
        [
         "32",
         "11",
         "2.0"
        ],
        [
         "34",
         "11",
         "2.0"
        ],
        [
         "35",
         "11",
         "2.0"
        ],
        [
         "41",
         "11",
         "2.0"
        ],
        [
         "44",
         "11",
         "2.0"
        ],
        [
         "51",
         "11",
         "2.0"
        ],
        [
         "56",
         "11",
         "2.0"
        ],
        [
         "57",
         "11",
         "2.0"
        ],
        [
         "59",
         "11",
         "2.0"
        ],
        [
         "60",
         "11",
         "2.0"
        ],
        [
         "61",
         "11",
         "2.0"
        ],
        [
         "62",
         "11",
         "1.0"
        ],
        [
         "65",
         "11",
         "2.0"
        ],
        [
         "73",
         "11",
         "2.0"
        ],
        [
         "76",
         "11",
         "2.0"
        ],
        [
         "79",
         "11",
         "2.0"
        ],
        [
         "89",
         "11",
         "2.0"
        ],
        [
         "91",
         "11",
         "2.0"
        ],
        [
         "94",
         "11",
         "2.0"
        ],
        [
         "96",
         "11",
         "2.0"
        ],
        [
         "99",
         "11",
         "2.0"
        ],
        [
         "103",
         "11",
         "2.0"
        ],
        [
         "117",
         "11",
         "2.0"
        ],
        [
         "119",
         "11",
         "2.0"
        ],
        [
         "125",
         "11",
         "2.0"
        ],
        [
         "127",
         "11",
         "2.0"
        ],
        [
         "136",
         "11",
         "2.0"
        ],
        [
         "140",
         "11",
         "2.0"
        ],
        [
         "142",
         "11",
         "2.0"
        ],
        [
         "148",
         "11",
         "2.0"
        ],
        [
         "152",
         "11",
         "2.0"
        ],
        [
         "156",
         "11",
         "2.0"
        ],
        [
         "170",
         "11",
         "2.0"
        ],
        [
         "176",
         "11",
         "2.0"
        ],
        [
         "181",
         "11",
         "2.0"
        ],
        [
         "183",
         "11",
         "2.0"
        ],
        [
         "186",
         "11",
         "2.0"
        ],
        [
         "197",
         "11",
         "2.0"
        ],
        [
         "200",
         "11",
         "2.0"
        ],
        [
         "204",
         "11",
         "2.0"
        ]
       ],
       "shape": {
        "columns": 2,
        "rows": 90846
       }
      },
      "text/html": [
       "<div>\n",
       "<style scoped>\n",
       "    .dataframe tbody tr th:only-of-type {\n",
       "        vertical-align: middle;\n",
       "    }\n",
       "\n",
       "    .dataframe tbody tr th {\n",
       "        vertical-align: top;\n",
       "    }\n",
       "\n",
       "    .dataframe thead th {\n",
       "        text-align: right;\n",
       "    }\n",
       "</style>\n",
       "<table border=\"1\" class=\"dataframe\">\n",
       "  <thead>\n",
       "    <tr style=\"text-align: right;\">\n",
       "      <th></th>\n",
       "      <th>V0001</th>\n",
       "      <th>Q074</th>\n",
       "    </tr>\n",
       "  </thead>\n",
       "  <tbody>\n",
       "    <tr>\n",
       "      <th>0</th>\n",
       "      <td>11</td>\n",
       "      <td>2.0</td>\n",
       "    </tr>\n",
       "    <tr>\n",
       "      <th>9</th>\n",
       "      <td>11</td>\n",
       "      <td>2.0</td>\n",
       "    </tr>\n",
       "    <tr>\n",
       "      <th>10</th>\n",
       "      <td>11</td>\n",
       "      <td>2.0</td>\n",
       "    </tr>\n",
       "    <tr>\n",
       "      <th>18</th>\n",
       "      <td>11</td>\n",
       "      <td>2.0</td>\n",
       "    </tr>\n",
       "    <tr>\n",
       "      <th>19</th>\n",
       "      <td>11</td>\n",
       "      <td>2.0</td>\n",
       "    </tr>\n",
       "    <tr>\n",
       "      <th>...</th>\n",
       "      <td>...</td>\n",
       "      <td>...</td>\n",
       "    </tr>\n",
       "    <tr>\n",
       "      <th>293709</th>\n",
       "      <td>53</td>\n",
       "      <td>2.0</td>\n",
       "    </tr>\n",
       "    <tr>\n",
       "      <th>293712</th>\n",
       "      <td>53</td>\n",
       "      <td>2.0</td>\n",
       "    </tr>\n",
       "    <tr>\n",
       "      <th>293713</th>\n",
       "      <td>53</td>\n",
       "      <td>2.0</td>\n",
       "    </tr>\n",
       "    <tr>\n",
       "      <th>293718</th>\n",
       "      <td>53</td>\n",
       "      <td>2.0</td>\n",
       "    </tr>\n",
       "    <tr>\n",
       "      <th>293720</th>\n",
       "      <td>53</td>\n",
       "      <td>2.0</td>\n",
       "    </tr>\n",
       "  </tbody>\n",
       "</table>\n",
       "<p>90846 rows × 2 columns</p>\n",
       "</div>"
      ],
      "text/plain": [
       "        V0001  Q074\n",
       "0          11   2.0\n",
       "9          11   2.0\n",
       "10         11   2.0\n",
       "18         11   2.0\n",
       "19         11   2.0\n",
       "...       ...   ...\n",
       "293709     53   2.0\n",
       "293712     53   2.0\n",
       "293713     53   2.0\n",
       "293718     53   2.0\n",
       "293720     53   2.0\n",
       "\n",
       "[90846 rows x 2 columns]"
      ]
     },
     "execution_count": 239,
     "metadata": {},
     "output_type": "execute_result"
    }
   ],
   "source": [
    "pns"
   ]
  },
  {
   "cell_type": "code",
   "execution_count": 240,
   "metadata": {},
   "outputs": [],
   "source": [
    "mapeamento_estados = {\n",
    "    11: 'Rondônia',\n",
    "    12: 'Acre',\n",
    "    13: 'Amazonas',\n",
    "    14: 'Roraima',\n",
    "    15: 'Pará',\n",
    "    16: 'Amapá',\n",
    "    17: 'Tocantins',\n",
    "    21: 'Maranhão',\n",
    "    22: 'Piauí',\n",
    "    23: 'Ceará',\n",
    "    24: 'Rio Grande do Norte',\n",
    "    25: 'Paraíba',\n",
    "    26: 'Pernambuco',\n",
    "    27: 'Alagoas',\n",
    "    28: 'Sergipe',\n",
    "    29: 'Bahia',\n",
    "    31: 'Minas Gerais',\n",
    "    32: 'Espírito Santo',\n",
    "    33: 'Rio de Janeiro',\n",
    "    35: 'São Paulo',\n",
    "    41: 'Paraná',\n",
    "    42: 'Santa Catarina',\n",
    "    43: 'Rio Grande do Sul',\n",
    "    50: 'Mato Grosso do Sul',\n",
    "    51: 'Mato Grosso',\n",
    "    52: 'Goiás',\n",
    "    53: 'Distrito Federal'\n",
    "}"
   ]
  },
  {
   "cell_type": "code",
   "execution_count": 241,
   "metadata": {},
   "outputs": [
    {
     "name": "stderr",
     "output_type": "stream",
     "text": [
      "/tmp/ipykernel_6860/271576639.py:1: SettingWithCopyWarning: \n",
      "A value is trying to be set on a copy of a slice from a DataFrame.\n",
      "Try using .loc[row_indexer,col_indexer] = value instead\n",
      "\n",
      "See the caveats in the documentation: https://pandas.pydata.org/pandas-docs/stable/user_guide/indexing.html#returning-a-view-versus-a-copy\n",
      "  pns['V0001'] = pns['V0001'].map(mapeamento_estados)\n"
     ]
    }
   ],
   "source": [
    "pns['V0001'] = pns['V0001'].map(mapeamento_estados)"
   ]
  },
  {
   "cell_type": "code",
   "execution_count": 242,
   "metadata": {},
   "outputs": [],
   "source": [
    "contagem_estados = pns.groupby(['V0001', 'Q074']).size().unstack(fill_value=0)"
   ]
  },
  {
   "cell_type": "code",
   "execution_count": 243,
   "metadata": {},
   "outputs": [
    {
     "data": {
      "application/vnd.microsoft.datawrangler.viewer.v0+json": {
       "columns": [
        {
         "name": "V0001",
         "rawType": "object",
         "type": "string"
        },
        {
         "name": "1.0",
         "rawType": "int64",
         "type": "integer"
        },
        {
         "name": "2.0",
         "rawType": "int64",
         "type": "integer"
        }
       ],
       "conversionMethod": "pd.DataFrame",
       "ref": "28d895f7-8d1d-472d-abc3-a5500b8e91ba",
       "rows": [
        [
         "Acre",
         "93",
         "2287"
        ],
        [
         "Alagoas",
         "116",
         "2871"
        ],
        [
         "Amapá",
         "93",
         "1461"
        ],
        [
         "Amazonas",
         "151",
         "3328"
        ],
        [
         "Bahia",
         "117",
         "3542"
        ],
        [
         "Ceará",
         "200",
         "4065"
        ],
        [
         "Distrito Federal",
         "120",
         "2245"
        ],
        [
         "Espírito Santo",
         "231",
         "3310"
        ],
        [
         "Goiás",
         "146",
         "2556"
        ],
        [
         "Maranhão",
         "177",
         "4903"
        ],
        [
         "Mato Grosso",
         "67",
         "2401"
        ],
        [
         "Mato Grosso do Sul",
         "147",
         "2716"
        ],
        [
         "Minas Gerais",
         "317",
         "4892"
        ],
        [
         "Paraná",
         "199",
         "3768"
        ],
        [
         "Paraíba",
         "125",
         "3033"
        ],
        [
         "Pará",
         "178",
         "3675"
        ],
        [
         "Pernambuco",
         "197",
         "3886"
        ],
        [
         "Piauí",
         "119",
         "2621"
        ],
        [
         "Rio Grande do Norte",
         "156",
         "2806"
        ],
        [
         "Rio Grande do Sul",
         "318",
         "3449"
        ],
        [
         "Rio de Janeiro",
         "213",
         "4753"
        ],
        [
         "Rondônia",
         "84",
         "2092"
        ],
        [
         "Roraima",
         "105",
         "2133"
        ],
        [
         "Santa Catarina",
         "213",
         "3525"
        ],
        [
         "Sergipe",
         "112",
         "2498"
        ],
        [
         "São Paulo",
         "392",
         "5722"
        ],
        [
         "Tocantins",
         "81",
         "1841"
        ]
       ],
       "shape": {
        "columns": 2,
        "rows": 27
       }
      },
      "text/html": [
       "<div>\n",
       "<style scoped>\n",
       "    .dataframe tbody tr th:only-of-type {\n",
       "        vertical-align: middle;\n",
       "    }\n",
       "\n",
       "    .dataframe tbody tr th {\n",
       "        vertical-align: top;\n",
       "    }\n",
       "\n",
       "    .dataframe thead th {\n",
       "        text-align: right;\n",
       "    }\n",
       "</style>\n",
       "<table border=\"1\" class=\"dataframe\">\n",
       "  <thead>\n",
       "    <tr style=\"text-align: right;\">\n",
       "      <th>Q074</th>\n",
       "      <th>1.0</th>\n",
       "      <th>2.0</th>\n",
       "    </tr>\n",
       "    <tr>\n",
       "      <th>V0001</th>\n",
       "      <th></th>\n",
       "      <th></th>\n",
       "    </tr>\n",
       "  </thead>\n",
       "  <tbody>\n",
       "    <tr>\n",
       "      <th>Acre</th>\n",
       "      <td>93</td>\n",
       "      <td>2287</td>\n",
       "    </tr>\n",
       "    <tr>\n",
       "      <th>Alagoas</th>\n",
       "      <td>116</td>\n",
       "      <td>2871</td>\n",
       "    </tr>\n",
       "    <tr>\n",
       "      <th>Amapá</th>\n",
       "      <td>93</td>\n",
       "      <td>1461</td>\n",
       "    </tr>\n",
       "    <tr>\n",
       "      <th>Amazonas</th>\n",
       "      <td>151</td>\n",
       "      <td>3328</td>\n",
       "    </tr>\n",
       "    <tr>\n",
       "      <th>Bahia</th>\n",
       "      <td>117</td>\n",
       "      <td>3542</td>\n",
       "    </tr>\n",
       "    <tr>\n",
       "      <th>Ceará</th>\n",
       "      <td>200</td>\n",
       "      <td>4065</td>\n",
       "    </tr>\n",
       "    <tr>\n",
       "      <th>Distrito Federal</th>\n",
       "      <td>120</td>\n",
       "      <td>2245</td>\n",
       "    </tr>\n",
       "    <tr>\n",
       "      <th>Espírito Santo</th>\n",
       "      <td>231</td>\n",
       "      <td>3310</td>\n",
       "    </tr>\n",
       "    <tr>\n",
       "      <th>Goiás</th>\n",
       "      <td>146</td>\n",
       "      <td>2556</td>\n",
       "    </tr>\n",
       "    <tr>\n",
       "      <th>Maranhão</th>\n",
       "      <td>177</td>\n",
       "      <td>4903</td>\n",
       "    </tr>\n",
       "    <tr>\n",
       "      <th>Mato Grosso</th>\n",
       "      <td>67</td>\n",
       "      <td>2401</td>\n",
       "    </tr>\n",
       "    <tr>\n",
       "      <th>Mato Grosso do Sul</th>\n",
       "      <td>147</td>\n",
       "      <td>2716</td>\n",
       "    </tr>\n",
       "    <tr>\n",
       "      <th>Minas Gerais</th>\n",
       "      <td>317</td>\n",
       "      <td>4892</td>\n",
       "    </tr>\n",
       "    <tr>\n",
       "      <th>Paraná</th>\n",
       "      <td>199</td>\n",
       "      <td>3768</td>\n",
       "    </tr>\n",
       "    <tr>\n",
       "      <th>Paraíba</th>\n",
       "      <td>125</td>\n",
       "      <td>3033</td>\n",
       "    </tr>\n",
       "    <tr>\n",
       "      <th>Pará</th>\n",
       "      <td>178</td>\n",
       "      <td>3675</td>\n",
       "    </tr>\n",
       "    <tr>\n",
       "      <th>Pernambuco</th>\n",
       "      <td>197</td>\n",
       "      <td>3886</td>\n",
       "    </tr>\n",
       "    <tr>\n",
       "      <th>Piauí</th>\n",
       "      <td>119</td>\n",
       "      <td>2621</td>\n",
       "    </tr>\n",
       "    <tr>\n",
       "      <th>Rio Grande do Norte</th>\n",
       "      <td>156</td>\n",
       "      <td>2806</td>\n",
       "    </tr>\n",
       "    <tr>\n",
       "      <th>Rio Grande do Sul</th>\n",
       "      <td>318</td>\n",
       "      <td>3449</td>\n",
       "    </tr>\n",
       "    <tr>\n",
       "      <th>Rio de Janeiro</th>\n",
       "      <td>213</td>\n",
       "      <td>4753</td>\n",
       "    </tr>\n",
       "    <tr>\n",
       "      <th>Rondônia</th>\n",
       "      <td>84</td>\n",
       "      <td>2092</td>\n",
       "    </tr>\n",
       "    <tr>\n",
       "      <th>Roraima</th>\n",
       "      <td>105</td>\n",
       "      <td>2133</td>\n",
       "    </tr>\n",
       "    <tr>\n",
       "      <th>Santa Catarina</th>\n",
       "      <td>213</td>\n",
       "      <td>3525</td>\n",
       "    </tr>\n",
       "    <tr>\n",
       "      <th>Sergipe</th>\n",
       "      <td>112</td>\n",
       "      <td>2498</td>\n",
       "    </tr>\n",
       "    <tr>\n",
       "      <th>São Paulo</th>\n",
       "      <td>392</td>\n",
       "      <td>5722</td>\n",
       "    </tr>\n",
       "    <tr>\n",
       "      <th>Tocantins</th>\n",
       "      <td>81</td>\n",
       "      <td>1841</td>\n",
       "    </tr>\n",
       "  </tbody>\n",
       "</table>\n",
       "</div>"
      ],
      "text/plain": [
       "Q074                 1.0   2.0\n",
       "V0001                         \n",
       "Acre                  93  2287\n",
       "Alagoas              116  2871\n",
       "Amapá                 93  1461\n",
       "Amazonas             151  3328\n",
       "Bahia                117  3542\n",
       "Ceará                200  4065\n",
       "Distrito Federal     120  2245\n",
       "Espírito Santo       231  3310\n",
       "Goiás                146  2556\n",
       "Maranhão             177  4903\n",
       "Mato Grosso           67  2401\n",
       "Mato Grosso do Sul   147  2716\n",
       "Minas Gerais         317  4892\n",
       "Paraná               199  3768\n",
       "Paraíba              125  3033\n",
       "Pará                 178  3675\n",
       "Pernambuco           197  3886\n",
       "Piauí                119  2621\n",
       "Rio Grande do Norte  156  2806\n",
       "Rio Grande do Sul    318  3449\n",
       "Rio de Janeiro       213  4753\n",
       "Rondônia              84  2092\n",
       "Roraima              105  2133\n",
       "Santa Catarina       213  3525\n",
       "Sergipe              112  2498\n",
       "São Paulo            392  5722\n",
       "Tocantins             81  1841"
      ]
     },
     "execution_count": 243,
     "metadata": {},
     "output_type": "execute_result"
    }
   ],
   "source": [
    "contagem_estados"
   ]
  },
  {
   "cell_type": "code",
   "execution_count": 244,
   "metadata": {},
   "outputs": [
    {
     "data": {
      "text/plain": [
       "[]"
      ]
     },
     "execution_count": 244,
     "metadata": {},
     "output_type": "execute_result"
    },
    {
     "data": {
      "image/png": "[encoded data removed]",
      "text/plain": [
       "<Figure size 1200x600 with 1 Axes>"
      ]
     },
     "metadata": {},
     "output_type": "display_data"
    }
   ],
   "source": [
    "contagem_estados.plot(kind='bar', stacked=True, figsize=(12, 6))\n",
    "plt.xlabel('Estado')\n",
    "plt.ylabel('Número de Pessoas')\n",
    "plt.title('Pessoas com e sem bronquite por estado em valor absoluto')\n",
    "plt.legend(['Tem bronquite', 'Não tem bronquite'])\n",
    "plt.xticks(rotation=45, ha='right')\n",
    "plt.yticks(np.arange(0, 7000, step=500))\n",
    "#plt.savefig('Graficos/grafico_bronquite_absoluto.png', dpi=300, bbox_inches='tight')\n",
    "plt.plot()"
   ]
  },
  {
   "cell_type": "code",
   "execution_count": null,
   "metadata": {},
   "outputs": [],
   "source": []
  },
  {
   "cell_type": "code",
   "execution_count": 245,
   "metadata": {},
   "outputs": [
    {
     "name": "stderr",
     "output_type": "stream",
     "text": [
      "/tmp/ipykernel_6860/3583408121.py:6: FutureWarning: Setting an item of incompatible dtype is deprecated and will raise in a future error of pandas. Value '3.907563025210084' has dtype incompatible with int64, please explicitly cast to a compatible dtype first.\n",
      "  contagem_estados.iat[i,2] = (row[1.0]/QTotal) * 100\n",
      "/tmp/ipykernel_6860/3583408121.py:7: FutureWarning: Setting an item of incompatible dtype is deprecated and will raise in a future error of pandas. Value '96.09243697478992' has dtype incompatible with int64, please explicitly cast to a compatible dtype first.\n",
      "  contagem_estados.iat[i,3] = (row[2.0]/QTotal) * 100\n"
     ]
    }
   ],
   "source": [
    "i = 0\n",
    "contagem_estados['Possui bronquite(%)'] = 0\n",
    "contagem_estados['Nao possui bronquite(%)'] = 0\n",
    "for index, row in contagem_estados.iterrows():\n",
    "    QTotal = row[1.0] + row[2.0]\n",
    "    contagem_estados.iat[i,2] = (row[1.0]/QTotal) * 100\n",
    "    contagem_estados.iat[i,3] = (row[2.0]/QTotal) * 100\n",
    "    i += 1"
   ]
  },
  {
   "cell_type": "code",
   "execution_count": 246,
   "metadata": {},
   "outputs": [
    {
     "data": {
      "application/vnd.microsoft.datawrangler.viewer.v0+json": {
       "columns": [
        {
         "name": "V0001",
         "rawType": "object",
         "type": "string"
        },
        {
         "name": "1.0",
         "rawType": "int64",
         "type": "integer"
        },
        {
         "name": "2.0",
         "rawType": "int64",
         "type": "integer"
        },
        {
         "name": "Possui bronquite(%)",
         "rawType": "float64",
         "type": "float"
        },
        {
         "name": "Nao possui bronquite(%)",
         "rawType": "float64",
         "type": "float"
        }
       ],
       "conversionMethod": "pd.DataFrame",
       "ref": "fbad992f-9ca1-4b32-b383-2c889796b58d",
       "rows": [
        [
         "Acre",
         "93",
         "2287",
         "3.907563025210084",
         "96.09243697478992"
        ],
        [
         "Alagoas",
         "116",
         "2871",
         "3.8834951456310676",
         "96.11650485436894"
        ],
        [
         "Amapá",
         "93",
         "1461",
         "5.984555984555985",
         "94.01544401544402"
        ],
        [
         "Amazonas",
         "151",
         "3328",
         "4.340327680367921",
         "95.65967231963208"
        ],
        [
         "Bahia",
         "117",
         "3542",
         "3.197594971303635",
         "96.80240502869637"
        ],
        [
         "Ceará",
         "200",
         "4065",
         "4.6893317702227435",
         "95.31066822977726"
        ],
        [
         "Distrito Federal",
         "120",
         "2245",
         "5.07399577167019",
         "94.9260042283298"
        ],
        [
         "Espírito Santo",
         "231",
         "3310",
         "6.523580909347642",
         "93.47641909065236"
        ],
        [
         "Goiás",
         "146",
         "2556",
         "5.40340488527017",
         "94.59659511472984"
        ],
        [
         "Maranhão",
         "177",
         "4903",
         "3.4842519685039366",
         "96.51574803149606"
        ],
        [
         "Mato Grosso",
         "67",
         "2401",
         "2.7147487844408427",
         "97.28525121555916"
        ],
        [
         "Mato Grosso do Sul",
         "147",
         "2716",
         "5.134474327628362",
         "94.86552567237165"
        ],
        [
         "Minas Gerais",
         "317",
         "4892",
         "6.085621040506815",
         "93.91437895949318"
        ],
        [
         "Paraná",
         "199",
         "3768",
         "5.016385177716158",
         "94.98361482228384"
        ],
        [
         "Paraíba",
         "125",
         "3033",
         "3.9582013932868905",
         "96.04179860671312"
        ],
        [
         "Pará",
         "178",
         "3675",
         "4.619776797300804",
         "95.3802232026992"
        ],
        [
         "Pernambuco",
         "197",
         "3886",
         "4.824883663972569",
         "95.17511633602743"
        ],
        [
         "Piauí",
         "119",
         "2621",
         "4.343065693430657",
         "95.65693430656934"
        ],
        [
         "Rio Grande do Norte",
         "156",
         "2806",
         "5.266711681296422",
         "94.73328831870359"
        ],
        [
         "Rio Grande do Sul",
         "318",
         "3449",
         "8.441730820281391",
         "91.55826917971861"
        ],
        [
         "Rio de Janeiro",
         "213",
         "4753",
         "4.289166331051148",
         "95.71083366894885"
        ],
        [
         "Rondônia",
         "84",
         "2092",
         "3.860294117647059",
         "96.13970588235294"
        ],
        [
         "Roraima",
         "105",
         "2133",
         "4.6916890080428955",
         "95.3083109919571"
        ],
        [
         "Santa Catarina",
         "213",
         "3525",
         "5.698234349919743",
         "94.30176565008026"
        ],
        [
         "Sergipe",
         "112",
         "2498",
         "4.291187739463601",
         "95.7088122605364"
        ],
        [
         "São Paulo",
         "392",
         "5722",
         "6.411514556754988",
         "93.588485443245"
        ],
        [
         "Tocantins",
         "81",
         "1841",
         "4.214360041623309",
         "95.78563995837669"
        ]
       ],
       "shape": {
        "columns": 4,
        "rows": 27
       }
      },
      "text/html": [
       "<div>\n",
       "<style scoped>\n",
       "    .dataframe tbody tr th:only-of-type {\n",
       "        vertical-align: middle;\n",
       "    }\n",
       "\n",
       "    .dataframe tbody tr th {\n",
       "        vertical-align: top;\n",
       "    }\n",
       "\n",
       "    .dataframe thead th {\n",
       "        text-align: right;\n",
       "    }\n",
       "</style>\n",
       "<table border=\"1\" class=\"dataframe\">\n",
       "  <thead>\n",
       "    <tr style=\"text-align: right;\">\n",
       "      <th>Q074</th>\n",
       "      <th>1.0</th>\n",
       "      <th>2.0</th>\n",
       "      <th>Possui bronquite(%)</th>\n",
       "      <th>Nao possui bronquite(%)</th>\n",
       "    </tr>\n",
       "    <tr>\n",
       "      <th>V0001</th>\n",
       "      <th></th>\n",
       "      <th></th>\n",
       "      <th></th>\n",
       "      <th></th>\n",
       "    </tr>\n",
       "  </thead>\n",
       "  <tbody>\n",
       "    <tr>\n",
       "      <th>Acre</th>\n",
       "      <td>93</td>\n",
       "      <td>2287</td>\n",
       "      <td>3.907563</td>\n",
       "      <td>96.092437</td>\n",
       "    </tr>\n",
       "    <tr>\n",
       "      <th>Alagoas</th>\n",
       "      <td>116</td>\n",
       "      <td>2871</td>\n",
       "      <td>3.883495</td>\n",
       "      <td>96.116505</td>\n",
       "    </tr>\n",
       "    <tr>\n",
       "      <th>Amapá</th>\n",
       "      <td>93</td>\n",
       "      <td>1461</td>\n",
       "      <td>5.984556</td>\n",
       "      <td>94.015444</td>\n",
       "    </tr>\n",
       "    <tr>\n",
       "      <th>Amazonas</th>\n",
       "      <td>151</td>\n",
       "      <td>3328</td>\n",
       "      <td>4.340328</td>\n",
       "      <td>95.659672</td>\n",
       "    </tr>\n",
       "    <tr>\n",
       "      <th>Bahia</th>\n",
       "      <td>117</td>\n",
       "      <td>3542</td>\n",
       "      <td>3.197595</td>\n",
       "      <td>96.802405</td>\n",
       "    </tr>\n",
       "    <tr>\n",
       "      <th>Ceará</th>\n",
       "      <td>200</td>\n",
       "      <td>4065</td>\n",
       "      <td>4.689332</td>\n",
       "      <td>95.310668</td>\n",
       "    </tr>\n",
       "    <tr>\n",
       "      <th>Distrito Federal</th>\n",
       "      <td>120</td>\n",
       "      <td>2245</td>\n",
       "      <td>5.073996</td>\n",
       "      <td>94.926004</td>\n",
       "    </tr>\n",
       "    <tr>\n",
       "      <th>Espírito Santo</th>\n",
       "      <td>231</td>\n",
       "      <td>3310</td>\n",
       "      <td>6.523581</td>\n",
       "      <td>93.476419</td>\n",
       "    </tr>\n",
       "    <tr>\n",
       "      <th>Goiás</th>\n",
       "      <td>146</td>\n",
       "      <td>2556</td>\n",
       "      <td>5.403405</td>\n",
       "      <td>94.596595</td>\n",
       "    </tr>\n",
       "    <tr>\n",
       "      <th>Maranhão</th>\n",
       "      <td>177</td>\n",
       "      <td>4903</td>\n",
       "      <td>3.484252</td>\n",
       "      <td>96.515748</td>\n",
       "    </tr>\n",
       "    <tr>\n",
       "      <th>Mato Grosso</th>\n",
       "      <td>67</td>\n",
       "      <td>2401</td>\n",
       "      <td>2.714749</td>\n",
       "      <td>97.285251</td>\n",
       "    </tr>\n",
       "    <tr>\n",
       "      <th>Mato Grosso do Sul</th>\n",
       "      <td>147</td>\n",
       "      <td>2716</td>\n",
       "      <td>5.134474</td>\n",
       "      <td>94.865526</td>\n",
       "    </tr>\n",
       "    <tr>\n",
       "      <th>Minas Gerais</th>\n",
       "      <td>317</td>\n",
       "      <td>4892</td>\n",
       "      <td>6.085621</td>\n",
       "      <td>93.914379</td>\n",
       "    </tr>\n",
       "    <tr>\n",
       "      <th>Paraná</th>\n",
       "      <td>199</td>\n",
       "      <td>3768</td>\n",
       "      <td>5.016385</td>\n",
       "      <td>94.983615</td>\n",
       "    </tr>\n",
       "    <tr>\n",
       "      <th>Paraíba</th>\n",
       "      <td>125</td>\n",
       "      <td>3033</td>\n",
       "      <td>3.958201</td>\n",
       "      <td>96.041799</td>\n",
       "    </tr>\n",
       "    <tr>\n",
       "      <th>Pará</th>\n",
       "      <td>178</td>\n",
       "      <td>3675</td>\n",
       "      <td>4.619777</td>\n",
       "      <td>95.380223</td>\n",
       "    </tr>\n",
       "    <tr>\n",
       "      <th>Pernambuco</th>\n",
       "      <td>197</td>\n",
       "      <td>3886</td>\n",
       "      <td>4.824884</td>\n",
       "      <td>95.175116</td>\n",
       "    </tr>\n",
       "    <tr>\n",
       "      <th>Piauí</th>\n",
       "      <td>119</td>\n",
       "      <td>2621</td>\n",
       "      <td>4.343066</td>\n",
       "      <td>95.656934</td>\n",
       "    </tr>\n",
       "    <tr>\n",
       "      <th>Rio Grande do Norte</th>\n",
       "      <td>156</td>\n",
       "      <td>2806</td>\n",
       "      <td>5.266712</td>\n",
       "      <td>94.733288</td>\n",
       "    </tr>\n",
       "    <tr>\n",
       "      <th>Rio Grande do Sul</th>\n",
       "      <td>318</td>\n",
       "      <td>3449</td>\n",
       "      <td>8.441731</td>\n",
       "      <td>91.558269</td>\n",
       "    </tr>\n",
       "    <tr>\n",
       "      <th>Rio de Janeiro</th>\n",
       "      <td>213</td>\n",
       "      <td>4753</td>\n",
       "      <td>4.289166</td>\n",
       "      <td>95.710834</td>\n",
       "    </tr>\n",
       "    <tr>\n",
       "      <th>Rondônia</th>\n",
       "      <td>84</td>\n",
       "      <td>2092</td>\n",
       "      <td>3.860294</td>\n",
       "      <td>96.139706</td>\n",
       "    </tr>\n",
       "    <tr>\n",
       "      <th>Roraima</th>\n",
       "      <td>105</td>\n",
       "      <td>2133</td>\n",
       "      <td>4.691689</td>\n",
       "      <td>95.308311</td>\n",
       "    </tr>\n",
       "    <tr>\n",
       "      <th>Santa Catarina</th>\n",
       "      <td>213</td>\n",
       "      <td>3525</td>\n",
       "      <td>5.698234</td>\n",
       "      <td>94.301766</td>\n",
       "    </tr>\n",
       "    <tr>\n",
       "      <th>Sergipe</th>\n",
       "      <td>112</td>\n",
       "      <td>2498</td>\n",
       "      <td>4.291188</td>\n",
       "      <td>95.708812</td>\n",
       "    </tr>\n",
       "    <tr>\n",
       "      <th>São Paulo</th>\n",
       "      <td>392</td>\n",
       "      <td>5722</td>\n",
       "      <td>6.411515</td>\n",
       "      <td>93.588485</td>\n",
       "    </tr>\n",
       "    <tr>\n",
       "      <th>Tocantins</th>\n",
       "      <td>81</td>\n",
       "      <td>1841</td>\n",
       "      <td>4.214360</td>\n",
       "      <td>95.785640</td>\n",
       "    </tr>\n",
       "  </tbody>\n",
       "</table>\n",
       "</div>"
      ],
      "text/plain": [
       "Q074                 1.0   2.0  Possui bronquite(%)  Nao possui bronquite(%)\n",
       "V0001                                                                       \n",
       "Acre                  93  2287             3.907563                96.092437\n",
       "Alagoas              116  2871             3.883495                96.116505\n",
       "Amapá                 93  1461             5.984556                94.015444\n",
       "Amazonas             151  3328             4.340328                95.659672\n",
       "Bahia                117  3542             3.197595                96.802405\n",
       "Ceará                200  4065             4.689332                95.310668\n",
       "Distrito Federal     120  2245             5.073996                94.926004\n",
       "Espírito Santo       231  3310             6.523581                93.476419\n",
       "Goiás                146  2556             5.403405                94.596595\n",
       "Maranhão             177  4903             3.484252                96.515748\n",
       "Mato Grosso           67  2401             2.714749                97.285251\n",
       "Mato Grosso do Sul   147  2716             5.134474                94.865526\n",
       "Minas Gerais         317  4892             6.085621                93.914379\n",
       "Paraná               199  3768             5.016385                94.983615\n",
       "Paraíba              125  3033             3.958201                96.041799\n",
       "Pará                 178  3675             4.619777                95.380223\n",
       "Pernambuco           197  3886             4.824884                95.175116\n",
       "Piauí                119  2621             4.343066                95.656934\n",
       "Rio Grande do Norte  156  2806             5.266712                94.733288\n",
       "Rio Grande do Sul    318  3449             8.441731                91.558269\n",
       "Rio de Janeiro       213  4753             4.289166                95.710834\n",
       "Rondônia              84  2092             3.860294                96.139706\n",
       "Roraima              105  2133             4.691689                95.308311\n",
       "Santa Catarina       213  3525             5.698234                94.301766\n",
       "Sergipe              112  2498             4.291188                95.708812\n",
       "São Paulo            392  5722             6.411515                93.588485\n",
       "Tocantins             81  1841             4.214360                95.785640"
      ]
     },
     "execution_count": 246,
     "metadata": {},
     "output_type": "execute_result"
    }
   ],
   "source": [
    "contagem_estados"
   ]
  },
  {
   "cell_type": "code",
   "execution_count": null,
   "metadata": {},
   "outputs": [
    {
     "data": {
      "text/plain": [
       "[]"
      ]
     },
     "execution_count": 247,
     "metadata": {},
     "output_type": "execute_result"
    },
    {
     "data": {
      "image/png": "[encoded data removed]",
      "text/plain": [
       "<Figure size 1200x600 with 1 Axes>"
      ]
     },
     "metadata": {},
     "output_type": "display_data"
    }
   ],
   "source": [
    "contagem_estados[['Possui bronquite(%)','Nao possui bronquite(%)']].plot(kind='bar', stacked=True, figsize=(12, 6))\n",
    "plt.xlabel('Estado')\n",
    "plt.ylabel('Percentual de Pessoas em relação ao total')\n",
    "plt.title('Percentual de pessoas com e sem bronquite por estado')\n",
    "plt.legend(['Tem bronquite', 'Não tem bronquite'])\n",
    "plt.xticks(rotation=45, ha='right')\n",
    "plt.yticks(ticks=np.arange(0,100, step=5.0))\n",
    "#plt.savefig('Graficos/grafico_bronquite_relativo.png', dpi=300, bbox_inches='tight')\n",
    "plt.plot()"
   ]
  },
  {
   "cell_type": "code",
   "execution_count": 248,
   "metadata": {},
   "outputs": [],
   "source": [
    "mapeamento_regiao = {\n",
    "    'Rondônia': 'Norte',\n",
    "    'Acre': 'Norte',\n",
    "    'Amazonas': 'Norte',\n",
    "    'Roraima': 'Norte',\n",
    "    'Pará': 'Norte',\n",
    "    'Amapá': 'Norte',\n",
    "    'Tocantins': 'Norte',\n",
    "    'Maranhão': 'Nordeste',\n",
    "    'Piauí': 'Nordeste',\n",
    "    'Ceará': 'Nordeste',\n",
    "    'Rio Grande do Norte': 'Nordeste',\n",
    "    'Paraíba': 'Nordeste',\n",
    "    'Pernambuco': 'Nordeste',\n",
    "    'Alagoas': 'Nordeste',\n",
    "    'Sergipe': 'Nordeste',\n",
    "    'Bahia': 'Nordeste',\n",
    "    'Mato Grosso do Sul': 'Centro-Oeste',\n",
    "    'Mato Grosso': 'Centro-Oeste',\n",
    "    'Goiás': 'Centro-Oeste',\n",
    "    'Distrito Federal': 'Centro-Oeste',\n",
    "    'Minas Gerais': 'Sudeste',\n",
    "    'Espírito Santo': 'Sudeste',\n",
    "    'Rio de Janeiro': 'Sudeste',\n",
    "    'São Paulo': 'Sudeste',\n",
    "    'Paraná': 'Sul',\n",
    "    'Santa Catarina': 'Sul',\n",
    "    'Rio Grande do Sul': 'Sul'\n",
    "}"
   ]
  },
  {
   "cell_type": "code",
   "execution_count": 249,
   "metadata": {},
   "outputs": [
    {
     "name": "stderr",
     "output_type": "stream",
     "text": [
      "/tmp/ipykernel_6860/128373297.py:1: SettingWithCopyWarning: \n",
      "A value is trying to be set on a copy of a slice from a DataFrame.\n",
      "Try using .loc[row_indexer,col_indexer] = value instead\n",
      "\n",
      "See the caveats in the documentation: https://pandas.pydata.org/pandas-docs/stable/user_guide/indexing.html#returning-a-view-versus-a-copy\n",
      "  pns['V0001'] = pns['V0001'].map(mapeamento_regiao)\n"
     ]
    }
   ],
   "source": [
    "pns['V0001'] = pns['V0001'].map(mapeamento_regiao)"
   ]
  },
  {
   "cell_type": "code",
   "execution_count": 250,
   "metadata": {},
   "outputs": [],
   "source": [
    "contagem_regiao = pns.groupby(['V0001', 'Q074'], as_index=True)[['V0001']].size().unstack(fill_value=0)"
   ]
  },
  {
   "cell_type": "code",
   "execution_count": 251,
   "metadata": {},
   "outputs": [
    {
     "data": {
      "application/vnd.microsoft.datawrangler.viewer.v0+json": {
       "columns": [
        {
         "name": "V0001",
         "rawType": "object",
         "type": "string"
        },
        {
         "name": "1.0",
         "rawType": "int64",
         "type": "integer"
        },
        {
         "name": "2.0",
         "rawType": "int64",
         "type": "integer"
        }
       ],
       "conversionMethod": "pd.DataFrame",
       "ref": "87eefbeb-4506-4ff2-9c94-cda082b22e04",
       "rows": [
        [
         "Centro-Oeste",
         "480",
         "9918"
        ],
        [
         "Nordeste",
         "1319",
         "30225"
        ],
        [
         "Norte",
         "785",
         "16817"
        ],
        [
         "Sudeste",
         "1153",
         "18677"
        ],
        [
         "Sul",
         "730",
         "10742"
        ]
       ],
       "shape": {
        "columns": 2,
        "rows": 5
       }
      },
      "text/html": [
       "<div>\n",
       "<style scoped>\n",
       "    .dataframe tbody tr th:only-of-type {\n",
       "        vertical-align: middle;\n",
       "    }\n",
       "\n",
       "    .dataframe tbody tr th {\n",
       "        vertical-align: top;\n",
       "    }\n",
       "\n",
       "    .dataframe thead th {\n",
       "        text-align: right;\n",
       "    }\n",
       "</style>\n",
       "<table border=\"1\" class=\"dataframe\">\n",
       "  <thead>\n",
       "    <tr style=\"text-align: right;\">\n",
       "      <th>Q074</th>\n",
       "      <th>1.0</th>\n",
       "      <th>2.0</th>\n",
       "    </tr>\n",
       "    <tr>\n",
       "      <th>V0001</th>\n",
       "      <th></th>\n",
       "      <th></th>\n",
       "    </tr>\n",
       "  </thead>\n",
       "  <tbody>\n",
       "    <tr>\n",
       "      <th>Centro-Oeste</th>\n",
       "      <td>480</td>\n",
       "      <td>9918</td>\n",
       "    </tr>\n",
       "    <tr>\n",
       "      <th>Nordeste</th>\n",
       "      <td>1319</td>\n",
       "      <td>30225</td>\n",
       "    </tr>\n",
       "    <tr>\n",
       "      <th>Norte</th>\n",
       "      <td>785</td>\n",
       "      <td>16817</td>\n",
       "    </tr>\n",
       "    <tr>\n",
       "      <th>Sudeste</th>\n",
       "      <td>1153</td>\n",
       "      <td>18677</td>\n",
       "    </tr>\n",
       "    <tr>\n",
       "      <th>Sul</th>\n",
       "      <td>730</td>\n",
       "      <td>10742</td>\n",
       "    </tr>\n",
       "  </tbody>\n",
       "</table>\n",
       "</div>"
      ],
      "text/plain": [
       "Q074           1.0    2.0\n",
       "V0001                    \n",
       "Centro-Oeste   480   9918\n",
       "Nordeste      1319  30225\n",
       "Norte          785  16817\n",
       "Sudeste       1153  18677\n",
       "Sul            730  10742"
      ]
     },
     "execution_count": 251,
     "metadata": {},
     "output_type": "execute_result"
    }
   ],
   "source": [
    "contagem_regiao"
   ]
  },
  {
   "cell_type": "code",
   "execution_count": 252,
   "metadata": {},
   "outputs": [
    {
     "data": {
      "text/plain": [
       "Index([1.0, 2.0], dtype='float64', name='Q074')"
      ]
     },
     "execution_count": 252,
     "metadata": {},
     "output_type": "execute_result"
    }
   ],
   "source": [
    "contagem_regiao.columns"
   ]
  },
  {
   "cell_type": "code",
   "execution_count": 253,
   "metadata": {},
   "outputs": [
    {
     "data": {
      "text/plain": [
       "[]"
      ]
     },
     "execution_count": 253,
     "metadata": {},
     "output_type": "execute_result"
    },
    {
     "data": {
      "image/png": "[encoded data removed]",
      "text/plain": [
       "<Figure size 1200x600 with 1 Axes>"
      ]
     },
     "metadata": {},
     "output_type": "display_data"
    }
   ],
   "source": [
    "contagem_regiao.plot(kind='bar', stacked=True, figsize=(12, 6))\n",
    "plt.xlabel('Região')\n",
    "plt.ylabel('Número de Pessoas')\n",
    "plt.title('Pessoas com e sem bronquite por regiao em valor absoluto')\n",
    "plt.legend(['Tem bronquite', 'Não tem bronquite'])\n",
    "plt.xticks(rotation=45, ha='right')\n",
    "plt.yticks(np.arange(0, 35000, 2500))\n",
    "#plt.savefig('Graficos/grafico_regional_bronquite_absoluto.png', dpi=300, bbox_inches='tight')\n",
    "plt.plot()"
   ]
  },
  {
   "cell_type": "code",
   "execution_count": 254,
   "metadata": {},
   "outputs": [
    {
     "name": "stderr",
     "output_type": "stream",
     "text": [
      "/tmp/ipykernel_6860/2599192803.py:6: FutureWarning: Setting an item of incompatible dtype is deprecated and will raise in a future error of pandas. Value '4.616272360069244' has dtype incompatible with int64, please explicitly cast to a compatible dtype first.\n",
      "  contagem_regiao.iat[i,2] = (row[1.0]/QTotal) * 100\n",
      "/tmp/ipykernel_6860/2599192803.py:7: FutureWarning: Setting an item of incompatible dtype is deprecated and will raise in a future error of pandas. Value '95.38372763993075' has dtype incompatible with int64, please explicitly cast to a compatible dtype first.\n",
      "  contagem_regiao.iat[i,3] = (row[2.0]/QTotal) * 100\n"
     ]
    }
   ],
   "source": [
    "i = 0\n",
    "contagem_regiao['Possui bronquite(%)'] = 0\n",
    "contagem_regiao['Nao possui bronquite(%)'] = 0\n",
    "for index, row in contagem_regiao.iterrows():\n",
    "    QTotal = row[1.0] + row[2.0]\n",
    "    contagem_regiao.iat[i,2] = (row[1.0]/QTotal) * 100\n",
    "    contagem_regiao.iat[i,3] = (row[2.0]/QTotal) * 100\n",
    "    i += 1"
   ]
  },
  {
   "cell_type": "code",
   "execution_count": 255,
   "metadata": {},
   "outputs": [
    {
     "data": {
      "application/vnd.microsoft.datawrangler.viewer.v0+json": {
       "columns": [
        {
         "name": "V0001",
         "rawType": "object",
         "type": "string"
        },
        {
         "name": "1.0",
         "rawType": "int64",
         "type": "integer"
        },
        {
         "name": "2.0",
         "rawType": "int64",
         "type": "integer"
        },
        {
         "name": "Possui bronquite(%)",
         "rawType": "float64",
         "type": "float"
        },
        {
         "name": "Nao possui bronquite(%)",
         "rawType": "float64",
         "type": "float"
        }
       ],
       "conversionMethod": "pd.DataFrame",
       "ref": "332ce73f-da0e-4d11-81cf-b2045222dc09",
       "rows": [
        [
         "Centro-Oeste",
         "480",
         "9918",
         "4.616272360069244",
         "95.38372763993075"
        ],
        [
         "Nordeste",
         "1319",
         "30225",
         "4.181460816637078",
         "95.81853918336292"
        ],
        [
         "Norte",
         "785",
         "16817",
         "4.459720486308374",
         "95.54027951369163"
        ],
        [
         "Sudeste",
         "1153",
         "18677",
         "5.814422592032274",
         "94.18557740796773"
        ],
        [
         "Sul",
         "730",
         "10742",
         "6.3633193863319395",
         "93.63668061366806"
        ]
       ],
       "shape": {
        "columns": 4,
        "rows": 5
       }
      },
      "text/html": [
       "<div>\n",
       "<style scoped>\n",
       "    .dataframe tbody tr th:only-of-type {\n",
       "        vertical-align: middle;\n",
       "    }\n",
       "\n",
       "    .dataframe tbody tr th {\n",
       "        vertical-align: top;\n",
       "    }\n",
       "\n",
       "    .dataframe thead th {\n",
       "        text-align: right;\n",
       "    }\n",
       "</style>\n",
       "<table border=\"1\" class=\"dataframe\">\n",
       "  <thead>\n",
       "    <tr style=\"text-align: right;\">\n",
       "      <th>Q074</th>\n",
       "      <th>1.0</th>\n",
       "      <th>2.0</th>\n",
       "      <th>Possui bronquite(%)</th>\n",
       "      <th>Nao possui bronquite(%)</th>\n",
       "    </tr>\n",
       "    <tr>\n",
       "      <th>V0001</th>\n",
       "      <th></th>\n",
       "      <th></th>\n",
       "      <th></th>\n",
       "      <th></th>\n",
       "    </tr>\n",
       "  </thead>\n",
       "  <tbody>\n",
       "    <tr>\n",
       "      <th>Centro-Oeste</th>\n",
       "      <td>480</td>\n",
       "      <td>9918</td>\n",
       "      <td>4.616272</td>\n",
       "      <td>95.383728</td>\n",
       "    </tr>\n",
       "    <tr>\n",
       "      <th>Nordeste</th>\n",
       "      <td>1319</td>\n",
       "      <td>30225</td>\n",
       "      <td>4.181461</td>\n",
       "      <td>95.818539</td>\n",
       "    </tr>\n",
       "    <tr>\n",
       "      <th>Norte</th>\n",
       "      <td>785</td>\n",
       "      <td>16817</td>\n",
       "      <td>4.459720</td>\n",
       "      <td>95.540280</td>\n",
       "    </tr>\n",
       "    <tr>\n",
       "      <th>Sudeste</th>\n",
       "      <td>1153</td>\n",
       "      <td>18677</td>\n",
       "      <td>5.814423</td>\n",
       "      <td>94.185577</td>\n",
       "    </tr>\n",
       "    <tr>\n",
       "      <th>Sul</th>\n",
       "      <td>730</td>\n",
       "      <td>10742</td>\n",
       "      <td>6.363319</td>\n",
       "      <td>93.636681</td>\n",
       "    </tr>\n",
       "  </tbody>\n",
       "</table>\n",
       "</div>"
      ],
      "text/plain": [
       "Q074           1.0    2.0  Possui bronquite(%)  Nao possui bronquite(%)\n",
       "V0001                                                                  \n",
       "Centro-Oeste   480   9918             4.616272                95.383728\n",
       "Nordeste      1319  30225             4.181461                95.818539\n",
       "Norte          785  16817             4.459720                95.540280\n",
       "Sudeste       1153  18677             5.814423                94.185577\n",
       "Sul            730  10742             6.363319                93.636681"
      ]
     },
     "execution_count": 255,
     "metadata": {},
     "output_type": "execute_result"
    }
   ],
   "source": [
    "contagem_regiao"
   ]
  },
  {
   "cell_type": "code",
   "execution_count": null,
   "metadata": {},
   "outputs": [
    {
     "data": {
      "text/plain": [
       "[]"
      ]
     },
     "execution_count": 256,
     "metadata": {},
     "output_type": "execute_result"
    },
    {
     "data": {
      "image/png": "[encoded data removed]",
      "text/plain": [
       "<Figure size 1200x600 with 1 Axes>"
      ]
     },
     "metadata": {},
     "output_type": "display_data"
    }
   ],
   "source": [
    "contagem_regiao[['Possui bronquite(%)','Nao possui bronquite(%)']].plot(kind='bar', stacked=True, figsize=(12, 6))\n",
    "plt.xlabel('Região')\n",
    "plt.ylabel('Percentual de Pessoas em relação ao total')\n",
    "plt.title('Percentual de pessoas com e sem bronquite por Regiao')\n",
    "plt.legend(['Tem bronquite', 'Não tem bronquite'])\n",
    "plt.xticks(rotation=45, ha='right')\n",
    "plt.yticks(np.arange(0, 105, 5))\n",
    "#plt.savefig('Graficos/grafico_regional_bronquite_relativo.png', dpi=300, bbox_inches='tight')\n",
    "plt.plot()"
   ]
  },
  {
   "cell_type": "code",
   "execution_count": 257,
   "metadata": {},
   "outputs": [],
   "source": [
    "contagem_regiao.reset_index(inplace=True)"
   ]
  },
  {
   "cell_type": "code",
   "execution_count": 258,
   "metadata": {},
   "outputs": [],
   "source": [
    "reg_Norte_Sul = contagem_regiao.loc[(contagem_regiao['V0001'] == 'Norte') | (contagem_regiao['V0001'] == 'Sul')][[1.0,2.0]]\n",
    "reg_Norte_Nordeste = contagem_regiao.loc[(contagem_regiao['V0001'] == 'Norte') | (contagem_regiao['V0001'] == 'Nordeste')][[1.0,2.0]]\n",
    "reg_Norte_Sudeste = contagem_regiao.loc[(contagem_regiao['V0001'] == 'Norte') | (contagem_regiao['V0001'] == 'Sudeste')][[1.0,2.0]]\n",
    "reg_Norte_Centro = contagem_regiao.loc[(contagem_regiao['V0001'] == 'Norte') | (contagem_regiao['V0001'] == 'Centro-Oeste')][[1.0,2.0]]"
   ]
  },
  {
   "cell_type": "code",
   "execution_count": 259,
   "metadata": {},
   "outputs": [],
   "source": [
    "def teste_chi_quadrado(regioes):\n",
    "    chi2, p, dof, expected = stats.chi2_contingency(regioes)\n",
    "    print(\"\\nResultados do teste de qui-quadrado:\")\n",
    "    print(f\"Estatística do teste de qui-quadrado: {chi2}\")\n",
    "    print(f\"Valor-p: {p:.20f}\")\n",
    "    print(f\"Graus de liberdade: {dof}\")\n",
    "    print(\"Tabela de frequências esperadas:\")\n",
    "    print(expected)\n",
    "    if p < 0.05:\n",
    "        print(\"Hipotese nula rejeitada\")\n",
    "    else:\n",
    "        print(\"Hipotese nula aceita\")"
   ]
  },
  {
   "cell_type": "code",
   "execution_count": 260,
   "metadata": {},
   "outputs": [
    {
     "name": "stdout",
     "output_type": "stream",
     "text": [
      "\n",
      "Resultados do teste de qui-quadrado:\n",
      "Estatística do teste de qui-quadrado: 50.56961996007304\n",
      "Valor-p: 0.00000000000115011652\n",
      "Graus de liberdade: 1\n",
      "Tabela de frequências esperadas:\n",
      "[[  917.21228589 16684.78771411]\n",
      " [  597.78771411 10874.21228589]]\n",
      "Hipotese nula rejeitada\n"
     ]
    }
   ],
   "source": [
    "teste_chi_quadrado(reg_Norte_Sul)"
   ]
  },
  {
   "cell_type": "code",
   "execution_count": 261,
   "metadata": {},
   "outputs": [
    {
     "name": "stdout",
     "output_type": "stream",
     "text": [
      "\n",
      "Resultados do teste de qui-quadrado:\n",
      "Estatística do teste de qui-quadrado: 2.0673317361032812\n",
      "Valor-p: 0.15048460177733538612\n",
      "Graus de liberdade: 1\n",
      "Tabela de frequências esperadas:\n",
      "[[ 1350.43698368 30193.56301632]\n",
      " [  753.56301632 16848.43698368]]\n",
      "Hipotese nula aceita\n"
     ]
    }
   ],
   "source": [
    "teste_chi_quadrado(reg_Norte_Nordeste)"
   ]
  },
  {
   "cell_type": "code",
   "execution_count": 262,
   "metadata": {},
   "outputs": [
    {
     "name": "stdout",
     "output_type": "stream",
     "text": [
      "\n",
      "Resultados do teste de qui-quadrado:\n",
      "Estatística do teste de qui-quadrado: 0.33597280099111587\n",
      "Valor-p: 0.56216307312259150564\n",
      "Graus de liberdade: 1\n",
      "Tabela de frequências esperadas:\n",
      "[[  469.76678571  9928.23321429]\n",
      " [  795.23321429 16806.76678571]]\n",
      "Hipotese nula aceita\n"
     ]
    }
   ],
   "source": [
    "teste_chi_quadrado(reg_Norte_Centro)"
   ]
  },
  {
   "cell_type": "code",
   "execution_count": 263,
   "metadata": {},
   "outputs": [
    {
     "name": "stdout",
     "output_type": "stream",
     "text": [
      "\n",
      "Resultados do teste de qui-quadrado:\n",
      "Estatística do teste de qui-quadrado: 34.58293840739914\n",
      "Valor-p: 0.00000000408470836919\n",
      "Graus de liberdade: 1\n",
      "Tabela de frequências esperadas:\n",
      "[[  911.32389399 16690.67610601]\n",
      " [ 1026.67610601 18803.32389399]]\n",
      "Hipotese nula rejeitada\n"
     ]
    }
   ],
   "source": [
    "teste_chi_quadrado(reg_Norte_Sudeste)"
   ]
  },
  {
   "cell_type": "code",
   "execution_count": null,
   "metadata": {},
   "outputs": [],
   "source": []
  }
 ],
 "metadata": {
  "kernelspec": {
   "display_name": "Python 3",
   "language": "python",
   "name": "python3"
  },
  "language_info": {
   "codemirror_mode": {
    "name": "ipython",
    "version": 3
   },
   "file_extension": ".py",
   "mimetype": "text/x-python",
   "name": "python",
   "nbconvert_exporter": "python",
   "pygments_lexer": "ipython3",
   "version": "3.12.3"
  }
 },
 "nbformat": 4,
 "nbformat_minor": 2
}
