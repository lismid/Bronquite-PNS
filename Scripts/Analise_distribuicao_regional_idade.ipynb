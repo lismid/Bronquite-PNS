{
 "cells": [
  {
   "cell_type": "code",
   "execution_count": 1,
   "metadata": {},
   "outputs": [],
   "source": [
    "import pandas as pd\n",
    "import matplotlib.pyplot as plt\n",
    "import numpy as np\n",
    "import scipy.stats as stats"
   ]
  },
  {
   "cell_type": "code",
   "execution_count": 2,
   "metadata": {},
   "outputs": [],
   "source": [
    "use_columns = [\"V0001\",\"C008\", \"Q074\",\"Q075\"]"
   ]
  },
  {
   "cell_type": "code",
   "execution_count": 4,
   "metadata": {},
   "outputs": [],
   "source": [
    "pns = pd.read_csv(\"../Bases/pns2019.csv\", usecols=use_columns)"
   ]
  },
  {
   "cell_type": "code",
   "execution_count": 5,
   "metadata": {},
   "outputs": [
    {
     "data": {
      "application/vnd.microsoft.datawrangler.viewer.v0+json": {
       "columns": [
        {
         "name": "index",
         "rawType": "int64",
         "type": "integer"
        },
        {
         "name": "V0001",
         "rawType": "int64",
         "type": "integer"
        },
        {
         "name": "C008",
         "rawType": "float64",
         "type": "float"
        },
        {
         "name": "Q074",
         "rawType": "float64",
         "type": "float"
        },
        {
         "name": "Q075",
         "rawType": "float64",
         "type": "float"
        }
       ],
       "conversionMethod": "pd.DataFrame",
       "ref": "e01eae87-6e6a-4de1-8daf-fb3af47913a8",
       "rows": [
        [
         "0",
         "11",
         "55.0",
         "2.0",
         null
        ],
        [
         "1",
         "11",
         "69.0",
         null,
         null
        ],
        [
         "2",
         "11",
         "31.0",
         null,
         null
        ],
        [
         "3",
         "11",
         "9.0",
         null,
         null
        ],
        [
         "4",
         "11",
         "6.0",
         null,
         null
        ],
        [
         "5",
         "11",
         "4.0",
         null,
         null
        ],
        [
         "6",
         "11",
         "33.0",
         null,
         null
        ],
        [
         "7",
         "11",
         "17.0",
         null,
         null
        ],
        [
         "8",
         "11",
         "15.0",
         null,
         null
        ],
        [
         "9",
         "11",
         "19.0",
         "2.0",
         null
        ],
        [
         "10",
         "11",
         "45.0",
         "2.0",
         null
        ],
        [
         "11",
         "11",
         "78.0",
         null,
         null
        ],
        [
         "12",
         "11",
         "28.0",
         null,
         null
        ],
        [
         "13",
         "11",
         "25.0",
         null,
         null
        ],
        [
         "14",
         "11",
         "26.0",
         null,
         null
        ],
        [
         "15",
         "11",
         "7.0",
         null,
         null
        ],
        [
         "16",
         "11",
         "3.0",
         null,
         null
        ],
        [
         "17",
         "11",
         "3.0",
         null,
         null
        ],
        [
         "18",
         "11",
         "58.0",
         "2.0",
         null
        ],
        [
         "19",
         "11",
         "28.0",
         "2.0",
         null
        ],
        [
         "20",
         "11",
         "1.0",
         null,
         null
        ],
        [
         "21",
         "11",
         "81.0",
         "2.0",
         null
        ],
        [
         "22",
         "11",
         "41.0",
         "2.0",
         null
        ],
        [
         "23",
         "11",
         "54.0",
         null,
         null
        ],
        [
         "24",
         "11",
         "22.0",
         null,
         null
        ],
        [
         "25",
         "11",
         "37.0",
         null,
         null
        ],
        [
         "26",
         "11",
         "38.0",
         "2.0",
         null
        ],
        [
         "27",
         "11",
         "19.0",
         null,
         null
        ],
        [
         "28",
         "11",
         "14.0",
         null,
         null
        ],
        [
         "29",
         "11",
         "33.0",
         "2.0",
         null
        ],
        [
         "30",
         "11",
         "27.0",
         null,
         null
        ],
        [
         "31",
         "11",
         "81.0",
         "2.0",
         null
        ],
        [
         "32",
         "11",
         "52.0",
         "2.0",
         null
        ],
        [
         "33",
         "11",
         "26.0",
         null,
         null
        ],
        [
         "34",
         "11",
         "36.0",
         "2.0",
         null
        ],
        [
         "35",
         "11",
         "56.0",
         "2.0",
         null
        ],
        [
         "36",
         "11",
         null,
         null,
         null
        ],
        [
         "37",
         "11",
         "72.0",
         null,
         null
        ],
        [
         "38",
         "11",
         "53.0",
         null,
         null
        ],
        [
         "39",
         "11",
         "50.0",
         null,
         null
        ],
        [
         "40",
         "11",
         "37.0",
         null,
         null
        ],
        [
         "41",
         "11",
         "22.0",
         "2.0",
         null
        ],
        [
         "42",
         "11",
         "60.0",
         null,
         null
        ],
        [
         "43",
         "11",
         "53.0",
         null,
         null
        ],
        [
         "44",
         "11",
         "35.0",
         "2.0",
         null
        ],
        [
         "45",
         "11",
         "30.0",
         null,
         null
        ],
        [
         "46",
         "11",
         "45.0",
         null,
         null
        ],
        [
         "47",
         "11",
         "52.0",
         null,
         null
        ],
        [
         "48",
         "11",
         "21.0",
         null,
         null
        ],
        [
         "49",
         "11",
         "23.0",
         null,
         null
        ]
       ],
       "shape": {
        "columns": 4,
        "rows": 293726
       }
      },
      "text/html": [
       "<div>\n",
       "<style scoped>\n",
       "    .dataframe tbody tr th:only-of-type {\n",
       "        vertical-align: middle;\n",
       "    }\n",
       "\n",
       "    .dataframe tbody tr th {\n",
       "        vertical-align: top;\n",
       "    }\n",
       "\n",
       "    .dataframe thead th {\n",
       "        text-align: right;\n",
       "    }\n",
       "</style>\n",
       "<table border=\"1\" class=\"dataframe\">\n",
       "  <thead>\n",
       "    <tr style=\"text-align: right;\">\n",
       "      <th></th>\n",
       "      <th>V0001</th>\n",
       "      <th>C008</th>\n",
       "      <th>Q074</th>\n",
       "      <th>Q075</th>\n",
       "    </tr>\n",
       "  </thead>\n",
       "  <tbody>\n",
       "    <tr>\n",
       "      <th>0</th>\n",
       "      <td>11</td>\n",
       "      <td>55.0</td>\n",
       "      <td>2.0</td>\n",
       "      <td>NaN</td>\n",
       "    </tr>\n",
       "    <tr>\n",
       "      <th>1</th>\n",
       "      <td>11</td>\n",
       "      <td>69.0</td>\n",
       "      <td>NaN</td>\n",
       "      <td>NaN</td>\n",
       "    </tr>\n",
       "    <tr>\n",
       "      <th>2</th>\n",
       "      <td>11</td>\n",
       "      <td>31.0</td>\n",
       "      <td>NaN</td>\n",
       "      <td>NaN</td>\n",
       "    </tr>\n",
       "    <tr>\n",
       "      <th>3</th>\n",
       "      <td>11</td>\n",
       "      <td>9.0</td>\n",
       "      <td>NaN</td>\n",
       "      <td>NaN</td>\n",
       "    </tr>\n",
       "    <tr>\n",
       "      <th>4</th>\n",
       "      <td>11</td>\n",
       "      <td>6.0</td>\n",
       "      <td>NaN</td>\n",
       "      <td>NaN</td>\n",
       "    </tr>\n",
       "    <tr>\n",
       "      <th>...</th>\n",
       "      <td>...</td>\n",
       "      <td>...</td>\n",
       "      <td>...</td>\n",
       "      <td>...</td>\n",
       "    </tr>\n",
       "    <tr>\n",
       "      <th>293721</th>\n",
       "      <td>53</td>\n",
       "      <td>49.0</td>\n",
       "      <td>NaN</td>\n",
       "      <td>NaN</td>\n",
       "    </tr>\n",
       "    <tr>\n",
       "      <th>293722</th>\n",
       "      <td>53</td>\n",
       "      <td>84.0</td>\n",
       "      <td>NaN</td>\n",
       "      <td>NaN</td>\n",
       "    </tr>\n",
       "    <tr>\n",
       "      <th>293723</th>\n",
       "      <td>53</td>\n",
       "      <td>21.0</td>\n",
       "      <td>NaN</td>\n",
       "      <td>NaN</td>\n",
       "    </tr>\n",
       "    <tr>\n",
       "      <th>293724</th>\n",
       "      <td>53</td>\n",
       "      <td>13.0</td>\n",
       "      <td>NaN</td>\n",
       "      <td>NaN</td>\n",
       "    </tr>\n",
       "    <tr>\n",
       "      <th>293725</th>\n",
       "      <td>53</td>\n",
       "      <td>NaN</td>\n",
       "      <td>NaN</td>\n",
       "      <td>NaN</td>\n",
       "    </tr>\n",
       "  </tbody>\n",
       "</table>\n",
       "<p>293726 rows × 4 columns</p>\n",
       "</div>"
      ],
      "text/plain": [
       "        V0001  C008  Q074  Q075\n",
       "0          11  55.0   2.0   NaN\n",
       "1          11  69.0   NaN   NaN\n",
       "2          11  31.0   NaN   NaN\n",
       "3          11   9.0   NaN   NaN\n",
       "4          11   6.0   NaN   NaN\n",
       "...       ...   ...   ...   ...\n",
       "293721     53  49.0   NaN   NaN\n",
       "293722     53  84.0   NaN   NaN\n",
       "293723     53  21.0   NaN   NaN\n",
       "293724     53  13.0   NaN   NaN\n",
       "293725     53   NaN   NaN   NaN\n",
       "\n",
       "[293726 rows x 4 columns]"
      ]
     },
     "execution_count": 5,
     "metadata": {},
     "output_type": "execute_result"
    }
   ],
   "source": [
    "pns"
   ]
  },
  {
   "cell_type": "code",
   "execution_count": 6,
   "metadata": {},
   "outputs": [
    {
     "name": "stdout",
     "output_type": "stream",
     "text": [
      "<class 'pandas.core.frame.DataFrame'>\n",
      "RangeIndex: 293726 entries, 0 to 293725\n",
      "Data columns (total 4 columns):\n",
      " #   Column  Non-Null Count   Dtype  \n",
      "---  ------  --------------   -----  \n",
      " 0   V0001   293726 non-null  int64  \n",
      " 1   C008    279382 non-null  float64\n",
      " 2   Q074    90846 non-null   float64\n",
      " 3   Q075    4467 non-null    float64\n",
      "dtypes: float64(3), int64(1)\n",
      "memory usage: 9.0 MB\n"
     ]
    }
   ],
   "source": [
    "pns.info()"
   ]
  },
  {
   "cell_type": "code",
   "execution_count": 7,
   "metadata": {},
   "outputs": [
    {
     "data": {
      "text/plain": [
       "Q074\n",
       "2.0    86379\n",
       "1.0     4467\n",
       "Name: count, dtype: int64"
      ]
     },
     "execution_count": 7,
     "metadata": {},
     "output_type": "execute_result"
    }
   ],
   "source": [
    "pns[\"Q074\"].value_counts()"
   ]
  },
  {
   "cell_type": "code",
   "execution_count": 8,
   "metadata": {},
   "outputs": [],
   "source": [
    "pns['Q074'] = pd.to_numeric(pns['Q074'], errors='coerce')"
   ]
  },
  {
   "cell_type": "code",
   "execution_count": 9,
   "metadata": {},
   "outputs": [],
   "source": [
    "pns = pns.dropna(subset=['Q074'])"
   ]
  },
  {
   "cell_type": "code",
   "execution_count": 10,
   "metadata": {},
   "outputs": [
    {
     "name": "stderr",
     "output_type": "stream",
     "text": [
      "/tmp/ipykernel_8806/1003792034.py:1: SettingWithCopyWarning: \n",
      "A value is trying to be set on a copy of a slice from a DataFrame.\n",
      "Try using .loc[row_indexer,col_indexer] = value instead\n",
      "\n",
      "See the caveats in the documentation: https://pandas.pydata.org/pandas-docs/stable/user_guide/indexing.html#returning-a-view-versus-a-copy\n",
      "  pns['C008'] = pns['C008'].astype(int)\n"
     ]
    }
   ],
   "source": [
    "pns['C008'] = pns['C008'].astype(int)"
   ]
  },
  {
   "cell_type": "code",
   "execution_count": 11,
   "metadata": {},
   "outputs": [
    {
     "data": {
      "application/vnd.microsoft.datawrangler.viewer.v0+json": {
       "columns": [
        {
         "name": "index",
         "rawType": "int64",
         "type": "integer"
        },
        {
         "name": "V0001",
         "rawType": "int64",
         "type": "integer"
        },
        {
         "name": "C008",
         "rawType": "int64",
         "type": "integer"
        },
        {
         "name": "Q074",
         "rawType": "float64",
         "type": "float"
        },
        {
         "name": "Q075",
         "rawType": "float64",
         "type": "float"
        }
       ],
       "conversionMethod": "pd.DataFrame",
       "ref": "8280313c-bdc0-4344-8613-f4a834a73030",
       "rows": [
        [
         "0",
         "11",
         "55",
         "2.0",
         null
        ],
        [
         "9",
         "11",
         "19",
         "2.0",
         null
        ],
        [
         "10",
         "11",
         "45",
         "2.0",
         null
        ],
        [
         "18",
         "11",
         "58",
         "2.0",
         null
        ],
        [
         "19",
         "11",
         "28",
         "2.0",
         null
        ],
        [
         "21",
         "11",
         "81",
         "2.0",
         null
        ],
        [
         "22",
         "11",
         "41",
         "2.0",
         null
        ],
        [
         "26",
         "11",
         "38",
         "2.0",
         null
        ],
        [
         "29",
         "11",
         "33",
         "2.0",
         null
        ],
        [
         "31",
         "11",
         "81",
         "2.0",
         null
        ],
        [
         "32",
         "11",
         "52",
         "2.0",
         null
        ],
        [
         "34",
         "11",
         "36",
         "2.0",
         null
        ],
        [
         "35",
         "11",
         "56",
         "2.0",
         null
        ],
        [
         "41",
         "11",
         "22",
         "2.0",
         null
        ],
        [
         "44",
         "11",
         "35",
         "2.0",
         null
        ],
        [
         "51",
         "11",
         "42",
         "2.0",
         null
        ],
        [
         "56",
         "11",
         "24",
         "2.0",
         null
        ],
        [
         "57",
         "11",
         "32",
         "2.0",
         null
        ],
        [
         "59",
         "11",
         "50",
         "2.0",
         null
        ],
        [
         "60",
         "11",
         "66",
         "2.0",
         null
        ],
        [
         "61",
         "11",
         "47",
         "2.0",
         null
        ],
        [
         "62",
         "11",
         "33",
         "1.0",
         "3.0"
        ],
        [
         "65",
         "11",
         "20",
         "2.0",
         null
        ],
        [
         "73",
         "11",
         "49",
         "2.0",
         null
        ],
        [
         "76",
         "11",
         "40",
         "2.0",
         null
        ],
        [
         "79",
         "11",
         "30",
         "2.0",
         null
        ],
        [
         "89",
         "11",
         "77",
         "2.0",
         null
        ],
        [
         "91",
         "11",
         "65",
         "2.0",
         null
        ],
        [
         "94",
         "11",
         "61",
         "2.0",
         null
        ],
        [
         "96",
         "11",
         "59",
         "2.0",
         null
        ],
        [
         "99",
         "11",
         "39",
         "2.0",
         null
        ],
        [
         "103",
         "11",
         "69",
         "2.0",
         null
        ],
        [
         "117",
         "11",
         "68",
         "2.0",
         null
        ],
        [
         "119",
         "11",
         "36",
         "2.0",
         null
        ],
        [
         "125",
         "11",
         "56",
         "2.0",
         null
        ],
        [
         "127",
         "11",
         "48",
         "2.0",
         null
        ],
        [
         "136",
         "11",
         "33",
         "2.0",
         null
        ],
        [
         "140",
         "11",
         "64",
         "2.0",
         null
        ],
        [
         "142",
         "11",
         "44",
         "2.0",
         null
        ],
        [
         "148",
         "11",
         "37",
         "2.0",
         null
        ],
        [
         "152",
         "11",
         "36",
         "2.0",
         null
        ],
        [
         "156",
         "11",
         "63",
         "2.0",
         null
        ],
        [
         "170",
         "11",
         "23",
         "2.0",
         null
        ],
        [
         "176",
         "11",
         "38",
         "2.0",
         null
        ],
        [
         "181",
         "11",
         "58",
         "2.0",
         null
        ],
        [
         "183",
         "11",
         "64",
         "2.0",
         null
        ],
        [
         "186",
         "11",
         "26",
         "2.0",
         null
        ],
        [
         "197",
         "11",
         "35",
         "2.0",
         null
        ],
        [
         "200",
         "11",
         "61",
         "2.0",
         null
        ],
        [
         "204",
         "11",
         "57",
         "2.0",
         null
        ]
       ],
       "shape": {
        "columns": 4,
        "rows": 90846
       }
      },
      "text/html": [
       "<div>\n",
       "<style scoped>\n",
       "    .dataframe tbody tr th:only-of-type {\n",
       "        vertical-align: middle;\n",
       "    }\n",
       "\n",
       "    .dataframe tbody tr th {\n",
       "        vertical-align: top;\n",
       "    }\n",
       "\n",
       "    .dataframe thead th {\n",
       "        text-align: right;\n",
       "    }\n",
       "</style>\n",
       "<table border=\"1\" class=\"dataframe\">\n",
       "  <thead>\n",
       "    <tr style=\"text-align: right;\">\n",
       "      <th></th>\n",
       "      <th>V0001</th>\n",
       "      <th>C008</th>\n",
       "      <th>Q074</th>\n",
       "      <th>Q075</th>\n",
       "    </tr>\n",
       "  </thead>\n",
       "  <tbody>\n",
       "    <tr>\n",
       "      <th>0</th>\n",
       "      <td>11</td>\n",
       "      <td>55</td>\n",
       "      <td>2.0</td>\n",
       "      <td>NaN</td>\n",
       "    </tr>\n",
       "    <tr>\n",
       "      <th>9</th>\n",
       "      <td>11</td>\n",
       "      <td>19</td>\n",
       "      <td>2.0</td>\n",
       "      <td>NaN</td>\n",
       "    </tr>\n",
       "    <tr>\n",
       "      <th>10</th>\n",
       "      <td>11</td>\n",
       "      <td>45</td>\n",
       "      <td>2.0</td>\n",
       "      <td>NaN</td>\n",
       "    </tr>\n",
       "    <tr>\n",
       "      <th>18</th>\n",
       "      <td>11</td>\n",
       "      <td>58</td>\n",
       "      <td>2.0</td>\n",
       "      <td>NaN</td>\n",
       "    </tr>\n",
       "    <tr>\n",
       "      <th>19</th>\n",
       "      <td>11</td>\n",
       "      <td>28</td>\n",
       "      <td>2.0</td>\n",
       "      <td>NaN</td>\n",
       "    </tr>\n",
       "    <tr>\n",
       "      <th>...</th>\n",
       "      <td>...</td>\n",
       "      <td>...</td>\n",
       "      <td>...</td>\n",
       "      <td>...</td>\n",
       "    </tr>\n",
       "    <tr>\n",
       "      <th>293709</th>\n",
       "      <td>53</td>\n",
       "      <td>54</td>\n",
       "      <td>2.0</td>\n",
       "      <td>NaN</td>\n",
       "    </tr>\n",
       "    <tr>\n",
       "      <th>293712</th>\n",
       "      <td>53</td>\n",
       "      <td>44</td>\n",
       "      <td>2.0</td>\n",
       "      <td>NaN</td>\n",
       "    </tr>\n",
       "    <tr>\n",
       "      <th>293713</th>\n",
       "      <td>53</td>\n",
       "      <td>32</td>\n",
       "      <td>2.0</td>\n",
       "      <td>NaN</td>\n",
       "    </tr>\n",
       "    <tr>\n",
       "      <th>293718</th>\n",
       "      <td>53</td>\n",
       "      <td>54</td>\n",
       "      <td>2.0</td>\n",
       "      <td>NaN</td>\n",
       "    </tr>\n",
       "    <tr>\n",
       "      <th>293720</th>\n",
       "      <td>53</td>\n",
       "      <td>32</td>\n",
       "      <td>2.0</td>\n",
       "      <td>NaN</td>\n",
       "    </tr>\n",
       "  </tbody>\n",
       "</table>\n",
       "<p>90846 rows × 4 columns</p>\n",
       "</div>"
      ],
      "text/plain": [
       "        V0001  C008  Q074  Q075\n",
       "0          11    55   2.0   NaN\n",
       "9          11    19   2.0   NaN\n",
       "10         11    45   2.0   NaN\n",
       "18         11    58   2.0   NaN\n",
       "19         11    28   2.0   NaN\n",
       "...       ...   ...   ...   ...\n",
       "293709     53    54   2.0   NaN\n",
       "293712     53    44   2.0   NaN\n",
       "293713     53    32   2.0   NaN\n",
       "293718     53    54   2.0   NaN\n",
       "293720     53    32   2.0   NaN\n",
       "\n",
       "[90846 rows x 4 columns]"
      ]
     },
     "execution_count": 11,
     "metadata": {},
     "output_type": "execute_result"
    }
   ],
   "source": [
    "pns"
   ]
  },
  {
   "cell_type": "code",
   "execution_count": 12,
   "metadata": {},
   "outputs": [
    {
     "name": "stdout",
     "output_type": "stream",
     "text": [
      "<class 'pandas.core.frame.DataFrame'>\n",
      "Index: 90846 entries, 0 to 293720\n",
      "Data columns (total 4 columns):\n",
      " #   Column  Non-Null Count  Dtype  \n",
      "---  ------  --------------  -----  \n",
      " 0   V0001   90846 non-null  int64  \n",
      " 1   C008    90846 non-null  int64  \n",
      " 2   Q074    90846 non-null  float64\n",
      " 3   Q075    4467 non-null   float64\n",
      "dtypes: float64(2), int64(2)\n",
      "memory usage: 3.5 MB\n"
     ]
    }
   ],
   "source": [
    "pns.info()"
   ]
  },
  {
   "cell_type": "code",
   "execution_count": 13,
   "metadata": {},
   "outputs": [],
   "source": [
    "mapeamento_estados = {\n",
    "    11: 'Rondônia',\n",
    "    12: 'Acre',\n",
    "    13: 'Amazonas',\n",
    "    14: 'Roraima',\n",
    "    15: 'Pará',\n",
    "    16: 'Amapá',\n",
    "    17: 'Tocantins',\n",
    "    21: 'Maranhão',\n",
    "    22: 'Piauí',\n",
    "    23: 'Ceará',\n",
    "    24: 'Rio Grande do Norte',\n",
    "    25: 'Paraíba',\n",
    "    26: 'Pernambuco',\n",
    "    27: 'Alagoas',\n",
    "    28: 'Sergipe',\n",
    "    29: 'Bahia',\n",
    "    31: 'Minas Gerais',\n",
    "    32: 'Espírito Santo',\n",
    "    33: 'Rio de Janeiro',\n",
    "    35: 'São Paulo',\n",
    "    41: 'Paraná',\n",
    "    42: 'Santa Catarina',\n",
    "    43: 'Rio Grande do Sul',\n",
    "    50: 'Mato Grosso do Sul',\n",
    "    51: 'Mato Grosso',\n",
    "    52: 'Goiás',\n",
    "    53: 'Distrito Federal'\n",
    "}"
   ]
  },
  {
   "cell_type": "code",
   "execution_count": 14,
   "metadata": {},
   "outputs": [
    {
     "name": "stderr",
     "output_type": "stream",
     "text": [
      "/tmp/ipykernel_8806/271576639.py:1: SettingWithCopyWarning: \n",
      "A value is trying to be set on a copy of a slice from a DataFrame.\n",
      "Try using .loc[row_indexer,col_indexer] = value instead\n",
      "\n",
      "See the caveats in the documentation: https://pandas.pydata.org/pandas-docs/stable/user_guide/indexing.html#returning-a-view-versus-a-copy\n",
      "  pns['V0001'] = pns['V0001'].map(mapeamento_estados)\n"
     ]
    }
   ],
   "source": [
    "pns['V0001'] = pns['V0001'].map(mapeamento_estados)"
   ]
  },
  {
   "cell_type": "markdown",
   "metadata": {},
   "source": [
    "# Analise Atv 01"
   ]
  },
  {
   "cell_type": "markdown",
   "metadata": {},
   "source": [
    "## Contagem por estado"
   ]
  },
  {
   "cell_type": "code",
   "execution_count": 15,
   "metadata": {},
   "outputs": [],
   "source": [
    "contagem_estados = pns.groupby(['V0001', 'Q074']).size().unstack(fill_value=0)"
   ]
  },
  {
   "cell_type": "code",
   "execution_count": 16,
   "metadata": {},
   "outputs": [
    {
     "data": {
      "application/vnd.microsoft.datawrangler.viewer.v0+json": {
       "columns": [
        {
         "name": "V0001",
         "rawType": "object",
         "type": "string"
        },
        {
         "name": "1.0",
         "rawType": "int64",
         "type": "integer"
        },
        {
         "name": "2.0",
         "rawType": "int64",
         "type": "integer"
        }
       ],
       "conversionMethod": "pd.DataFrame",
       "ref": "09b534d8-6f63-4ce1-ac46-47ed49303dc1",
       "rows": [
        [
         "Acre",
         "93",
         "2287"
        ],
        [
         "Alagoas",
         "116",
         "2871"
        ],
        [
         "Amapá",
         "93",
         "1461"
        ],
        [
         "Amazonas",
         "151",
         "3328"
        ],
        [
         "Bahia",
         "117",
         "3542"
        ],
        [
         "Ceará",
         "200",
         "4065"
        ],
        [
         "Distrito Federal",
         "120",
         "2245"
        ],
        [
         "Espírito Santo",
         "231",
         "3310"
        ],
        [
         "Goiás",
         "146",
         "2556"
        ],
        [
         "Maranhão",
         "177",
         "4903"
        ],
        [
         "Mato Grosso",
         "67",
         "2401"
        ],
        [
         "Mato Grosso do Sul",
         "147",
         "2716"
        ],
        [
         "Minas Gerais",
         "317",
         "4892"
        ],
        [
         "Paraná",
         "199",
         "3768"
        ],
        [
         "Paraíba",
         "125",
         "3033"
        ],
        [
         "Pará",
         "178",
         "3675"
        ],
        [
         "Pernambuco",
         "197",
         "3886"
        ],
        [
         "Piauí",
         "119",
         "2621"
        ],
        [
         "Rio Grande do Norte",
         "156",
         "2806"
        ],
        [
         "Rio Grande do Sul",
         "318",
         "3449"
        ],
        [
         "Rio de Janeiro",
         "213",
         "4753"
        ],
        [
         "Rondônia",
         "84",
         "2092"
        ],
        [
         "Roraima",
         "105",
         "2133"
        ],
        [
         "Santa Catarina",
         "213",
         "3525"
        ],
        [
         "Sergipe",
         "112",
         "2498"
        ],
        [
         "São Paulo",
         "392",
         "5722"
        ],
        [
         "Tocantins",
         "81",
         "1841"
        ]
       ],
       "shape": {
        "columns": 2,
        "rows": 27
       }
      },
      "text/html": [
       "<div>\n",
       "<style scoped>\n",
       "    .dataframe tbody tr th:only-of-type {\n",
       "        vertical-align: middle;\n",
       "    }\n",
       "\n",
       "    .dataframe tbody tr th {\n",
       "        vertical-align: top;\n",
       "    }\n",
       "\n",
       "    .dataframe thead th {\n",
       "        text-align: right;\n",
       "    }\n",
       "</style>\n",
       "<table border=\"1\" class=\"dataframe\">\n",
       "  <thead>\n",
       "    <tr style=\"text-align: right;\">\n",
       "      <th>Q074</th>\n",
       "      <th>1.0</th>\n",
       "      <th>2.0</th>\n",
       "    </tr>\n",
       "    <tr>\n",
       "      <th>V0001</th>\n",
       "      <th></th>\n",
       "      <th></th>\n",
       "    </tr>\n",
       "  </thead>\n",
       "  <tbody>\n",
       "    <tr>\n",
       "      <th>Acre</th>\n",
       "      <td>93</td>\n",
       "      <td>2287</td>\n",
       "    </tr>\n",
       "    <tr>\n",
       "      <th>Alagoas</th>\n",
       "      <td>116</td>\n",
       "      <td>2871</td>\n",
       "    </tr>\n",
       "    <tr>\n",
       "      <th>Amapá</th>\n",
       "      <td>93</td>\n",
       "      <td>1461</td>\n",
       "    </tr>\n",
       "    <tr>\n",
       "      <th>Amazonas</th>\n",
       "      <td>151</td>\n",
       "      <td>3328</td>\n",
       "    </tr>\n",
       "    <tr>\n",
       "      <th>Bahia</th>\n",
       "      <td>117</td>\n",
       "      <td>3542</td>\n",
       "    </tr>\n",
       "    <tr>\n",
       "      <th>Ceará</th>\n",
       "      <td>200</td>\n",
       "      <td>4065</td>\n",
       "    </tr>\n",
       "    <tr>\n",
       "      <th>Distrito Federal</th>\n",
       "      <td>120</td>\n",
       "      <td>2245</td>\n",
       "    </tr>\n",
       "    <tr>\n",
       "      <th>Espírito Santo</th>\n",
       "      <td>231</td>\n",
       "      <td>3310</td>\n",
       "    </tr>\n",
       "    <tr>\n",
       "      <th>Goiás</th>\n",
       "      <td>146</td>\n",
       "      <td>2556</td>\n",
       "    </tr>\n",
       "    <tr>\n",
       "      <th>Maranhão</th>\n",
       "      <td>177</td>\n",
       "      <td>4903</td>\n",
       "    </tr>\n",
       "    <tr>\n",
       "      <th>Mato Grosso</th>\n",
       "      <td>67</td>\n",
       "      <td>2401</td>\n",
       "    </tr>\n",
       "    <tr>\n",
       "      <th>Mato Grosso do Sul</th>\n",
       "      <td>147</td>\n",
       "      <td>2716</td>\n",
       "    </tr>\n",
       "    <tr>\n",
       "      <th>Minas Gerais</th>\n",
       "      <td>317</td>\n",
       "      <td>4892</td>\n",
       "    </tr>\n",
       "    <tr>\n",
       "      <th>Paraná</th>\n",
       "      <td>199</td>\n",
       "      <td>3768</td>\n",
       "    </tr>\n",
       "    <tr>\n",
       "      <th>Paraíba</th>\n",
       "      <td>125</td>\n",
       "      <td>3033</td>\n",
       "    </tr>\n",
       "    <tr>\n",
       "      <th>Pará</th>\n",
       "      <td>178</td>\n",
       "      <td>3675</td>\n",
       "    </tr>\n",
       "    <tr>\n",
       "      <th>Pernambuco</th>\n",
       "      <td>197</td>\n",
       "      <td>3886</td>\n",
       "    </tr>\n",
       "    <tr>\n",
       "      <th>Piauí</th>\n",
       "      <td>119</td>\n",
       "      <td>2621</td>\n",
       "    </tr>\n",
       "    <tr>\n",
       "      <th>Rio Grande do Norte</th>\n",
       "      <td>156</td>\n",
       "      <td>2806</td>\n",
       "    </tr>\n",
       "    <tr>\n",
       "      <th>Rio Grande do Sul</th>\n",
       "      <td>318</td>\n",
       "      <td>3449</td>\n",
       "    </tr>\n",
       "    <tr>\n",
       "      <th>Rio de Janeiro</th>\n",
       "      <td>213</td>\n",
       "      <td>4753</td>\n",
       "    </tr>\n",
       "    <tr>\n",
       "      <th>Rondônia</th>\n",
       "      <td>84</td>\n",
       "      <td>2092</td>\n",
       "    </tr>\n",
       "    <tr>\n",
       "      <th>Roraima</th>\n",
       "      <td>105</td>\n",
       "      <td>2133</td>\n",
       "    </tr>\n",
       "    <tr>\n",
       "      <th>Santa Catarina</th>\n",
       "      <td>213</td>\n",
       "      <td>3525</td>\n",
       "    </tr>\n",
       "    <tr>\n",
       "      <th>Sergipe</th>\n",
       "      <td>112</td>\n",
       "      <td>2498</td>\n",
       "    </tr>\n",
       "    <tr>\n",
       "      <th>São Paulo</th>\n",
       "      <td>392</td>\n",
       "      <td>5722</td>\n",
       "    </tr>\n",
       "    <tr>\n",
       "      <th>Tocantins</th>\n",
       "      <td>81</td>\n",
       "      <td>1841</td>\n",
       "    </tr>\n",
       "  </tbody>\n",
       "</table>\n",
       "</div>"
      ],
      "text/plain": [
       "Q074                 1.0   2.0\n",
       "V0001                         \n",
       "Acre                  93  2287\n",
       "Alagoas              116  2871\n",
       "Amapá                 93  1461\n",
       "Amazonas             151  3328\n",
       "Bahia                117  3542\n",
       "Ceará                200  4065\n",
       "Distrito Federal     120  2245\n",
       "Espírito Santo       231  3310\n",
       "Goiás                146  2556\n",
       "Maranhão             177  4903\n",
       "Mato Grosso           67  2401\n",
       "Mato Grosso do Sul   147  2716\n",
       "Minas Gerais         317  4892\n",
       "Paraná               199  3768\n",
       "Paraíba              125  3033\n",
       "Pará                 178  3675\n",
       "Pernambuco           197  3886\n",
       "Piauí                119  2621\n",
       "Rio Grande do Norte  156  2806\n",
       "Rio Grande do Sul    318  3449\n",
       "Rio de Janeiro       213  4753\n",
       "Rondônia              84  2092\n",
       "Roraima              105  2133\n",
       "Santa Catarina       213  3525\n",
       "Sergipe              112  2498\n",
       "São Paulo            392  5722\n",
       "Tocantins             81  1841"
      ]
     },
     "execution_count": 16,
     "metadata": {},
     "output_type": "execute_result"
    }
   ],
   "source": [
    "contagem_estados"
   ]
  },
  {
   "cell_type": "code",
   "execution_count": 17,
   "metadata": {},
   "outputs": [
    {
     "data": {
      "text/plain": [
       "[]"
      ]
     },
     "execution_count": 17,
     "metadata": {},
     "output_type": "execute_result"
    },
    {
     "data": {
      "image/png": "[encoded data removed]",
      "text/plain": [
       "<Figure size 1200x600 with 1 Axes>"
      ]
     },
     "metadata": {},
     "output_type": "display_data"
    }
   ],
   "source": [
    "contagem_estados.plot(kind='bar', stacked=True, figsize=(12, 6))\n",
    "plt.xlabel('Estado')\n",
    "plt.ylabel('Número de Pessoas')\n",
    "plt.title('Pessoas com e sem bronquite por estado em valor absoluto')\n",
    "plt.legend(['Tem bronquite', 'Não tem bronquite'])\n",
    "plt.xticks(rotation=45, ha='right')\n",
    "plt.yticks(np.arange(0, 7000, step=500))\n",
    "#plt.savefig('Graficos/grafico_bronquite_absoluto.png', dpi=300, bbox_inches='tight')\n",
    "plt.plot()"
   ]
  },
  {
   "cell_type": "code",
   "execution_count": 18,
   "metadata": {},
   "outputs": [
    {
     "name": "stderr",
     "output_type": "stream",
     "text": [
      "/tmp/ipykernel_8806/3583408121.py:6: FutureWarning: Setting an item of incompatible dtype is deprecated and will raise in a future error of pandas. Value '3.907563025210084' has dtype incompatible with int64, please explicitly cast to a compatible dtype first.\n",
      "  contagem_estados.iat[i,2] = (row[1.0]/QTotal) * 100\n",
      "/tmp/ipykernel_8806/3583408121.py:7: FutureWarning: Setting an item of incompatible dtype is deprecated and will raise in a future error of pandas. Value '96.09243697478992' has dtype incompatible with int64, please explicitly cast to a compatible dtype first.\n",
      "  contagem_estados.iat[i,3] = (row[2.0]/QTotal) * 100\n"
     ]
    }
   ],
   "source": [
    "i = 0\n",
    "contagem_estados['Possui bronquite(%)'] = 0\n",
    "contagem_estados['Nao possui bronquite(%)'] = 0\n",
    "for index, row in contagem_estados.iterrows():\n",
    "    QTotal = row[1.0] + row[2.0]\n",
    "    contagem_estados.iat[i,2] = (row[1.0]/QTotal) * 100\n",
    "    contagem_estados.iat[i,3] = (row[2.0]/QTotal) * 100\n",
    "    i += 1"
   ]
  },
  {
   "cell_type": "code",
   "execution_count": 19,
   "metadata": {},
   "outputs": [
    {
     "data": {
      "application/vnd.microsoft.datawrangler.viewer.v0+json": {
       "columns": [
        {
         "name": "V0001",
         "rawType": "object",
         "type": "string"
        },
        {
         "name": "1.0",
         "rawType": "int64",
         "type": "integer"
        },
        {
         "name": "2.0",
         "rawType": "int64",
         "type": "integer"
        },
        {
         "name": "Possui bronquite(%)",
         "rawType": "float64",
         "type": "float"
        },
        {
         "name": "Nao possui bronquite(%)",
         "rawType": "float64",
         "type": "float"
        }
       ],
       "conversionMethod": "pd.DataFrame",
       "ref": "27e839e4-bfff-4c1e-b63a-ffc8221c62ce",
       "rows": [
        [
         "Acre",
         "93",
         "2287",
         "3.907563025210084",
         "96.09243697478992"
        ],
        [
         "Alagoas",
         "116",
         "2871",
         "3.8834951456310676",
         "96.11650485436894"
        ],
        [
         "Amapá",
         "93",
         "1461",
         "5.984555984555985",
         "94.01544401544402"
        ],
        [
         "Amazonas",
         "151",
         "3328",
         "4.340327680367921",
         "95.65967231963208"
        ],
        [
         "Bahia",
         "117",
         "3542",
         "3.197594971303635",
         "96.80240502869637"
        ],
        [
         "Ceará",
         "200",
         "4065",
         "4.6893317702227435",
         "95.31066822977726"
        ],
        [
         "Distrito Federal",
         "120",
         "2245",
         "5.07399577167019",
         "94.9260042283298"
        ],
        [
         "Espírito Santo",
         "231",
         "3310",
         "6.523580909347642",
         "93.47641909065236"
        ],
        [
         "Goiás",
         "146",
         "2556",
         "5.40340488527017",
         "94.59659511472984"
        ],
        [
         "Maranhão",
         "177",
         "4903",
         "3.4842519685039366",
         "96.51574803149606"
        ],
        [
         "Mato Grosso",
         "67",
         "2401",
         "2.7147487844408427",
         "97.28525121555916"
        ],
        [
         "Mato Grosso do Sul",
         "147",
         "2716",
         "5.134474327628362",
         "94.86552567237165"
        ],
        [
         "Minas Gerais",
         "317",
         "4892",
         "6.085621040506815",
         "93.91437895949318"
        ],
        [
         "Paraná",
         "199",
         "3768",
         "5.016385177716158",
         "94.98361482228384"
        ],
        [
         "Paraíba",
         "125",
         "3033",
         "3.9582013932868905",
         "96.04179860671312"
        ],
        [
         "Pará",
         "178",
         "3675",
         "4.619776797300804",
         "95.3802232026992"
        ],
        [
         "Pernambuco",
         "197",
         "3886",
         "4.824883663972569",
         "95.17511633602743"
        ],
        [
         "Piauí",
         "119",
         "2621",
         "4.343065693430657",
         "95.65693430656934"
        ],
        [
         "Rio Grande do Norte",
         "156",
         "2806",
         "5.266711681296422",
         "94.73328831870359"
        ],
        [
         "Rio Grande do Sul",
         "318",
         "3449",
         "8.441730820281391",
         "91.55826917971861"
        ],
        [
         "Rio de Janeiro",
         "213",
         "4753",
         "4.289166331051148",
         "95.71083366894885"
        ],
        [
         "Rondônia",
         "84",
         "2092",
         "3.860294117647059",
         "96.13970588235294"
        ],
        [
         "Roraima",
         "105",
         "2133",
         "4.6916890080428955",
         "95.3083109919571"
        ],
        [
         "Santa Catarina",
         "213",
         "3525",
         "5.698234349919743",
         "94.30176565008026"
        ],
        [
         "Sergipe",
         "112",
         "2498",
         "4.291187739463601",
         "95.7088122605364"
        ],
        [
         "São Paulo",
         "392",
         "5722",
         "6.411514556754988",
         "93.588485443245"
        ],
        [
         "Tocantins",
         "81",
         "1841",
         "4.214360041623309",
         "95.78563995837669"
        ]
       ],
       "shape": {
        "columns": 4,
        "rows": 27
       }
      },
      "text/html": [
       "<div>\n",
       "<style scoped>\n",
       "    .dataframe tbody tr th:only-of-type {\n",
       "        vertical-align: middle;\n",
       "    }\n",
       "\n",
       "    .dataframe tbody tr th {\n",
       "        vertical-align: top;\n",
       "    }\n",
       "\n",
       "    .dataframe thead th {\n",
       "        text-align: right;\n",
       "    }\n",
       "</style>\n",
       "<table border=\"1\" class=\"dataframe\">\n",
       "  <thead>\n",
       "    <tr style=\"text-align: right;\">\n",
       "      <th>Q074</th>\n",
       "      <th>1.0</th>\n",
       "      <th>2.0</th>\n",
       "      <th>Possui bronquite(%)</th>\n",
       "      <th>Nao possui bronquite(%)</th>\n",
       "    </tr>\n",
       "    <tr>\n",
       "      <th>V0001</th>\n",
       "      <th></th>\n",
       "      <th></th>\n",
       "      <th></th>\n",
       "      <th></th>\n",
       "    </tr>\n",
       "  </thead>\n",
       "  <tbody>\n",
       "    <tr>\n",
       "      <th>Acre</th>\n",
       "      <td>93</td>\n",
       "      <td>2287</td>\n",
       "      <td>3.907563</td>\n",
       "      <td>96.092437</td>\n",
       "    </tr>\n",
       "    <tr>\n",
       "      <th>Alagoas</th>\n",
       "      <td>116</td>\n",
       "      <td>2871</td>\n",
       "      <td>3.883495</td>\n",
       "      <td>96.116505</td>\n",
       "    </tr>\n",
       "    <tr>\n",
       "      <th>Amapá</th>\n",
       "      <td>93</td>\n",
       "      <td>1461</td>\n",
       "      <td>5.984556</td>\n",
       "      <td>94.015444</td>\n",
       "    </tr>\n",
       "    <tr>\n",
       "      <th>Amazonas</th>\n",
       "      <td>151</td>\n",
       "      <td>3328</td>\n",
       "      <td>4.340328</td>\n",
       "      <td>95.659672</td>\n",
       "    </tr>\n",
       "    <tr>\n",
       "      <th>Bahia</th>\n",
       "      <td>117</td>\n",
       "      <td>3542</td>\n",
       "      <td>3.197595</td>\n",
       "      <td>96.802405</td>\n",
       "    </tr>\n",
       "    <tr>\n",
       "      <th>Ceará</th>\n",
       "      <td>200</td>\n",
       "      <td>4065</td>\n",
       "      <td>4.689332</td>\n",
       "      <td>95.310668</td>\n",
       "    </tr>\n",
       "    <tr>\n",
       "      <th>Distrito Federal</th>\n",
       "      <td>120</td>\n",
       "      <td>2245</td>\n",
       "      <td>5.073996</td>\n",
       "      <td>94.926004</td>\n",
       "    </tr>\n",
       "    <tr>\n",
       "      <th>Espírito Santo</th>\n",
       "      <td>231</td>\n",
       "      <td>3310</td>\n",
       "      <td>6.523581</td>\n",
       "      <td>93.476419</td>\n",
       "    </tr>\n",
       "    <tr>\n",
       "      <th>Goiás</th>\n",
       "      <td>146</td>\n",
       "      <td>2556</td>\n",
       "      <td>5.403405</td>\n",
       "      <td>94.596595</td>\n",
       "    </tr>\n",
       "    <tr>\n",
       "      <th>Maranhão</th>\n",
       "      <td>177</td>\n",
       "      <td>4903</td>\n",
       "      <td>3.484252</td>\n",
       "      <td>96.515748</td>\n",
       "    </tr>\n",
       "    <tr>\n",
       "      <th>Mato Grosso</th>\n",
       "      <td>67</td>\n",
       "      <td>2401</td>\n",
       "      <td>2.714749</td>\n",
       "      <td>97.285251</td>\n",
       "    </tr>\n",
       "    <tr>\n",
       "      <th>Mato Grosso do Sul</th>\n",
       "      <td>147</td>\n",
       "      <td>2716</td>\n",
       "      <td>5.134474</td>\n",
       "      <td>94.865526</td>\n",
       "    </tr>\n",
       "    <tr>\n",
       "      <th>Minas Gerais</th>\n",
       "      <td>317</td>\n",
       "      <td>4892</td>\n",
       "      <td>6.085621</td>\n",
       "      <td>93.914379</td>\n",
       "    </tr>\n",
       "    <tr>\n",
       "      <th>Paraná</th>\n",
       "      <td>199</td>\n",
       "      <td>3768</td>\n",
       "      <td>5.016385</td>\n",
       "      <td>94.983615</td>\n",
       "    </tr>\n",
       "    <tr>\n",
       "      <th>Paraíba</th>\n",
       "      <td>125</td>\n",
       "      <td>3033</td>\n",
       "      <td>3.958201</td>\n",
       "      <td>96.041799</td>\n",
       "    </tr>\n",
       "    <tr>\n",
       "      <th>Pará</th>\n",
       "      <td>178</td>\n",
       "      <td>3675</td>\n",
       "      <td>4.619777</td>\n",
       "      <td>95.380223</td>\n",
       "    </tr>\n",
       "    <tr>\n",
       "      <th>Pernambuco</th>\n",
       "      <td>197</td>\n",
       "      <td>3886</td>\n",
       "      <td>4.824884</td>\n",
       "      <td>95.175116</td>\n",
       "    </tr>\n",
       "    <tr>\n",
       "      <th>Piauí</th>\n",
       "      <td>119</td>\n",
       "      <td>2621</td>\n",
       "      <td>4.343066</td>\n",
       "      <td>95.656934</td>\n",
       "    </tr>\n",
       "    <tr>\n",
       "      <th>Rio Grande do Norte</th>\n",
       "      <td>156</td>\n",
       "      <td>2806</td>\n",
       "      <td>5.266712</td>\n",
       "      <td>94.733288</td>\n",
       "    </tr>\n",
       "    <tr>\n",
       "      <th>Rio Grande do Sul</th>\n",
       "      <td>318</td>\n",
       "      <td>3449</td>\n",
       "      <td>8.441731</td>\n",
       "      <td>91.558269</td>\n",
       "    </tr>\n",
       "    <tr>\n",
       "      <th>Rio de Janeiro</th>\n",
       "      <td>213</td>\n",
       "      <td>4753</td>\n",
       "      <td>4.289166</td>\n",
       "      <td>95.710834</td>\n",
       "    </tr>\n",
       "    <tr>\n",
       "      <th>Rondônia</th>\n",
       "      <td>84</td>\n",
       "      <td>2092</td>\n",
       "      <td>3.860294</td>\n",
       "      <td>96.139706</td>\n",
       "    </tr>\n",
       "    <tr>\n",
       "      <th>Roraima</th>\n",
       "      <td>105</td>\n",
       "      <td>2133</td>\n",
       "      <td>4.691689</td>\n",
       "      <td>95.308311</td>\n",
       "    </tr>\n",
       "    <tr>\n",
       "      <th>Santa Catarina</th>\n",
       "      <td>213</td>\n",
       "      <td>3525</td>\n",
       "      <td>5.698234</td>\n",
       "      <td>94.301766</td>\n",
       "    </tr>\n",
       "    <tr>\n",
       "      <th>Sergipe</th>\n",
       "      <td>112</td>\n",
       "      <td>2498</td>\n",
       "      <td>4.291188</td>\n",
       "      <td>95.708812</td>\n",
       "    </tr>\n",
       "    <tr>\n",
       "      <th>São Paulo</th>\n",
       "      <td>392</td>\n",
       "      <td>5722</td>\n",
       "      <td>6.411515</td>\n",
       "      <td>93.588485</td>\n",
       "    </tr>\n",
       "    <tr>\n",
       "      <th>Tocantins</th>\n",
       "      <td>81</td>\n",
       "      <td>1841</td>\n",
       "      <td>4.214360</td>\n",
       "      <td>95.785640</td>\n",
       "    </tr>\n",
       "  </tbody>\n",
       "</table>\n",
       "</div>"
      ],
      "text/plain": [
       "Q074                 1.0   2.0  Possui bronquite(%)  Nao possui bronquite(%)\n",
       "V0001                                                                       \n",
       "Acre                  93  2287             3.907563                96.092437\n",
       "Alagoas              116  2871             3.883495                96.116505\n",
       "Amapá                 93  1461             5.984556                94.015444\n",
       "Amazonas             151  3328             4.340328                95.659672\n",
       "Bahia                117  3542             3.197595                96.802405\n",
       "Ceará                200  4065             4.689332                95.310668\n",
       "Distrito Federal     120  2245             5.073996                94.926004\n",
       "Espírito Santo       231  3310             6.523581                93.476419\n",
       "Goiás                146  2556             5.403405                94.596595\n",
       "Maranhão             177  4903             3.484252                96.515748\n",
       "Mato Grosso           67  2401             2.714749                97.285251\n",
       "Mato Grosso do Sul   147  2716             5.134474                94.865526\n",
       "Minas Gerais         317  4892             6.085621                93.914379\n",
       "Paraná               199  3768             5.016385                94.983615\n",
       "Paraíba              125  3033             3.958201                96.041799\n",
       "Pará                 178  3675             4.619777                95.380223\n",
       "Pernambuco           197  3886             4.824884                95.175116\n",
       "Piauí                119  2621             4.343066                95.656934\n",
       "Rio Grande do Norte  156  2806             5.266712                94.733288\n",
       "Rio Grande do Sul    318  3449             8.441731                91.558269\n",
       "Rio de Janeiro       213  4753             4.289166                95.710834\n",
       "Rondônia              84  2092             3.860294                96.139706\n",
       "Roraima              105  2133             4.691689                95.308311\n",
       "Santa Catarina       213  3525             5.698234                94.301766\n",
       "Sergipe              112  2498             4.291188                95.708812\n",
       "São Paulo            392  5722             6.411515                93.588485\n",
       "Tocantins             81  1841             4.214360                95.785640"
      ]
     },
     "execution_count": 19,
     "metadata": {},
     "output_type": "execute_result"
    }
   ],
   "source": [
    "contagem_estados"
   ]
  },
  {
   "cell_type": "code",
   "execution_count": 20,
   "metadata": {},
   "outputs": [
    {
     "data": {
      "text/plain": [
       "[]"
      ]
     },
     "execution_count": 20,
     "metadata": {},
     "output_type": "execute_result"
    },
    {
     "data": {
      "image/png": "[encoded data removed]",
      "text/plain": [
       "<Figure size 1200x600 with 1 Axes>"
      ]
     },
     "metadata": {},
     "output_type": "display_data"
    }
   ],
   "source": [
    "contagem_estados[['Possui bronquite(%)','Nao possui bronquite(%)']].plot(kind='bar', stacked=True, figsize=(12, 6))\n",
    "plt.xlabel('Estado')\n",
    "plt.ylabel('Percentual de Pessoas em relação ao total')\n",
    "plt.title('Percentual de pessoas com e sem bronquite por estado')\n",
    "plt.legend(['Tem bronquite', 'Não tem bronquite'])\n",
    "plt.xticks(rotation=45, ha='right')\n",
    "plt.yticks(ticks=np.arange(0,100, step=5.0))\n",
    "#plt.savefig('Graficos/grafico_bronquite_relativo.png', dpi=300, bbox_inches='tight')\n",
    "plt.plot()"
   ]
  },
  {
   "cell_type": "markdown",
   "metadata": {},
   "source": [
    "## Por regiao"
   ]
  },
  {
   "cell_type": "code",
   "execution_count": 21,
   "metadata": {},
   "outputs": [],
   "source": [
    "mapeamento_regiao = {\n",
    "    'Rondônia': 'Norte',\n",
    "    'Acre': 'Norte',\n",
    "    'Amazonas': 'Norte',\n",
    "    'Roraima': 'Norte',\n",
    "    'Pará': 'Norte',\n",
    "    'Amapá': 'Norte',\n",
    "    'Tocantins': 'Norte',\n",
    "    'Maranhão': 'Nordeste',\n",
    "    'Piauí': 'Nordeste',\n",
    "    'Ceará': 'Nordeste',\n",
    "    'Rio Grande do Norte': 'Nordeste',\n",
    "    'Paraíba': 'Nordeste',\n",
    "    'Pernambuco': 'Nordeste',\n",
    "    'Alagoas': 'Nordeste',\n",
    "    'Sergipe': 'Nordeste',\n",
    "    'Bahia': 'Nordeste',\n",
    "    'Mato Grosso do Sul': 'Centro-Oeste',\n",
    "    'Mato Grosso': 'Centro-Oeste',\n",
    "    'Goiás': 'Centro-Oeste',\n",
    "    'Distrito Federal': 'Centro-Oeste',\n",
    "    'Minas Gerais': 'Sudeste',\n",
    "    'Espírito Santo': 'Sudeste',\n",
    "    'Rio de Janeiro': 'Sudeste',\n",
    "    'São Paulo': 'Sudeste',\n",
    "    'Paraná': 'Sul',\n",
    "    'Santa Catarina': 'Sul',\n",
    "    'Rio Grande do Sul': 'Sul'\n",
    "}"
   ]
  },
  {
   "cell_type": "code",
   "execution_count": 22,
   "metadata": {},
   "outputs": [],
   "source": [
    "regioes = pns.copy()\n",
    "regioes['V0001'] = pns['V0001'].map(mapeamento_regiao)"
   ]
  },
  {
   "cell_type": "code",
   "execution_count": 23,
   "metadata": {},
   "outputs": [],
   "source": [
    "contagem_regiao = regioes.groupby(['V0001', 'Q074'], as_index=True)[['V0001']].size().unstack(fill_value=0)"
   ]
  },
  {
   "cell_type": "code",
   "execution_count": 24,
   "metadata": {},
   "outputs": [
    {
     "data": {
      "application/vnd.microsoft.datawrangler.viewer.v0+json": {
       "columns": [
        {
         "name": "V0001",
         "rawType": "object",
         "type": "string"
        },
        {
         "name": "1.0",
         "rawType": "int64",
         "type": "integer"
        },
        {
         "name": "2.0",
         "rawType": "int64",
         "type": "integer"
        }
       ],
       "conversionMethod": "pd.DataFrame",
       "ref": "bd130983-9669-4d08-8542-206bf2d80255",
       "rows": [
        [
         "Centro-Oeste",
         "480",
         "9918"
        ],
        [
         "Nordeste",
         "1319",
         "30225"
        ],
        [
         "Norte",
         "785",
         "16817"
        ],
        [
         "Sudeste",
         "1153",
         "18677"
        ],
        [
         "Sul",
         "730",
         "10742"
        ]
       ],
       "shape": {
        "columns": 2,
        "rows": 5
       }
      },
      "text/html": [
       "<div>\n",
       "<style scoped>\n",
       "    .dataframe tbody tr th:only-of-type {\n",
       "        vertical-align: middle;\n",
       "    }\n",
       "\n",
       "    .dataframe tbody tr th {\n",
       "        vertical-align: top;\n",
       "    }\n",
       "\n",
       "    .dataframe thead th {\n",
       "        text-align: right;\n",
       "    }\n",
       "</style>\n",
       "<table border=\"1\" class=\"dataframe\">\n",
       "  <thead>\n",
       "    <tr style=\"text-align: right;\">\n",
       "      <th>Q074</th>\n",
       "      <th>1.0</th>\n",
       "      <th>2.0</th>\n",
       "    </tr>\n",
       "    <tr>\n",
       "      <th>V0001</th>\n",
       "      <th></th>\n",
       "      <th></th>\n",
       "    </tr>\n",
       "  </thead>\n",
       "  <tbody>\n",
       "    <tr>\n",
       "      <th>Centro-Oeste</th>\n",
       "      <td>480</td>\n",
       "      <td>9918</td>\n",
       "    </tr>\n",
       "    <tr>\n",
       "      <th>Nordeste</th>\n",
       "      <td>1319</td>\n",
       "      <td>30225</td>\n",
       "    </tr>\n",
       "    <tr>\n",
       "      <th>Norte</th>\n",
       "      <td>785</td>\n",
       "      <td>16817</td>\n",
       "    </tr>\n",
       "    <tr>\n",
       "      <th>Sudeste</th>\n",
       "      <td>1153</td>\n",
       "      <td>18677</td>\n",
       "    </tr>\n",
       "    <tr>\n",
       "      <th>Sul</th>\n",
       "      <td>730</td>\n",
       "      <td>10742</td>\n",
       "    </tr>\n",
       "  </tbody>\n",
       "</table>\n",
       "</div>"
      ],
      "text/plain": [
       "Q074           1.0    2.0\n",
       "V0001                    \n",
       "Centro-Oeste   480   9918\n",
       "Nordeste      1319  30225\n",
       "Norte          785  16817\n",
       "Sudeste       1153  18677\n",
       "Sul            730  10742"
      ]
     },
     "execution_count": 24,
     "metadata": {},
     "output_type": "execute_result"
    }
   ],
   "source": [
    "contagem_regiao"
   ]
  },
  {
   "cell_type": "code",
   "execution_count": 25,
   "metadata": {},
   "outputs": [
    {
     "data": {
      "text/plain": [
       "Index([1.0, 2.0], dtype='float64', name='Q074')"
      ]
     },
     "execution_count": 25,
     "metadata": {},
     "output_type": "execute_result"
    }
   ],
   "source": [
    "contagem_regiao.columns"
   ]
  },
  {
   "cell_type": "code",
   "execution_count": 26,
   "metadata": {},
   "outputs": [
    {
     "data": {
      "text/plain": [
       "[]"
      ]
     },
     "execution_count": 26,
     "metadata": {},
     "output_type": "execute_result"
    },
    {
     "data": {
      "image/png": "[encoded data removed]",
      "text/plain": [
       "<Figure size 1200x600 with 1 Axes>"
      ]
     },
     "metadata": {},
     "output_type": "display_data"
    }
   ],
   "source": [
    "contagem_regiao.plot(kind='bar', stacked=True, figsize=(12, 6))\n",
    "plt.xlabel('Região')\n",
    "plt.ylabel('Número de Pessoas')\n",
    "plt.title('Pessoas com e sem bronquite por regiao em valor absoluto')\n",
    "plt.legend(['Tem bronquite', 'Não tem bronquite'])\n",
    "plt.xticks(rotation=45, ha='right')\n",
    "plt.yticks(np.arange(0, 35000, 2500))\n",
    "#plt.savefig('Graficos/grafico_regional_bronquite_absoluto.png', dpi=300, bbox_inches='tight')\n",
    "plt.plot()"
   ]
  },
  {
   "cell_type": "code",
   "execution_count": 27,
   "metadata": {},
   "outputs": [
    {
     "name": "stderr",
     "output_type": "stream",
     "text": [
      "/tmp/ipykernel_8806/2599192803.py:6: FutureWarning: Setting an item of incompatible dtype is deprecated and will raise in a future error of pandas. Value '4.616272360069244' has dtype incompatible with int64, please explicitly cast to a compatible dtype first.\n",
      "  contagem_regiao.iat[i,2] = (row[1.0]/QTotal) * 100\n",
      "/tmp/ipykernel_8806/2599192803.py:7: FutureWarning: Setting an item of incompatible dtype is deprecated and will raise in a future error of pandas. Value '95.38372763993075' has dtype incompatible with int64, please explicitly cast to a compatible dtype first.\n",
      "  contagem_regiao.iat[i,3] = (row[2.0]/QTotal) * 100\n"
     ]
    }
   ],
   "source": [
    "i = 0\n",
    "contagem_regiao['Possui bronquite(%)'] = 0\n",
    "contagem_regiao['Nao possui bronquite(%)'] = 0\n",
    "for index, row in contagem_regiao.iterrows():\n",
    "    QTotal = row[1.0] + row[2.0]\n",
    "    contagem_regiao.iat[i,2] = (row[1.0]/QTotal) * 100\n",
    "    contagem_regiao.iat[i,3] = (row[2.0]/QTotal) * 100\n",
    "    i += 1"
   ]
  },
  {
   "cell_type": "code",
   "execution_count": 28,
   "metadata": {},
   "outputs": [
    {
     "data": {
      "application/vnd.microsoft.datawrangler.viewer.v0+json": {
       "columns": [
        {
         "name": "V0001",
         "rawType": "object",
         "type": "string"
        },
        {
         "name": "1.0",
         "rawType": "int64",
         "type": "integer"
        },
        {
         "name": "2.0",
         "rawType": "int64",
         "type": "integer"
        },
        {
         "name": "Possui bronquite(%)",
         "rawType": "float64",
         "type": "float"
        },
        {
         "name": "Nao possui bronquite(%)",
         "rawType": "float64",
         "type": "float"
        }
       ],
       "conversionMethod": "pd.DataFrame",
       "ref": "87a44f1d-c240-4962-9768-7ada6b04dcea",
       "rows": [
        [
         "Centro-Oeste",
         "480",
         "9918",
         "4.616272360069244",
         "95.38372763993075"
        ],
        [
         "Nordeste",
         "1319",
         "30225",
         "4.181460816637078",
         "95.81853918336292"
        ],
        [
         "Norte",
         "785",
         "16817",
         "4.459720486308374",
         "95.54027951369163"
        ],
        [
         "Sudeste",
         "1153",
         "18677",
         "5.814422592032274",
         "94.18557740796773"
        ],
        [
         "Sul",
         "730",
         "10742",
         "6.3633193863319395",
         "93.63668061366806"
        ]
       ],
       "shape": {
        "columns": 4,
        "rows": 5
       }
      },
      "text/html": [
       "<div>\n",
       "<style scoped>\n",
       "    .dataframe tbody tr th:only-of-type {\n",
       "        vertical-align: middle;\n",
       "    }\n",
       "\n",
       "    .dataframe tbody tr th {\n",
       "        vertical-align: top;\n",
       "    }\n",
       "\n",
       "    .dataframe thead th {\n",
       "        text-align: right;\n",
       "    }\n",
       "</style>\n",
       "<table border=\"1\" class=\"dataframe\">\n",
       "  <thead>\n",
       "    <tr style=\"text-align: right;\">\n",
       "      <th>Q074</th>\n",
       "      <th>1.0</th>\n",
       "      <th>2.0</th>\n",
       "      <th>Possui bronquite(%)</th>\n",
       "      <th>Nao possui bronquite(%)</th>\n",
       "    </tr>\n",
       "    <tr>\n",
       "      <th>V0001</th>\n",
       "      <th></th>\n",
       "      <th></th>\n",
       "      <th></th>\n",
       "      <th></th>\n",
       "    </tr>\n",
       "  </thead>\n",
       "  <tbody>\n",
       "    <tr>\n",
       "      <th>Centro-Oeste</th>\n",
       "      <td>480</td>\n",
       "      <td>9918</td>\n",
       "      <td>4.616272</td>\n",
       "      <td>95.383728</td>\n",
       "    </tr>\n",
       "    <tr>\n",
       "      <th>Nordeste</th>\n",
       "      <td>1319</td>\n",
       "      <td>30225</td>\n",
       "      <td>4.181461</td>\n",
       "      <td>95.818539</td>\n",
       "    </tr>\n",
       "    <tr>\n",
       "      <th>Norte</th>\n",
       "      <td>785</td>\n",
       "      <td>16817</td>\n",
       "      <td>4.459720</td>\n",
       "      <td>95.540280</td>\n",
       "    </tr>\n",
       "    <tr>\n",
       "      <th>Sudeste</th>\n",
       "      <td>1153</td>\n",
       "      <td>18677</td>\n",
       "      <td>5.814423</td>\n",
       "      <td>94.185577</td>\n",
       "    </tr>\n",
       "    <tr>\n",
       "      <th>Sul</th>\n",
       "      <td>730</td>\n",
       "      <td>10742</td>\n",
       "      <td>6.363319</td>\n",
       "      <td>93.636681</td>\n",
       "    </tr>\n",
       "  </tbody>\n",
       "</table>\n",
       "</div>"
      ],
      "text/plain": [
       "Q074           1.0    2.0  Possui bronquite(%)  Nao possui bronquite(%)\n",
       "V0001                                                                  \n",
       "Centro-Oeste   480   9918             4.616272                95.383728\n",
       "Nordeste      1319  30225             4.181461                95.818539\n",
       "Norte          785  16817             4.459720                95.540280\n",
       "Sudeste       1153  18677             5.814423                94.185577\n",
       "Sul            730  10742             6.363319                93.636681"
      ]
     },
     "execution_count": 28,
     "metadata": {},
     "output_type": "execute_result"
    }
   ],
   "source": [
    "contagem_regiao"
   ]
  },
  {
   "cell_type": "code",
   "execution_count": 29,
   "metadata": {},
   "outputs": [
    {
     "data": {
      "text/plain": [
       "[]"
      ]
     },
     "execution_count": 29,
     "metadata": {},
     "output_type": "execute_result"
    },
    {
     "data": {
      "image/png": "[encoded data removed]",
      "text/plain": [
       "<Figure size 1200x600 with 1 Axes>"
      ]
     },
     "metadata": {},
     "output_type": "display_data"
    }
   ],
   "source": [
    "contagem_regiao[['Possui bronquite(%)','Nao possui bronquite(%)']].plot(kind='bar', stacked=True, figsize=(12, 6))\n",
    "plt.xlabel('Região')\n",
    "plt.ylabel('Percentual de Pessoas em relação ao total')\n",
    "plt.title('Percentual de pessoas com e sem bronquite por Regiao')\n",
    "plt.legend(['Tem bronquite', 'Não tem bronquite'])\n",
    "plt.xticks(rotation=45, ha='right')\n",
    "plt.yticks(np.arange(0, 105, 5))\n",
    "#plt.savefig('Graficos/grafico_regional_bronquite_relativo.png', dpi=300, bbox_inches='tight')\n",
    "plt.plot()"
   ]
  },
  {
   "cell_type": "markdown",
   "metadata": {},
   "source": [
    "# ATV 02"
   ]
  },
  {
   "cell_type": "markdown",
   "metadata": {},
   "source": [
    "## Chi2"
   ]
  },
  {
   "cell_type": "code",
   "execution_count": 30,
   "metadata": {},
   "outputs": [
    {
     "data": {
      "application/vnd.microsoft.datawrangler.viewer.v0+json": {
       "columns": [
        {
         "name": "index",
         "rawType": "int64",
         "type": "integer"
        },
        {
         "name": "V0001",
         "rawType": "object",
         "type": "string"
        },
        {
         "name": "C008",
         "rawType": "int64",
         "type": "integer"
        },
        {
         "name": "Q074",
         "rawType": "float64",
         "type": "float"
        },
        {
         "name": "Q075",
         "rawType": "float64",
         "type": "float"
        }
       ],
       "conversionMethod": "pd.DataFrame",
       "ref": "031e4e41-2df3-45c8-99cc-bf9db7e55f0b",
       "rows": [
        [
         "0",
         "Rondônia",
         "55",
         "2.0",
         null
        ],
        [
         "9",
         "Rondônia",
         "19",
         "2.0",
         null
        ],
        [
         "10",
         "Rondônia",
         "45",
         "2.0",
         null
        ],
        [
         "18",
         "Rondônia",
         "58",
         "2.0",
         null
        ],
        [
         "19",
         "Rondônia",
         "28",
         "2.0",
         null
        ]
       ],
       "shape": {
        "columns": 4,
        "rows": 5
       }
      },
      "text/html": [
       "<div>\n",
       "<style scoped>\n",
       "    .dataframe tbody tr th:only-of-type {\n",
       "        vertical-align: middle;\n",
       "    }\n",
       "\n",
       "    .dataframe tbody tr th {\n",
       "        vertical-align: top;\n",
       "    }\n",
       "\n",
       "    .dataframe thead th {\n",
       "        text-align: right;\n",
       "    }\n",
       "</style>\n",
       "<table border=\"1\" class=\"dataframe\">\n",
       "  <thead>\n",
       "    <tr style=\"text-align: right;\">\n",
       "      <th></th>\n",
       "      <th>V0001</th>\n",
       "      <th>C008</th>\n",
       "      <th>Q074</th>\n",
       "      <th>Q075</th>\n",
       "    </tr>\n",
       "  </thead>\n",
       "  <tbody>\n",
       "    <tr>\n",
       "      <th>0</th>\n",
       "      <td>Rondônia</td>\n",
       "      <td>55</td>\n",
       "      <td>2.0</td>\n",
       "      <td>NaN</td>\n",
       "    </tr>\n",
       "    <tr>\n",
       "      <th>9</th>\n",
       "      <td>Rondônia</td>\n",
       "      <td>19</td>\n",
       "      <td>2.0</td>\n",
       "      <td>NaN</td>\n",
       "    </tr>\n",
       "    <tr>\n",
       "      <th>10</th>\n",
       "      <td>Rondônia</td>\n",
       "      <td>45</td>\n",
       "      <td>2.0</td>\n",
       "      <td>NaN</td>\n",
       "    </tr>\n",
       "    <tr>\n",
       "      <th>18</th>\n",
       "      <td>Rondônia</td>\n",
       "      <td>58</td>\n",
       "      <td>2.0</td>\n",
       "      <td>NaN</td>\n",
       "    </tr>\n",
       "    <tr>\n",
       "      <th>19</th>\n",
       "      <td>Rondônia</td>\n",
       "      <td>28</td>\n",
       "      <td>2.0</td>\n",
       "      <td>NaN</td>\n",
       "    </tr>\n",
       "  </tbody>\n",
       "</table>\n",
       "</div>"
      ],
      "text/plain": [
       "       V0001  C008  Q074  Q075\n",
       "0   Rondônia    55   2.0   NaN\n",
       "9   Rondônia    19   2.0   NaN\n",
       "10  Rondônia    45   2.0   NaN\n",
       "18  Rondônia    58   2.0   NaN\n",
       "19  Rondônia    28   2.0   NaN"
      ]
     },
     "execution_count": 30,
     "metadata": {},
     "output_type": "execute_result"
    }
   ],
   "source": [
    "pns.head()"
   ]
  },
  {
   "cell_type": "code",
   "execution_count": 31,
   "metadata": {},
   "outputs": [],
   "source": [
    "contagem_regiao.reset_index(inplace=True)"
   ]
  },
  {
   "cell_type": "code",
   "execution_count": 32,
   "metadata": {},
   "outputs": [
    {
     "data": {
      "application/vnd.microsoft.datawrangler.viewer.v0+json": {
       "columns": [
        {
         "name": "index",
         "rawType": "int64",
         "type": "integer"
        },
        {
         "name": "V0001",
         "rawType": "object",
         "type": "string"
        },
        {
         "name": "1.0",
         "rawType": "int64",
         "type": "integer"
        },
        {
         "name": "2.0",
         "rawType": "int64",
         "type": "integer"
        },
        {
         "name": "Possui bronquite(%)",
         "rawType": "float64",
         "type": "float"
        },
        {
         "name": "Nao possui bronquite(%)",
         "rawType": "float64",
         "type": "float"
        }
       ],
       "conversionMethod": "pd.DataFrame",
       "ref": "78ec0f52-76b9-455b-bfa1-b17b8825cfb9",
       "rows": [
        [
         "0",
         "Centro-Oeste",
         "480",
         "9918",
         "4.616272360069244",
         "95.38372763993075"
        ],
        [
         "1",
         "Nordeste",
         "1319",
         "30225",
         "4.181460816637078",
         "95.81853918336292"
        ],
        [
         "2",
         "Norte",
         "785",
         "16817",
         "4.459720486308374",
         "95.54027951369163"
        ],
        [
         "3",
         "Sudeste",
         "1153",
         "18677",
         "5.814422592032274",
         "94.18557740796773"
        ],
        [
         "4",
         "Sul",
         "730",
         "10742",
         "6.3633193863319395",
         "93.63668061366806"
        ]
       ],
       "shape": {
        "columns": 5,
        "rows": 5
       }
      },
      "text/html": [
       "<div>\n",
       "<style scoped>\n",
       "    .dataframe tbody tr th:only-of-type {\n",
       "        vertical-align: middle;\n",
       "    }\n",
       "\n",
       "    .dataframe tbody tr th {\n",
       "        vertical-align: top;\n",
       "    }\n",
       "\n",
       "    .dataframe thead th {\n",
       "        text-align: right;\n",
       "    }\n",
       "</style>\n",
       "<table border=\"1\" class=\"dataframe\">\n",
       "  <thead>\n",
       "    <tr style=\"text-align: right;\">\n",
       "      <th>Q074</th>\n",
       "      <th>V0001</th>\n",
       "      <th>1.0</th>\n",
       "      <th>2.0</th>\n",
       "      <th>Possui bronquite(%)</th>\n",
       "      <th>Nao possui bronquite(%)</th>\n",
       "    </tr>\n",
       "  </thead>\n",
       "  <tbody>\n",
       "    <tr>\n",
       "      <th>0</th>\n",
       "      <td>Centro-Oeste</td>\n",
       "      <td>480</td>\n",
       "      <td>9918</td>\n",
       "      <td>4.616272</td>\n",
       "      <td>95.383728</td>\n",
       "    </tr>\n",
       "    <tr>\n",
       "      <th>1</th>\n",
       "      <td>Nordeste</td>\n",
       "      <td>1319</td>\n",
       "      <td>30225</td>\n",
       "      <td>4.181461</td>\n",
       "      <td>95.818539</td>\n",
       "    </tr>\n",
       "    <tr>\n",
       "      <th>2</th>\n",
       "      <td>Norte</td>\n",
       "      <td>785</td>\n",
       "      <td>16817</td>\n",
       "      <td>4.459720</td>\n",
       "      <td>95.540280</td>\n",
       "    </tr>\n",
       "    <tr>\n",
       "      <th>3</th>\n",
       "      <td>Sudeste</td>\n",
       "      <td>1153</td>\n",
       "      <td>18677</td>\n",
       "      <td>5.814423</td>\n",
       "      <td>94.185577</td>\n",
       "    </tr>\n",
       "    <tr>\n",
       "      <th>4</th>\n",
       "      <td>Sul</td>\n",
       "      <td>730</td>\n",
       "      <td>10742</td>\n",
       "      <td>6.363319</td>\n",
       "      <td>93.636681</td>\n",
       "    </tr>\n",
       "  </tbody>\n",
       "</table>\n",
       "</div>"
      ],
      "text/plain": [
       "Q074         V0001   1.0    2.0  Possui bronquite(%)  Nao possui bronquite(%)\n",
       "0     Centro-Oeste   480   9918             4.616272                95.383728\n",
       "1         Nordeste  1319  30225             4.181461                95.818539\n",
       "2            Norte   785  16817             4.459720                95.540280\n",
       "3          Sudeste  1153  18677             5.814423                94.185577\n",
       "4              Sul   730  10742             6.363319                93.636681"
      ]
     },
     "execution_count": 32,
     "metadata": {},
     "output_type": "execute_result"
    }
   ],
   "source": [
    "contagem_regiao"
   ]
  },
  {
   "cell_type": "code",
   "execution_count": 33,
   "metadata": {},
   "outputs": [
    {
     "data": {
      "application/vnd.microsoft.datawrangler.viewer.v0+json": {
       "columns": [
        {
         "name": "index",
         "rawType": "object",
         "type": "string"
        },
        {
         "name": "1.0",
         "rawType": "float64",
         "type": "float"
        },
        {
         "name": "2.0",
         "rawType": "float64",
         "type": "float"
        },
        {
         "name": "Possui bronquite(%)",
         "rawType": "float64",
         "type": "float"
        },
        {
         "name": "Nao possui bronquite(%)",
         "rawType": "float64",
         "type": "float"
        }
       ],
       "conversionMethod": "pd.DataFrame",
       "ref": "108edac1-28c0-4686-88fe-6a7829c04c50",
       "rows": [
        [
         "count",
         "5.0",
         "5.0",
         "5.0",
         "5.0"
        ],
        [
         "mean",
         "893.4",
         "17275.8",
         "5.087039128275782",
         "94.91296087172422"
        ],
        [
         "std",
         "338.3331198685698",
         "8165.22202392562",
         "0.9477869100657793",
         "0.9477869100657773"
        ],
        [
         "min",
         "480.0",
         "9918.0",
         "4.181460816637078",
         "93.63668061366806"
        ],
        [
         "25%",
         "730.0",
         "10742.0",
         "4.459720486308374",
         "94.18557740796773"
        ],
        [
         "50%",
         "785.0",
         "16817.0",
         "4.616272360069244",
         "95.38372763993075"
        ],
        [
         "75%",
         "1153.0",
         "18677.0",
         "5.814422592032274",
         "95.54027951369163"
        ],
        [
         "max",
         "1319.0",
         "30225.0",
         "6.3633193863319395",
         "95.81853918336292"
        ]
       ],
       "shape": {
        "columns": 4,
        "rows": 8
       }
      },
      "text/html": [
       "<div>\n",
       "<style scoped>\n",
       "    .dataframe tbody tr th:only-of-type {\n",
       "        vertical-align: middle;\n",
       "    }\n",
       "\n",
       "    .dataframe tbody tr th {\n",
       "        vertical-align: top;\n",
       "    }\n",
       "\n",
       "    .dataframe thead th {\n",
       "        text-align: right;\n",
       "    }\n",
       "</style>\n",
       "<table border=\"1\" class=\"dataframe\">\n",
       "  <thead>\n",
       "    <tr style=\"text-align: right;\">\n",
       "      <th>Q074</th>\n",
       "      <th>1.0</th>\n",
       "      <th>2.0</th>\n",
       "      <th>Possui bronquite(%)</th>\n",
       "      <th>Nao possui bronquite(%)</th>\n",
       "    </tr>\n",
       "  </thead>\n",
       "  <tbody>\n",
       "    <tr>\n",
       "      <th>count</th>\n",
       "      <td>5.00000</td>\n",
       "      <td>5.000000</td>\n",
       "      <td>5.000000</td>\n",
       "      <td>5.000000</td>\n",
       "    </tr>\n",
       "    <tr>\n",
       "      <th>mean</th>\n",
       "      <td>893.40000</td>\n",
       "      <td>17275.800000</td>\n",
       "      <td>5.087039</td>\n",
       "      <td>94.912961</td>\n",
       "    </tr>\n",
       "    <tr>\n",
       "      <th>std</th>\n",
       "      <td>338.33312</td>\n",
       "      <td>8165.222024</td>\n",
       "      <td>0.947787</td>\n",
       "      <td>0.947787</td>\n",
       "    </tr>\n",
       "    <tr>\n",
       "      <th>min</th>\n",
       "      <td>480.00000</td>\n",
       "      <td>9918.000000</td>\n",
       "      <td>4.181461</td>\n",
       "      <td>93.636681</td>\n",
       "    </tr>\n",
       "    <tr>\n",
       "      <th>25%</th>\n",
       "      <td>730.00000</td>\n",
       "      <td>10742.000000</td>\n",
       "      <td>4.459720</td>\n",
       "      <td>94.185577</td>\n",
       "    </tr>\n",
       "    <tr>\n",
       "      <th>50%</th>\n",
       "      <td>785.00000</td>\n",
       "      <td>16817.000000</td>\n",
       "      <td>4.616272</td>\n",
       "      <td>95.383728</td>\n",
       "    </tr>\n",
       "    <tr>\n",
       "      <th>75%</th>\n",
       "      <td>1153.00000</td>\n",
       "      <td>18677.000000</td>\n",
       "      <td>5.814423</td>\n",
       "      <td>95.540280</td>\n",
       "    </tr>\n",
       "    <tr>\n",
       "      <th>max</th>\n",
       "      <td>1319.00000</td>\n",
       "      <td>30225.000000</td>\n",
       "      <td>6.363319</td>\n",
       "      <td>95.818539</td>\n",
       "    </tr>\n",
       "  </tbody>\n",
       "</table>\n",
       "</div>"
      ],
      "text/plain": [
       "Q074          1.0           2.0  Possui bronquite(%)  Nao possui bronquite(%)\n",
       "count     5.00000      5.000000             5.000000                 5.000000\n",
       "mean    893.40000  17275.800000             5.087039                94.912961\n",
       "std     338.33312   8165.222024             0.947787                 0.947787\n",
       "min     480.00000   9918.000000             4.181461                93.636681\n",
       "25%     730.00000  10742.000000             4.459720                94.185577\n",
       "50%     785.00000  16817.000000             4.616272                95.383728\n",
       "75%    1153.00000  18677.000000             5.814423                95.540280\n",
       "max    1319.00000  30225.000000             6.363319                95.818539"
      ]
     },
     "execution_count": 33,
     "metadata": {},
     "output_type": "execute_result"
    }
   ],
   "source": [
    "contagem_regiao.describe()"
   ]
  },
  {
   "cell_type": "code",
   "execution_count": 34,
   "metadata": {},
   "outputs": [
    {
     "data": {
      "text/plain": [
       "4467"
      ]
     },
     "execution_count": 34,
     "metadata": {},
     "output_type": "execute_result"
    }
   ],
   "source": [
    "contagem_regiao[1.0].sum()"
   ]
  },
  {
   "cell_type": "code",
   "execution_count": 35,
   "metadata": {},
   "outputs": [
    {
     "data": {
      "text/plain": [
       "86379"
      ]
     },
     "execution_count": 35,
     "metadata": {},
     "output_type": "execute_result"
    }
   ],
   "source": [
    "contagem_regiao[2.0].sum()"
   ]
  },
  {
   "cell_type": "code",
   "execution_count": 36,
   "metadata": {},
   "outputs": [
    {
     "name": "stdout",
     "output_type": "stream",
     "text": [
      "10398\n",
      "31544\n",
      "17602\n",
      "19830\n",
      "11472\n"
     ]
    }
   ],
   "source": [
    "for index, row in contagem_regiao.iterrows():\n",
    "    print(row[1.0]+row[2.0])"
   ]
  },
  {
   "cell_type": "code",
   "execution_count": 37,
   "metadata": {},
   "outputs": [
    {
     "data": {
      "text/plain": [
       "['Centro-Oeste', 'Nordeste', 'Norte', 'Sudeste', 'Sul']"
      ]
     },
     "execution_count": 37,
     "metadata": {},
     "output_type": "execute_result"
    }
   ],
   "source": [
    "lista_regioes = list(contagem_regiao['V0001'].values)\n",
    "lista_regioes"
   ]
  },
  {
   "cell_type": "code",
   "execution_count": 38,
   "metadata": {},
   "outputs": [],
   "source": [
    "def teste_chi_quadrado(lista):\n",
    "    for i in range(0,len(lista)):\n",
    "        for j in range(i+1,len(lista)):\n",
    "            nome_regiao = lista[i] + \"_\" + lista[j]\n",
    "            regioes = contagem_regiao.loc[(contagem_regiao['V0001'] == lista[i]) | (contagem_regiao['V0001'] == lista[j])][[1.0,2.0]]\n",
    "            chi2, p, dof, expected = stats.chi2_contingency(regioes)\n",
    "            print(f\"Região: {nome_regiao}\")\n",
    "            print(\"\\nResultados do teste de qui-quadrado:\")\n",
    "            print(f\"Estatística do teste de qui-quadrado: {chi2}\")\n",
    "            print(f\"Valor-p: {p:.20f}\")\n",
    "            print(f\"Graus de liberdade: {dof}\")\n",
    "            print(\"Tabela de frequências esperadas:\")\n",
    "            print(expected)\n",
    "            if p < 0.01:\n",
    "                print(\"Hipotese nula rejeitada\")\n",
    "            else:\n",
    "                print(\"Hipotese nula aceita\")\n",
    "            print(\"\\n===============================================\\n\")"
   ]
  },
  {
   "cell_type": "code",
   "execution_count": 39,
   "metadata": {},
   "outputs": [
    {
     "name": "stdout",
     "output_type": "stream",
     "text": [
      "Região: Centro-Oeste_Nordeste\n",
      "\n",
      "Resultados do teste de qui-quadrado:\n",
      "Estatística do teste de qui-quadrado: 3.496309067859852\n",
      "Valor-p: 0.06150576340514560258\n",
      "Graus de liberdade: 1\n",
      "Tabela de frequências esperadas:\n",
      "[[  445.99690048  9952.00309952]\n",
      " [ 1353.00309952 30190.99690048]]\n",
      "Hipotese nula aceita\n",
      "\n",
      "===============================================\n",
      "\n",
      "Região: Centro-Oeste_Norte\n",
      "\n",
      "Resultados do teste de qui-quadrado:\n",
      "Estatística do teste de qui-quadrado: 0.33597280099111587\n",
      "Valor-p: 0.56216307312259150564\n",
      "Graus de liberdade: 1\n",
      "Tabela de frequências esperadas:\n",
      "[[  469.76678571  9928.23321429]\n",
      " [  795.23321429 16806.76678571]]\n",
      "Hipotese nula aceita\n",
      "\n",
      "===============================================\n",
      "\n",
      "Região: Centro-Oeste_Sudeste\n",
      "\n",
      "Resultados do teste de qui-quadrado:\n",
      "Estatística do teste de qui-quadrado: 18.92770805477041\n",
      "Valor-p: 0.00001357663964988672\n",
      "Graus de liberdade: 1\n",
      "Tabela de frequências esperadas:\n",
      "[[  561.72866217  9836.27133783]\n",
      " [ 1071.27133783 18758.72866217]]\n",
      "Hipotese nula rejeitada\n",
      "\n",
      "===============================================\n",
      "\n",
      "Região: Centro-Oeste_Sul\n",
      "\n",
      "Resultados do teste de qui-quadrado:\n",
      "Estatística do teste de qui-quadrado: 31.51821423261344\n",
      "Valor-p: 0.00000001975782188848\n",
      "Graus de liberdade: 1\n",
      "Tabela de frequências esperadas:\n",
      "[[  575.28943759  9822.71056241]\n",
      " [  634.71056241 10837.28943759]]\n",
      "Hipotese nula rejeitada\n",
      "\n",
      "===============================================\n",
      "\n",
      "Região: Nordeste_Norte\n",
      "\n",
      "Resultados do teste de qui-quadrado:\n",
      "Estatística do teste de qui-quadrado: 2.0673317361032812\n",
      "Valor-p: 0.15048460177733538612\n",
      "Graus de liberdade: 1\n",
      "Tabela de frequências esperadas:\n",
      "[[ 1350.43698368 30193.56301632]\n",
      " [  753.56301632 16848.43698368]]\n",
      "Hipotese nula aceita\n",
      "\n",
      "===============================================\n",
      "\n",
      "Região: Nordeste_Sudeste\n",
      "\n",
      "Resultados do teste de qui-quadrado:\n",
      "Estatística do teste de qui-quadrado: 70.52981730967502\n",
      "Valor-p: 0.00000000000000004534\n",
      "Graus de liberdade: 1\n",
      "Tabela de frequências esperadas:\n",
      "[[ 1517.82551485 30026.17448515]\n",
      " [  954.17448515 18875.82551485]]\n",
      "Hipotese nula rejeitada\n",
      "\n",
      "===============================================\n",
      "\n",
      "Região: Nordeste_Sul\n",
      "\n",
      "Resultados do teste de qui-quadrado:\n",
      "Estatística do teste de qui-quadrado: 87.79983007432979\n",
      "Valor-p: 0.00000000000000000001\n",
      "Graus de liberdade: 1\n",
      "Tabela de frequências esperadas:\n",
      "[[ 1502.549191 30041.450809]\n",
      " [  546.450809 10925.549191]]\n",
      "Hipotese nula rejeitada\n",
      "\n",
      "===============================================\n",
      "\n",
      "Região: Norte_Sudeste\n",
      "\n",
      "Resultados do teste de qui-quadrado:\n",
      "Estatística do teste de qui-quadrado: 34.58293840739914\n",
      "Valor-p: 0.00000000408470836919\n",
      "Graus de liberdade: 1\n",
      "Tabela de frequências esperadas:\n",
      "[[  911.32389399 16690.67610601]\n",
      " [ 1026.67610601 18803.32389399]]\n",
      "Hipotese nula rejeitada\n",
      "\n",
      "===============================================\n",
      "\n",
      "Região: Norte_Sul\n",
      "\n",
      "Resultados do teste de qui-quadrado:\n",
      "Estatística do teste de qui-quadrado: 50.56961996007304\n",
      "Valor-p: 0.00000000000115011652\n",
      "Graus de liberdade: 1\n",
      "Tabela de frequências esperadas:\n",
      "[[  917.21228589 16684.78771411]\n",
      " [  597.78771411 10874.21228589]]\n",
      "Hipotese nula rejeitada\n",
      "\n",
      "===============================================\n",
      "\n",
      "Região: Sudeste_Sul\n",
      "\n",
      "Resultados do teste de qui-quadrado:\n",
      "Estatística do teste de qui-quadrado: 3.7764297310569743\n",
      "Valor-p: 0.05197946041667316636\n",
      "Graus de liberdade: 1\n",
      "Tabela de frequências esperadas:\n",
      "[[ 1192.89150853 18637.10849147]\n",
      " [  690.10849147 10781.89150853]]\n",
      "Hipotese nula aceita\n",
      "\n",
      "===============================================\n",
      "\n"
     ]
    }
   ],
   "source": [
    "teste_chi_quadrado(lista_regioes)"
   ]
  },
  {
   "cell_type": "markdown",
   "metadata": {},
   "source": [
    "## Analise por idade"
   ]
  },
  {
   "cell_type": "code",
   "execution_count": 40,
   "metadata": {},
   "outputs": [],
   "source": [
    "def grafico_idade(df):\n",
    "    ax = df.plot(kind='bar', stacked=True, figsize=(12, 6))\n",
    "\n",
    "    for i, v in enumerate(df):\n",
    "        ax.text(i, v + 0.2, str(v), ha='center', va='bottom', fontsize=12, color='black')\n",
    "    plt.xticks(rotation=45)\n",
    "    plt.yticks(np.arange(0, df.max(), step=df.max()/25))"
   ]
  },
  {
   "cell_type": "code",
   "execution_count": 41,
   "metadata": {},
   "outputs": [],
   "source": [
    "def grafico_idade_frequencia(df):\n",
    "    frequencia_acumulada = df.cumsum()\n",
    "\n",
    "    ax = df.plot(kind='bar', stacked=True, figsize=(12, 6))\n",
    "    frequencia_acumulada.plot(kind='line', marker='o', color='red', linewidth=2, label='Frequência Acumulada')\n",
    "\n",
    "    for i, v in enumerate(df):\n",
    "        ax.text(i, v + 0.2, str(v), ha='center', va='bottom', fontsize=12, color='black')\n",
    "        \n",
    "    for i, v in enumerate(frequencia_acumulada):\n",
    "        ax.text(i, v + 0.5, str(v), ha='center', va='bottom', fontsize=12, color='black')\n",
    "    plt.xticks(rotation=45)\n",
    "    plt.yticks(np.arange(0, df.sum(), step=df.sum()/25))\n",
    "    #plt.savefig('Graficos/grafico_bronquite_absoluto.png', dpi=300, bbox_inches='tight')"
   ]
  },
  {
   "cell_type": "code",
   "execution_count": 42,
   "metadata": {},
   "outputs": [],
   "source": [
    "bins = [0,10, 20, 30, 40, 50, 60, 70, 80, 90, 100, 110]\n",
    "labels = ['0-10','11-20', '21-30', '31-40','41-50','51-60','61-70','71-80','81-90','91-100','101-110']"
   ]
  },
  {
   "cell_type": "markdown",
   "metadata": {},
   "source": [
    "### Total"
   ]
  },
  {
   "cell_type": "code",
   "execution_count": 43,
   "metadata": {},
   "outputs": [
    {
     "data": {
      "application/vnd.microsoft.datawrangler.viewer.v0+json": {
       "columns": [
        {
         "name": "index",
         "rawType": "object",
         "type": "string"
        },
        {
         "name": "C008",
         "rawType": "float64",
         "type": "float"
        },
        {
         "name": "Q074",
         "rawType": "float64",
         "type": "float"
        },
        {
         "name": "Q075",
         "rawType": "float64",
         "type": "float"
        }
       ],
       "conversionMethod": "pd.DataFrame",
       "ref": "7f1639d7-1593-4765-b354-970e508a058c",
       "rows": [
        [
         "count",
         "90846.0",
         "90846.0",
         "4467.0"
        ],
        [
         "mean",
         "46.3948550293904",
         "1.950828875239416",
         "16.822028206850234"
        ],
        [
         "std",
         "17.597112713813345",
         "0.21622636263808742",
         "18.272857964894396"
        ],
        [
         "min",
         "15.0",
         "1.0",
         "0.0"
        ],
        [
         "25%",
         "32.0",
         "2.0",
         "4.0"
        ],
        [
         "50%",
         "45.0",
         "2.0",
         "10.0"
        ],
        [
         "75%",
         "60.0",
         "2.0",
         "25.0"
        ],
        [
         "max",
         "107.0",
         "2.0",
         "94.0"
        ]
       ],
       "shape": {
        "columns": 3,
        "rows": 8
       }
      },
      "text/html": [
       "<div>\n",
       "<style scoped>\n",
       "    .dataframe tbody tr th:only-of-type {\n",
       "        vertical-align: middle;\n",
       "    }\n",
       "\n",
       "    .dataframe tbody tr th {\n",
       "        vertical-align: top;\n",
       "    }\n",
       "\n",
       "    .dataframe thead th {\n",
       "        text-align: right;\n",
       "    }\n",
       "</style>\n",
       "<table border=\"1\" class=\"dataframe\">\n",
       "  <thead>\n",
       "    <tr style=\"text-align: right;\">\n",
       "      <th></th>\n",
       "      <th>C008</th>\n",
       "      <th>Q074</th>\n",
       "      <th>Q075</th>\n",
       "    </tr>\n",
       "  </thead>\n",
       "  <tbody>\n",
       "    <tr>\n",
       "      <th>count</th>\n",
       "      <td>90846.000000</td>\n",
       "      <td>90846.000000</td>\n",
       "      <td>4467.000000</td>\n",
       "    </tr>\n",
       "    <tr>\n",
       "      <th>mean</th>\n",
       "      <td>46.394855</td>\n",
       "      <td>1.950829</td>\n",
       "      <td>16.822028</td>\n",
       "    </tr>\n",
       "    <tr>\n",
       "      <th>std</th>\n",
       "      <td>17.597113</td>\n",
       "      <td>0.216226</td>\n",
       "      <td>18.272858</td>\n",
       "    </tr>\n",
       "    <tr>\n",
       "      <th>min</th>\n",
       "      <td>15.000000</td>\n",
       "      <td>1.000000</td>\n",
       "      <td>0.000000</td>\n",
       "    </tr>\n",
       "    <tr>\n",
       "      <th>25%</th>\n",
       "      <td>32.000000</td>\n",
       "      <td>2.000000</td>\n",
       "      <td>4.000000</td>\n",
       "    </tr>\n",
       "    <tr>\n",
       "      <th>50%</th>\n",
       "      <td>45.000000</td>\n",
       "      <td>2.000000</td>\n",
       "      <td>10.000000</td>\n",
       "    </tr>\n",
       "    <tr>\n",
       "      <th>75%</th>\n",
       "      <td>60.000000</td>\n",
       "      <td>2.000000</td>\n",
       "      <td>25.000000</td>\n",
       "    </tr>\n",
       "    <tr>\n",
       "      <th>max</th>\n",
       "      <td>107.000000</td>\n",
       "      <td>2.000000</td>\n",
       "      <td>94.000000</td>\n",
       "    </tr>\n",
       "  </tbody>\n",
       "</table>\n",
       "</div>"
      ],
      "text/plain": [
       "               C008          Q074         Q075\n",
       "count  90846.000000  90846.000000  4467.000000\n",
       "mean      46.394855      1.950829    16.822028\n",
       "std       17.597113      0.216226    18.272858\n",
       "min       15.000000      1.000000     0.000000\n",
       "25%       32.000000      2.000000     4.000000\n",
       "50%       45.000000      2.000000    10.000000\n",
       "75%       60.000000      2.000000    25.000000\n",
       "max      107.000000      2.000000    94.000000"
      ]
     },
     "execution_count": 43,
     "metadata": {},
     "output_type": "execute_result"
    }
   ],
   "source": [
    "pns.describe()"
   ]
  },
  {
   "cell_type": "code",
   "execution_count": 44,
   "metadata": {},
   "outputs": [
    {
     "name": "stderr",
     "output_type": "stream",
     "text": [
      "/tmp/ipykernel_8806/1701878012.py:3: FutureWarning: The default of observed=False is deprecated and will be changed to True in a future version of pandas. Pass observed=False to retain current behavior or observed=True to adopt the future default and silence this warning.\n",
      "  contagem_idade = tmp.groupby('Faixa Etaria').size()\n"
     ]
    }
   ],
   "source": [
    "tmp = pns.copy()\n",
    "tmp['Faixa Etaria'] = pd.cut(pns['C008'], bins=bins, labels=labels,right=False)\n",
    "contagem_idade = tmp.groupby('Faixa Etaria').size()"
   ]
  },
  {
   "cell_type": "code",
   "execution_count": 45,
   "metadata": {},
   "outputs": [
    {
     "data": {
      "text/plain": [
       "Faixa Etaria\n",
       "0-10           0\n",
       "11-20       4336\n",
       "21-30      13373\n",
       "31-40      18150\n",
       "41-50      16602\n",
       "51-60      15657\n",
       "61-70      12555\n",
       "71-80       7157\n",
       "81-90       2580\n",
       "91-100       413\n",
       "101-110       23\n",
       "dtype: int64"
      ]
     },
     "execution_count": 45,
     "metadata": {},
     "output_type": "execute_result"
    }
   ],
   "source": [
    "contagem_idade"
   ]
  },
  {
   "cell_type": "code",
   "execution_count": 46,
   "metadata": {},
   "outputs": [
    {
     "data": {
      "text/plain": [
       "90846"
      ]
     },
     "execution_count": 46,
     "metadata": {},
     "output_type": "execute_result"
    }
   ],
   "source": [
    "contagem_idade.sum()"
   ]
  },
  {
   "cell_type": "code",
   "execution_count": 47,
   "metadata": {},
   "outputs": [
    {
     "data": {
      "text/plain": [
       "[]"
      ]
     },
     "execution_count": 47,
     "metadata": {},
     "output_type": "execute_result"
    },
    {
     "data": {
      "image/png": "[encoded data removed]",
      "text/plain": [
       "<Figure size 1200x600 with 1 Axes>"
      ]
     },
     "metadata": {},
     "output_type": "display_data"
    }
   ],
   "source": [
    "grafico_idade(contagem_idade)\n",
    "plt.xlabel('Faixa etaria')\n",
    "plt.ylabel('Número de Pessoas')\n",
    "plt.title('Faixa etaria de todos que responderam por valor absolutola')\n",
    "plt.plot()"
   ]
  },
  {
   "cell_type": "code",
   "execution_count": 48,
   "metadata": {},
   "outputs": [
    {
     "data": {
      "text/plain": [
       "[]"
      ]
     },
     "execution_count": 48,
     "metadata": {},
     "output_type": "execute_result"
    },
    {
     "data": {
      "image/png": "[encoded data removed]",
      "text/plain": [
       "<Figure size 1200x600 with 1 Axes>"
      ]
     },
     "metadata": {},
     "output_type": "display_data"
    }
   ],
   "source": [
    "grafico_idade_frequencia(contagem_idade)\n",
    "plt.xlabel('Faixa etaria')\n",
    "plt.ylabel('Número de Pessoas')\n",
    "plt.title('Faixa etaria de todos que responderam por valor absoluto e acumulativo')\n",
    "plt.plot()"
   ]
  },
  {
   "cell_type": "markdown",
   "metadata": {},
   "source": [
    "### Quando recebeu diagnostico"
   ]
  },
  {
   "cell_type": "code",
   "execution_count": 49,
   "metadata": {},
   "outputs": [
    {
     "data": {
      "application/vnd.microsoft.datawrangler.viewer.v0+json": {
       "columns": [
        {
         "name": "index",
         "rawType": "int64",
         "type": "integer"
        },
        {
         "name": "V0001",
         "rawType": "object",
         "type": "string"
        },
        {
         "name": "C008",
         "rawType": "int64",
         "type": "integer"
        },
        {
         "name": "Q074",
         "rawType": "float64",
         "type": "float"
        },
        {
         "name": "Q075",
         "rawType": "float64",
         "type": "float"
        }
       ],
       "conversionMethod": "pd.DataFrame",
       "ref": "2aec7978-5bf9-4dbe-b8b4-24b42c0b9f12",
       "rows": [
        [
         "0",
         "Rondônia",
         "55",
         "2.0",
         null
        ],
        [
         "9",
         "Rondônia",
         "19",
         "2.0",
         null
        ],
        [
         "10",
         "Rondônia",
         "45",
         "2.0",
         null
        ],
        [
         "18",
         "Rondônia",
         "58",
         "2.0",
         null
        ],
        [
         "19",
         "Rondônia",
         "28",
         "2.0",
         null
        ],
        [
         "21",
         "Rondônia",
         "81",
         "2.0",
         null
        ],
        [
         "22",
         "Rondônia",
         "41",
         "2.0",
         null
        ],
        [
         "26",
         "Rondônia",
         "38",
         "2.0",
         null
        ],
        [
         "29",
         "Rondônia",
         "33",
         "2.0",
         null
        ],
        [
         "31",
         "Rondônia",
         "81",
         "2.0",
         null
        ],
        [
         "32",
         "Rondônia",
         "52",
         "2.0",
         null
        ],
        [
         "34",
         "Rondônia",
         "36",
         "2.0",
         null
        ],
        [
         "35",
         "Rondônia",
         "56",
         "2.0",
         null
        ],
        [
         "41",
         "Rondônia",
         "22",
         "2.0",
         null
        ],
        [
         "44",
         "Rondônia",
         "35",
         "2.0",
         null
        ],
        [
         "51",
         "Rondônia",
         "42",
         "2.0",
         null
        ],
        [
         "56",
         "Rondônia",
         "24",
         "2.0",
         null
        ],
        [
         "57",
         "Rondônia",
         "32",
         "2.0",
         null
        ],
        [
         "59",
         "Rondônia",
         "50",
         "2.0",
         null
        ],
        [
         "60",
         "Rondônia",
         "66",
         "2.0",
         null
        ],
        [
         "61",
         "Rondônia",
         "47",
         "2.0",
         null
        ],
        [
         "62",
         "Rondônia",
         "33",
         "1.0",
         "3.0"
        ],
        [
         "65",
         "Rondônia",
         "20",
         "2.0",
         null
        ],
        [
         "73",
         "Rondônia",
         "49",
         "2.0",
         null
        ],
        [
         "76",
         "Rondônia",
         "40",
         "2.0",
         null
        ],
        [
         "79",
         "Rondônia",
         "30",
         "2.0",
         null
        ],
        [
         "89",
         "Rondônia",
         "77",
         "2.0",
         null
        ],
        [
         "91",
         "Rondônia",
         "65",
         "2.0",
         null
        ],
        [
         "94",
         "Rondônia",
         "61",
         "2.0",
         null
        ],
        [
         "96",
         "Rondônia",
         "59",
         "2.0",
         null
        ],
        [
         "99",
         "Rondônia",
         "39",
         "2.0",
         null
        ],
        [
         "103",
         "Rondônia",
         "69",
         "2.0",
         null
        ],
        [
         "117",
         "Rondônia",
         "68",
         "2.0",
         null
        ],
        [
         "119",
         "Rondônia",
         "36",
         "2.0",
         null
        ],
        [
         "125",
         "Rondônia",
         "56",
         "2.0",
         null
        ],
        [
         "127",
         "Rondônia",
         "48",
         "2.0",
         null
        ],
        [
         "136",
         "Rondônia",
         "33",
         "2.0",
         null
        ],
        [
         "140",
         "Rondônia",
         "64",
         "2.0",
         null
        ],
        [
         "142",
         "Rondônia",
         "44",
         "2.0",
         null
        ],
        [
         "148",
         "Rondônia",
         "37",
         "2.0",
         null
        ],
        [
         "152",
         "Rondônia",
         "36",
         "2.0",
         null
        ],
        [
         "156",
         "Rondônia",
         "63",
         "2.0",
         null
        ],
        [
         "170",
         "Rondônia",
         "23",
         "2.0",
         null
        ],
        [
         "176",
         "Rondônia",
         "38",
         "2.0",
         null
        ],
        [
         "181",
         "Rondônia",
         "58",
         "2.0",
         null
        ],
        [
         "183",
         "Rondônia",
         "64",
         "2.0",
         null
        ],
        [
         "186",
         "Rondônia",
         "26",
         "2.0",
         null
        ],
        [
         "197",
         "Rondônia",
         "35",
         "2.0",
         null
        ],
        [
         "200",
         "Rondônia",
         "61",
         "2.0",
         null
        ],
        [
         "204",
         "Rondônia",
         "57",
         "2.0",
         null
        ]
       ],
       "shape": {
        "columns": 4,
        "rows": 90846
       }
      },
      "text/html": [
       "<div>\n",
       "<style scoped>\n",
       "    .dataframe tbody tr th:only-of-type {\n",
       "        vertical-align: middle;\n",
       "    }\n",
       "\n",
       "    .dataframe tbody tr th {\n",
       "        vertical-align: top;\n",
       "    }\n",
       "\n",
       "    .dataframe thead th {\n",
       "        text-align: right;\n",
       "    }\n",
       "</style>\n",
       "<table border=\"1\" class=\"dataframe\">\n",
       "  <thead>\n",
       "    <tr style=\"text-align: right;\">\n",
       "      <th></th>\n",
       "      <th>V0001</th>\n",
       "      <th>C008</th>\n",
       "      <th>Q074</th>\n",
       "      <th>Q075</th>\n",
       "    </tr>\n",
       "  </thead>\n",
       "  <tbody>\n",
       "    <tr>\n",
       "      <th>0</th>\n",
       "      <td>Rondônia</td>\n",
       "      <td>55</td>\n",
       "      <td>2.0</td>\n",
       "      <td>NaN</td>\n",
       "    </tr>\n",
       "    <tr>\n",
       "      <th>9</th>\n",
       "      <td>Rondônia</td>\n",
       "      <td>19</td>\n",
       "      <td>2.0</td>\n",
       "      <td>NaN</td>\n",
       "    </tr>\n",
       "    <tr>\n",
       "      <th>10</th>\n",
       "      <td>Rondônia</td>\n",
       "      <td>45</td>\n",
       "      <td>2.0</td>\n",
       "      <td>NaN</td>\n",
       "    </tr>\n",
       "    <tr>\n",
       "      <th>18</th>\n",
       "      <td>Rondônia</td>\n",
       "      <td>58</td>\n",
       "      <td>2.0</td>\n",
       "      <td>NaN</td>\n",
       "    </tr>\n",
       "    <tr>\n",
       "      <th>19</th>\n",
       "      <td>Rondônia</td>\n",
       "      <td>28</td>\n",
       "      <td>2.0</td>\n",
       "      <td>NaN</td>\n",
       "    </tr>\n",
       "    <tr>\n",
       "      <th>...</th>\n",
       "      <td>...</td>\n",
       "      <td>...</td>\n",
       "      <td>...</td>\n",
       "      <td>...</td>\n",
       "    </tr>\n",
       "    <tr>\n",
       "      <th>293709</th>\n",
       "      <td>Distrito Federal</td>\n",
       "      <td>54</td>\n",
       "      <td>2.0</td>\n",
       "      <td>NaN</td>\n",
       "    </tr>\n",
       "    <tr>\n",
       "      <th>293712</th>\n",
       "      <td>Distrito Federal</td>\n",
       "      <td>44</td>\n",
       "      <td>2.0</td>\n",
       "      <td>NaN</td>\n",
       "    </tr>\n",
       "    <tr>\n",
       "      <th>293713</th>\n",
       "      <td>Distrito Federal</td>\n",
       "      <td>32</td>\n",
       "      <td>2.0</td>\n",
       "      <td>NaN</td>\n",
       "    </tr>\n",
       "    <tr>\n",
       "      <th>293718</th>\n",
       "      <td>Distrito Federal</td>\n",
       "      <td>54</td>\n",
       "      <td>2.0</td>\n",
       "      <td>NaN</td>\n",
       "    </tr>\n",
       "    <tr>\n",
       "      <th>293720</th>\n",
       "      <td>Distrito Federal</td>\n",
       "      <td>32</td>\n",
       "      <td>2.0</td>\n",
       "      <td>NaN</td>\n",
       "    </tr>\n",
       "  </tbody>\n",
       "</table>\n",
       "<p>90846 rows × 4 columns</p>\n",
       "</div>"
      ],
      "text/plain": [
       "                   V0001  C008  Q074  Q075\n",
       "0               Rondônia    55   2.0   NaN\n",
       "9               Rondônia    19   2.0   NaN\n",
       "10              Rondônia    45   2.0   NaN\n",
       "18              Rondônia    58   2.0   NaN\n",
       "19              Rondônia    28   2.0   NaN\n",
       "...                  ...   ...   ...   ...\n",
       "293709  Distrito Federal    54   2.0   NaN\n",
       "293712  Distrito Federal    44   2.0   NaN\n",
       "293713  Distrito Federal    32   2.0   NaN\n",
       "293718  Distrito Federal    54   2.0   NaN\n",
       "293720  Distrito Federal    32   2.0   NaN\n",
       "\n",
       "[90846 rows x 4 columns]"
      ]
     },
     "execution_count": 49,
     "metadata": {},
     "output_type": "execute_result"
    }
   ],
   "source": [
    "pns"
   ]
  },
  {
   "cell_type": "code",
   "execution_count": 50,
   "metadata": {},
   "outputs": [],
   "source": [
    "tmp = pns.copy()\n",
    "tmp['V0001'] = pns['V0001'].map(mapeamento_regiao)"
   ]
  },
  {
   "cell_type": "code",
   "execution_count": 51,
   "metadata": {},
   "outputs": [],
   "source": [
    "tmp = tmp.dropna(subset=['Q075'])"
   ]
  },
  {
   "cell_type": "code",
   "execution_count": 52,
   "metadata": {},
   "outputs": [
    {
     "name": "stdout",
     "output_type": "stream",
     "text": [
      "<class 'pandas.core.frame.DataFrame'>\n",
      "Index: 4467 entries, 62 to 293702\n",
      "Data columns (total 4 columns):\n",
      " #   Column  Non-Null Count  Dtype  \n",
      "---  ------  --------------  -----  \n",
      " 0   V0001   4467 non-null   object \n",
      " 1   C008    4467 non-null   int64  \n",
      " 2   Q074    4467 non-null   float64\n",
      " 3   Q075    4467 non-null   float64\n",
      "dtypes: float64(2), int64(1), object(1)\n",
      "memory usage: 174.5+ KB\n"
     ]
    }
   ],
   "source": [
    "tmp.info()"
   ]
  },
  {
   "cell_type": "code",
   "execution_count": 53,
   "metadata": {},
   "outputs": [
    {
     "data": {
      "application/vnd.microsoft.datawrangler.viewer.v0+json": {
       "columns": [
        {
         "name": "index",
         "rawType": "object",
         "type": "string"
        },
        {
         "name": "C008",
         "rawType": "float64",
         "type": "float"
        },
        {
         "name": "Q074",
         "rawType": "float64",
         "type": "float"
        },
        {
         "name": "Q075",
         "rawType": "float64",
         "type": "float"
        }
       ],
       "conversionMethod": "pd.DataFrame",
       "ref": "4b9658c6-7eb1-4500-88d6-4b705174c2cf",
       "rows": [
        [
         "count",
         "4467.0",
         "4467.0",
         "4467.0"
        ],
        [
         "mean",
         "44.072979628385944",
         "1.0",
         "16.822028206850234"
        ],
        [
         "std",
         "17.832367461926243",
         "0.0",
         "18.272857964894396"
        ],
        [
         "min",
         "15.0",
         "1.0",
         "0.0"
        ],
        [
         "25%",
         "30.0",
         "1.0",
         "4.0"
        ],
        [
         "50%",
         "42.0",
         "1.0",
         "10.0"
        ],
        [
         "75%",
         "58.0",
         "1.0",
         "25.0"
        ],
        [
         "max",
         "100.0",
         "1.0",
         "94.0"
        ]
       ],
       "shape": {
        "columns": 3,
        "rows": 8
       }
      },
      "text/html": [
       "<div>\n",
       "<style scoped>\n",
       "    .dataframe tbody tr th:only-of-type {\n",
       "        vertical-align: middle;\n",
       "    }\n",
       "\n",
       "    .dataframe tbody tr th {\n",
       "        vertical-align: top;\n",
       "    }\n",
       "\n",
       "    .dataframe thead th {\n",
       "        text-align: right;\n",
       "    }\n",
       "</style>\n",
       "<table border=\"1\" class=\"dataframe\">\n",
       "  <thead>\n",
       "    <tr style=\"text-align: right;\">\n",
       "      <th></th>\n",
       "      <th>C008</th>\n",
       "      <th>Q074</th>\n",
       "      <th>Q075</th>\n",
       "    </tr>\n",
       "  </thead>\n",
       "  <tbody>\n",
       "    <tr>\n",
       "      <th>count</th>\n",
       "      <td>4467.000000</td>\n",
       "      <td>4467.0</td>\n",
       "      <td>4467.000000</td>\n",
       "    </tr>\n",
       "    <tr>\n",
       "      <th>mean</th>\n",
       "      <td>44.072980</td>\n",
       "      <td>1.0</td>\n",
       "      <td>16.822028</td>\n",
       "    </tr>\n",
       "    <tr>\n",
       "      <th>std</th>\n",
       "      <td>17.832367</td>\n",
       "      <td>0.0</td>\n",
       "      <td>18.272858</td>\n",
       "    </tr>\n",
       "    <tr>\n",
       "      <th>min</th>\n",
       "      <td>15.000000</td>\n",
       "      <td>1.0</td>\n",
       "      <td>0.000000</td>\n",
       "    </tr>\n",
       "    <tr>\n",
       "      <th>25%</th>\n",
       "      <td>30.000000</td>\n",
       "      <td>1.0</td>\n",
       "      <td>4.000000</td>\n",
       "    </tr>\n",
       "    <tr>\n",
       "      <th>50%</th>\n",
       "      <td>42.000000</td>\n",
       "      <td>1.0</td>\n",
       "      <td>10.000000</td>\n",
       "    </tr>\n",
       "    <tr>\n",
       "      <th>75%</th>\n",
       "      <td>58.000000</td>\n",
       "      <td>1.0</td>\n",
       "      <td>25.000000</td>\n",
       "    </tr>\n",
       "    <tr>\n",
       "      <th>max</th>\n",
       "      <td>100.000000</td>\n",
       "      <td>1.0</td>\n",
       "      <td>94.000000</td>\n",
       "    </tr>\n",
       "  </tbody>\n",
       "</table>\n",
       "</div>"
      ],
      "text/plain": [
       "              C008    Q074         Q075\n",
       "count  4467.000000  4467.0  4467.000000\n",
       "mean     44.072980     1.0    16.822028\n",
       "std      17.832367     0.0    18.272858\n",
       "min      15.000000     1.0     0.000000\n",
       "25%      30.000000     1.0     4.000000\n",
       "50%      42.000000     1.0    10.000000\n",
       "75%      58.000000     1.0    25.000000\n",
       "max     100.000000     1.0    94.000000"
      ]
     },
     "execution_count": 53,
     "metadata": {},
     "output_type": "execute_result"
    }
   ],
   "source": [
    "tmp.describe()"
   ]
  },
  {
   "cell_type": "code",
   "execution_count": 58,
   "metadata": {},
   "outputs": [
    {
     "data": {
      "text/plain": [
       "V0001\n",
       "Nordeste        1319\n",
       "Sudeste         1153\n",
       "Norte            785\n",
       "Sul              730\n",
       "Centro-Oeste     480\n",
       "Name: count, dtype: int64"
      ]
     },
     "execution_count": 58,
     "metadata": {},
     "output_type": "execute_result"
    }
   ],
   "source": [
    "tmp['V0001'].value_counts()"
   ]
  },
  {
   "cell_type": "code",
   "execution_count": 59,
   "metadata": {},
   "outputs": [
    {
     "name": "stderr",
     "output_type": "stream",
     "text": [
      "/tmp/ipykernel_8806/3975566826.py:6: FutureWarning: The default of observed=False is deprecated and will be changed to True in a future version of pandas. Pass observed=False to retain current behavior or observed=True to adopt the future default and silence this warning.\n",
      "  contagem_idade_regiao = tmp.groupby(['V0001', 'Faixa Etaria']).size().unstack(fill_value=0)\n"
     ]
    }
   ],
   "source": [
    "tmp['Faixa Etaria'] = pd.cut(pns['Q075'], bins=bins, labels=labels,right=False)\n",
    "reg1 = ['Norte', 'Nordeste', 'Centro-Oeste']\n",
    "reg2 = ['Sudeste', 'Sul']\n",
    "tmp.loc[tmp['V0001'].isin(reg1), 'V0001'] = 'NNCO'\n",
    "tmp.loc[tmp['V0001'].isin(reg2), 'V0001'] = 'SS'\n",
    "contagem_idade_regiao = tmp.groupby(['V0001', 'Faixa Etaria']).size().unstack(fill_value=0)"
   ]
  },
  {
   "cell_type": "code",
   "execution_count": 61,
   "metadata": {},
   "outputs": [
    {
     "name": "stdout",
     "output_type": "stream",
     "text": [
      "15.90828173374613\n",
      "17.2870513930403\n"
     ]
    },
    {
     "data": {
      "image/png": "[encoded data removed]",
      "text/plain": [
       "<Figure size 1200x600 with 1 Axes>"
      ]
     },
     "metadata": {},
     "output_type": "display_data"
    },
    {
     "name": "stdout",
     "output_type": "stream",
     "text": [
      "18.07594264471588\n",
      "19.479929727000215\n"
     ]
    },
    {
     "data": {
      "image/png": "[encoded data removed]",
      "text/plain": [
       "<Figure size 1200x600 with 1 Axes>"
      ]
     },
     "metadata": {},
     "output_type": "display_data"
    }
   ],
   "source": [
    "def calcular_media_desvio(df, regiao):\n",
    "    idades = df[df['V0001'] == regiao]['Q075']\n",
    "    media = idades.mean()\n",
    "    desvio_padrao = idades.std()\n",
    "    return media, desvio_padrao\n",
    "\n",
    "for regiao in contagem_idade_regiao.index:\n",
    "    contagem_idade_regiao.loc[regiao].plot(kind='line', marker='o', figsize=(12, 6))\n",
    "    \n",
    "    media, desvio_padrao = calcular_media_desvio(tmp, regiao)\n",
    "    plt.axvline(x=media/10, color='red', linestyle='--', label=f'Média: {media:.2f}')\n",
    "    print(media)\n",
    "    print(desvio_padrao)\n",
    "    \n",
    "    plt.axvspan((media - desvio_padrao)/10, (media + desvio_padrao)/10, color='yellow', alpha=0.3, label='1 Desvio Padrão')\n",
    "    plt.title(f'Distribuição de Faixas Etárias para a Região {regiao}')\n",
    "    plt.xlabel('Faixa Etária')\n",
    "    plt.ylabel('Frequência absoluta')\n",
    "    plt.xticks(rotation=0,ticks=range(len(contagem_idade_regiao.columns)), labels=labels)\n",
    "    \n",
    "    for i, v in enumerate(contagem_idade_regiao.loc[regiao]):\n",
    "        plt.text(i, v + 0.2, str(v), ha='center', va='bottom', fontsize=12, color='black')\n",
    "    \n",
    "    plt.legend()\n",
    "    # Exibindo o gráfico\n",
    "    #plt.savefig(f'Graficos/dist_faixas_etarias_{regiao}', dpi=300, bbox_inches='tight')\n",
    "    plt.show()\n"
   ]
  },
  {
   "cell_type": "code",
   "execution_count": 63,
   "metadata": {},
   "outputs": [
    {
     "data": {
      "image/png": "[encoded data removed]",
      "text/plain": [
       "<Figure size 1200x800 with 1 Axes>"
      ]
     },
     "metadata": {},
     "output_type": "display_data"
    }
   ],
   "source": [
    "plt.figure(figsize=(12, 8))\n",
    "\n",
    "for regiao in contagem_idade_regiao.index:\n",
    "    frequencia_acumulada = contagem_idade_regiao.loc[regiao].cumsum()\n",
    "    \n",
    "    linha, =plt.plot(frequencia_acumulada, marker='o', label=f'Região {regiao}')\n",
    "    for x, y in enumerate(frequencia_acumulada):\n",
    "        plt.text(x, y + 0.5, str(y), ha='center', va='bottom', fontsize=10, color=linha.get_color())\n",
    "\n",
    "plt.title('Frequência Acumulada por Faixa Etária para Cada Região')\n",
    "plt.xlabel('Faixa Etária')\n",
    "plt.ylabel('Frequência Acumulada')\n",
    "plt.yticks(np.arange(0, 1400, step=150))\n",
    "plt.xticks(rotation=0) \n",
    "\n",
    "plt.legend(title='Região', bbox_to_anchor=(1.05, 1), loc='upper left')\n",
    "\n",
    "plt.grid(True, linestyle='--', alpha=0.6)\n",
    "\n",
    "plt.tight_layout()  # Ajusta o layout para evitar cortes\n",
    "#plt.savefig(f'Graficos/frequencia_acumulativa_regioes', dpi=300, bbox_inches='tight')\n",
    "plt.show()"
   ]
  }
 ],
 "metadata": {
  "kernelspec": {
   "display_name": "Python 3",
   "language": "python",
   "name": "python3"
  },
  "language_info": {
   "codemirror_mode": {
    "name": "ipython",
    "version": 3
   },
   "file_extension": ".py",
   "mimetype": "text/x-python",
   "name": "python",
   "nbconvert_exporter": "python",
   "pygments_lexer": "ipython3",
   "version": "3.12.3"
  }
 },
 "nbformat": 4,
 "nbformat_minor": 2
}
