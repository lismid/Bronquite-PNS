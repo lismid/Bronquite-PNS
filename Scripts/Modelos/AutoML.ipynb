{
 "cells": [
  {
   "cell_type": "code",
   "execution_count": 111,
   "id": "b1dca191",
   "metadata": {},
   "outputs": [],
   "source": [
    "import pandas as pd\n",
    "import evalml\n",
    "from evalml import AutoMLSearch\n",
    "from evalml.preprocessing import split_data\n",
    "from evalml.problem_types import ProblemTypes\n",
    "from evalml.objectives.utils import get_optimization_objectives\n",
    "from sklearn.metrics import classification_report"
   ]
  },
  {
   "cell_type": "code",
   "execution_count": 112,
   "id": "1f4caa1a",
   "metadata": {},
   "outputs": [
    {
     "name": "stdout",
     "output_type": "stream",
     "text": [
      "Usando: cuda\n"
     ]
    }
   ],
   "source": [
    "import torch\n",
    "\n",
    "# Verifica se a GPU está disponível\n",
    "device = torch.device(\"cuda\" if torch.cuda.is_available() else \"cpu\")\n",
    "print(f\"Usando: {device}\")\n",
    "\n",
    "# Move tensores/modelos para a GPU\n",
    "tensor_cpu = torch.tensor([1.0, 2.0, 3.0])\n",
    "tensor_gpu = tensor_cpu.to(device)  # Movendo para GPU\n",
    "\n",
    "# Modelos também precisam ser movidos\n",
    "model = torch.nn.Linear(3, 1).to(device)\n",
    "output = model(tensor_gpu)  # Executa na GPU"
   ]
  },
  {
   "cell_type": "markdown",
   "id": "61b39195",
   "metadata": {},
   "source": [
    "base = pd.read_excel(\"../../Bases/Base_plano_Cartesiano.xlsx\")\n",
    "base.drop(columns=['V0024', 'UPA_PNS', 'V0006_PNS', 'C00301', 'C004', 'L01701', 'L018', 'M01601', 'Q11006'], inplace=True)"
   ]
  },
  {
   "cell_type": "code",
   "execution_count": 113,
   "id": "5a47b6c6",
   "metadata": {},
   "outputs": [],
   "source": [
    "base = pd.read_excel(\"../../Bases/Base_tratada.xlsx\")"
   ]
  },
  {
   "cell_type": "markdown",
   "id": "d732f14c",
   "metadata": {},
   "source": [
    "### Treino e teste"
   ]
  },
  {
   "cell_type": "code",
   "execution_count": 114,
   "id": "8fb05aeb",
   "metadata": {},
   "outputs": [],
   "source": [
    "X_prev = base.drop(columns=['Q074'])\n",
    "y_classe = base['Q074']"
   ]
  },
  {
   "cell_type": "code",
   "execution_count": 115,
   "id": "fc2b941f",
   "metadata": {},
   "outputs": [
    {
     "name": "stderr",
     "output_type": "stream",
     "text": [
      "/home/arthur/.local/lib/python3.12/site-packages/woodwork/type_sys/utils.py:33: UserWarning: Could not infer format, so each element will be parsed individually, falling back to `dateutil`. To ensure parsing is consistent and as-expected, please specify a format.\n",
      "  pd.to_datetime(\n",
      "/home/arthur/.local/lib/python3.12/site-packages/woodwork/type_sys/utils.py:33: UserWarning: Could not infer format, so each element will be parsed individually, falling back to `dateutil`. To ensure parsing is consistent and as-expected, please specify a format.\n",
      "  pd.to_datetime(\n",
      "/home/arthur/.local/lib/python3.12/site-packages/woodwork/type_sys/utils.py:33: UserWarning: Could not infer format, so each element will be parsed individually, falling back to `dateutil`. To ensure parsing is consistent and as-expected, please specify a format.\n",
      "  pd.to_datetime(\n",
      "/home/arthur/.local/lib/python3.12/site-packages/woodwork/type_sys/utils.py:33: UserWarning: Could not infer format, so each element will be parsed individually, falling back to `dateutil`. To ensure parsing is consistent and as-expected, please specify a format.\n",
      "  pd.to_datetime(\n",
      "/home/arthur/.local/lib/python3.12/site-packages/woodwork/type_sys/utils.py:33: UserWarning: Could not infer format, so each element will be parsed individually, falling back to `dateutil`. To ensure parsing is consistent and as-expected, please specify a format.\n",
      "  pd.to_datetime(\n",
      "/home/arthur/.local/lib/python3.12/site-packages/woodwork/type_sys/utils.py:33: UserWarning: Could not infer format, so each element will be parsed individually, falling back to `dateutil`. To ensure parsing is consistent and as-expected, please specify a format.\n",
      "  pd.to_datetime(\n",
      "/home/arthur/.local/lib/python3.12/site-packages/woodwork/type_sys/utils.py:33: UserWarning: Could not infer format, so each element will be parsed individually, falling back to `dateutil`. To ensure parsing is consistent and as-expected, please specify a format.\n",
      "  pd.to_datetime(\n",
      "/home/arthur/.local/lib/python3.12/site-packages/woodwork/type_sys/utils.py:33: UserWarning: Could not infer format, so each element will be parsed individually, falling back to `dateutil`. To ensure parsing is consistent and as-expected, please specify a format.\n",
      "  pd.to_datetime(\n",
      "/home/arthur/.local/lib/python3.12/site-packages/woodwork/type_sys/utils.py:33: UserWarning: Could not infer format, so each element will be parsed individually, falling back to `dateutil`. To ensure parsing is consistent and as-expected, please specify a format.\n",
      "  pd.to_datetime(\n",
      "/home/arthur/.local/lib/python3.12/site-packages/woodwork/type_sys/utils.py:33: UserWarning: Could not infer format, so each element will be parsed individually, falling back to `dateutil`. To ensure parsing is consistent and as-expected, please specify a format.\n",
      "  pd.to_datetime(\n",
      "/home/arthur/.local/lib/python3.12/site-packages/woodwork/type_sys/utils.py:33: UserWarning: Could not infer format, so each element will be parsed individually, falling back to `dateutil`. To ensure parsing is consistent and as-expected, please specify a format.\n",
      "  pd.to_datetime(\n",
      "/home/arthur/.local/lib/python3.12/site-packages/woodwork/type_sys/utils.py:33: UserWarning: Could not infer format, so each element will be parsed individually, falling back to `dateutil`. To ensure parsing is consistent and as-expected, please specify a format.\n",
      "  pd.to_datetime(\n",
      "/home/arthur/.local/lib/python3.12/site-packages/woodwork/type_sys/utils.py:33: UserWarning: Could not infer format, so each element will be parsed individually, falling back to `dateutil`. To ensure parsing is consistent and as-expected, please specify a format.\n",
      "  pd.to_datetime(\n",
      "/home/arthur/.local/lib/python3.12/site-packages/woodwork/type_sys/utils.py:33: UserWarning: Could not infer format, so each element will be parsed individually, falling back to `dateutil`. To ensure parsing is consistent and as-expected, please specify a format.\n",
      "  pd.to_datetime(\n",
      "/home/arthur/.local/lib/python3.12/site-packages/woodwork/type_sys/utils.py:33: UserWarning: Could not infer format, so each element will be parsed individually, falling back to `dateutil`. To ensure parsing is consistent and as-expected, please specify a format.\n",
      "  pd.to_datetime(\n",
      "/home/arthur/.local/lib/python3.12/site-packages/woodwork/type_sys/utils.py:33: UserWarning: Could not infer format, so each element will be parsed individually, falling back to `dateutil`. To ensure parsing is consistent and as-expected, please specify a format.\n",
      "  pd.to_datetime(\n"
     ]
    }
   ],
   "source": [
    "X_train, X_test, y_train, y_test = split_data(X_prev, y_classe, problem_type='binary', test_size=0.3, random_seed=42)"
   ]
  },
  {
   "cell_type": "markdown",
   "id": "3a59195a",
   "metadata": {},
   "source": [
    "## AutoML"
   ]
  },
  {
   "cell_type": "code",
   "execution_count": 116,
   "id": "00a12b79",
   "metadata": {},
   "outputs": [],
   "source": [
    "problem_type = ProblemTypes.BINARY "
   ]
  },
  {
   "cell_type": "code",
   "execution_count": 117,
   "id": "63fa4b2a",
   "metadata": {},
   "outputs": [
    {
     "name": "stdout",
     "output_type": "stream",
     "text": [
      "Métricas permitidas para otimização:\n",
      "['MCC Binary', 'Log Loss Binary', 'Gini', 'AUC', 'Precision', 'F1', 'Balanced Accuracy Binary', 'Accuracy Binary']\n"
     ]
    }
   ],
   "source": [
    "print(\"Métricas permitidas para otimização:\")\n",
    "print([obj.name for obj in get_optimization_objectives('binary')])"
   ]
  },
  {
   "cell_type": "code",
   "execution_count": null,
   "id": "c242cb65",
   "metadata": {},
   "outputs": [],
   "source": [
    "automl = AutoMLSearch(\n",
    "    X_train=X_train, \n",
    "    y_train=y_train,\n",
    "    problem_type=problem_type,\n",
    "    objective='log loss binary',  # Métrica de avaliação\n",
    "    additional_objectives=['f1', 'Accuracy Binary', 'Balanced Accuracy Binary'],\n",
    "    max_batches=50,\n",
    "    # max_iterations=50,\n",
    "    optimize_thresholds=True,\n",
    "    \n",
    "    # allowed_model_families=['random_forest', 'xgboost', 'linear_model', 'catboost', 'extra_trees', \"linear_model\", ],\n",
    "    random_seed=42\n",
    ")"
   ]
  },
  {
   "cell_type": "code",
   "execution_count": 119,
   "id": "6c52a413",
   "metadata": {},
   "outputs": [
    {
     "data": {
      "text/plain": [
       "{1: {'Random Forest Classifier w/ Label Encoder + Imputer + One Hot Encoder + Undersampler + RF Classifier Select From Model': 3.15895676612854,\n",
       "  'Total time of batch': 3.273808002471924},\n",
       " 2: {'LightGBM Classifier w/ Label Encoder + Select Columns By Type Transformer + Label Encoder + Imputer + Select Columns Transformer + Select Columns Transformer + Label Encoder + Imputer + One Hot Encoder + Undersampler': 1.564589500427246,\n",
       "  'Extra Trees Classifier w/ Label Encoder + Select Columns By Type Transformer + Label Encoder + Imputer + Select Columns Transformer + Select Columns Transformer + Label Encoder + Imputer + One Hot Encoder + Undersampler': 2.012467384338379,\n",
       "  'Elastic Net Classifier w/ Label Encoder + Select Columns By Type Transformer + Label Encoder + Imputer + Standard Scaler + Select Columns Transformer + Select Columns Transformer + Label Encoder + Imputer + One Hot Encoder + Standard Scaler + Undersampler': 1.8659491539001465,\n",
       "  'XGBoost Classifier w/ Label Encoder + Select Columns By Type Transformer + Label Encoder + Imputer + Select Columns Transformer + Select Columns Transformer + Label Encoder + Imputer + One Hot Encoder + Undersampler': 1.4975595474243164,\n",
       "  'Logistic Regression Classifier w/ Label Encoder + Select Columns By Type Transformer + Label Encoder + Imputer + Standard Scaler + Select Columns Transformer + Select Columns Transformer + Label Encoder + Imputer + One Hot Encoder + Standard Scaler + Undersampler': 2.5878472328186035,\n",
       "  'Total time of batch': 10.215634822845459},\n",
       " 3: {'Random Forest Classifier w/ Label Encoder + Select Columns By Type Transformer + Label Encoder + Imputer + Select Columns Transformer + Select Columns Transformer + Label Encoder + Imputer + One Hot Encoder + Undersampler': 3.490232467651367,\n",
       "  'Elastic Net Classifier w/ Label Encoder + Select Columns By Type Transformer + Label Encoder + Imputer + Standard Scaler + Select Columns Transformer + Select Columns Transformer + Label Encoder + Imputer + One Hot Encoder + Standard Scaler + Undersampler': 2.179147958755493,\n",
       "  'Extra Trees Classifier w/ Label Encoder + Select Columns By Type Transformer + Label Encoder + Imputer + Select Columns Transformer + Select Columns Transformer + Label Encoder + Imputer + One Hot Encoder + Undersampler': 2.9843153953552246,\n",
       "  'Total time of batch': 5842.545969963074},\n",
       " 4: {'Random Forest Classifier w/ Label Encoder + Select Columns By Type Transformer + Label Encoder + Imputer + Select Columns Transformer + Select Columns Transformer + Label Encoder + Imputer + One Hot Encoder + Undersampler': 2.205483913421631,\n",
       "  'Elastic Net Classifier w/ Label Encoder + Select Columns By Type Transformer + Label Encoder + Imputer + Standard Scaler + Select Columns Transformer + Select Columns Transformer + Label Encoder + Imputer + One Hot Encoder + Standard Scaler + Undersampler': 2.1543161869049072,\n",
       "  'Extra Trees Classifier w/ Label Encoder + Select Columns By Type Transformer + Label Encoder + Imputer + Select Columns Transformer + Select Columns Transformer + Label Encoder + Imputer + One Hot Encoder + Undersampler': 5.66341495513916,\n",
       "  'Total time of batch': 93.27603840827942},\n",
       " 5: {'Random Forest Classifier w/ Label Encoder + Select Columns By Type Transformer + Label Encoder + Imputer + Select Columns Transformer + Select Columns Transformer + Label Encoder + Imputer + One Hot Encoder + Undersampler': 1.8299717903137207,\n",
       "  'Elastic Net Classifier w/ Label Encoder + Select Columns By Type Transformer + Label Encoder + Imputer + Standard Scaler + Select Columns Transformer + Select Columns Transformer + Label Encoder + Imputer + One Hot Encoder + Standard Scaler + Undersampler': 1.9957191944122314,\n",
       "  'Extra Trees Classifier w/ Label Encoder + Select Columns By Type Transformer + Label Encoder + Imputer + Select Columns Transformer + Select Columns Transformer + Label Encoder + Imputer + One Hot Encoder + Undersampler': 2.1540727615356445,\n",
       "  'Total time of batch': 65.44824647903442},\n",
       " 6: {'Random Forest Classifier w/ Label Encoder + Select Columns By Type Transformer + Label Encoder + Imputer + Select Columns Transformer + Select Columns Transformer + Label Encoder + Imputer + One Hot Encoder + Undersampler': 1.7914366722106934,\n",
       "  'Elastic Net Classifier w/ Label Encoder + Select Columns By Type Transformer + Label Encoder + Imputer + Standard Scaler + Select Columns Transformer + Select Columns Transformer + Label Encoder + Imputer + One Hot Encoder + Standard Scaler + Undersampler': 1.6957197189331055,\n",
       "  'Extra Trees Classifier w/ Label Encoder + Select Columns By Type Transformer + Label Encoder + Imputer + Select Columns Transformer + Select Columns Transformer + Label Encoder + Imputer + One Hot Encoder + Undersampler': 2.1775171756744385,\n",
       "  'Total time of batch': 63.41542673110962},\n",
       " 7: {'Random Forest Classifier w/ Label Encoder + Select Columns By Type Transformer + Label Encoder + Imputer + Select Columns Transformer + Select Columns Transformer + Label Encoder + Imputer + One Hot Encoder + Undersampler': 2.2599825859069824,\n",
       "  'Elastic Net Classifier w/ Label Encoder + Select Columns By Type Transformer + Label Encoder + Imputer + Standard Scaler + Select Columns Transformer + Select Columns Transformer + Label Encoder + Imputer + One Hot Encoder + Standard Scaler + Undersampler': 1.6598432064056396,\n",
       "  'Extra Trees Classifier w/ Label Encoder + Select Columns By Type Transformer + Label Encoder + Imputer + Select Columns Transformer + Select Columns Transformer + Label Encoder + Imputer + One Hot Encoder + Undersampler': 2.144212484359741,\n",
       "  'Total time of batch': 65.75544619560242},\n",
       " 8: {'Random Forest Classifier w/ Label Encoder + Select Columns By Type Transformer + Label Encoder + Imputer + Select Columns Transformer + Select Columns Transformer + Label Encoder + Imputer + One Hot Encoder + Undersampler': 1.8021955490112305,\n",
       "  'Elastic Net Classifier w/ Label Encoder + Select Columns By Type Transformer + Label Encoder + Imputer + Standard Scaler + Select Columns Transformer + Select Columns Transformer + Label Encoder + Imputer + One Hot Encoder + Standard Scaler + Undersampler': 2.0635385513305664,\n",
       "  'Extra Trees Classifier w/ Label Encoder + Select Columns By Type Transformer + Label Encoder + Imputer + Select Columns Transformer + Select Columns Transformer + Label Encoder + Imputer + One Hot Encoder + Undersampler': 4.944135904312134,\n",
       "  'Total time of batch': 94.24627494812012},\n",
       " 9: {'Random Forest Classifier w/ Label Encoder + Select Columns By Type Transformer + Label Encoder + Imputer + Select Columns Transformer + Select Columns Transformer + Label Encoder + Imputer + One Hot Encoder + Undersampler': 1.3643903732299805,\n",
       "  'Elastic Net Classifier w/ Label Encoder + Select Columns By Type Transformer + Label Encoder + Imputer + Standard Scaler + Select Columns Transformer + Select Columns Transformer + Label Encoder + Imputer + One Hot Encoder + Standard Scaler + Undersampler': 1.6115992069244385,\n",
       "  'Extra Trees Classifier w/ Label Encoder + Select Columns By Type Transformer + Label Encoder + Imputer + Select Columns Transformer + Select Columns Transformer + Label Encoder + Imputer + One Hot Encoder + Undersampler': 1.4995155334472656,\n",
       "  'Total time of batch': 49.58523082733154},\n",
       " 10: {'Random Forest Classifier w/ Label Encoder + Select Columns By Type Transformer + Label Encoder + Imputer + Select Columns Transformer + Select Columns Transformer + Label Encoder + Imputer + One Hot Encoder + Undersampler': 1.429713249206543,\n",
       "  'Elastic Net Classifier w/ Label Encoder + Select Columns By Type Transformer + Label Encoder + Imputer + Standard Scaler + Select Columns Transformer + Select Columns Transformer + Label Encoder + Imputer + One Hot Encoder + Standard Scaler + Undersampler': 1.475935935974121,\n",
       "  'Extra Trees Classifier w/ Label Encoder + Select Columns By Type Transformer + Label Encoder + Imputer + Select Columns Transformer + Select Columns Transformer + Label Encoder + Imputer + One Hot Encoder + Undersampler': 1.5477056503295898,\n",
       "  'Total time of batch': 48.37049126625061},\n",
       " 11: {'Random Forest Classifier w/ Label Encoder + Select Columns By Type Transformer + Label Encoder + Imputer + Select Columns Transformer + Select Columns Transformer + Label Encoder + Imputer + One Hot Encoder + Undersampler': 1.4281072616577148,\n",
       "  'Elastic Net Classifier w/ Label Encoder + Select Columns By Type Transformer + Label Encoder + Imputer + Standard Scaler + Select Columns Transformer + Select Columns Transformer + Label Encoder + Imputer + One Hot Encoder + Standard Scaler + Undersampler': 1.5308685302734375,\n",
       "  'Extra Trees Classifier w/ Label Encoder + Select Columns By Type Transformer + Label Encoder + Imputer + Select Columns Transformer + Select Columns Transformer + Label Encoder + Imputer + One Hot Encoder + Undersampler': 1.6920604705810547,\n",
       "  'Total time of batch': 48.940593242645264},\n",
       " 12: {'Random Forest Classifier w/ Label Encoder + Select Columns By Type Transformer + Label Encoder + Imputer + Select Columns Transformer + Select Columns Transformer + Label Encoder + Imputer + One Hot Encoder + Undersampler': 1.2408952713012695,\n",
       "  'Elastic Net Classifier w/ Label Encoder + Select Columns By Type Transformer + Label Encoder + Imputer + Standard Scaler + Select Columns Transformer + Select Columns Transformer + Label Encoder + Imputer + One Hot Encoder + Standard Scaler + Undersampler': 1.9414923191070557,\n",
       "  'Extra Trees Classifier w/ Label Encoder + Select Columns By Type Transformer + Label Encoder + Imputer + Select Columns Transformer + Select Columns Transformer + Label Encoder + Imputer + One Hot Encoder + Undersampler': 1.6051316261291504,\n",
       "  'Total time of batch': 49.84569835662842},\n",
       " 13: {'Random Forest Classifier w/ Label Encoder + Select Columns By Type Transformer + Label Encoder + Imputer + Select Columns Transformer + Select Columns Transformer + Label Encoder + Imputer + One Hot Encoder + Undersampler': 1.7446672916412354,\n",
       "  'Elastic Net Classifier w/ Label Encoder + Select Columns By Type Transformer + Label Encoder + Imputer + Standard Scaler + Select Columns Transformer + Select Columns Transformer + Label Encoder + Imputer + One Hot Encoder + Standard Scaler + Undersampler': 1.6156139373779297,\n",
       "  'Extra Trees Classifier w/ Label Encoder + Select Columns By Type Transformer + Label Encoder + Imputer + Select Columns Transformer + Select Columns Transformer + Label Encoder + Imputer + One Hot Encoder + Undersampler': 1.6687729358673096,\n",
       "  'Total time of batch': 52.43183135986328},\n",
       " 14: {'Random Forest Classifier w/ Label Encoder + Select Columns By Type Transformer + Label Encoder + Imputer + Select Columns Transformer + Select Columns Transformer + Label Encoder + Imputer + One Hot Encoder + Undersampler': 2.0095083713531494,\n",
       "  'Elastic Net Classifier w/ Label Encoder + Select Columns By Type Transformer + Label Encoder + Imputer + Standard Scaler + Select Columns Transformer + Select Columns Transformer + Label Encoder + Imputer + One Hot Encoder + Standard Scaler + Undersampler': 1.858307123184204,\n",
       "  'Extra Trees Classifier w/ Label Encoder + Select Columns By Type Transformer + Label Encoder + Imputer + Select Columns Transformer + Select Columns Transformer + Label Encoder + Imputer + One Hot Encoder + Undersampler': 1.5363247394561768,\n",
       "  'Total time of batch': 60.80930280685425},\n",
       " 15: {'Random Forest Classifier w/ Label Encoder + Select Columns By Type Transformer + Label Encoder + Imputer + Select Columns Transformer + Select Columns Transformer + Label Encoder + Imputer + One Hot Encoder + Undersampler': 1.4607539176940918,\n",
       "  'Elastic Net Classifier w/ Label Encoder + Select Columns By Type Transformer + Label Encoder + Imputer + Standard Scaler + Select Columns Transformer + Select Columns Transformer + Label Encoder + Imputer + One Hot Encoder + Standard Scaler + Undersampler': 1.8014581203460693,\n",
       "  'Extra Trees Classifier w/ Label Encoder + Select Columns By Type Transformer + Label Encoder + Imputer + Select Columns Transformer + Select Columns Transformer + Label Encoder + Imputer + One Hot Encoder + Undersampler': 1.5172231197357178,\n",
       "  'Total time of batch': 51.91494083404541},\n",
       " 16: {'Random Forest Classifier w/ Label Encoder + Select Columns By Type Transformer + Label Encoder + Imputer + Select Columns Transformer + Select Columns Transformer + Label Encoder + Imputer + One Hot Encoder + Undersampler': 1.4710750579833984,\n",
       "  'Elastic Net Classifier w/ Label Encoder + Select Columns By Type Transformer + Label Encoder + Imputer + Standard Scaler + Select Columns Transformer + Select Columns Transformer + Label Encoder + Imputer + One Hot Encoder + Standard Scaler + Undersampler': 1.4990534782409668,\n",
       "  'Extra Trees Classifier w/ Label Encoder + Select Columns By Type Transformer + Label Encoder + Imputer + Select Columns Transformer + Select Columns Transformer + Label Encoder + Imputer + One Hot Encoder + Undersampler': 1.4813566207885742,\n",
       "  'Total time of batch': 48.275522232055664},\n",
       " 17: {'Random Forest Classifier w/ Label Encoder + Select Columns By Type Transformer + Label Encoder + Imputer + Select Columns Transformer + Select Columns Transformer + Label Encoder + Imputer + One Hot Encoder + Undersampler': 1.3986971378326416,\n",
       "  'Elastic Net Classifier w/ Label Encoder + Select Columns By Type Transformer + Label Encoder + Imputer + Standard Scaler + Select Columns Transformer + Select Columns Transformer + Label Encoder + Imputer + One Hot Encoder + Standard Scaler + Undersampler': 1.5853750705718994,\n",
       "  'Extra Trees Classifier w/ Label Encoder + Select Columns By Type Transformer + Label Encoder + Imputer + Select Columns Transformer + Select Columns Transformer + Label Encoder + Imputer + One Hot Encoder + Undersampler': 1.6548914909362793,\n",
       "  'Total time of batch': 49.7651629447937},\n",
       " 18: {'Random Forest Classifier w/ Label Encoder + Select Columns By Type Transformer + Label Encoder + Imputer + Select Columns Transformer + Select Columns Transformer + Label Encoder + Imputer + One Hot Encoder + Undersampler': 1.4708342552185059,\n",
       "  'Elastic Net Classifier w/ Label Encoder + Select Columns By Type Transformer + Label Encoder + Imputer + Standard Scaler + Select Columns Transformer + Select Columns Transformer + Label Encoder + Imputer + One Hot Encoder + Standard Scaler + Undersampler': 1.7947278022766113,\n",
       "  'Extra Trees Classifier w/ Label Encoder + Select Columns By Type Transformer + Label Encoder + Imputer + Select Columns Transformer + Select Columns Transformer + Label Encoder + Imputer + One Hot Encoder + Undersampler': 1.83878493309021,\n",
       "  'Total time of batch': 54.9925901889801},\n",
       " 19: {'Random Forest Classifier w/ Label Encoder + Select Columns By Type Transformer + Label Encoder + Imputer + Select Columns Transformer + Select Columns Transformer + Label Encoder + Imputer + One Hot Encoder + Undersampler': 1.2757723331451416,\n",
       "  'Elastic Net Classifier w/ Label Encoder + Select Columns By Type Transformer + Label Encoder + Imputer + Standard Scaler + Select Columns Transformer + Select Columns Transformer + Label Encoder + Imputer + One Hot Encoder + Standard Scaler + Undersampler': 1.839616060256958,\n",
       "  'Extra Trees Classifier w/ Label Encoder + Select Columns By Type Transformer + Label Encoder + Imputer + Select Columns Transformer + Select Columns Transformer + Label Encoder + Imputer + One Hot Encoder + Undersampler': 3.204420566558838,\n",
       "  'Total time of batch': 67.39069604873657},\n",
       " 20: {'Random Forest Classifier w/ Label Encoder + Select Columns By Type Transformer + Label Encoder + Imputer + Select Columns Transformer + Select Columns Transformer + Label Encoder + Imputer + One Hot Encoder + Undersampler': 1.5398333072662354,\n",
       "  'Elastic Net Classifier w/ Label Encoder + Select Columns By Type Transformer + Label Encoder + Imputer + Standard Scaler + Select Columns Transformer + Select Columns Transformer + Label Encoder + Imputer + One Hot Encoder + Standard Scaler + Undersampler': 1.6064956188201904,\n",
       "  'Extra Trees Classifier w/ Label Encoder + Select Columns By Type Transformer + Label Encoder + Imputer + Select Columns Transformer + Select Columns Transformer + Label Encoder + Imputer + One Hot Encoder + Undersampler': 1.5507636070251465,\n",
       "  'Total time of batch': 50.925288677215576},\n",
       " 21: {'Random Forest Classifier w/ Label Encoder + Select Columns By Type Transformer + Label Encoder + Imputer + Select Columns Transformer + Select Columns Transformer + Label Encoder + Imputer + One Hot Encoder + Undersampler': 1.458120346069336,\n",
       "  'Elastic Net Classifier w/ Label Encoder + Select Columns By Type Transformer + Label Encoder + Imputer + Standard Scaler + Select Columns Transformer + Select Columns Transformer + Label Encoder + Imputer + One Hot Encoder + Standard Scaler + Undersampler': 1.7484467029571533,\n",
       "  'Extra Trees Classifier w/ Label Encoder + Select Columns By Type Transformer + Label Encoder + Imputer + Select Columns Transformer + Select Columns Transformer + Label Encoder + Imputer + One Hot Encoder + Undersampler': 2.204149007797241,\n",
       "  'Total time of batch': 58.410383462905884},\n",
       " 22: {'Random Forest Classifier w/ Label Encoder + Select Columns By Type Transformer + Label Encoder + Imputer + Select Columns Transformer + Select Columns Transformer + Label Encoder + Imputer + One Hot Encoder + Undersampler': 1.4316275119781494,\n",
       "  'Elastic Net Classifier w/ Label Encoder + Select Columns By Type Transformer + Label Encoder + Imputer + Standard Scaler + Select Columns Transformer + Select Columns Transformer + Label Encoder + Imputer + One Hot Encoder + Standard Scaler + Undersampler': 1.5635087490081787,\n",
       "  'Extra Trees Classifier w/ Label Encoder + Select Columns By Type Transformer + Label Encoder + Imputer + Select Columns Transformer + Select Columns Transformer + Label Encoder + Imputer + One Hot Encoder + Undersampler': 1.416151523590088,\n",
       "  'Total time of batch': 48.079622745513916},\n",
       " 23: {'Random Forest Classifier w/ Label Encoder + Select Columns By Type Transformer + Label Encoder + Imputer + Select Columns Transformer + Select Columns Transformer + Label Encoder + Imputer + One Hot Encoder + Undersampler': 1.5635745525360107,\n",
       "  'Elastic Net Classifier w/ Label Encoder + Select Columns By Type Transformer + Label Encoder + Imputer + Standard Scaler + Select Columns Transformer + Select Columns Transformer + Label Encoder + Imputer + One Hot Encoder + Standard Scaler + Undersampler': 1.6227846145629883,\n",
       "  'Extra Trees Classifier w/ Label Encoder + Select Columns By Type Transformer + Label Encoder + Imputer + Select Columns Transformer + Select Columns Transformer + Label Encoder + Imputer + One Hot Encoder + Undersampler': 1.8198978900909424,\n",
       "  'Total time of batch': 51.33297610282898},\n",
       " 24: {'Random Forest Classifier w/ Label Encoder + Select Columns By Type Transformer + Label Encoder + Imputer + Select Columns Transformer + Select Columns Transformer + Label Encoder + Imputer + One Hot Encoder + Undersampler': 1.4533867835998535,\n",
       "  'Elastic Net Classifier w/ Label Encoder + Select Columns By Type Transformer + Label Encoder + Imputer + Standard Scaler + Select Columns Transformer + Select Columns Transformer + Label Encoder + Imputer + One Hot Encoder + Standard Scaler + Undersampler': 1.5355496406555176,\n",
       "  'Extra Trees Classifier w/ Label Encoder + Select Columns By Type Transformer + Label Encoder + Imputer + Select Columns Transformer + Select Columns Transformer + Label Encoder + Imputer + One Hot Encoder + Undersampler': 3.4324800968170166,\n",
       "  'Total time of batch': 66.10525918006897},\n",
       " 25: {'Random Forest Classifier w/ Label Encoder + Select Columns By Type Transformer + Label Encoder + Imputer + Select Columns Transformer + Select Columns Transformer + Label Encoder + Imputer + One Hot Encoder + Undersampler': 1.4901409149169922,\n",
       "  'Elastic Net Classifier w/ Label Encoder + Select Columns By Type Transformer + Label Encoder + Imputer + Standard Scaler + Select Columns Transformer + Select Columns Transformer + Label Encoder + Imputer + One Hot Encoder + Standard Scaler + Undersampler': 1.6516423225402832,\n",
       "  'Extra Trees Classifier w/ Label Encoder + Select Columns By Type Transformer + Label Encoder + Imputer + Select Columns Transformer + Select Columns Transformer + Label Encoder + Imputer + One Hot Encoder + Undersampler': 1.4541757106781006,\n",
       "  'Total time of batch': 49.932021379470825},\n",
       " 26: {'Random Forest Classifier w/ Label Encoder + Select Columns By Type Transformer + Label Encoder + Imputer + Select Columns Transformer + Select Columns Transformer + Label Encoder + Imputer + One Hot Encoder + Undersampler': 1.8324766159057617,\n",
       "  'Elastic Net Classifier w/ Label Encoder + Select Columns By Type Transformer + Label Encoder + Imputer + Standard Scaler + Select Columns Transformer + Select Columns Transformer + Label Encoder + Imputer + One Hot Encoder + Standard Scaler + Undersampler': 1.6638593673706055,\n",
       "  'Extra Trees Classifier w/ Label Encoder + Select Columns By Type Transformer + Label Encoder + Imputer + Select Columns Transformer + Select Columns Transformer + Label Encoder + Imputer + One Hot Encoder + Undersampler': 1.9646308422088623,\n",
       "  'Total time of batch': 56.584991455078125},\n",
       " 27: {'Random Forest Classifier w/ Label Encoder + Select Columns By Type Transformer + Label Encoder + Imputer + Select Columns Transformer + Select Columns Transformer + Label Encoder + Imputer + One Hot Encoder + Undersampler': 1.3254303932189941,\n",
       "  'Elastic Net Classifier w/ Label Encoder + Select Columns By Type Transformer + Label Encoder + Imputer + Standard Scaler + Select Columns Transformer + Select Columns Transformer + Label Encoder + Imputer + One Hot Encoder + Standard Scaler + Undersampler': 1.7181422710418701,\n",
       "  'Extra Trees Classifier w/ Label Encoder + Select Columns By Type Transformer + Label Encoder + Imputer + Select Columns Transformer + Select Columns Transformer + Label Encoder + Imputer + One Hot Encoder + Undersampler': 3.2574288845062256,\n",
       "  'Total time of batch': 64.53505063056946},\n",
       " 28: {'Random Forest Classifier w/ Label Encoder + Select Columns By Type Transformer + Label Encoder + Imputer + Select Columns Transformer + Select Columns Transformer + Label Encoder + Imputer + One Hot Encoder + Undersampler': 1.362654209136963,\n",
       "  'Elastic Net Classifier w/ Label Encoder + Select Columns By Type Transformer + Label Encoder + Imputer + Standard Scaler + Select Columns Transformer + Select Columns Transformer + Label Encoder + Imputer + One Hot Encoder + Standard Scaler + Undersampler': 1.503237247467041,\n",
       "  'Extra Trees Classifier w/ Label Encoder + Select Columns By Type Transformer + Label Encoder + Imputer + Select Columns Transformer + Select Columns Transformer + Label Encoder + Imputer + One Hot Encoder + Undersampler': 2.194525718688965,\n",
       "  'Total time of batch': 54.426093101501465},\n",
       " 29: {'Random Forest Classifier w/ Label Encoder + Select Columns By Type Transformer + Label Encoder + Imputer + Select Columns Transformer + Select Columns Transformer + Label Encoder + Imputer + One Hot Encoder + Undersampler': 1.596639633178711,\n",
       "  'Elastic Net Classifier w/ Label Encoder + Select Columns By Type Transformer + Label Encoder + Imputer + Standard Scaler + Select Columns Transformer + Select Columns Transformer + Label Encoder + Imputer + One Hot Encoder + Standard Scaler + Undersampler': 1.7900090217590332,\n",
       "  'Extra Trees Classifier w/ Label Encoder + Select Columns By Type Transformer + Label Encoder + Imputer + Select Columns Transformer + Select Columns Transformer + Label Encoder + Imputer + One Hot Encoder + Undersampler': 1.4210517406463623,\n",
       "  'Total time of batch': 49.9011332988739},\n",
       " 30: {'Random Forest Classifier w/ Label Encoder + Select Columns By Type Transformer + Label Encoder + Imputer + Select Columns Transformer + Select Columns Transformer + Label Encoder + Imputer + One Hot Encoder + Undersampler': 1.2169952392578125,\n",
       "  'Elastic Net Classifier w/ Label Encoder + Select Columns By Type Transformer + Label Encoder + Imputer + Standard Scaler + Select Columns Transformer + Select Columns Transformer + Label Encoder + Imputer + One Hot Encoder + Standard Scaler + Undersampler': 1.5031402111053467,\n",
       "  'Extra Trees Classifier w/ Label Encoder + Select Columns By Type Transformer + Label Encoder + Imputer + Select Columns Transformer + Select Columns Transformer + Label Encoder + Imputer + One Hot Encoder + Undersampler': 1.617140293121338,\n",
       "  'Total time of batch': 47.434916496276855},\n",
       " 31: {'Random Forest Classifier w/ Label Encoder + Select Columns By Type Transformer + Label Encoder + Imputer + Select Columns Transformer + Select Columns Transformer + Label Encoder + Imputer + One Hot Encoder + Undersampler': 1.2761898040771484,\n",
       "  'Elastic Net Classifier w/ Label Encoder + Select Columns By Type Transformer + Label Encoder + Imputer + Standard Scaler + Select Columns Transformer + Select Columns Transformer + Label Encoder + Imputer + One Hot Encoder + Standard Scaler + Undersampler': 1.4851694107055664,\n",
       "  'Extra Trees Classifier w/ Label Encoder + Select Columns By Type Transformer + Label Encoder + Imputer + Select Columns Transformer + Select Columns Transformer + Label Encoder + Imputer + One Hot Encoder + Undersampler': 2.09614634513855,\n",
       "  'Total time of batch': 52.51395106315613},\n",
       " 32: {'Random Forest Classifier w/ Label Encoder + Select Columns By Type Transformer + Label Encoder + Imputer + Select Columns Transformer + Select Columns Transformer + Label Encoder + Imputer + One Hot Encoder + Undersampler': 1.2467155456542969,\n",
       "  'Elastic Net Classifier w/ Label Encoder + Select Columns By Type Transformer + Label Encoder + Imputer + Standard Scaler + Select Columns Transformer + Select Columns Transformer + Label Encoder + Imputer + One Hot Encoder + Standard Scaler + Undersampler': 1.7561681270599365,\n",
       "  'Extra Trees Classifier w/ Label Encoder + Select Columns By Type Transformer + Label Encoder + Imputer + Select Columns Transformer + Select Columns Transformer + Label Encoder + Imputer + One Hot Encoder + Undersampler': 1.6778523921966553,\n",
       "  'Total time of batch': 48.41551661491394},\n",
       " 33: {'Random Forest Classifier w/ Label Encoder + Select Columns By Type Transformer + Label Encoder + Imputer + Select Columns Transformer + Select Columns Transformer + Label Encoder + Imputer + One Hot Encoder + Undersampler': 1.2352306842803955,\n",
       "  'Elastic Net Classifier w/ Label Encoder + Select Columns By Type Transformer + Label Encoder + Imputer + Standard Scaler + Select Columns Transformer + Select Columns Transformer + Label Encoder + Imputer + One Hot Encoder + Standard Scaler + Undersampler': 1.583674430847168,\n",
       "  'Extra Trees Classifier w/ Label Encoder + Select Columns By Type Transformer + Label Encoder + Imputer + Select Columns Transformer + Select Columns Transformer + Label Encoder + Imputer + One Hot Encoder + Undersampler': 1.8117997646331787,\n",
       "  'Total time of batch': 50.32905030250549},\n",
       " 34: {'Random Forest Classifier w/ Label Encoder + Select Columns By Type Transformer + Label Encoder + Imputer + Select Columns Transformer + Select Columns Transformer + Label Encoder + Imputer + One Hot Encoder + Undersampler': 1.6053714752197266,\n",
       "  'Elastic Net Classifier w/ Label Encoder + Select Columns By Type Transformer + Label Encoder + Imputer + Standard Scaler + Select Columns Transformer + Select Columns Transformer + Label Encoder + Imputer + One Hot Encoder + Standard Scaler + Undersampler': 1.8320887088775635,\n",
       "  'Extra Trees Classifier w/ Label Encoder + Select Columns By Type Transformer + Label Encoder + Imputer + Select Columns Transformer + Select Columns Transformer + Label Encoder + Imputer + One Hot Encoder + Undersampler': 1.600053310394287,\n",
       "  'Total time of batch': 54.36541962623596},\n",
       " 35: {'Random Forest Classifier w/ Label Encoder + Select Columns By Type Transformer + Label Encoder + Imputer + Select Columns Transformer + Select Columns Transformer + Label Encoder + Imputer + One Hot Encoder + Undersampler': 4.183435440063477,\n",
       "  'Elastic Net Classifier w/ Label Encoder + Select Columns By Type Transformer + Label Encoder + Imputer + Standard Scaler + Select Columns Transformer + Select Columns Transformer + Label Encoder + Imputer + One Hot Encoder + Standard Scaler + Undersampler': 1.795586109161377,\n",
       "  'Extra Trees Classifier w/ Label Encoder + Select Columns By Type Transformer + Label Encoder + Imputer + Select Columns Transformer + Select Columns Transformer + Label Encoder + Imputer + One Hot Encoder + Undersampler': 1.703023910522461,\n",
       "  'Total time of batch': 80.8494725227356},\n",
       " 36: {'Random Forest Classifier w/ Label Encoder + Select Columns By Type Transformer + Label Encoder + Imputer + Select Columns Transformer + Select Columns Transformer + Label Encoder + Imputer + One Hot Encoder + Undersampler': 2.4340555667877197,\n",
       "  'Elastic Net Classifier w/ Label Encoder + Select Columns By Type Transformer + Label Encoder + Imputer + Standard Scaler + Select Columns Transformer + Select Columns Transformer + Label Encoder + Imputer + One Hot Encoder + Standard Scaler + Undersampler': 1.9771497249603271,\n",
       "  'Extra Trees Classifier w/ Label Encoder + Select Columns By Type Transformer + Label Encoder + Imputer + Select Columns Transformer + Select Columns Transformer + Label Encoder + Imputer + One Hot Encoder + Undersampler': 1.605971336364746,\n",
       "  'Total time of batch': 61.88376331329346},\n",
       " 37: {'Random Forest Classifier w/ Label Encoder + Select Columns By Type Transformer + Label Encoder + Imputer + Select Columns Transformer + Select Columns Transformer + Label Encoder + Imputer + One Hot Encoder + Undersampler': 1.5735015869140625,\n",
       "  'Elastic Net Classifier w/ Label Encoder + Select Columns By Type Transformer + Label Encoder + Imputer + Standard Scaler + Select Columns Transformer + Select Columns Transformer + Label Encoder + Imputer + One Hot Encoder + Standard Scaler + Undersampler': 1.6451897621154785,\n",
       "  'Extra Trees Classifier w/ Label Encoder + Select Columns By Type Transformer + Label Encoder + Imputer + Select Columns Transformer + Select Columns Transformer + Label Encoder + Imputer + One Hot Encoder + Undersampler': 1.5629584789276123,\n",
       "  'Total time of batch': 51.70949029922485},\n",
       " 38: {'Random Forest Classifier w/ Label Encoder + Select Columns By Type Transformer + Label Encoder + Imputer + Select Columns Transformer + Select Columns Transformer + Label Encoder + Imputer + One Hot Encoder + Undersampler': 1.5030059814453125,\n",
       "  'Elastic Net Classifier w/ Label Encoder + Select Columns By Type Transformer + Label Encoder + Imputer + Standard Scaler + Select Columns Transformer + Select Columns Transformer + Label Encoder + Imputer + One Hot Encoder + Standard Scaler + Undersampler': 1.7875680923461914,\n",
       "  'Extra Trees Classifier w/ Label Encoder + Select Columns By Type Transformer + Label Encoder + Imputer + Select Columns Transformer + Select Columns Transformer + Label Encoder + Imputer + One Hot Encoder + Undersampler': 1.4571738243103027,\n",
       "  'Total time of batch': 51.748815059661865},\n",
       " 39: {'Random Forest Classifier w/ Label Encoder + Select Columns By Type Transformer + Label Encoder + Imputer + Select Columns Transformer + Select Columns Transformer + Label Encoder + Imputer + One Hot Encoder + Undersampler': 1.284296989440918,\n",
       "  'Elastic Net Classifier w/ Label Encoder + Select Columns By Type Transformer + Label Encoder + Imputer + Standard Scaler + Select Columns Transformer + Select Columns Transformer + Label Encoder + Imputer + One Hot Encoder + Standard Scaler + Undersampler': 1.6136324405670166,\n",
       "  'Extra Trees Classifier w/ Label Encoder + Select Columns By Type Transformer + Label Encoder + Imputer + Select Columns Transformer + Select Columns Transformer + Label Encoder + Imputer + One Hot Encoder + Undersampler': 1.8579988479614258,\n",
       "  'Total time of batch': 51.54283881187439},\n",
       " 40: {'Random Forest Classifier w/ Label Encoder + Select Columns By Type Transformer + Label Encoder + Imputer + Select Columns Transformer + Select Columns Transformer + Label Encoder + Imputer + One Hot Encoder + Undersampler': 1.558777093887329,\n",
       "  'Elastic Net Classifier w/ Label Encoder + Select Columns By Type Transformer + Label Encoder + Imputer + Standard Scaler + Select Columns Transformer + Select Columns Transformer + Label Encoder + Imputer + One Hot Encoder + Standard Scaler + Undersampler': 1.999974250793457,\n",
       "  'Extra Trees Classifier w/ Label Encoder + Select Columns By Type Transformer + Label Encoder + Imputer + Select Columns Transformer + Select Columns Transformer + Label Encoder + Imputer + One Hot Encoder + Undersampler': 1.631127119064331,\n",
       "  'Total time of batch': 53.434786558151245},\n",
       " 41: {'Random Forest Classifier w/ Label Encoder + Select Columns By Type Transformer + Label Encoder + Imputer + Select Columns Transformer + Select Columns Transformer + Label Encoder + Imputer + One Hot Encoder + Undersampler': 1.4767343997955322,\n",
       "  'Elastic Net Classifier w/ Label Encoder + Select Columns By Type Transformer + Label Encoder + Imputer + Standard Scaler + Select Columns Transformer + Select Columns Transformer + Label Encoder + Imputer + One Hot Encoder + Standard Scaler + Undersampler': 2.0697739124298096,\n",
       "  'Extra Trees Classifier w/ Label Encoder + Select Columns By Type Transformer + Label Encoder + Imputer + Select Columns Transformer + Select Columns Transformer + Label Encoder + Imputer + One Hot Encoder + Undersampler': 1.6077880859375,\n",
       "  'Total time of batch': 52.984328269958496},\n",
       " 42: {'Random Forest Classifier w/ Label Encoder + Select Columns By Type Transformer + Label Encoder + Imputer + Select Columns Transformer + Select Columns Transformer + Label Encoder + Imputer + One Hot Encoder + Undersampler': 1.8419485092163086,\n",
       "  'Elastic Net Classifier w/ Label Encoder + Select Columns By Type Transformer + Label Encoder + Imputer + Standard Scaler + Select Columns Transformer + Select Columns Transformer + Label Encoder + Imputer + One Hot Encoder + Standard Scaler + Undersampler': 1.7030315399169922,\n",
       "  'Extra Trees Classifier w/ Label Encoder + Select Columns By Type Transformer + Label Encoder + Imputer + Select Columns Transformer + Select Columns Transformer + Label Encoder + Imputer + One Hot Encoder + Undersampler': 1.5802249908447266,\n",
       "  'Total time of batch': 52.148882150650024},\n",
       " 43: {'Random Forest Classifier w/ Label Encoder + Select Columns By Type Transformer + Label Encoder + Imputer + Select Columns Transformer + Select Columns Transformer + Label Encoder + Imputer + One Hot Encoder + Undersampler': 1.329789638519287,\n",
       "  'Elastic Net Classifier w/ Label Encoder + Select Columns By Type Transformer + Label Encoder + Imputer + Standard Scaler + Select Columns Transformer + Select Columns Transformer + Label Encoder + Imputer + One Hot Encoder + Standard Scaler + Undersampler': 1.5997657775878906,\n",
       "  'Extra Trees Classifier w/ Label Encoder + Select Columns By Type Transformer + Label Encoder + Imputer + Select Columns Transformer + Select Columns Transformer + Label Encoder + Imputer + One Hot Encoder + Undersampler': 1.5335512161254883,\n",
       "  'Total time of batch': 48.654526233673096},\n",
       " 44: {'Random Forest Classifier w/ Label Encoder + Select Columns By Type Transformer + Label Encoder + Imputer + Select Columns Transformer + Select Columns Transformer + Label Encoder + Imputer + One Hot Encoder + Undersampler': 1.3939247131347656,\n",
       "  'Elastic Net Classifier w/ Label Encoder + Select Columns By Type Transformer + Label Encoder + Imputer + Standard Scaler + Select Columns Transformer + Select Columns Transformer + Label Encoder + Imputer + One Hot Encoder + Standard Scaler + Undersampler': 1.6758551597595215,\n",
       "  'Extra Trees Classifier w/ Label Encoder + Select Columns By Type Transformer + Label Encoder + Imputer + Select Columns Transformer + Select Columns Transformer + Label Encoder + Imputer + One Hot Encoder + Undersampler': 1.6650187969207764,\n",
       "  'Total time of batch': 51.33058261871338},\n",
       " 45: {'Random Forest Classifier w/ Label Encoder + Select Columns By Type Transformer + Label Encoder + Imputer + Select Columns Transformer + Select Columns Transformer + Label Encoder + Imputer + One Hot Encoder + Undersampler': 1.3946201801300049,\n",
       "  'Elastic Net Classifier w/ Label Encoder + Select Columns By Type Transformer + Label Encoder + Imputer + Standard Scaler + Select Columns Transformer + Select Columns Transformer + Label Encoder + Imputer + One Hot Encoder + Standard Scaler + Undersampler': 1.4575684070587158,\n",
       "  'Extra Trees Classifier w/ Label Encoder + Select Columns By Type Transformer + Label Encoder + Imputer + Select Columns Transformer + Select Columns Transformer + Label Encoder + Imputer + One Hot Encoder + Undersampler': 3.4935855865478516,\n",
       "  'Total time of batch': 67.06910181045532},\n",
       " 46: {'Random Forest Classifier w/ Label Encoder + Select Columns By Type Transformer + Label Encoder + Imputer + Select Columns Transformer + Select Columns Transformer + Label Encoder + Imputer + One Hot Encoder + Undersampler': 1.5586986541748047,\n",
       "  'Elastic Net Classifier w/ Label Encoder + Select Columns By Type Transformer + Label Encoder + Imputer + Standard Scaler + Select Columns Transformer + Select Columns Transformer + Label Encoder + Imputer + One Hot Encoder + Standard Scaler + Undersampler': 1.7513067722320557,\n",
       "  'Extra Trees Classifier w/ Label Encoder + Select Columns By Type Transformer + Label Encoder + Imputer + Select Columns Transformer + Select Columns Transformer + Label Encoder + Imputer + One Hot Encoder + Undersampler': 1.6067156791687012,\n",
       "  'Total time of batch': 53.08179998397827},\n",
       " 47: {'Random Forest Classifier w/ Label Encoder + Select Columns By Type Transformer + Label Encoder + Imputer + Select Columns Transformer + Select Columns Transformer + Label Encoder + Imputer + One Hot Encoder + Undersampler': 1.2489840984344482,\n",
       "  'Elastic Net Classifier w/ Label Encoder + Select Columns By Type Transformer + Label Encoder + Imputer + Standard Scaler + Select Columns Transformer + Select Columns Transformer + Label Encoder + Imputer + One Hot Encoder + Standard Scaler + Undersampler': 1.5630824565887451,\n",
       "  'Extra Trees Classifier w/ Label Encoder + Select Columns By Type Transformer + Label Encoder + Imputer + Select Columns Transformer + Select Columns Transformer + Label Encoder + Imputer + One Hot Encoder + Undersampler': 1.298173427581787,\n",
       "  'Total time of batch': 44.94045662879944},\n",
       " 48: {'Random Forest Classifier w/ Label Encoder + Select Columns By Type Transformer + Label Encoder + Imputer + Select Columns Transformer + Select Columns Transformer + Label Encoder + Imputer + One Hot Encoder + Undersampler': 3.5643303394317627,\n",
       "  'Elastic Net Classifier w/ Label Encoder + Select Columns By Type Transformer + Label Encoder + Imputer + Standard Scaler + Select Columns Transformer + Select Columns Transformer + Label Encoder + Imputer + One Hot Encoder + Standard Scaler + Undersampler': 1.692014455795288,\n",
       "  'Extra Trees Classifier w/ Label Encoder + Select Columns By Type Transformer + Label Encoder + Imputer + Select Columns Transformer + Select Columns Transformer + Label Encoder + Imputer + One Hot Encoder + Undersampler': 1.405196189880371,\n",
       "  'Total time of batch': 59.7093403339386},\n",
       " 49: {'Random Forest Classifier w/ Label Encoder + Select Columns By Type Transformer + Label Encoder + Imputer + Select Columns Transformer + Select Columns Transformer + Label Encoder + Imputer + One Hot Encoder + Undersampler': 1.2319865226745605,\n",
       "  'Elastic Net Classifier w/ Label Encoder + Select Columns By Type Transformer + Label Encoder + Imputer + Standard Scaler + Select Columns Transformer + Select Columns Transformer + Label Encoder + Imputer + One Hot Encoder + Standard Scaler + Undersampler': 1.6442599296569824,\n",
       "  'Extra Trees Classifier w/ Label Encoder + Select Columns By Type Transformer + Label Encoder + Imputer + Select Columns Transformer + Select Columns Transformer + Label Encoder + Imputer + One Hot Encoder + Undersampler': 1.380981206893921,\n",
       "  'Total time of batch': 46.53112292289734},\n",
       " 50: {'Random Forest Classifier w/ Label Encoder + Select Columns By Type Transformer + Label Encoder + Imputer + Select Columns Transformer + Select Columns Transformer + Label Encoder + Imputer + One Hot Encoder + Undersampler': 1.4094617366790771,\n",
       "  'Elastic Net Classifier w/ Label Encoder + Select Columns By Type Transformer + Label Encoder + Imputer + Standard Scaler + Select Columns Transformer + Select Columns Transformer + Label Encoder + Imputer + One Hot Encoder + Standard Scaler + Undersampler': 1.7856194972991943,\n",
       "  'Extra Trees Classifier w/ Label Encoder + Select Columns By Type Transformer + Label Encoder + Imputer + Select Columns Transformer + Select Columns Transformer + Label Encoder + Imputer + One Hot Encoder + Undersampler': 1.4534101486206055,\n",
       "  'Total time of batch': 50.53058338165283}}"
      ]
     },
     "execution_count": 119,
     "metadata": {},
     "output_type": "execute_result"
    }
   ],
   "source": [
    "automl.search()"
   ]
  },
  {
   "cell_type": "markdown",
   "id": "6a61c71d",
   "metadata": {},
   "source": [
    "### Resultados"
   ]
  },
  {
   "cell_type": "code",
   "execution_count": 120,
   "id": "b72361f5",
   "metadata": {
    "notebookRunGroups": {
     "groupValue": "1"
    }
   },
   "outputs": [
    {
     "name": "stdout",
     "output_type": "stream",
     "text": [
      "\n",
      "Ranking dos modelos:\n",
      "        id                                      pipeline_name  search_order  \\\n",
      "0     1282  Random Forest Classifier w/ Label Encoder + Se...          1282   \n",
      "220    227  Elastic Net Classifier w/ Label Encoder + Sele...           227   \n",
      "565   1341  Extra Trees Classifier w/ Label Encoder + Sele...          1341   \n",
      "635      1  Random Forest Classifier w/ Label Encoder + Im...             1   \n",
      "906      6  Logistic Regression Classifier w/ Label Encode...             6   \n",
      "1524     5  XGBoost Classifier w/ Label Encoder + Select C...             5   \n",
      "1525     2  LightGBM Classifier w/ Label Encoder + Select ...             2   \n",
      "1566     0       Mode Baseline Binary Classification Pipeline             0   \n",
      "\n",
      "      ranking_score  mean_cv_score  standard_deviation_cv_score  \\\n",
      "0          0.303217       0.303217                     0.001601   \n",
      "220        0.304236       0.304236                     0.000366   \n",
      "565        0.304790       0.304790                     0.001178   \n",
      "635        0.304806       0.304806                     0.001489   \n",
      "906        0.304936       0.304936                     0.000483   \n",
      "1524       0.320717       0.320717                     0.003308   \n",
      "1525       0.322188       0.322188                     0.002840   \n",
      "1566       2.168974       2.168974                     0.002905   \n",
      "\n",
      "      percent_better_than_baseline  high_variance_cv  \\\n",
      "0                        86.020237             False   \n",
      "220                      85.973274             False   \n",
      "565                      85.947754             False   \n",
      "635                      85.946994             False   \n",
      "906                      85.940992             False   \n",
      "1524                     85.213441             False   \n",
      "1525                     85.145603             False   \n",
      "1566                      0.000000             False   \n",
      "\n",
      "                                             parameters  \n",
      "0     {'Label Encoder': {'positive_label': None}, 'N...  \n",
      "220   {'Label Encoder': {'positive_label': None}, 'N...  \n",
      "565   {'Label Encoder': {'positive_label': None}, 'N...  \n",
      "635   {'Label Encoder': {'positive_label': None}, 'I...  \n",
      "906   {'Label Encoder': {'positive_label': None}, 'N...  \n",
      "1524  {'Label Encoder': {'positive_label': None}, 'N...  \n",
      "1525  {'Label Encoder': {'positive_label': None}, 'N...  \n",
      "1566  {'Label Encoder': {'positive_label': None}, 'B...  \n"
     ]
    }
   ],
   "source": [
    "print(\"\\nRanking dos modelos:\")\n",
    "print(automl.rankings)"
   ]
  },
  {
   "cell_type": "code",
   "execution_count": null,
   "id": "90ca3f04",
   "metadata": {},
   "outputs": [
    {
     "name": "stdout",
     "output_type": "stream",
     "text": [
      "\n",
      "Melhor pipeline: Random Forest Classifier w/ Label Encoder + Select Columns By Type Transformer + Label Encoder + Imputer + Select Columns Transformer + Select Columns Transformer + Label Encoder + Imputer + One Hot Encoder + Undersampler\n",
      "Parâmetros do melhor pipeline: {'Label Encoder': {'positive_label': None}, 'Numeric Pipeline - Select Columns By Type Transformer': {'column_types': ['category', 'EmailAddress', 'URL'], 'exclude': True}, 'Numeric Pipeline - Label Encoder': {'positive_label': None}, 'Numeric Pipeline - Imputer': {'categorical_impute_strategy': 'most_frequent', 'numeric_impute_strategy': 'most_frequent', 'boolean_impute_strategy': 'most_frequent', 'categorical_fill_value': None, 'numeric_fill_value': None, 'boolean_fill_value': None}, 'Numeric Pipeline - Select Columns Transformer': {'columns': ['V0022', 'A02201|A02305|A02306', 'C006', 'C009', 'N010', 'P034|P035', 'Q092']}, 'Categorical Pipeline - Select Columns Transformer': {'columns': ['V0001', 'C008', 'P00104', 'P00404', 'P03701|P03702', 'IMC']}, 'Categorical Pipeline - Label Encoder': {'positive_label': None}, 'Categorical Pipeline - Imputer': {'categorical_impute_strategy': 'most_frequent', 'numeric_impute_strategy': 'mean', 'boolean_impute_strategy': 'most_frequent', 'categorical_fill_value': None, 'numeric_fill_value': None, 'boolean_fill_value': None}, 'Categorical Pipeline - One Hot Encoder': {'top_n': 10, 'features_to_encode': None, 'categories': None, 'drop': 'if_binary', 'handle_unknown': 'ignore', 'handle_missing': 'error'}, 'Undersampler': {'sampling_ratio': 0.25, 'min_samples': 100, 'min_percentage': 0.1, 'sampling_ratio_dict': None}, 'Random Forest Classifier': {'n_estimators': 34, 'max_depth': 5, 'n_jobs': -1}}\n"
     ]
    }
   ],
   "source": [
    "best_pipeline = automl.best_pipeline\n",
    "print(\"\\nMelhor pipeline:\", best_pipeline.name)\n",
    "print(\"Parâmetros do melhor pipeline:\", best_pipeline.parameters)"
   ]
  },
  {
   "cell_type": "code",
   "execution_count": 122,
   "id": "3d40a398",
   "metadata": {},
   "outputs": [
    {
     "name": "stdout",
     "output_type": "stream",
     "text": [
      "\n",
      "Desempenho no conjunto de teste:\n",
      "OrderedDict({'Log Loss Binary': 0.3050503059160423, 'F1': 0.9689390883420734, 'Precision': 0.9397496087636933, 'Recall': 1.0})\n"
     ]
    }
   ],
   "source": [
    "scores = best_pipeline.score(X_test, y_test, objectives=['log loss binary', 'f1', 'precision', 'recall'])\n",
    "print(\"\\nDesempenho no conjunto de teste:\")\n",
    "print(scores)"
   ]
  },
  {
   "cell_type": "code",
   "execution_count": 123,
   "id": "6bae27f8",
   "metadata": {},
   "outputs": [],
   "source": [
    "predictions = best_pipeline.predict(X_test)\n",
    "predict_proba = best_pipeline.predict_proba(X_test)"
   ]
  },
  {
   "cell_type": "code",
   "execution_count": 124,
   "id": "ae7bbae5",
   "metadata": {},
   "outputs": [
    {
     "name": "stdout",
     "output_type": "stream",
     "text": [
      "\n",
      "Relatório de Classificação por Classe:\n",
      "              precision    recall  f1-score   support\n",
      "\n",
      "Nao tem asma       0.00      0.00      0.00       539\n",
      "    tem asma       0.94      1.00      0.97      8407\n",
      "\n",
      "    accuracy                           0.94      8946\n",
      "   macro avg       0.47      0.50      0.48      8946\n",
      "weighted avg       0.88      0.94      0.91      8946\n",
      "\n"
     ]
    },
    {
     "name": "stderr",
     "output_type": "stream",
     "text": [
      "/usr/lib/python3/dist-packages/sklearn/metrics/_classification.py:1509: UndefinedMetricWarning: Precision is ill-defined and being set to 0.0 in labels with no predicted samples. Use `zero_division` parameter to control this behavior.\n",
      "  _warn_prf(average, modifier, f\"{metric.capitalize()} is\", len(result))\n",
      "/usr/lib/python3/dist-packages/sklearn/metrics/_classification.py:1509: UndefinedMetricWarning: Precision is ill-defined and being set to 0.0 in labels with no predicted samples. Use `zero_division` parameter to control this behavior.\n",
      "  _warn_prf(average, modifier, f\"{metric.capitalize()} is\", len(result))\n",
      "/usr/lib/python3/dist-packages/sklearn/metrics/_classification.py:1509: UndefinedMetricWarning: Precision is ill-defined and being set to 0.0 in labels with no predicted samples. Use `zero_division` parameter to control this behavior.\n",
      "  _warn_prf(average, modifier, f\"{metric.capitalize()} is\", len(result))\n"
     ]
    }
   ],
   "source": [
    "print(\"\\nRelatório de Classificação por Classe:\")\n",
    "print(classification_report(y_test, predictions, target_names=['Nao tem asma', 'tem asma']))"
   ]
  },
  {
   "cell_type": "code",
   "execution_count": 125,
   "id": "ef2fdceb",
   "metadata": {},
   "outputs": [
    {
     "name": "stdout",
     "output_type": "stream",
     "text": [
      "Rótulos encontrados: [1, 2]\n",
      "\n",
      "Métricas por classe:\n",
      "\n",
      "Classe 1:\n",
      "Precisão: 0.0000\n",
      "Recall: 0.0000\n",
      "F1-Score: 0.0000\n",
      "\n",
      "Classe 2:\n",
      "Precisão: 0.9397\n",
      "Recall: 1.0000\n",
      "F1-Score: 0.9689\n"
     ]
    },
    {
     "name": "stderr",
     "output_type": "stream",
     "text": [
      "/usr/lib/python3/dist-packages/sklearn/metrics/_classification.py:1509: UndefinedMetricWarning: Precision is ill-defined and being set to 0.0 due to no predicted samples. Use `zero_division` parameter to control this behavior.\n",
      "  _warn_prf(average, modifier, f\"{metric.capitalize()} is\", len(result))\n"
     ]
    }
   ],
   "source": [
    "from sklearn.metrics import precision_score, recall_score, f1_score\n",
    "\n",
    "# Primeiro, vamos identificar quais são os rótulos únicos presentes nos dados\n",
    "unique_labels = sorted(y_test.unique())\n",
    "print(f\"Rótulos encontrados: {unique_labels}\")\n",
    "\n",
    "# Agora vamos calcular as métricas usando os rótulos corretos\n",
    "print(\"\\nMétricas por classe:\")\n",
    "for label in unique_labels:\n",
    "    print(f\"\\nClasse {label}:\")\n",
    "    print(f\"Precisão: {precision_score(y_test, predictions, pos_label=label):.4f}\")\n",
    "    print(f\"Recall: {recall_score(y_test, predictions, pos_label=label):.4f}\")\n",
    "    print(f\"F1-Score: {f1_score(y_test, predictions, pos_label=label):.4f}\")\n"
   ]
  },
  {
   "cell_type": "code",
   "execution_count": 126,
   "id": "25aa4400",
   "metadata": {},
   "outputs": [
    {
     "data": {
      "image/png": "[encoded data removed]",
      "text/plain": [
       "<Figure size 640x480 with 2 Axes>"
      ]
     },
     "metadata": {},
     "output_type": "display_data"
    }
   ],
   "source": [
    "import matplotlib.pyplot as plt\n",
    "import seaborn as sns\n",
    "from sklearn.metrics import confusion_matrix\n",
    "\n",
    "# Matriz de confusão\n",
    "cm = confusion_matrix(y_test, predictions)\n",
    "sns.heatmap(cm, annot=True, fmt='d', cmap='Blues', \n",
    "            xticklabels=['Classe 0', 'Classe 1'],\n",
    "            yticklabels=['Classe 0', 'Classe 1'])\n",
    "plt.ylabel('Verdadeiro')\n",
    "plt.xlabel('Predito')\n",
    "plt.title('Matriz de Confusão')\n",
    "plt.show()"
   ]
  },
  {
   "cell_type": "code",
   "execution_count": null,
   "id": "e5ee1f1c",
   "metadata": {},
   "outputs": [],
   "source": []
  }
 ],
 "metadata": {
  "kernelspec": {
   "display_name": "Python 3",
   "language": "python",
   "name": "python3"
  },
  "language_info": {
   "codemirror_mode": {
    "name": "ipython",
    "version": 3
   },
   "file_extension": ".py",
   "mimetype": "text/x-python",
   "name": "python",
   "nbconvert_exporter": "python",
   "pygments_lexer": "ipython3",
   "version": "3.12.3"
  }
 },
 "nbformat": 4,
 "nbformat_minor": 5
}
