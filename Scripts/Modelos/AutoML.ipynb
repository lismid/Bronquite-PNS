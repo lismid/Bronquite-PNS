{
 "cells": [
  {
   "cell_type": "code",
   "execution_count": 1,
   "id": "b1dca191",
   "metadata": {},
   "outputs": [],
   "source": [
    "import pandas as pd\n",
    "from evalml import AutoMLSearch\n",
    "from evalml.preprocessing import split_data\n",
    "from evalml.problem_types import ProblemTypes\n",
    "from evalml.objectives.utils import get_optimization_objectives\n",
    "from sklearn.metrics import classification_report"
   ]
  },
  {
   "cell_type": "code",
   "execution_count": 2,
   "id": "1f4caa1a",
   "metadata": {},
   "outputs": [
    {
     "name": "stdout",
     "output_type": "stream",
     "text": [
      "Usando: cuda\n"
     ]
    }
   ],
   "source": [
    "import torch\n",
    "\n",
    "# Verifica se a GPU está disponível\n",
    "device = torch.device(\"cuda\" if torch.cuda.is_available() else \"cpu\")\n",
    "print(f\"Usando: {device}\")\n",
    "\n",
    "# Move tensores/modelos para a GPU\n",
    "tensor_cpu = torch.tensor([1.0, 2.0, 3.0])\n",
    "tensor_gpu = tensor_cpu.to(device)  # Movendo para GPU\n",
    "\n",
    "# Modelos também precisam ser movidos\n",
    "model = torch.nn.Linear(3, 1).to(device)\n",
    "output = model(tensor_gpu)  # Executa na GPU"
   ]
  },
  {
   "cell_type": "markdown",
   "id": "61b39195",
   "metadata": {},
   "source": [
    "base = pd.read_excel(\"../../Bases/Base_plano_Cartesiano.xlsx\")\n",
    "base.drop(columns=['V0024', 'UPA_PNS', 'V0006_PNS', 'C00301', 'C004', 'L01701', 'L018', 'M01601', 'Q11006'], inplace=True)"
   ]
  },
  {
   "cell_type": "code",
   "execution_count": 3,
   "id": "5a47b6c6",
   "metadata": {},
   "outputs": [],
   "source": [
    "base = pd.read_excel(\"../../Bases/Base_plano_Cartesiano.xlsx\")"
   ]
  },
  {
   "cell_type": "markdown",
   "id": "d732f14c",
   "metadata": {},
   "source": [
    "### Treino e teste"
   ]
  },
  {
   "cell_type": "code",
   "execution_count": 4,
   "id": "8fb05aeb",
   "metadata": {},
   "outputs": [],
   "source": [
    "X_prev = base.drop(columns=['Q074'])\n",
    "y_classe = base['Q074']"
   ]
  },
  {
   "cell_type": "code",
   "execution_count": 5,
   "id": "fc2b941f",
   "metadata": {},
   "outputs": [
    {
     "name": "stderr",
     "output_type": "stream",
     "text": [
      "/home/arthur/.local/lib/python3.12/site-packages/woodwork/type_sys/utils.py:33: UserWarning: Could not infer format, so each element will be parsed individually, falling back to `dateutil`. To ensure parsing is consistent and as-expected, please specify a format.\n",
      "  pd.to_datetime(\n",
      "/home/arthur/.local/lib/python3.12/site-packages/woodwork/type_sys/utils.py:33: UserWarning: Could not infer format, so each element will be parsed individually, falling back to `dateutil`. To ensure parsing is consistent and as-expected, please specify a format.\n",
      "  pd.to_datetime(\n"
     ]
    }
   ],
   "source": [
    "X_train, X_test, y_train, y_test = split_data(X_prev, y_classe, problem_type='binary', test_size=0.3, random_seed=42)"
   ]
  },
  {
   "cell_type": "markdown",
   "id": "3a59195a",
   "metadata": {},
   "source": [
    "## AutoML"
   ]
  },
  {
   "cell_type": "code",
   "execution_count": 6,
   "id": "00a12b79",
   "metadata": {},
   "outputs": [],
   "source": [
    "problem_type = ProblemTypes.BINARY "
   ]
  },
  {
   "cell_type": "code",
   "execution_count": 7,
   "id": "63fa4b2a",
   "metadata": {},
   "outputs": [
    {
     "name": "stdout",
     "output_type": "stream",
     "text": [
      "Métricas permitidas para otimização:\n",
      "['MCC Binary', 'Log Loss Binary', 'Gini', 'AUC', 'Precision', 'F1', 'Balanced Accuracy Binary', 'Accuracy Binary']\n"
     ]
    }
   ],
   "source": [
    "print(\"Métricas permitidas para otimização:\")\n",
    "print([obj.name for obj in get_optimization_objectives('binary')])"
   ]
  },
  {
   "cell_type": "code",
   "execution_count": null,
   "id": "c242cb65",
   "metadata": {},
   "outputs": [],
   "source": [
    "automl = AutoMLSearch(\n",
    "    X_train=X_train, \n",
    "    y_train=y_train,\n",
    "    problem_type=problem_type,\n",
    "    objective='log loss binary',  \n",
    "    max_batches=25,\n",
    "    n_jobs=-1,\n",
    "    ensembling=True,\n",
    "    sampler_method= 'Undersampler',\n",
    "    random_seed=42\n",
    ")"
   ]
  },
  {
   "cell_type": "code",
   "execution_count": 9,
   "id": "6c52a413",
   "metadata": {},
   "outputs": [
    {
     "data": {
      "text/plain": [
       "{1: {'Random Forest Classifier w/ Label Encoder + Drop Columns Transformer + Imputer + One Hot Encoder + Undersampler + RF Classifier Select From Model': 2.267125368118286,\n",
       "  'Total time of batch': 2.3790438175201416},\n",
       " 2: {'LightGBM Classifier w/ Label Encoder + Drop Columns Transformer + Imputer + One Hot Encoder + Undersampler + Select Columns Transformer': 1.8384549617767334,\n",
       "  'Extra Trees Classifier w/ Label Encoder + Drop Columns Transformer + Imputer + One Hot Encoder + Undersampler + Select Columns Transformer': 1.543156385421753,\n",
       "  'Elastic Net Classifier w/ Label Encoder + Drop Columns Transformer + Imputer + One Hot Encoder + Undersampler + Standard Scaler + Select Columns Transformer': 1.7303574085235596,\n",
       "  'XGBoost Classifier w/ Label Encoder + Drop Columns Transformer + Imputer + One Hot Encoder + Undersampler + Select Columns Transformer': 1.2922537326812744,\n",
       "  'Logistic Regression Classifier w/ Label Encoder + Drop Columns Transformer + Imputer + One Hot Encoder + Undersampler + Standard Scaler + Select Columns Transformer': 2.571793794631958,\n",
       "  'Total time of batch': 9.526984930038452},\n",
       " 3: {'Stacked Ensemble Classification Pipeline': 3.885566473007202,\n",
       "  'Total time of batch': 3.9911768436431885},\n",
       " 4: {'Logistic Regression Classifier w/ Label Encoder + Drop Columns Transformer + Imputer + One Hot Encoder + Undersampler + Standard Scaler + Select Columns Transformer': 8.08942723274231,\n",
       "  'Random Forest Classifier w/ Label Encoder + Drop Columns Transformer + Imputer + One Hot Encoder + Undersampler + Select Columns Transformer': 12.846094608306885,\n",
       "  'Extra Trees Classifier w/ Label Encoder + Drop Columns Transformer + Imputer + One Hot Encoder + Undersampler + Select Columns Transformer': 6.303246259689331,\n",
       "  'Total time of batch': 285.04392886161804}}"
      ]
     },
     "execution_count": 9,
     "metadata": {},
     "output_type": "execute_result"
    }
   ],
   "source": [
    "automl.search()"
   ]
  },
  {
   "cell_type": "markdown",
   "id": "6a61c71d",
   "metadata": {},
   "source": [
    "### Resultados"
   ]
  },
  {
   "cell_type": "code",
   "execution_count": 10,
   "id": "b72361f5",
   "metadata": {
    "notebookRunGroups": {
     "groupValue": "1"
    }
   },
   "outputs": [
    {
     "data": {
      "application/vnd.microsoft.datawrangler.viewer.v0+json": {
       "columns": [
        {
         "name": "index",
         "rawType": "int64",
         "type": "integer"
        },
        {
         "name": "id",
         "rawType": "int64",
         "type": "integer"
        },
        {
         "name": "pipeline_name",
         "rawType": "object",
         "type": "string"
        },
        {
         "name": "search_order",
         "rawType": "int64",
         "type": "integer"
        },
        {
         "name": "ranking_score",
         "rawType": "float64",
         "type": "float"
        },
        {
         "name": "mean_cv_score",
         "rawType": "float64",
         "type": "float"
        },
        {
         "name": "standard_deviation_cv_score",
         "rawType": "float64",
         "type": "float"
        },
        {
         "name": "percent_better_than_baseline",
         "rawType": "float64",
         "type": "float"
        },
        {
         "name": "high_variance_cv",
         "rawType": "bool",
         "type": "boolean"
        },
        {
         "name": "parameters",
         "rawType": "object",
         "type": "unknown"
        }
       ],
       "ref": "5da4b96e-35af-469e-962c-7caa0eb6da0b",
       "rows": [
        [
         "0",
         "14",
         "Logistic Regression Classifier w/ Label Encoder + Drop Columns Transformer + Imputer + One Hot Encoder + Undersampler + Standard Scaler + Select Columns Transformer",
         "14",
         "0.28130687652861835",
         "0.28130687652861835",
         "0.0017075882994014857",
         "84.80899841375276",
         "False",
         "{'Label Encoder': {'positive_label': None}, 'Drop Columns Transformer': {'columns': ['L01701', 'L018']}, 'Imputer': {'categorical_impute_strategy': 'most_frequent', 'numeric_impute_strategy': 'most_frequent', 'boolean_impute_strategy': 'most_frequent', 'categorical_fill_value': None, 'numeric_fill_value': None, 'boolean_fill_value': None}, 'One Hot Encoder': {'top_n': 10, 'features_to_encode': None, 'categories': None, 'drop': 'if_binary', 'handle_unknown': 'ignore', 'handle_missing': 'error'}, 'Undersampler': {'sampling_ratio': 0.25, 'min_samples': 100, 'min_percentage': 0.1, 'sampling_ratio_dict': None}, 'Select Columns Transformer': {'columns': ['V0001', 'V0024', 'UPA_PNS', 'V0006_PNS', 'V0022', 'A02201|A02305|A02306', 'C004', 'C008', 'M01601', 'N010', 'P00104', 'P00404', 'P034|P035', 'Q11604']}, 'Logistic Regression Classifier': {'penalty': 'l2', 'C': 9.922193477319265, 'n_jobs': -1, 'multi_class': 'auto', 'solver': 'lbfgs'}}"
        ],
        [
         "19",
         "4",
         "Elastic Net Classifier w/ Label Encoder + Drop Columns Transformer + Imputer + One Hot Encoder + Undersampler + Standard Scaler + Select Columns Transformer",
         "4",
         "0.2817570496697421",
         "0.2817570496697421",
         "0.001584433940496803",
         "84.78468837560052",
         "False",
         "{'Label Encoder': {'positive_label': None}, 'Drop Columns Transformer': {'columns': ['L01701', 'L018']}, 'Imputer': {'categorical_impute_strategy': 'most_frequent', 'numeric_impute_strategy': 'mean', 'boolean_impute_strategy': 'most_frequent', 'categorical_fill_value': None, 'numeric_fill_value': None, 'boolean_fill_value': None}, 'One Hot Encoder': {'top_n': 10, 'features_to_encode': None, 'categories': None, 'drop': 'if_binary', 'handle_unknown': 'ignore', 'handle_missing': 'error'}, 'Undersampler': {'sampling_ratio': 0.25, 'min_samples': 100, 'min_percentage': 0.1, 'sampling_ratio_dict': None}, 'Select Columns Transformer': {'columns': ['V0001', 'V0024', 'UPA_PNS', 'V0006_PNS', 'V0022', 'A02201|A02305|A02306', 'C004', 'C008', 'M01601', 'N010', 'P00104', 'P00404', 'P034|P035', 'Q11604']}, 'Elastic Net Classifier': {'penalty': 'elasticnet', 'C': 1.0, 'l1_ratio': 0.15, 'n_jobs': -1, 'multi_class': 'auto', 'solver': 'saga'}}"
        ],
        [
         "21",
         "15",
         "Random Forest Classifier w/ Label Encoder + Drop Columns Transformer + Imputer + One Hot Encoder + Undersampler + Select Columns Transformer",
         "15",
         "0.28221366128102915",
         "0.28221366128102915",
         "0.0015249327121714979",
         "84.76003065021196",
         "False",
         "{'Label Encoder': {'positive_label': None}, 'Drop Columns Transformer': {'columns': ['L01701', 'L018']}, 'Imputer': {'categorical_impute_strategy': 'most_frequent', 'numeric_impute_strategy': 'most_frequent', 'boolean_impute_strategy': 'most_frequent', 'categorical_fill_value': None, 'numeric_fill_value': None, 'boolean_fill_value': None}, 'One Hot Encoder': {'top_n': 10, 'features_to_encode': None, 'categories': None, 'drop': 'if_binary', 'handle_unknown': 'ignore', 'handle_missing': 'error'}, 'Undersampler': {'sampling_ratio': 0.25, 'min_samples': 100, 'min_percentage': 0.1, 'sampling_ratio_dict': None}, 'Select Columns Transformer': {'columns': ['V0001', 'V0024', 'UPA_PNS', 'V0006_PNS', 'V0022', 'A02201|A02305|A02306', 'C004', 'C008', 'M01601', 'N010', 'P00104', 'P00404', 'P034|P035', 'Q11604']}, 'Random Forest Classifier': {'n_estimators': 353, 'max_depth': 6, 'n_jobs': -1}}"
        ],
        [
         "28",
         "46",
         "Extra Trees Classifier w/ Label Encoder + Drop Columns Transformer + Imputer + One Hot Encoder + Undersampler + Select Columns Transformer",
         "46",
         "0.2826145667858129",
         "0.2826145667858129",
         "0.0015223993002000701",
         "84.73838113977604",
         "False",
         "{'Label Encoder': {'positive_label': None}, 'Drop Columns Transformer': {'columns': ['L01701', 'L018']}, 'Imputer': {'categorical_impute_strategy': 'most_frequent', 'numeric_impute_strategy': 'knn', 'boolean_impute_strategy': 'most_frequent', 'categorical_fill_value': None, 'numeric_fill_value': None, 'boolean_fill_value': None}, 'One Hot Encoder': {'top_n': 10, 'features_to_encode': None, 'categories': None, 'drop': 'if_binary', 'handle_unknown': 'ignore', 'handle_missing': 'error'}, 'Undersampler': {'sampling_ratio': 0.25, 'min_samples': 100, 'min_percentage': 0.1, 'sampling_ratio_dict': None}, 'Select Columns Transformer': {'columns': ['V0001', 'V0024', 'UPA_PNS', 'V0006_PNS', 'V0022', 'A02201|A02305|A02306', 'C004', 'C008', 'M01601', 'N010', 'P00104', 'P00404', 'P034|P035', 'Q11604']}, 'Extra Trees Classifier': {'n_estimators': 773, 'max_features': 'log2', 'max_depth': 8, 'min_samples_split': 2, 'min_weight_fraction_leaf': 0.0, 'n_jobs': -1}}"
        ],
        [
         "32",
         "1",
         "Random Forest Classifier w/ Label Encoder + Drop Columns Transformer + Imputer + One Hot Encoder + Undersampler + RF Classifier Select From Model",
         "1",
         "0.282719327925322",
         "0.282719327925322",
         "0.002207147575644897",
         "84.7327238780123",
         "False",
         "{'Label Encoder': {'positive_label': None}, 'Drop Columns Transformer': {'columns': ['L01701', 'L018']}, 'Imputer': {'categorical_impute_strategy': 'most_frequent', 'numeric_impute_strategy': 'mean', 'boolean_impute_strategy': 'most_frequent', 'categorical_fill_value': None, 'numeric_fill_value': None, 'boolean_fill_value': None}, 'One Hot Encoder': {'top_n': 10, 'features_to_encode': None, 'categories': None, 'drop': 'if_binary', 'handle_unknown': 'ignore', 'handle_missing': 'error'}, 'Undersampler': {'sampling_ratio': 0.25, 'min_samples': 100, 'min_percentage': 0.1, 'sampling_ratio_dict': None}, 'RF Classifier Select From Model': {'number_features': None, 'n_estimators': 10, 'max_depth': None, 'percent_features': 0.5, 'threshold': 'median', 'n_jobs': -1}, 'Random Forest Classifier': {'n_estimators': 100, 'max_depth': 6, 'n_jobs': -1}}"
        ],
        [
         "59",
         "2",
         "LightGBM Classifier w/ Label Encoder + Drop Columns Transformer + Imputer + One Hot Encoder + Undersampler + Select Columns Transformer",
         "2",
         "0.2869696768800285",
         "0.2869696768800285",
         "0.002175499715124637",
         "84.50319853362747",
         "False",
         "{'Label Encoder': {'positive_label': None}, 'Drop Columns Transformer': {'columns': ['L01701', 'L018']}, 'Imputer': {'categorical_impute_strategy': 'most_frequent', 'numeric_impute_strategy': 'mean', 'boolean_impute_strategy': 'most_frequent', 'categorical_fill_value': None, 'numeric_fill_value': None, 'boolean_fill_value': None}, 'One Hot Encoder': {'top_n': 10, 'features_to_encode': None, 'categories': None, 'drop': 'if_binary', 'handle_unknown': 'ignore', 'handle_missing': 'error'}, 'Undersampler': {'sampling_ratio': 0.25, 'min_samples': 100, 'min_percentage': 0.1, 'sampling_ratio_dict': None}, 'Select Columns Transformer': {'columns': ['V0001', 'V0024', 'UPA_PNS', 'V0006_PNS', 'V0022', 'A02201|A02305|A02306', 'C004', 'C008', 'M01601', 'N010', 'P00104', 'P00404', 'P034|P035', 'Q11604']}, 'LightGBM Classifier': {'boosting_type': 'gbdt', 'learning_rate': 0.1, 'n_estimators': 100, 'max_depth': 0, 'num_leaves': 31, 'min_child_samples': 20, 'n_jobs': -1, 'bagging_freq': 0, 'bagging_fraction': 0.9, 'verbose': -1}}"
        ],
        [
         "60",
         "5",
         "XGBoost Classifier w/ Label Encoder + Drop Columns Transformer + Imputer + One Hot Encoder + Undersampler + Select Columns Transformer",
         "5",
         "0.2879320254016223",
         "0.2879320254016223",
         "0.003314267036986089",
         "84.45123024156702",
         "False",
         "{'Label Encoder': {'positive_label': None}, 'Drop Columns Transformer': {'columns': ['L01701', 'L018']}, 'Imputer': {'categorical_impute_strategy': 'most_frequent', 'numeric_impute_strategy': 'mean', 'boolean_impute_strategy': 'most_frequent', 'categorical_fill_value': None, 'numeric_fill_value': None, 'boolean_fill_value': None}, 'One Hot Encoder': {'top_n': 10, 'features_to_encode': None, 'categories': None, 'drop': 'if_binary', 'handle_unknown': 'ignore', 'handle_missing': 'error'}, 'Undersampler': {'sampling_ratio': 0.25, 'min_samples': 100, 'min_percentage': 0.1, 'sampling_ratio_dict': None}, 'Select Columns Transformer': {'columns': ['V0001', 'V0024', 'UPA_PNS', 'V0006_PNS', 'V0022', 'A02201|A02305|A02306', 'C004', 'C008', 'M01601', 'N010', 'P00104', 'P00404', 'P034|P035', 'Q11604']}, 'XGBoost Classifier': {'eta': 0.1, 'max_depth': 6, 'min_child_weight': 1, 'n_estimators': 100, 'n_jobs': -1, 'eval_metric': 'logloss'}}"
        ],
        [
         "62",
         "7",
         "Stacked Ensemble Classification Pipeline",
         "7",
         "0.4204099244373983",
         "0.4204099244373983",
         "0.00414516377956938",
         "77.29722107112131",
         "False",
         "{'Label Encoder': {'positive_label': None}, 'Random Forest Pipeline - Label Encoder': {'positive_label': None}, 'Random Forest Pipeline - Drop Columns Transformer': {'columns': ['L01701', 'L018']}, 'Random Forest Pipeline - Imputer': {'categorical_impute_strategy': 'most_frequent', 'numeric_impute_strategy': 'mean', 'boolean_impute_strategy': 'most_frequent', 'categorical_fill_value': None, 'numeric_fill_value': None, 'boolean_fill_value': None}, 'Random Forest Pipeline - One Hot Encoder': {'top_n': 10, 'features_to_encode': None, 'categories': None, 'drop': 'if_binary', 'handle_unknown': 'ignore', 'handle_missing': 'error'}, 'Random Forest Pipeline - Undersampler': {'sampling_ratio': 0.25, 'min_samples': 100, 'min_percentage': 0.1, 'sampling_ratio_dict': None}, 'Random Forest Pipeline - RF Classifier Select From Model': {'number_features': None, 'n_estimators': 10, 'max_depth': None, 'percent_features': 0.5, 'threshold': 'median', 'n_jobs': -1}, 'Random Forest Pipeline - Random Forest Classifier': {'n_estimators': 100, 'max_depth': 6, 'n_jobs': -1}, 'LightGBM Pipeline - Label Encoder': {'positive_label': None}, 'LightGBM Pipeline - Drop Columns Transformer': {'columns': ['L01701', 'L018']}, 'LightGBM Pipeline - Imputer': {'categorical_impute_strategy': 'most_frequent', 'numeric_impute_strategy': 'mean', 'boolean_impute_strategy': 'most_frequent', 'categorical_fill_value': None, 'numeric_fill_value': None, 'boolean_fill_value': None}, 'LightGBM Pipeline - One Hot Encoder': {'top_n': 10, 'features_to_encode': None, 'categories': None, 'drop': 'if_binary', 'handle_unknown': 'ignore', 'handle_missing': 'error'}, 'LightGBM Pipeline - Undersampler': {'sampling_ratio': 0.25, 'min_samples': 100, 'min_percentage': 0.1, 'sampling_ratio_dict': None}, 'LightGBM Pipeline - Select Columns Transformer': {'columns': ['V0001', 'V0024', 'UPA_PNS', 'V0006_PNS', 'V0022', 'A02201|A02305|A02306', 'C004', 'C008', 'M01601', 'N010', 'P00104', 'P00404', 'P034|P035', 'Q11604']}, 'LightGBM Pipeline - LightGBM Classifier': {'boosting_type': 'gbdt', 'learning_rate': 0.1, 'n_estimators': 100, 'max_depth': 0, 'num_leaves': 31, 'min_child_samples': 20, 'n_jobs': -1, 'bagging_freq': 0, 'bagging_fraction': 0.9, 'verbose': -1}, 'Extra Trees Pipeline - Label Encoder': {'positive_label': None}, 'Extra Trees Pipeline - Drop Columns Transformer': {'columns': ['L01701', 'L018']}, 'Extra Trees Pipeline - Imputer': {'categorical_impute_strategy': 'most_frequent', 'numeric_impute_strategy': 'mean', 'boolean_impute_strategy': 'most_frequent', 'categorical_fill_value': None, 'numeric_fill_value': None, 'boolean_fill_value': None}, 'Extra Trees Pipeline - One Hot Encoder': {'top_n': 10, 'features_to_encode': None, 'categories': None, 'drop': 'if_binary', 'handle_unknown': 'ignore', 'handle_missing': 'error'}, 'Extra Trees Pipeline - Undersampler': {'sampling_ratio': 0.25, 'min_samples': 100, 'min_percentage': 0.1, 'sampling_ratio_dict': None}, 'Extra Trees Pipeline - Select Columns Transformer': {'columns': ['V0001', 'V0024', 'UPA_PNS', 'V0006_PNS', 'V0022', 'A02201|A02305|A02306', 'C004', 'C008', 'M01601', 'N010', 'P00104', 'P00404', 'P034|P035', 'Q11604']}, 'Extra Trees Pipeline - Extra Trees Classifier': {'n_estimators': 100, 'max_features': 'sqrt', 'max_depth': 6, 'min_samples_split': 2, 'min_weight_fraction_leaf': 0.0, 'n_jobs': -1}, 'Linear Pipeline - Label Encoder': {'positive_label': None}, 'Linear Pipeline - Drop Columns Transformer': {'columns': ['L01701', 'L018']}, 'Linear Pipeline - Imputer': {'categorical_impute_strategy': 'most_frequent', 'numeric_impute_strategy': 'mean', 'boolean_impute_strategy': 'most_frequent', 'categorical_fill_value': None, 'numeric_fill_value': None, 'boolean_fill_value': None}, 'Linear Pipeline - One Hot Encoder': {'top_n': 10, 'features_to_encode': None, 'categories': None, 'drop': 'if_binary', 'handle_unknown': 'ignore', 'handle_missing': 'error'}, 'Linear Pipeline - Undersampler': {'sampling_ratio': 0.25, 'min_samples': 100, 'min_percentage': 0.1, 'sampling_ratio_dict': None}, 'Linear Pipeline - Select Columns Transformer': {'columns': ['V0001', 'V0024', 'UPA_PNS', 'V0006_PNS', 'V0022', 'A02201|A02305|A02306', 'C004', 'C008', 'M01601', 'N010', 'P00104', 'P00404', 'P034|P035', 'Q11604']}, 'Linear Pipeline - Logistic Regression Classifier': {'penalty': 'l2', 'C': 1.0, 'n_jobs': -1, 'multi_class': 'auto', 'solver': 'lbfgs'}, 'XGBoost Pipeline - Label Encoder': {'positive_label': None}, 'XGBoost Pipeline - Drop Columns Transformer': {'columns': ['L01701', 'L018']}, 'XGBoost Pipeline - Imputer': {'categorical_impute_strategy': 'most_frequent', 'numeric_impute_strategy': 'mean', 'boolean_impute_strategy': 'most_frequent', 'categorical_fill_value': None, 'numeric_fill_value': None, 'boolean_fill_value': None}, 'XGBoost Pipeline - One Hot Encoder': {'top_n': 10, 'features_to_encode': None, 'categories': None, 'drop': 'if_binary', 'handle_unknown': 'ignore', 'handle_missing': 'error'}, 'XGBoost Pipeline - Undersampler': {'sampling_ratio': 0.25, 'min_samples': 100, 'min_percentage': 0.1, 'sampling_ratio_dict': None}, 'XGBoost Pipeline - Select Columns Transformer': {'columns': ['V0001', 'V0024', 'UPA_PNS', 'V0006_PNS', 'V0022', 'A02201|A02305|A02306', 'C004', 'C008', 'M01601', 'N010', 'P00104', 'P00404', 'P034|P035', 'Q11604']}, 'XGBoost Pipeline - XGBoost Classifier': {'eta': 0.1, 'max_depth': 6, 'min_child_weight': 1, 'n_estimators': 100, 'n_jobs': -1, 'eval_metric': 'logloss'}, 'Stacked Ensemble Classifier': {'final_estimator': ElasticNetClassifier(penalty='elasticnet', C=1.0, l1_ratio=0.15, n_jobs=-1, multi_class='auto', solver='saga'), 'n_jobs': -1}}"
        ],
        [
         "63",
         "0",
         "Mode Baseline Binary Classification Pipeline",
         "0",
         "1.8517994019781554",
         "1.8517994019781554",
         "0.002073310051487961",
         "0.0",
         "False",
         "{'Label Encoder': {'positive_label': None}, 'Baseline Classifier': {'strategy': 'mode'}}"
        ]
       ],
       "shape": {
        "columns": 9,
        "rows": 9
       }
      },
      "text/html": [
       "<div>\n",
       "<style scoped>\n",
       "    .dataframe tbody tr th:only-of-type {\n",
       "        vertical-align: middle;\n",
       "    }\n",
       "\n",
       "    .dataframe tbody tr th {\n",
       "        vertical-align: top;\n",
       "    }\n",
       "\n",
       "    .dataframe thead th {\n",
       "        text-align: right;\n",
       "    }\n",
       "</style>\n",
       "<table border=\"1\" class=\"dataframe\">\n",
       "  <thead>\n",
       "    <tr style=\"text-align: right;\">\n",
       "      <th></th>\n",
       "      <th>id</th>\n",
       "      <th>pipeline_name</th>\n",
       "      <th>search_order</th>\n",
       "      <th>ranking_score</th>\n",
       "      <th>mean_cv_score</th>\n",
       "      <th>standard_deviation_cv_score</th>\n",
       "      <th>percent_better_than_baseline</th>\n",
       "      <th>high_variance_cv</th>\n",
       "      <th>parameters</th>\n",
       "    </tr>\n",
       "  </thead>\n",
       "  <tbody>\n",
       "    <tr>\n",
       "      <th>0</th>\n",
       "      <td>14</td>\n",
       "      <td>Logistic Regression Classifier w/ Label Encode...</td>\n",
       "      <td>14</td>\n",
       "      <td>0.281307</td>\n",
       "      <td>0.281307</td>\n",
       "      <td>0.001708</td>\n",
       "      <td>84.808998</td>\n",
       "      <td>False</td>\n",
       "      <td>{'Label Encoder': {'positive_label': None}, 'D...</td>\n",
       "    </tr>\n",
       "    <tr>\n",
       "      <th>19</th>\n",
       "      <td>4</td>\n",
       "      <td>Elastic Net Classifier w/ Label Encoder + Drop...</td>\n",
       "      <td>4</td>\n",
       "      <td>0.281757</td>\n",
       "      <td>0.281757</td>\n",
       "      <td>0.001584</td>\n",
       "      <td>84.784688</td>\n",
       "      <td>False</td>\n",
       "      <td>{'Label Encoder': {'positive_label': None}, 'D...</td>\n",
       "    </tr>\n",
       "    <tr>\n",
       "      <th>21</th>\n",
       "      <td>15</td>\n",
       "      <td>Random Forest Classifier w/ Label Encoder + Dr...</td>\n",
       "      <td>15</td>\n",
       "      <td>0.282214</td>\n",
       "      <td>0.282214</td>\n",
       "      <td>0.001525</td>\n",
       "      <td>84.760031</td>\n",
       "      <td>False</td>\n",
       "      <td>{'Label Encoder': {'positive_label': None}, 'D...</td>\n",
       "    </tr>\n",
       "    <tr>\n",
       "      <th>28</th>\n",
       "      <td>46</td>\n",
       "      <td>Extra Trees Classifier w/ Label Encoder + Drop...</td>\n",
       "      <td>46</td>\n",
       "      <td>0.282615</td>\n",
       "      <td>0.282615</td>\n",
       "      <td>0.001522</td>\n",
       "      <td>84.738381</td>\n",
       "      <td>False</td>\n",
       "      <td>{'Label Encoder': {'positive_label': None}, 'D...</td>\n",
       "    </tr>\n",
       "    <tr>\n",
       "      <th>32</th>\n",
       "      <td>1</td>\n",
       "      <td>Random Forest Classifier w/ Label Encoder + Dr...</td>\n",
       "      <td>1</td>\n",
       "      <td>0.282719</td>\n",
       "      <td>0.282719</td>\n",
       "      <td>0.002207</td>\n",
       "      <td>84.732724</td>\n",
       "      <td>False</td>\n",
       "      <td>{'Label Encoder': {'positive_label': None}, 'D...</td>\n",
       "    </tr>\n",
       "    <tr>\n",
       "      <th>59</th>\n",
       "      <td>2</td>\n",
       "      <td>LightGBM Classifier w/ Label Encoder + Drop Co...</td>\n",
       "      <td>2</td>\n",
       "      <td>0.286970</td>\n",
       "      <td>0.286970</td>\n",
       "      <td>0.002175</td>\n",
       "      <td>84.503199</td>\n",
       "      <td>False</td>\n",
       "      <td>{'Label Encoder': {'positive_label': None}, 'D...</td>\n",
       "    </tr>\n",
       "    <tr>\n",
       "      <th>60</th>\n",
       "      <td>5</td>\n",
       "      <td>XGBoost Classifier w/ Label Encoder + Drop Col...</td>\n",
       "      <td>5</td>\n",
       "      <td>0.287932</td>\n",
       "      <td>0.287932</td>\n",
       "      <td>0.003314</td>\n",
       "      <td>84.451230</td>\n",
       "      <td>False</td>\n",
       "      <td>{'Label Encoder': {'positive_label': None}, 'D...</td>\n",
       "    </tr>\n",
       "    <tr>\n",
       "      <th>62</th>\n",
       "      <td>7</td>\n",
       "      <td>Stacked Ensemble Classification Pipeline</td>\n",
       "      <td>7</td>\n",
       "      <td>0.420410</td>\n",
       "      <td>0.420410</td>\n",
       "      <td>0.004145</td>\n",
       "      <td>77.297221</td>\n",
       "      <td>False</td>\n",
       "      <td>{'Label Encoder': {'positive_label': None}, 'R...</td>\n",
       "    </tr>\n",
       "    <tr>\n",
       "      <th>63</th>\n",
       "      <td>0</td>\n",
       "      <td>Mode Baseline Binary Classification Pipeline</td>\n",
       "      <td>0</td>\n",
       "      <td>1.851799</td>\n",
       "      <td>1.851799</td>\n",
       "      <td>0.002073</td>\n",
       "      <td>0.000000</td>\n",
       "      <td>False</td>\n",
       "      <td>{'Label Encoder': {'positive_label': None}, 'B...</td>\n",
       "    </tr>\n",
       "  </tbody>\n",
       "</table>\n",
       "</div>"
      ],
      "text/plain": [
       "    id                                      pipeline_name  search_order  \\\n",
       "0   14  Logistic Regression Classifier w/ Label Encode...            14   \n",
       "19   4  Elastic Net Classifier w/ Label Encoder + Drop...             4   \n",
       "21  15  Random Forest Classifier w/ Label Encoder + Dr...            15   \n",
       "28  46  Extra Trees Classifier w/ Label Encoder + Drop...            46   \n",
       "32   1  Random Forest Classifier w/ Label Encoder + Dr...             1   \n",
       "59   2  LightGBM Classifier w/ Label Encoder + Drop Co...             2   \n",
       "60   5  XGBoost Classifier w/ Label Encoder + Drop Col...             5   \n",
       "62   7           Stacked Ensemble Classification Pipeline             7   \n",
       "63   0       Mode Baseline Binary Classification Pipeline             0   \n",
       "\n",
       "    ranking_score  mean_cv_score  standard_deviation_cv_score  \\\n",
       "0        0.281307       0.281307                     0.001708   \n",
       "19       0.281757       0.281757                     0.001584   \n",
       "21       0.282214       0.282214                     0.001525   \n",
       "28       0.282615       0.282615                     0.001522   \n",
       "32       0.282719       0.282719                     0.002207   \n",
       "59       0.286970       0.286970                     0.002175   \n",
       "60       0.287932       0.287932                     0.003314   \n",
       "62       0.420410       0.420410                     0.004145   \n",
       "63       1.851799       1.851799                     0.002073   \n",
       "\n",
       "    percent_better_than_baseline  high_variance_cv  \\\n",
       "0                      84.808998             False   \n",
       "19                     84.784688             False   \n",
       "21                     84.760031             False   \n",
       "28                     84.738381             False   \n",
       "32                     84.732724             False   \n",
       "59                     84.503199             False   \n",
       "60                     84.451230             False   \n",
       "62                     77.297221             False   \n",
       "63                      0.000000             False   \n",
       "\n",
       "                                           parameters  \n",
       "0   {'Label Encoder': {'positive_label': None}, 'D...  \n",
       "19  {'Label Encoder': {'positive_label': None}, 'D...  \n",
       "21  {'Label Encoder': {'positive_label': None}, 'D...  \n",
       "28  {'Label Encoder': {'positive_label': None}, 'D...  \n",
       "32  {'Label Encoder': {'positive_label': None}, 'D...  \n",
       "59  {'Label Encoder': {'positive_label': None}, 'D...  \n",
       "60  {'Label Encoder': {'positive_label': None}, 'D...  \n",
       "62  {'Label Encoder': {'positive_label': None}, 'R...  \n",
       "63  {'Label Encoder': {'positive_label': None}, 'B...  "
      ]
     },
     "execution_count": 10,
     "metadata": {},
     "output_type": "execute_result"
    }
   ],
   "source": [
    "automl.rankings"
   ]
  },
  {
   "cell_type": "code",
   "execution_count": 11,
   "id": "90ca3f04",
   "metadata": {},
   "outputs": [
    {
     "name": "stdout",
     "output_type": "stream",
     "text": [
      "\n",
      "Melhor pipeline: Logistic Regression Classifier w/ Label Encoder + Drop Columns Transformer + Imputer + One Hot Encoder + Undersampler + Standard Scaler + Select Columns Transformer\n",
      "Parâmetros do melhor pipeline: {'Label Encoder': {'positive_label': None}, 'Drop Columns Transformer': {'columns': ['L01701', 'L018']}, 'Imputer': {'categorical_impute_strategy': 'most_frequent', 'numeric_impute_strategy': 'most_frequent', 'boolean_impute_strategy': 'most_frequent', 'categorical_fill_value': None, 'numeric_fill_value': None, 'boolean_fill_value': None}, 'One Hot Encoder': {'top_n': 10, 'features_to_encode': None, 'categories': None, 'drop': 'if_binary', 'handle_unknown': 'ignore', 'handle_missing': 'error'}, 'Undersampler': {'sampling_ratio': 0.25, 'min_samples': 100, 'min_percentage': 0.1, 'sampling_ratio_dict': None}, 'Select Columns Transformer': {'columns': ['V0001', 'V0024', 'UPA_PNS', 'V0006_PNS', 'V0022', 'A02201|A02305|A02306', 'C004', 'C008', 'M01601', 'N010', 'P00104', 'P00404', 'P034|P035', 'Q11604']}, 'Logistic Regression Classifier': {'penalty': 'l2', 'C': 9.922193477319265, 'n_jobs': -1, 'multi_class': 'auto', 'solver': 'lbfgs'}}\n"
     ]
    }
   ],
   "source": [
    "best_pipeline = automl.best_pipeline\n",
    "print(\"\\nMelhor pipeline:\", best_pipeline.name)\n",
    "print(\"Parâmetros do melhor pipeline:\", best_pipeline.parameters)"
   ]
  },
  {
   "cell_type": "code",
   "execution_count": 12,
   "id": "3d40a398",
   "metadata": {},
   "outputs": [
    {
     "name": "stdout",
     "output_type": "stream",
     "text": [
      "\n",
      "Desempenho no conjunto de teste:\n",
      "OrderedDict({'Log Loss Binary': 0.2802360609799926, 'F1': 0.9732871531510012, 'Precision': 0.9492894307680361, 'Recall': 0.9985296520176442})\n"
     ]
    }
   ],
   "source": [
    "scores = best_pipeline.score(X_test, y_test, objectives=['log loss binary', 'f1', 'precision', 'recall'])\n",
    "print(\"\\nDesempenho no conjunto de teste:\")\n",
    "print(scores)"
   ]
  },
  {
   "cell_type": "code",
   "execution_count": 13,
   "id": "6bae27f8",
   "metadata": {},
   "outputs": [],
   "source": [
    "predictions = best_pipeline.predict(X_test)\n",
    "predict_proba = best_pipeline.predict_proba(X_test)"
   ]
  },
  {
   "cell_type": "code",
   "execution_count": 14,
   "id": "ae7bbae5",
   "metadata": {},
   "outputs": [
    {
     "name": "stdout",
     "output_type": "stream",
     "text": [
      "\n",
      "Relatório de Classificação por Classe:\n",
      "              precision    recall  f1-score   support\n",
      "\n",
      "Nao tem asma       0.36      0.02      0.03       663\n",
      "    tem asma       0.95      1.00      0.97     12242\n",
      "\n",
      "    accuracy                           0.95     12905\n",
      "   macro avg       0.65      0.51      0.50     12905\n",
      "weighted avg       0.92      0.95      0.92     12905\n",
      "\n"
     ]
    }
   ],
   "source": [
    "print(\"\\nRelatório de Classificação por Classe:\")\n",
    "print(classification_report(y_test, predictions, target_names=['Nao tem asma', 'tem asma']))"
   ]
  },
  {
   "cell_type": "code",
   "execution_count": 15,
   "id": "ef2fdceb",
   "metadata": {},
   "outputs": [
    {
     "name": "stdout",
     "output_type": "stream",
     "text": [
      "Rótulos encontrados: [1, 2]\n",
      "\n",
      "Métricas por classe:\n",
      "\n",
      "Classe 1:\n",
      "Precisão: 0.3571\n",
      "Recall: 0.0151\n",
      "F1-Score: 0.0289\n",
      "\n",
      "Classe 2:\n",
      "Precisão: 0.9493\n",
      "Recall: 0.9985\n",
      "F1-Score: 0.9733\n"
     ]
    }
   ],
   "source": [
    "from sklearn.metrics import precision_score, recall_score, f1_score\n",
    "\n",
    "# Primeiro, vamos identificar quais são os rótulos únicos presentes nos dados\n",
    "unique_labels = sorted(y_test.unique())\n",
    "print(f\"Rótulos encontrados: {unique_labels}\")\n",
    "\n",
    "# Agora vamos calcular as métricas usando os rótulos corretos\n",
    "print(\"\\nMétricas por classe:\")\n",
    "for label in unique_labels:\n",
    "    print(f\"\\nClasse {label}:\")\n",
    "    print(f\"Precisão: {precision_score(y_test, predictions, pos_label=label):.4f}\")\n",
    "    print(f\"Recall: {recall_score(y_test, predictions, pos_label=label):.4f}\")\n",
    "    print(f\"F1-Score: {f1_score(y_test, predictions, pos_label=label):.4f}\")\n"
   ]
  },
  {
   "cell_type": "code",
   "execution_count": null,
   "id": "25aa4400",
   "metadata": {},
   "outputs": [
    {
     "data": {
      "image/png": "[encoded data removed]",
      "text/plain": [
       "<Figure size 640x480 with 2 Axes>"
      ]
     },
     "metadata": {},
     "output_type": "display_data"
    }
   ],
   "source": [
    "import matplotlib.pyplot as plt\n",
    "import seaborn as sns\n",
    "from sklearn.metrics import confusion_matrix\n",
    "\n",
    "# Matriz de confusão\n",
    "cm = confusion_matrix(y_test, predictions)\n",
    "sns.heatmap(cm, annot=True, fmt='d', cmap='Blues', \n",
    "            xticklabels=['Classe 0', 'Classe 1'],\n",
    "            yticklabels=['Classe 0', 'Classe 1'])\n",
    "plt.ylabel('Verdadeiro')\n",
    "plt.xlabel('Predito')\n",
    "plt.title('Matriz de Confusão')\n",
    "plt.show()"
   ]
  },
  {
   "cell_type": "code",
   "execution_count": null,
   "id": "e5ee1f1c",
   "metadata": {},
   "outputs": [],
   "source": []
  }
 ],
 "metadata": {
  "kernelspec": {
   "display_name": "Python 3",
   "language": "python",
   "name": "python3"
  },
  "language_info": {
   "codemirror_mode": {
    "name": "ipython",
    "version": 3
   },
   "file_extension": ".py",
   "mimetype": "text/x-python",
   "name": "python",
   "nbconvert_exporter": "python",
   "pygments_lexer": "ipython3",
   "version": "3.12.3"
  }
 },
 "nbformat": 4,
 "nbformat_minor": 5
}
