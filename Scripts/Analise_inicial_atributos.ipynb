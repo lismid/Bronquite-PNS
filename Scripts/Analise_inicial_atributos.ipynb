{
 "cells": [
  {
   "cell_type": "code",
   "execution_count": 34,
   "metadata": {},
   "outputs": [],
   "source": [
    "import pandas as pd\n",
    "from docx import Document "
   ]
  },
  {
   "cell_type": "code",
   "execution_count": 35,
   "metadata": {},
   "outputs": [],
   "source": [
    "data = pd.read_excel(\"../Base_filtrada.xlsx\")"
   ]
  },
  {
   "cell_type": "markdown",
   "metadata": {},
   "source": [
    "### Separação por natureza dos dados"
   ]
  },
  {
   "cell_type": "code",
   "execution_count": 36,
   "metadata": {},
   "outputs": [],
   "source": [
    "colunas_categoricas = ['V0001', 'A02201', 'C004', 'C006', 'C00701', 'C00702', \n",
    "                       'C00703', 'C009', 'L01701', 'L018', 'M01601', 'N010', 'P00102','P034',\n",
    "                       'P050', 'P051', 'P052', 'P05401', 'P05404', 'P05407', 'P05410',\n",
    "                       'P05413', 'P05416', 'P05419', 'P058', 'Q09201', 'Q11006', \n",
    "                       'Q11604', 'W001', 'Q074']"
   ]
  },
  {
   "cell_type": "code",
   "execution_count": 37,
   "metadata": {},
   "outputs": [],
   "source": [
    "colunas_numericas = ['V0022', 'A02305', 'A02306', 'C008', 'P00103', 'P00104', 'P035', 'P03701', 'P03702', \n",
    "                     'P053', 'P05402', 'P05403', 'P05405', 'P05406', 'P05408', 'P05409',\n",
    "                     'P05411', 'P05412','P05414', 'P05415', 'P05417', 'P05418', \n",
    "                     'P05421', 'P05422', 'P05801', 'P05802', 'P05901', 'P05902', \n",
    "                     'P05903', 'P05904', 'W00101', 'W00102', 'W00103']  "
   ]
  },
  {
   "cell_type": "markdown",
   "metadata": {},
   "source": [
    "garantir que as colunas numericas sao numericas"
   ]
  },
  {
   "cell_type": "code",
   "execution_count": 38,
   "metadata": {},
   "outputs": [],
   "source": [
    "for coluna in colunas_numericas:\n",
    "    data[coluna] = pd.to_numeric(data[coluna], errors='coerce')"
   ]
  },
  {
   "cell_type": "markdown",
   "metadata": {},
   "source": [
    "## Tabela numerica"
   ]
  },
  {
   "cell_type": "code",
   "execution_count": 39,
   "metadata": {},
   "outputs": [],
   "source": [
    "estatisticas_numericas = {\n",
    "    'Coluna': colunas_numericas,\n",
    "    'Mínimo': [round(data[col].min(), 2) for col in colunas_numericas],\n",
    "    'Máximo': [round(data[col].max(), 2) for col in colunas_numericas],\n",
    "    'Média': [round(data[col].mean(), 2) for col in colunas_numericas],\n",
    "    'Desvio Padrão': [round(data[col].std(), 2) for col in colunas_numericas],\n",
    "    'Dados Faltantes': [data[col].isnull().sum() for col in colunas_numericas],\n",
    "    '% Faltantes': [round((data[col].isnull().sum() / len(data)) * 100, 2) for col in colunas_numericas]\n",
    "}\n",
    "df_estatisticas_numericas = pd.DataFrame(estatisticas_numericas)"
   ]
  },
  {
   "cell_type": "code",
   "execution_count": 40,
   "metadata": {},
   "outputs": [],
   "source": [
    "df_estatisticas_numericas = pd.DataFrame(estatisticas_numericas)"
   ]
  },
  {
   "cell_type": "markdown",
   "metadata": {},
   "source": [
    "## Tabela Categorica"
   ]
  },
  {
   "cell_type": "code",
   "execution_count": 41,
   "metadata": {},
   "outputs": [],
   "source": [
    "estatisticas_categoricas_detalhadas = {\n",
    "    'Coluna': [],\n",
    "    'Categoria': [],\n",
    "    'Contagem': [],\n",
    "    '% da Coluna': []\n",
    "}\n",
    "\n",
    "for coluna in colunas_categoricas:\n",
    "    # Extrair categorias e contagens (incluindo NaN)\n",
    "    contagem = data[coluna].value_counts(dropna=False).reset_index()\n",
    "    contagem.columns = ['Categoria', 'Contagem']\n",
    "    \n",
    "    # Converter categorias para numérico (se possível) e ordenar\n",
    "    try:\n",
    "        contagem['Categoria_Num'] = pd.to_numeric(contagem['Categoria'], errors='coerce')\n",
    "        contagem = contagem.sort_values(by='Categoria_Num').drop('Categoria_Num', axis=1)\n",
    "    except:\n",
    "        contagem = contagem.sort_values(by='Categoria')  # Caso não sejam números\n",
    "    \n",
    "    # Adicionar dados faltantes no final\n",
    "    faltantes = data[coluna].isnull().sum()\n",
    "    total_linhas = len(data)\n",
    "    \n",
    "    for _, row in contagem.iterrows():\n",
    "        categoria = str(row['Categoria'])\n",
    "        estatisticas_categoricas_detalhadas['Coluna'].append(coluna)\n",
    "        estatisticas_categoricas_detalhadas['Categoria'].append(categoria)\n",
    "        estatisticas_categoricas_detalhadas['Contagem'].append(row['Contagem'])\n",
    "        estatisticas_categoricas_detalhadas['% da Coluna'].append(round((row['Contagem'] / total_linhas) * 100, 2))\n",
    "    \n",
    "    # # Adicionar linha de faltantes (se houver)\n",
    "    # if faltantes > 0:\n",
    "    #     estatisticas_categoricas_detalhadas['Coluna'].append(coluna)\n",
    "    #     estatisticas_categoricas_detalhadas['Categoria'].append('NaN')\n",
    "    #     estatisticas_categoricas_detalhadas['Contagem'].append(faltantes)\n",
    "    #     estatisticas_categoricas_detalhadas['% da Coluna'].append(round((faltantes / total_linhas) * 100, 2))\n",
    "\n",
    "# Criar DataFrame\n",
    "df_categoricas_ordenado = pd.DataFrame(estatisticas_categoricas_detalhadas)\n"
   ]
  },
  {
   "cell_type": "markdown",
   "metadata": {},
   "source": [
    "## Analise"
   ]
  },
  {
   "cell_type": "code",
   "execution_count": 42,
   "metadata": {},
   "outputs": [
    {
     "name": "stdout",
     "output_type": "stream",
     "text": [
      "Análise Descritiva do Conjunto de Dados Numéricos\n",
      "    Coluna  Mínimo  Máximo  Média  Desvio Padrão  Dados Faltantes  % Faltantes\n",
      "0    V0022     1.0    23.0   2.95           1.51                0         0.00\n",
      "1   A02305     0.0    40.0   0.77           1.58            36941        40.66\n",
      "2   A02306     0.0    83.0   1.51           1.55            36941        40.66\n",
      "3     C008    15.0   107.0  46.39          17.60                0         0.00\n",
      "4   P00103    23.0   190.0  72.09          15.28             7773         8.56\n",
      "5   P00104    25.0   176.0  71.88          15.16              892         0.98\n",
      "6     P035     0.0     7.0   3.37           1.93            54448        59.93\n",
      "7   P03701     0.0    15.0   1.01           0.84            55650        61.26\n",
      "8   P03702     0.0    59.0  13.81          16.87            55650        61.26\n",
      "9     P053     2.0    90.0  16.80           6.32            58783        64.71\n",
      "10  P05402     1.0    80.0  12.64           9.39            83786        92.23\n",
      "11  P05403     1.0    80.0   9.87          11.70            90063        99.14\n",
      "12  P05405     1.0    50.0   7.81           6.73            87327        96.13\n",
      "13  P05406     1.0    70.0   5.63           7.27            90509        99.63\n",
      "14  P05408     1.0    25.0   4.56           5.04            90792        99.94\n",
      "15  P05409     1.0    20.0   3.79           3.98            90818        99.97\n",
      "16  P05411     1.0    30.0   4.37           4.39            90717        99.86\n",
      "17  P05412     1.0    15.0   3.33           3.52            90831        99.98\n",
      "18  P05414     1.0    20.0   5.00           5.83            90833        99.99\n",
      "19  P05415     1.0    10.0   3.29           3.40            90839        99.99\n",
      "20  P05417     1.0    10.0   2.00           2.00            90811        99.96\n",
      "21  P05418     1.0    10.0   2.16           1.55            90760        99.91\n",
      "22  P05421     1.0    40.0   8.35           9.29            90783        99.93\n",
      "23  P05422     1.0    50.0   6.22          11.05            90828        99.98\n",
      "24  P05801     1.0    80.0  14.97          12.90            73944        81.39\n",
      "25  P05802     1.0    90.0   9.85          11.21            89285        98.28\n",
      "26  P05901     0.0    74.0  17.29          12.93            66622        73.34\n",
      "27  P05902     0.0    11.0   0.92           2.30            66622        73.34\n",
      "28  P05903     0.0     3.0   0.17           0.59            66622        73.34\n",
      "29  P05904     0.0     6.0   0.21           0.85            66622        73.34\n",
      "30  W00101    29.6   145.0  72.45          15.67            84277        92.77\n",
      "31  W00102    29.6   145.0  72.41          15.65            84277        92.77\n",
      "32  W00103    29.9   138.4  72.25          15.47            84116        92.59\n",
      "Análise Descritiva do Conjunto de Dados Categóricos\n"
     ]
    }
   ],
   "source": [
    "print(\"Análise Descritiva do Conjunto de Dados Numéricos\")\n",
    "print(df_estatisticas_numericas)\n",
    "\n",
    "print(\"Análise Descritiva do Conjunto de Dados Categóricos\")\n"
   ]
  },
  {
   "cell_type": "markdown",
   "metadata": {},
   "source": [
    "## Salvando em arquivo"
   ]
  },
  {
   "cell_type": "code",
   "execution_count": 43,
   "metadata": {},
   "outputs": [
    {
     "data": {
      "text/plain": [
       "<docx.text.paragraph.Paragraph at 0x71e27778a540>"
      ]
     },
     "execution_count": 43,
     "metadata": {},
     "output_type": "execute_result"
    }
   ],
   "source": [
    "doc = Document()\n",
    "doc.add_heading('Análise Descritiva do Conjunto de Dados', 0)"
   ]
  },
  {
   "cell_type": "code",
   "execution_count": 44,
   "metadata": {},
   "outputs": [],
   "source": [
    "doc.add_heading('Estatísticas Numéricas', level=1)\n",
    "tabela_numericas = doc.add_table(rows=1, cols=len(df_estatisticas_numericas.columns))"
   ]
  },
  {
   "cell_type": "code",
   "execution_count": 45,
   "metadata": {},
   "outputs": [],
   "source": [
    "hdr_cells = tabela_numericas.rows[0].cells\n",
    "\n",
    "for i, col in enumerate(df_estatisticas_numericas.columns):\n",
    "    hdr_cells[i].text = str(col)\n"
   ]
  },
  {
   "cell_type": "code",
   "execution_count": 46,
   "metadata": {},
   "outputs": [],
   "source": [
    "for index, row in df_estatisticas_numericas.iterrows():\n",
    "    row_cells = tabela_numericas.add_row().cells\n",
    "    for i, value in enumerate(row):\n",
    "        row_cells[i].text = str(value)"
   ]
  },
  {
   "cell_type": "code",
   "execution_count": 47,
   "metadata": {},
   "outputs": [],
   "source": [
    "doc.add_heading('Análise Categórica', level=1)\n",
    "\n",
    "for coluna in colunas_categoricas:\n",
    "    doc.add_heading(f'Coluna: {coluna}', level=2)\n",
    "    dados_coluna = df_categoricas_ordenado[df_categoricas_ordenado['Coluna'] == coluna]\n",
    "    \n",
    "    tabela = doc.add_table(rows=1, cols=3)\n",
    "    hdr_cells = tabela.rows[0].cells\n",
    "    hdr_cells[0].text = 'Categoria'\n",
    "    hdr_cells[1].text = 'Contagem'\n",
    "    hdr_cells[2].text = '% da Coluna'\n",
    "    \n",
    "    for _, row in dados_coluna.iterrows():\n",
    "        row_cells = tabela.add_row().cells\n",
    "        row_cells[0].text = str(row['Categoria'])\n",
    "        row_cells[1].text = str(row['Contagem'])\n",
    "        row_cells[2].text = f\"{row['% da Coluna']}%\""
   ]
  },
  {
   "cell_type": "code",
   "execution_count": 48,
   "metadata": {},
   "outputs": [],
   "source": [
    "doc.save('../Relatorios/tabela_estatisticas.docx')"
   ]
  }
 ],
 "metadata": {
  "kernelspec": {
   "display_name": "Python 3",
   "language": "python",
   "name": "python3"
  },
  "language_info": {
   "codemirror_mode": {
    "name": "ipython",
    "version": 3
   },
   "file_extension": ".py",
   "mimetype": "text/x-python",
   "name": "python",
   "nbconvert_exporter": "python",
   "pygments_lexer": "ipython3",
   "version": "3.12.3"
  }
 },
 "nbformat": 4,
 "nbformat_minor": 2
}
