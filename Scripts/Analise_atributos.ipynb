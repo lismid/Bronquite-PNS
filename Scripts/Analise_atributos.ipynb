{
 "cells": [
  {
   "cell_type": "code",
   "execution_count": 106,
   "metadata": {},
   "outputs": [],
   "source": [
    "import pandas as pd\n",
    "import seaborn as sns\n",
    "from docx import Document "
   ]
  },
  {
   "cell_type": "code",
   "execution_count": 107,
   "metadata": {},
   "outputs": [],
   "source": [
    "# data = pd.read_excel(\"../Base_filtrada.xlsx\")\n",
    "# data = pd.read_excel(\"../Bases/Base_filtrada_idade.xlsx\")\n",
    "# data = pd.read_excel(\"../Bases/Base_plano_Cartesiano.xlsx\")\n",
    "data = pd.read_excel(\"../Bases/Base_tratada.xlsx\")"
   ]
  },
  {
   "cell_type": "markdown",
   "metadata": {},
   "source": [
    "### Separação por natureza dos dados"
   ]
  },
  {
   "cell_type": "markdown",
   "metadata": {},
   "source": [
    "filtrada"
   ]
  },
  {
   "cell_type": "code",
   "execution_count": 108,
   "metadata": {},
   "outputs": [],
   "source": [
    "# colunas_categoricas = ['V0001', 'A02201', 'C004', 'C006', 'C009', 'L01701', 'L018', 'M01601', 'N010','P034',\n",
    "#                        'P050', 'P052', 'Q092', 'Q11006', 'Q11604', 'Q074']"
   ]
  },
  {
   "cell_type": "code",
   "execution_count": 109,
   "metadata": {},
   "outputs": [],
   "source": [
    "# colunas_numericas = ['V0022', 'A02305', 'A02306', 'C008', 'P00104', 'P00404', 'P035', 'P03701', 'P03702', \n",
    "#                      'P053', 'P05901', 'P05902', 'P05903', 'P05904']  "
   ]
  },
  {
   "cell_type": "markdown",
   "metadata": {},
   "source": [
    "plano cartesiano"
   ]
  },
  {
   "cell_type": "code",
   "execution_count": 110,
   "metadata": {},
   "outputs": [],
   "source": [
    "# colunas_categoricas = ['V0001', 'C004', 'C006', 'C009', 'L01701', 'L018', 'M01601', 'N010','P034|P035', 'P03701|P03702',\n",
    "#                        'P050|P052', 'P05901|P05902|P05903|P05904', 'Q092', 'Q11006', 'Q11604', 'Q074']"
   ]
  },
  {
   "cell_type": "code",
   "execution_count": 111,
   "metadata": {},
   "outputs": [],
   "source": [
    "# colunas_numericas = ['V0022', 'A02201|A02305|A02306', 'C008', 'P00104', 'P00404', 'P053']  "
   ]
  },
  {
   "cell_type": "markdown",
   "metadata": {},
   "source": [
    "tratada"
   ]
  },
  {
   "cell_type": "code",
   "execution_count": 112,
   "metadata": {},
   "outputs": [],
   "source": [
    "colunas_categoricas = ['V0001','V0022', 'A02201|A02305|A02306', 'C008','C006', 'C009', 'N010', 'P00104', 'P00404', 'P03701|P03702','IMC',\n",
    "                       'P050|P052', 'P053', 'P05901|P05902|P05903|P05904', 'Q092', 'Q11604', 'Q074']"
   ]
  },
  {
   "cell_type": "code",
   "execution_count": 113,
   "metadata": {},
   "outputs": [],
   "source": [
    "colunas_numericas = ['P034|P035']  "
   ]
  },
  {
   "cell_type": "markdown",
   "metadata": {},
   "source": [
    "garantir que as colunas numericas sao numericas"
   ]
  },
  {
   "cell_type": "code",
   "execution_count": 114,
   "metadata": {},
   "outputs": [],
   "source": [
    "for coluna in colunas_numericas:\n",
    "    data[coluna] = pd.to_numeric(data[coluna], errors='coerce')"
   ]
  },
  {
   "cell_type": "markdown",
   "metadata": {},
   "source": [
    "## Correlação"
   ]
  },
  {
   "cell_type": "markdown",
   "metadata": {},
   "source": [
    "## Numero de faltantes"
   ]
  },
  {
   "cell_type": "code",
   "execution_count": 115,
   "metadata": {},
   "outputs": [
    {
     "name": "stdout",
     "output_type": "stream",
     "text": [
      "numero de valores nulos na coluna V0001 é: 0\n",
      "numero de valores nulos na coluna V0022 é: 0\n",
      "numero de valores nulos na coluna A02201|A02305|A02306 é: 0\n",
      "numero de valores nulos na coluna C006 é: 0\n",
      "numero de valores nulos na coluna C008 é: 0\n",
      "numero de valores nulos na coluna C009 é: 0\n",
      "numero de valores nulos na coluna N010 é: 0\n",
      "numero de valores nulos na coluna P00104 é: 0\n",
      "numero de valores nulos na coluna P00404 é: 0\n",
      "numero de valores nulos na coluna P034|P035 é: 0\n",
      "numero de valores nulos na coluna P03701|P03702 é: 0\n",
      "numero de valores nulos na coluna P050|P052 é: 0\n",
      "numero de valores nulos na coluna P053 é: 0\n",
      "numero de valores nulos na coluna P05901|P05902|P05903|P05904 é: 0\n",
      "numero de valores nulos na coluna Q074 é: 0\n",
      "numero de valores nulos na coluna Q092 é: 0\n",
      "numero de valores nulos na coluna Q11604 é: 0\n",
      "numero de valores nulos na coluna IMC é: 0\n"
     ]
    }
   ],
   "source": [
    "for col in data.columns:\n",
    "    nulos = data[col].isnull().sum()\n",
    "    print(f'numero de valores nulos na coluna {col} é: {nulos}')"
   ]
  },
  {
   "cell_type": "code",
   "execution_count": 116,
   "metadata": {},
   "outputs": [
    {
     "name": "stdout",
     "output_type": "stream",
     "text": [
      "numero de valores nulos na coluna V0001 é: 0\n",
      "numero de valores nulos na coluna V0022 é: 0\n",
      "numero de valores nulos na coluna A02201|A02305|A02306 é: 0\n",
      "numero de valores nulos na coluna C006 é: 0\n",
      "numero de valores nulos na coluna C008 é: 0\n",
      "numero de valores nulos na coluna C009 é: 0\n",
      "numero de valores nulos na coluna N010 é: 0\n",
      "numero de valores nulos na coluna P00104 é: 0\n",
      "numero de valores nulos na coluna P00404 é: 0\n",
      "numero de valores nulos na coluna P034|P035 é: 0\n",
      "numero de valores nulos na coluna P03701|P03702 é: 0\n",
      "numero de valores nulos na coluna P050|P052 é: 0\n",
      "numero de valores nulos na coluna P053 é: 0\n",
      "numero de valores nulos na coluna P05901|P05902|P05903|P05904 é: 0\n",
      "numero de valores nulos na coluna Q074 é: 0\n",
      "numero de valores nulos na coluna Q092 é: 0\n",
      "numero de valores nulos na coluna Q11604 é: 0\n",
      "numero de valores nulos na coluna IMC é: 0\n"
     ]
    }
   ],
   "source": [
    "for col in data.columns:\n",
    "    nulos = data[col].isna().sum()\n",
    "    print(f'numero de valores nulos na coluna {col} é: {nulos}')"
   ]
  },
  {
   "cell_type": "markdown",
   "metadata": {},
   "source": [
    "## Tabela numerica"
   ]
  },
  {
   "cell_type": "code",
   "execution_count": 117,
   "metadata": {},
   "outputs": [],
   "source": [
    "estatisticas_numericas = {\n",
    "    'Coluna': colunas_numericas,\n",
    "    'Mínimo': [round(data[col].min(), 2) for col in colunas_numericas],\n",
    "    'Máximo': [round(data[col].max(), 2) for col in colunas_numericas],\n",
    "    'Média': [round(data[col].mean(), 2) for col in colunas_numericas],\n",
    "    'Desvio Padrão': [round(data[col].std(), 2) for col in colunas_numericas],\n",
    "    'Dados Faltantes': [data[col].isnull().sum() for col in colunas_numericas],\n",
    "    '% Faltantes': [round((data[col].isnull().sum() / len(data)) * 100, 2) for col in colunas_numericas]\n",
    "}\n",
    "df_estatisticas_numericas = pd.DataFrame(estatisticas_numericas)"
   ]
  },
  {
   "cell_type": "markdown",
   "metadata": {},
   "source": [
    "df_estatisticas_numericas = pd.DataFrame(estatisticas_numericas)"
   ]
  },
  {
   "cell_type": "markdown",
   "metadata": {},
   "source": [
    "## Tabela Categorica"
   ]
  },
  {
   "cell_type": "code",
   "execution_count": null,
   "metadata": {},
   "outputs": [
    {
     "ename": "AttributeError",
     "evalue": "'DataFrame' object has no attribute 'unique'",
     "output_type": "error",
     "traceback": [
      "\u001b[0;31m---------------------------------------------------------------------------\u001b[0m",
      "\u001b[0;31mAttributeError\u001b[0m                            Traceback (most recent call last)",
      "\u001b[0;32m/tmp/ipykernel_6837/3059038118.py\u001b[0m in \u001b[0;36m?\u001b[0;34m()\u001b[0m\n\u001b[1;32m     46\u001b[0m     \u001b[0mtotal_linhas\u001b[0m \u001b[0;34m=\u001b[0m \u001b[0mlen\u001b[0m\u001b[0;34m(\u001b[0m\u001b[0mdata\u001b[0m\u001b[0;34m)\u001b[0m\u001b[0;34m\u001b[0m\u001b[0;34m\u001b[0m\u001b[0m\n\u001b[1;32m     47\u001b[0m \u001b[0;34m\u001b[0m\u001b[0m\n\u001b[1;32m     48\u001b[0m     \u001b[0;31m# Cálculo de correlação e entropia com a classe Q074\u001b[0m\u001b[0;34m\u001b[0m\u001b[0;34m\u001b[0m\u001b[0m\n\u001b[1;32m     49\u001b[0m     \u001b[0mmatriz_confusao\u001b[0m \u001b[0;34m=\u001b[0m \u001b[0mpd\u001b[0m\u001b[0;34m.\u001b[0m\u001b[0mcrosstab\u001b[0m\u001b[0;34m(\u001b[0m\u001b[0mdata\u001b[0m\u001b[0;34m[\u001b[0m\u001b[0mcoluna\u001b[0m\u001b[0;34m]\u001b[0m\u001b[0;34m,\u001b[0m \u001b[0mdata\u001b[0m\u001b[0;34m[\u001b[0m\u001b[0;34m'Q074'\u001b[0m\u001b[0;34m]\u001b[0m\u001b[0;34m)\u001b[0m\u001b[0;34m\u001b[0m\u001b[0;34m\u001b[0m\u001b[0m\n\u001b[0;32m---> 50\u001b[0;31m     \u001b[0mentropia\u001b[0m \u001b[0;34m=\u001b[0m \u001b[0mentropia_condicional\u001b[0m\u001b[0;34m(\u001b[0m\u001b[0mdata\u001b[0m\u001b[0;34m[\u001b[0m\u001b[0;34m[\u001b[0m\u001b[0mcoluna\u001b[0m\u001b[0;34m]\u001b[0m\u001b[0;34m]\u001b[0m\u001b[0;34m,\u001b[0m \u001b[0mdata\u001b[0m\u001b[0;34m[\u001b[0m\u001b[0;34m[\u001b[0m\u001b[0;34m'Q074'\u001b[0m\u001b[0;34m]\u001b[0m\u001b[0;34m]\u001b[0m\u001b[0;34m)\u001b[0m\u001b[0;34m\u001b[0m\u001b[0;34m\u001b[0m\u001b[0m\n\u001b[0m\u001b[1;32m     51\u001b[0m \u001b[0;34m\u001b[0m\u001b[0m\n\u001b[1;32m     52\u001b[0m     \u001b[0;32mfor\u001b[0m \u001b[0m_\u001b[0m\u001b[0;34m,\u001b[0m \u001b[0mrow\u001b[0m \u001b[0;32min\u001b[0m \u001b[0mcontagem\u001b[0m\u001b[0;34m.\u001b[0m\u001b[0miterrows\u001b[0m\u001b[0;34m(\u001b[0m\u001b[0;34m)\u001b[0m\u001b[0;34m:\u001b[0m\u001b[0;34m\u001b[0m\u001b[0;34m\u001b[0m\u001b[0m\n\u001b[1;32m     53\u001b[0m         \u001b[0mcategoria\u001b[0m \u001b[0;34m=\u001b[0m \u001b[0mrow\u001b[0m\u001b[0;34m[\u001b[0m\u001b[0;34m'Categoria'\u001b[0m\u001b[0;34m]\u001b[0m\u001b[0;34m\u001b[0m\u001b[0;34m\u001b[0m\u001b[0m\n",
      "\u001b[0;32m/tmp/ipykernel_6837/3059038118.py\u001b[0m in \u001b[0;36m?\u001b[0;34m(atributo, classe, normalize)\u001b[0m\n\u001b[1;32m     15\u001b[0m \u001b[0;32mdef\u001b[0m \u001b[0mentropia_condicional\u001b[0m\u001b[0;34m(\u001b[0m\u001b[0matributo\u001b[0m\u001b[0;34m,\u001b[0m \u001b[0mclasse\u001b[0m\u001b[0;34m,\u001b[0m \u001b[0mnormalize\u001b[0m\u001b[0;34m=\u001b[0m\u001b[0;32mFalse\u001b[0m\u001b[0;34m)\u001b[0m\u001b[0;34m:\u001b[0m\u001b[0;34m\u001b[0m\u001b[0;34m\u001b[0m\u001b[0m\n\u001b[1;32m     16\u001b[0m     \u001b[0mdf\u001b[0m \u001b[0;34m=\u001b[0m \u001b[0mpd\u001b[0m\u001b[0;34m.\u001b[0m\u001b[0mconcat\u001b[0m\u001b[0;34m(\u001b[0m\u001b[0;34m[\u001b[0m\u001b[0matributo\u001b[0m\u001b[0;34m,\u001b[0m \u001b[0mclasse\u001b[0m\u001b[0;34m]\u001b[0m\u001b[0;34m,\u001b[0m \u001b[0maxis\u001b[0m\u001b[0;34m=\u001b[0m\u001b[0;36m1\u001b[0m\u001b[0;34m)\u001b[0m\u001b[0;34m\u001b[0m\u001b[0;34m\u001b[0m\u001b[0m\n\u001b[0;32m---> 17\u001b[0;31m     \u001b[0mvalores\u001b[0m \u001b[0;34m=\u001b[0m \u001b[0matributo\u001b[0m\u001b[0;34m.\u001b[0m\u001b[0munique\u001b[0m\u001b[0;34m(\u001b[0m\u001b[0;34m)\u001b[0m\u001b[0;34m\u001b[0m\u001b[0;34m\u001b[0m\u001b[0m\n\u001b[0m\u001b[1;32m     18\u001b[0m     \u001b[0mtotal\u001b[0m \u001b[0;34m=\u001b[0m \u001b[0mlen\u001b[0m\u001b[0;34m(\u001b[0m\u001b[0matributo\u001b[0m\u001b[0;34m)\u001b[0m\u001b[0;34m\u001b[0m\u001b[0;34m\u001b[0m\u001b[0m\n\u001b[1;32m     19\u001b[0m     \u001b[0mentropia_cond\u001b[0m \u001b[0;34m=\u001b[0m \u001b[0;36m0.0\u001b[0m\u001b[0;34m\u001b[0m\u001b[0;34m\u001b[0m\u001b[0m\n\u001b[1;32m     20\u001b[0m     \u001b[0;32mfor\u001b[0m \u001b[0mvalor\u001b[0m \u001b[0;32min\u001b[0m \u001b[0mvalores\u001b[0m\u001b[0;34m:\u001b[0m\u001b[0;34m\u001b[0m\u001b[0;34m\u001b[0m\u001b[0m\n",
      "\u001b[0;32m~/.local/lib/python3.12/site-packages/pandas/core/generic.py\u001b[0m in \u001b[0;36m?\u001b[0;34m(self, name)\u001b[0m\n\u001b[1;32m   5985\u001b[0m             \u001b[0;32mand\u001b[0m \u001b[0mname\u001b[0m \u001b[0;32mnot\u001b[0m \u001b[0;32min\u001b[0m \u001b[0mself\u001b[0m\u001b[0;34m.\u001b[0m\u001b[0m_accessors\u001b[0m\u001b[0;34m\u001b[0m\u001b[0;34m\u001b[0m\u001b[0m\n\u001b[1;32m   5986\u001b[0m             \u001b[0;32mand\u001b[0m \u001b[0mself\u001b[0m\u001b[0;34m.\u001b[0m\u001b[0m_info_axis\u001b[0m\u001b[0;34m.\u001b[0m\u001b[0m_can_hold_identifiers_and_holds_name\u001b[0m\u001b[0;34m(\u001b[0m\u001b[0mname\u001b[0m\u001b[0;34m)\u001b[0m\u001b[0;34m\u001b[0m\u001b[0;34m\u001b[0m\u001b[0m\n\u001b[1;32m   5987\u001b[0m         \u001b[0;34m)\u001b[0m\u001b[0;34m:\u001b[0m\u001b[0;34m\u001b[0m\u001b[0;34m\u001b[0m\u001b[0m\n\u001b[1;32m   5988\u001b[0m             \u001b[0;32mreturn\u001b[0m \u001b[0mself\u001b[0m\u001b[0;34m[\u001b[0m\u001b[0mname\u001b[0m\u001b[0;34m]\u001b[0m\u001b[0;34m\u001b[0m\u001b[0;34m\u001b[0m\u001b[0m\n\u001b[0;32m-> 5989\u001b[0;31m         \u001b[0;32mreturn\u001b[0m \u001b[0mobject\u001b[0m\u001b[0;34m.\u001b[0m\u001b[0m__getattribute__\u001b[0m\u001b[0;34m(\u001b[0m\u001b[0mself\u001b[0m\u001b[0;34m,\u001b[0m \u001b[0mname\u001b[0m\u001b[0;34m)\u001b[0m\u001b[0;34m\u001b[0m\u001b[0;34m\u001b[0m\u001b[0m\n\u001b[0m",
      "\u001b[0;31mAttributeError\u001b[0m: 'DataFrame' object has no attribute 'unique'"
     ]
    }
   ],
   "source": [
    "from math import log2\n",
    "\n",
    "def calcular_entropia_condicional(df, coluna, classe):\n",
    "    grupos = df.groupby(coluna)\n",
    "    total = len(df)\n",
    "    entropia_total = 0.0\n",
    "    for _, grupo in grupos:\n",
    "        proporcao_grupo = len(grupo) / total\n",
    "        dist_classe = grupo[classe].value_counts(normalize=True)\n",
    "        entropia = -sum(p * log2(p) for p in dist_classe if p > 0)\n",
    "        entropia_total += proporcao_grupo * entropia\n",
    "    return round(entropia_total, 4)\n",
    "\n",
    "estatisticas_categoricas_detalhadas = {\n",
    "    'Coluna': [],\n",
    "    'Categoria': [],\n",
    "    'Contagem': [],\n",
    "    '% da Coluna': [],\n",
    "    'Instâncias por Classe': [],\n",
    "    'Entropia com Classe': []\n",
    "}\n",
    "\n",
    "for coluna in colunas_categoricas:\n",
    "    contagem = data[coluna].value_counts(dropna=False).reset_index()\n",
    "    contagem.columns = ['Categoria', 'Contagem']\n",
    "\n",
    "    try:\n",
    "        contagem['Categoria_Num'] = pd.to_numeric(contagem['Categoria'], errors='coerce')\n",
    "        contagem = contagem.sort_values(by='Categoria_Num').drop('Categoria_Num', axis=1)\n",
    "    except:\n",
    "        contagem = contagem.sort_values(by='Categoria')\n",
    "    \n",
    "    total_linhas = len(data)\n",
    "    \n",
    "    # Cálculo de correlação e entropia com a classe Q074\n",
    "    matriz_confusao = pd.crosstab(data[coluna], data['Q074'])\n",
    "    entropia = calcular_entropia_condicional(data[[coluna]].assign(Q074=data['Q074']), coluna, 'Q074')\n",
    "\n",
    "    for _, row in contagem.iterrows():\n",
    "        categoria = row['Categoria']\n",
    "        dados_categoria = data[data[coluna] == categoria]\n",
    "        dist_classe = dados_categoria['Q074'].value_counts().to_dict()\n",
    "        dist_classe_str = ', '.join([f'{k}: {v}' for k, v in dist_classe.items()])\n",
    "        \n",
    "        estatisticas_categoricas_detalhadas['Coluna'].append(coluna)\n",
    "        estatisticas_categoricas_detalhadas['Categoria'].append(str(categoria))\n",
    "        estatisticas_categoricas_detalhadas['Contagem'].append(row['Contagem'])\n",
    "        estatisticas_categoricas_detalhadas['% da Coluna'].append(round((row['Contagem'] / total_linhas) * 100, 2))\n",
    "        estatisticas_categoricas_detalhadas['Instâncias por Classe'].append(dist_classe_str)\n",
    "        estatisticas_categoricas_detalhadas['Entropia com Classe'].append(entropia)\n",
    "\n",
    "# Criar DataFrame final\n",
    "df_categoricas_ordenado = pd.DataFrame(estatisticas_categoricas_detalhadas)\n",
    "\n"
   ]
  },
  {
   "cell_type": "code",
   "execution_count": null,
   "metadata": {},
   "outputs": [],
   "source": [
    "# def adicionar_teste_chi2_doc(doc, data, colunas_categoricas, classe='Q074'):\n",
    "#     from itertools import combinations\n",
    "#     from scipy.stats import chi2_contingency\n",
    "\n",
    "#     doc.add_heading('Teste Qui-Quadrado: Comparações Dois a Dois', level=1)\n",
    "\n",
    "#     for coluna in colunas_categoricas:\n",
    "#         categorias_unicas = data[coluna].dropna().unique()\n",
    "#         combinacoes = list(combinations(categorias_unicas, 2))\n",
    "        \n",
    "#         if not combinacoes:\n",
    "#             continue  # pula colunas sem pelo menos duas categorias\n",
    "\n",
    "#         doc.add_heading(f'Coluna: {coluna}', level=2)\n",
    "#         tabela = doc.add_table(rows=1, cols=4)\n",
    "#         hdr_cells = tabela.rows[0].cells\n",
    "#         hdr_cells[0].text = 'Categoria 1'\n",
    "#         hdr_cells[1].text = 'Categoria 2'\n",
    "#         hdr_cells[2].text = 'Valor-p'\n",
    "#         hdr_cells[3].text = 'Hipótese Nula'\n",
    "\n",
    "#         for cat1, cat2 in combinacoes:\n",
    "#             subset = data[data[coluna].isin([cat1, cat2])]\n",
    "#             contingencia = pd.crosstab(subset[coluna], subset[classe])\n",
    "\n",
    "#             # Testar apenas se for pelo menos 2x2\n",
    "#             if contingencia.shape[0] == 2 and contingencia.shape[1] >= 2:\n",
    "#                 try:\n",
    "#                     _, p_valor, _, _ = chi2_contingency(contingencia)\n",
    "#                     p_valor_ajustado = round(p_valor, 4)\n",
    "#                     resultado = 'Rejeitada' if p_valor < 0.05 else 'Aceita'\n",
    "                    \n",
    "#                     row_cells = tabela.add_row().cells\n",
    "#                     row_cells[0].text = str(cat1)\n",
    "#                     row_cells[1].text = str(cat2)\n",
    "#                     row_cells[2].text = str(p_valor_ajustado)\n",
    "#                     row_cells[3].text = resultado\n",
    "#                 except:\n",
    "#                     continue  # em caso de erro com os dados, pula o par"
   ]
  },
  {
   "cell_type": "markdown",
   "metadata": {},
   "source": [
    "## Analise"
   ]
  },
  {
   "cell_type": "code",
   "execution_count": null,
   "metadata": {},
   "outputs": [
    {
     "name": "stdout",
     "output_type": "stream",
     "text": [
      "Análise Descritiva do Conjunto de Dados Numéricos\n",
      "      Coluna  Mínimo  Máximo  Média  Desvio Padrão  Dados Faltantes  \\\n",
      "0  P034|P035       0       7   1.66           2.12                0   \n",
      "\n",
      "   % Faltantes  \n",
      "0          0.0  \n",
      "Análise Descritiva do Conjunto de Dados Categóricos\n"
     ]
    }
   ],
   "source": [
    "print(\"Análise Descritiva do Conjunto de Dados Numéricos\")\n",
    "print(df_estatisticas_numericas)\n",
    "\n",
    "print(\"Análise Descritiva do Conjunto de Dados Categóricos\")\n"
   ]
  },
  {
   "cell_type": "markdown",
   "metadata": {},
   "source": [
    "## Salvando em arquivo"
   ]
  },
  {
   "cell_type": "code",
   "execution_count": null,
   "metadata": {},
   "outputs": [
    {
     "data": {
      "text/plain": [
       "<docx.text.paragraph.Paragraph at 0x78564addd3a0>"
      ]
     },
     "execution_count": 85,
     "metadata": {},
     "output_type": "execute_result"
    }
   ],
   "source": [
    "doc = Document()\n",
    "doc.add_heading('Análise Descritiva do Conjunto de Dados', 0)"
   ]
  },
  {
   "cell_type": "code",
   "execution_count": null,
   "metadata": {},
   "outputs": [],
   "source": [
    "doc.add_heading('Estatísticas Numéricas', level=1)\n",
    "tabela_numericas = doc.add_table(rows=1, cols=len(df_estatisticas_numericas.columns))"
   ]
  },
  {
   "cell_type": "code",
   "execution_count": null,
   "metadata": {},
   "outputs": [],
   "source": [
    "hdr_cells = tabela_numericas.rows[0].cells\n",
    "\n",
    "for i, col in enumerate(df_estatisticas_numericas.columns):\n",
    "    hdr_cells[i].text = str(col)\n"
   ]
  },
  {
   "cell_type": "code",
   "execution_count": null,
   "metadata": {},
   "outputs": [],
   "source": [
    "for index, row in df_estatisticas_numericas.iterrows():\n",
    "    row_cells = tabela_numericas.add_row().cells\n",
    "    for i, value in enumerate(row):\n",
    "        row_cells[i].text = str(value)"
   ]
  },
  {
   "cell_type": "code",
   "execution_count": null,
   "metadata": {},
   "outputs": [],
   "source": [
    "doc.add_heading('Análise Categórica', level=1)\n",
    "\n",
    "for coluna in colunas_categoricas:\n",
    "    doc.add_heading(f'Coluna: {coluna}', level=2)\n",
    "    dados_coluna = df_categoricas_ordenado[df_categoricas_ordenado['Coluna'] == coluna]\n",
    "    \n",
    "    tabela = doc.add_table(rows=1, cols=6)\n",
    "    hdr_cells = tabela.rows[0].cells\n",
    "    hdr_cells[0].text = 'Categoria'\n",
    "    hdr_cells[1].text = 'Contagem'\n",
    "    hdr_cells[2].text = '% da Coluna'\n",
    "    hdr_cells[3].text = 'Instâncias por Classe'\n",
    "    hdr_cells[4].text = 'Entropia com Classe'\n",
    "\n",
    "    for _, row in dados_coluna.iterrows():\n",
    "        row_cells = tabela.add_row().cells\n",
    "        row_cells[0].text = str(row['Categoria'])\n",
    "        row_cells[1].text = str(row['Contagem'])\n",
    "        row_cells[2].text = f\"{row['% da Coluna']}%\"\n",
    "        row_cells[3].text = row['Instâncias por Classe']\n",
    "        row_cells[4].text = str(row['Entropia com Classe'])"
   ]
  },
  {
   "cell_type": "code",
   "execution_count": null,
   "metadata": {},
   "outputs": [],
   "source": [
    "# adicionar_teste_chi2_doc(doc, data, colunas_categoricas, classe='Q074')"
   ]
  },
  {
   "cell_type": "code",
   "execution_count": null,
   "metadata": {},
   "outputs": [],
   "source": [
    "# doc.save('../Relatorios/tabela_estatisticas.docx')\n",
    "# doc.save('../Relatorios/tabela_estatisticas_filtrada.docx')\n",
    "# doc.save('../Relatorios/tabela_estatisticas_plano_cartesiano.docx')\n",
    "doc.save('../Relatorios/tabela_base_tratada.docx')"
   ]
  },
  {
   "cell_type": "code",
   "execution_count": null,
   "metadata": {},
   "outputs": [],
   "source": []
  }
 ],
 "metadata": {
  "kernelspec": {
   "display_name": "Python 3",
   "language": "python",
   "name": "python3"
  },
  "language_info": {
   "codemirror_mode": {
    "name": "ipython",
    "version": 3
   },
   "file_extension": ".py",
   "mimetype": "text/x-python",
   "name": "python",
   "nbconvert_exporter": "python",
   "pygments_lexer": "ipython3",
   "version": "3.12.3"
  }
 },
 "nbformat": 4,
 "nbformat_minor": 2
}
