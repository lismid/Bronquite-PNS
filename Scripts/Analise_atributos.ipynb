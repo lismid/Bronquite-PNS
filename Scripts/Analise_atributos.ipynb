{
 "cells": [
  {
   "cell_type": "code",
   "execution_count": 8,
   "metadata": {},
   "outputs": [],
   "source": [
    "import pandas as pd\n",
    "from docx import Document "
   ]
  },
  {
   "cell_type": "code",
   "execution_count": 9,
   "metadata": {},
   "outputs": [],
   "source": [
    "# data = pd.read_excel(\"../Base_filtrada.xlsx\")\n",
    "data = pd.read_excel(\"../Bases/Base_filtrada_idade.xlsx\")\n",
    "# data = pd.read_excel(\"../Bases/Base_plano_Cartesiano.xlsx\")"
   ]
  },
  {
   "cell_type": "markdown",
   "metadata": {},
   "source": [
    "### Separação por natureza dos dados"
   ]
  },
  {
   "cell_type": "code",
   "execution_count": 10,
   "metadata": {},
   "outputs": [],
   "source": [
    "colunas_categoricas = ['V0001', 'A02201', 'C004', 'C006', 'C009', 'L01701', 'L018', 'M01601', 'N010','P034',\n",
    "                       'P050', 'P052', 'Q092', 'Q11006', \n",
    "                       'Q11604', 'Q074']"
   ]
  },
  {
   "cell_type": "code",
   "execution_count": 11,
   "metadata": {},
   "outputs": [],
   "source": [
    "colunas_numericas = ['V0022', 'A02305', 'A02306', 'C008', 'P00104', 'P00404', 'P035', 'P03701', 'P03702', \n",
    "                     'P053', 'P05901', 'P05902', 'P05903', 'P05904']  "
   ]
  },
  {
   "cell_type": "code",
   "execution_count": 12,
   "metadata": {},
   "outputs": [],
   "source": [
    "# colunas_categoricas = ['V0001', 'C004', 'C006', 'C009', 'L01701', 'L018', 'M01601', 'N010','P034|P035', 'P03701|P03702',\n",
    "#                        'P050|P052', 'P05901|P05902|P05903|P05904', 'Q092', 'Q11006', 'Q11604', 'Q074']"
   ]
  },
  {
   "cell_type": "code",
   "execution_count": 13,
   "metadata": {},
   "outputs": [],
   "source": [
    "# colunas_numericas = ['V0022', 'A02201|A02305|A02306', 'C008', 'P00104', 'P00404', 'P053']  "
   ]
  },
  {
   "cell_type": "markdown",
   "metadata": {},
   "source": [
    "garantir que as colunas numericas sao numericas"
   ]
  },
  {
   "cell_type": "code",
   "execution_count": 14,
   "metadata": {},
   "outputs": [],
   "source": [
    "for coluna in colunas_numericas:\n",
    "    data[coluna] = pd.to_numeric(data[coluna], errors='coerce')"
   ]
  },
  {
   "cell_type": "markdown",
   "metadata": {},
   "source": [
    "## Tabela numerica"
   ]
  },
  {
   "cell_type": "code",
   "execution_count": 15,
   "metadata": {},
   "outputs": [],
   "source": [
    "estatisticas_numericas = {\n",
    "    'Coluna': colunas_numericas,\n",
    "    'Mínimo': [round(data[col].min(), 2) for col in colunas_numericas],\n",
    "    'Máximo': [round(data[col].max(), 2) for col in colunas_numericas],\n",
    "    'Média': [round(data[col].mean(), 2) for col in colunas_numericas],\n",
    "    'Desvio Padrão': [round(data[col].std(), 2) for col in colunas_numericas],\n",
    "    'Dados Faltantes': [data[col].isnull().sum() for col in colunas_numericas],\n",
    "    '% Faltantes': [round((data[col].isnull().sum() / len(data)) * 100, 2) for col in colunas_numericas]\n",
    "}\n",
    "df_estatisticas_numericas = pd.DataFrame(estatisticas_numericas)"
   ]
  },
  {
   "cell_type": "code",
   "execution_count": 16,
   "metadata": {},
   "outputs": [],
   "source": [
    "df_estatisticas_numericas = pd.DataFrame(estatisticas_numericas)"
   ]
  },
  {
   "cell_type": "markdown",
   "metadata": {},
   "source": [
    "## Tabela Categorica"
   ]
  },
  {
   "cell_type": "code",
   "execution_count": 17,
   "metadata": {},
   "outputs": [],
   "source": [
    "estatisticas_categoricas_detalhadas = {\n",
    "    'Coluna': [],\n",
    "    'Categoria': [],\n",
    "    'Contagem': [],\n",
    "    '% da Coluna': []\n",
    "}\n",
    "\n",
    "for coluna in colunas_categoricas:\n",
    "    # Extrair categorias e contagens (incluindo NaN)\n",
    "    contagem = data[coluna].value_counts(dropna=False).reset_index()\n",
    "    contagem.columns = ['Categoria', 'Contagem']\n",
    "    \n",
    "    # Converter categorias para numérico (se possível) e ordenar\n",
    "    try:\n",
    "        contagem['Categoria_Num'] = pd.to_numeric(contagem['Categoria'], errors='coerce')\n",
    "        contagem = contagem.sort_values(by='Categoria_Num').drop('Categoria_Num', axis=1)\n",
    "    except:\n",
    "        contagem = contagem.sort_values(by='Categoria')  # Caso não sejam números\n",
    "    \n",
    "    # Adicionar dados faltantes no final\n",
    "    faltantes = data[coluna].isnull().sum()\n",
    "    total_linhas = len(data)\n",
    "    \n",
    "    for _, row in contagem.iterrows():\n",
    "        categoria = str(row['Categoria'])\n",
    "        estatisticas_categoricas_detalhadas['Coluna'].append(coluna)\n",
    "        estatisticas_categoricas_detalhadas['Categoria'].append(categoria)\n",
    "        estatisticas_categoricas_detalhadas['Contagem'].append(row['Contagem'])\n",
    "        estatisticas_categoricas_detalhadas['% da Coluna'].append(round((row['Contagem'] / total_linhas) * 100, 2))\n",
    "\n",
    "# Criar DataFrame\n",
    "df_categoricas_ordenado = pd.DataFrame(estatisticas_categoricas_detalhadas)\n"
   ]
  },
  {
   "cell_type": "markdown",
   "metadata": {},
   "source": [
    "## Analise"
   ]
  },
  {
   "cell_type": "code",
   "execution_count": 18,
   "metadata": {},
   "outputs": [
    {
     "name": "stdout",
     "output_type": "stream",
     "text": [
      "Análise Descritiva do Conjunto de Dados Numéricos\n",
      "    Coluna  Mínimo  Máximo   Média  Desvio Padrão  Dados Faltantes  \\\n",
      "0    V0022     1.0    23.0    3.34           1.52                0   \n",
      "1   A02305     0.0    36.0    0.68           1.39            21404   \n",
      "2   A02306     0.0    21.0    1.50           1.46            21404   \n",
      "3     C008    15.0    50.0   34.23           9.58                0   \n",
      "4   P00104    30.0   176.0   72.60          15.68              882   \n",
      "5   P00404   129.0   206.0  166.24           9.70              882   \n",
      "6     P035     0.0     7.0    3.22           1.91            29240   \n",
      "7   P03701     0.0    15.0    1.12           0.86            30147   \n",
      "8   P03702     0.0    59.0   12.90          16.54            30147   \n",
      "9     P053     3.0    50.0   16.57           4.95            39313   \n",
      "10  P05901     0.0    47.0   11.38           9.05            43625   \n",
      "11  P05902     0.0    11.0    1.13           2.52            43625   \n",
      "12  P05903     0.0     3.0    0.19           0.61            43625   \n",
      "13  P05904     0.0     6.0    0.24           0.92            43625   \n",
      "\n",
      "    % Faltantes  \n",
      "0          0.00  \n",
      "1         39.62  \n",
      "2         39.62  \n",
      "3          0.00  \n",
      "4          1.63  \n",
      "5          1.63  \n",
      "6         54.13  \n",
      "7         55.81  \n",
      "8         55.81  \n",
      "9         72.78  \n",
      "10        80.76  \n",
      "11        80.76  \n",
      "12        80.76  \n",
      "13        80.76  \n",
      "Análise Descritiva do Conjunto de Dados Categóricos\n"
     ]
    }
   ],
   "source": [
    "print(\"Análise Descritiva do Conjunto de Dados Numéricos\")\n",
    "print(df_estatisticas_numericas)\n",
    "\n",
    "print(\"Análise Descritiva do Conjunto de Dados Categóricos\")\n"
   ]
  },
  {
   "cell_type": "markdown",
   "metadata": {},
   "source": [
    "## Salvando em arquivo"
   ]
  },
  {
   "cell_type": "code",
   "execution_count": 19,
   "metadata": {},
   "outputs": [
    {
     "data": {
      "text/plain": [
       "<docx.text.paragraph.Paragraph at 0x7e027a36f2c0>"
      ]
     },
     "execution_count": 19,
     "metadata": {},
     "output_type": "execute_result"
    }
   ],
   "source": [
    "doc = Document()\n",
    "doc.add_heading('Análise Descritiva do Conjunto de Dados', 0)"
   ]
  },
  {
   "cell_type": "code",
   "execution_count": 20,
   "metadata": {},
   "outputs": [],
   "source": [
    "doc.add_heading('Estatísticas Numéricas', level=1)\n",
    "tabela_numericas = doc.add_table(rows=1, cols=len(df_estatisticas_numericas.columns))"
   ]
  },
  {
   "cell_type": "code",
   "execution_count": 21,
   "metadata": {},
   "outputs": [],
   "source": [
    "hdr_cells = tabela_numericas.rows[0].cells\n",
    "\n",
    "for i, col in enumerate(df_estatisticas_numericas.columns):\n",
    "    hdr_cells[i].text = str(col)\n"
   ]
  },
  {
   "cell_type": "code",
   "execution_count": 22,
   "metadata": {},
   "outputs": [],
   "source": [
    "for index, row in df_estatisticas_numericas.iterrows():\n",
    "    row_cells = tabela_numericas.add_row().cells\n",
    "    for i, value in enumerate(row):\n",
    "        row_cells[i].text = str(value)"
   ]
  },
  {
   "cell_type": "code",
   "execution_count": 23,
   "metadata": {},
   "outputs": [],
   "source": [
    "doc.add_heading('Análise Categórica', level=1)\n",
    "\n",
    "for coluna in colunas_categoricas:\n",
    "    doc.add_heading(f'Coluna: {coluna}', level=2)\n",
    "    dados_coluna = df_categoricas_ordenado[df_categoricas_ordenado['Coluna'] == coluna]\n",
    "    \n",
    "    tabela = doc.add_table(rows=1, cols=3)\n",
    "    hdr_cells = tabela.rows[0].cells\n",
    "    hdr_cells[0].text = 'Categoria'\n",
    "    hdr_cells[1].text = 'Contagem'\n",
    "    hdr_cells[2].text = '% da Coluna'\n",
    "    \n",
    "    for _, row in dados_coluna.iterrows():\n",
    "        row_cells = tabela.add_row().cells\n",
    "        row_cells[0].text = str(row['Categoria'])\n",
    "        row_cells[1].text = str(row['Contagem'])\n",
    "        row_cells[2].text = f\"{row['% da Coluna']}%\""
   ]
  },
  {
   "cell_type": "code",
   "execution_count": 24,
   "metadata": {},
   "outputs": [],
   "source": [
    "# doc.save('../Relatorios/tabela_estatisticas.docx')\n",
    "doc.save('../Relatorios/tabela_estatisticas_filtrada.docx')\n",
    "# doc.save('../Relatorios/tabela_estatisticas_plano_cartesiano.docx')"
   ]
  }
 ],
 "metadata": {
  "kernelspec": {
   "display_name": "Python 3",
   "language": "python",
   "name": "python3"
  },
  "language_info": {
   "codemirror_mode": {
    "name": "ipython",
    "version": 3
   },
   "file_extension": ".py",
   "mimetype": "text/x-python",
   "name": "python",
   "nbconvert_exporter": "python",
   "pygments_lexer": "ipython3",
   "version": "3.12.3"
  }
 },
 "nbformat": 4,
 "nbformat_minor": 2
}
